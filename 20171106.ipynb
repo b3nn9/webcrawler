{
 "cells": [
  {
   "cell_type": "markdown",
   "metadata": {},
   "source": [
    "# 파이선(Python)을 활용한 웹크롤링 기초(1/2)"
   ]
  },
  {
   "cell_type": "markdown",
   "metadata": {},
   "source": []
  },
  {
   "cell_type": "markdown",
   "metadata": {},
   "source": [
    "## 웹크롤링(?)\n",
    "### 개념정리\n",
    "- 위키피디아(https://en.wikipedia.org/wiki/Web_crawler)\n",
    "- 위키피디아(https://ko.wikipedia.org/wiki/웹_크롤러)\n",
    "- crawler(indexs) vs scrab(contents), 차이가 없음.\n",
    "- meta(http://dic.daum.net/search.do?q=meta)\n",
    "- 파싱(Parsing), CSS\n",
    "- 소프트웨어(Software) vs 솔루션(Solution) vs 어플라이언스(Appliance) vs 하드웨어(Hardware)\n",
    "\n",
    "### 소프트웨어\n",
    "- 아나콘다(https://www.anaconda.com/)\n",
    "- 파이선(Python)\n",
    "- 주피터 노트북(Jupyter Notebook)\n",
    "- 웹브라우저(Chrome)\n",
    "\n",
    "### 라이브러리\n",
    "- 판다스(pandas)(http://pandas.pydata.org/) _easy to use data structures and data analysis;DataFrame\n",
    "- 뷰티풀수프(BeautifulSoup)(https://www.crummy.com/software/BeautifulSoup/bs4/doc/) _pulling data out of HTML and XML files\n",
    "- 셀레니움(Selenium)(http://www.seleniumhq.org/docs/03_webdriver.jsp) _Browser Automation"
   ]
  },
  {
   "cell_type": "markdown",
   "metadata": {},
   "source": [
    "### 수집-저장-분석-(시각화)-예측\n",
    "### 수집-저장 = 웹크롤링(?)\n",
    "- 수집하고자하는 대상 사이트 선택하고(자료가 어디에 있는지?)\n",
    "- 수집하고 싶은 데이터가 뭔지 알아야 합니다.***************\n",
    "- 코드는 몰라도 구조*****************는 이해할 수 있어야 합니다."
   ]
  },
  {
   "cell_type": "code",
   "execution_count": 1,
   "metadata": {
    "collapsed": true
   },
   "outputs": [],
   "source": [
    "#HTTP를 처리하기 위한 라이브러리\n",
    "import urllib.request\n",
    "from urllib.request import urlretrieve\n",
    "\n",
    "#import requests\n",
    "import time\n",
    "\n",
    "#HTML을 처리하기 위한 라이브러리\n",
    "from bs4 import BeautifulSoup\n",
    "import pandas as pd"
   ]
  },
  {
   "cell_type": "code",
   "execution_count": 46,
   "metadata": {
    "collapsed": true
   },
   "outputs": [],
   "source": []
  },
  {
   "cell_type": "code",
   "execution_count": 2,
   "metadata": {
    "collapsed": true
   },
   "outputs": [
    {
     "name": "stdout",
     "output_type": "stream",
     "text": [
      "https://search.naver.com/search.naver?where=post&query=%EC%B4%88%EB%AF%B8%EC%84%B8%EB%A8%BC%EC%A7%80&start=1\n",
      "https://search.naver.com/search.naver?where=post&query=%EC%B4%88%EB%AF%B8%EC%84%B8%EB%A8%BC%EC%A7%80&start=11\n",
      "https://search.naver.com/search.naver?where=post&query=%EC%B4%88%EB%AF%B8%EC%84%B8%EB%A8%BC%EC%A7%80&start=21\n",
      "https://search.naver.com/search.naver?where=post&query=%EC%B4%88%EB%AF%B8%EC%84%B8%EB%A8%BC%EC%A7%80&start=31\n",
      "https://search.naver.com/search.naver?where=post&query=%EC%B4%88%EB%AF%B8%EC%84%B8%EB%A8%BC%EC%A7%80&start=41\n",
      "https://search.naver.com/search.naver?where=post&query=%EC%B4%88%EB%AF%B8%EC%84%B8%EB%A8%BC%EC%A7%80&start=51\n",
      "https://search.naver.com/search.naver?where=post&query=%EC%B4%88%EB%AF%B8%EC%84%B8%EB%A8%BC%EC%A7%80&start=61\n",
      "https://search.naver.com/search.naver?where=post&query=%EC%B4%88%EB%AF%B8%EC%84%B8%EB%A8%BC%EC%A7%80&start=71\n",
      "https://search.naver.com/search.naver?where=post&query=%EC%B4%88%EB%AF%B8%EC%84%B8%EB%A8%BC%EC%A7%80&start=81\n",
      "https://search.naver.com/search.naver?where=post&query=%EC%B4%88%EB%AF%B8%EC%84%B8%EB%A8%BC%EC%A7%80&start=91\n",
      "https://search.naver.com/search.naver?where=post&query=%EC%B4%88%EB%AF%B8%EC%84%B8%EB%A8%BC%EC%A7%80&start=101\n",
      "https://search.naver.com/search.naver?where=post&query=%EC%B4%88%EB%AF%B8%EC%84%B8%EB%A8%BC%EC%A7%80&start=111\n",
      "https://search.naver.com/search.naver?where=post&query=%EC%B4%88%EB%AF%B8%EC%84%B8%EB%A8%BC%EC%A7%80&start=121\n",
      "https://search.naver.com/search.naver?where=post&query=%EC%B4%88%EB%AF%B8%EC%84%B8%EB%A8%BC%EC%A7%80&start=131\n",
      "https://search.naver.com/search.naver?where=post&query=%EC%B4%88%EB%AF%B8%EC%84%B8%EB%A8%BC%EC%A7%80&start=141\n",
      "https://search.naver.com/search.naver?where=post&query=%EC%B4%88%EB%AF%B8%EC%84%B8%EB%A8%BC%EC%A7%80&start=151\n",
      "https://search.naver.com/search.naver?where=post&query=%EC%B4%88%EB%AF%B8%EC%84%B8%EB%A8%BC%EC%A7%80&start=161\n",
      "https://search.naver.com/search.naver?where=post&query=%EC%B4%88%EB%AF%B8%EC%84%B8%EB%A8%BC%EC%A7%80&start=171\n",
      "https://search.naver.com/search.naver?where=post&query=%EC%B4%88%EB%AF%B8%EC%84%B8%EB%A8%BC%EC%A7%80&start=181\n",
      "https://search.naver.com/search.naver?where=post&query=%EC%B4%88%EB%AF%B8%EC%84%B8%EB%A8%BC%EC%A7%80&start=191\n",
      "https://search.naver.com/search.naver?where=post&query=%EC%B4%88%EB%AF%B8%EC%84%B8%EB%A8%BC%EC%A7%80&start=201\n",
      "https://search.naver.com/search.naver?where=post&query=%EC%B4%88%EB%AF%B8%EC%84%B8%EB%A8%BC%EC%A7%80&start=211\n",
      "https://search.naver.com/search.naver?where=post&query=%EC%B4%88%EB%AF%B8%EC%84%B8%EB%A8%BC%EC%A7%80&start=221\n",
      "https://search.naver.com/search.naver?where=post&query=%EC%B4%88%EB%AF%B8%EC%84%B8%EB%A8%BC%EC%A7%80&start=231\n",
      "https://search.naver.com/search.naver?where=post&query=%EC%B4%88%EB%AF%B8%EC%84%B8%EB%A8%BC%EC%A7%80&start=241\n",
      "https://search.naver.com/search.naver?where=post&query=%EC%B4%88%EB%AF%B8%EC%84%B8%EB%A8%BC%EC%A7%80&start=251\n",
      "https://search.naver.com/search.naver?where=post&query=%EC%B4%88%EB%AF%B8%EC%84%B8%EB%A8%BC%EC%A7%80&start=261\n",
      "https://search.naver.com/search.naver?where=post&query=%EC%B4%88%EB%AF%B8%EC%84%B8%EB%A8%BC%EC%A7%80&start=271\n",
      "https://search.naver.com/search.naver?where=post&query=%EC%B4%88%EB%AF%B8%EC%84%B8%EB%A8%BC%EC%A7%80&start=281\n",
      "https://search.naver.com/search.naver?where=post&query=%EC%B4%88%EB%AF%B8%EC%84%B8%EB%A8%BC%EC%A7%80&start=291\n",
      "https://search.naver.com/search.naver?where=post&query=%EC%B4%88%EB%AF%B8%EC%84%B8%EB%A8%BC%EC%A7%80&start=301\n",
      "https://search.naver.com/search.naver?where=post&query=%EC%B4%88%EB%AF%B8%EC%84%B8%EB%A8%BC%EC%A7%80&start=311\n",
      "https://search.naver.com/search.naver?where=post&query=%EC%B4%88%EB%AF%B8%EC%84%B8%EB%A8%BC%EC%A7%80&start=321\n",
      "https://search.naver.com/search.naver?where=post&query=%EC%B4%88%EB%AF%B8%EC%84%B8%EB%A8%BC%EC%A7%80&start=331\n",
      "https://search.naver.com/search.naver?where=post&query=%EC%B4%88%EB%AF%B8%EC%84%B8%EB%A8%BC%EC%A7%80&start=341\n",
      "https://search.naver.com/search.naver?where=post&query=%EC%B4%88%EB%AF%B8%EC%84%B8%EB%A8%BC%EC%A7%80&start=351\n",
      "https://search.naver.com/search.naver?where=post&query=%EC%B4%88%EB%AF%B8%EC%84%B8%EB%A8%BC%EC%A7%80&start=361\n",
      "https://search.naver.com/search.naver?where=post&query=%EC%B4%88%EB%AF%B8%EC%84%B8%EB%A8%BC%EC%A7%80&start=371\n",
      "https://search.naver.com/search.naver?where=post&query=%EC%B4%88%EB%AF%B8%EC%84%B8%EB%A8%BC%EC%A7%80&start=381\n",
      "https://search.naver.com/search.naver?where=post&query=%EC%B4%88%EB%AF%B8%EC%84%B8%EB%A8%BC%EC%A7%80&start=391\n",
      "https://search.naver.com/search.naver?where=post&query=%EC%B4%88%EB%AF%B8%EC%84%B8%EB%A8%BC%EC%A7%80&start=401\n",
      "https://search.naver.com/search.naver?where=post&query=%EC%B4%88%EB%AF%B8%EC%84%B8%EB%A8%BC%EC%A7%80&start=411\n",
      "https://search.naver.com/search.naver?where=post&query=%EC%B4%88%EB%AF%B8%EC%84%B8%EB%A8%BC%EC%A7%80&start=421\n",
      "https://search.naver.com/search.naver?where=post&query=%EC%B4%88%EB%AF%B8%EC%84%B8%EB%A8%BC%EC%A7%80&start=431\n",
      "https://search.naver.com/search.naver?where=post&query=%EC%B4%88%EB%AF%B8%EC%84%B8%EB%A8%BC%EC%A7%80&start=441\n",
      "https://search.naver.com/search.naver?where=post&query=%EC%B4%88%EB%AF%B8%EC%84%B8%EB%A8%BC%EC%A7%80&start=451\n",
      "https://search.naver.com/search.naver?where=post&query=%EC%B4%88%EB%AF%B8%EC%84%B8%EB%A8%BC%EC%A7%80&start=461\n",
      "https://search.naver.com/search.naver?where=post&query=%EC%B4%88%EB%AF%B8%EC%84%B8%EB%A8%BC%EC%A7%80&start=471\n",
      "https://search.naver.com/search.naver?where=post&query=%EC%B4%88%EB%AF%B8%EC%84%B8%EB%A8%BC%EC%A7%80&start=481\n",
      "https://search.naver.com/search.naver?where=post&query=%EC%B4%88%EB%AF%B8%EC%84%B8%EB%A8%BC%EC%A7%80&start=491\n",
      "https://search.naver.com/search.naver?where=post&query=%EC%B4%88%EB%AF%B8%EC%84%B8%EB%A8%BC%EC%A7%80&start=501\n",
      "https://search.naver.com/search.naver?where=post&query=%EC%B4%88%EB%AF%B8%EC%84%B8%EB%A8%BC%EC%A7%80&start=511\n",
      "https://search.naver.com/search.naver?where=post&query=%EC%B4%88%EB%AF%B8%EC%84%B8%EB%A8%BC%EC%A7%80&start=521\n",
      "https://search.naver.com/search.naver?where=post&query=%EC%B4%88%EB%AF%B8%EC%84%B8%EB%A8%BC%EC%A7%80&start=531\n",
      "https://search.naver.com/search.naver?where=post&query=%EC%B4%88%EB%AF%B8%EC%84%B8%EB%A8%BC%EC%A7%80&start=541\n",
      "https://search.naver.com/search.naver?where=post&query=%EC%B4%88%EB%AF%B8%EC%84%B8%EB%A8%BC%EC%A7%80&start=551\n",
      "https://search.naver.com/search.naver?where=post&query=%EC%B4%88%EB%AF%B8%EC%84%B8%EB%A8%BC%EC%A7%80&start=561\n",
      "https://search.naver.com/search.naver?where=post&query=%EC%B4%88%EB%AF%B8%EC%84%B8%EB%A8%BC%EC%A7%80&start=571\n",
      "https://search.naver.com/search.naver?where=post&query=%EC%B4%88%EB%AF%B8%EC%84%B8%EB%A8%BC%EC%A7%80&start=581\n",
      "https://search.naver.com/search.naver?where=post&query=%EC%B4%88%EB%AF%B8%EC%84%B8%EB%A8%BC%EC%A7%80&start=591\n",
      "https://search.naver.com/search.naver?where=post&query=%EC%B4%88%EB%AF%B8%EC%84%B8%EB%A8%BC%EC%A7%80&start=601\n",
      "https://search.naver.com/search.naver?where=post&query=%EC%B4%88%EB%AF%B8%EC%84%B8%EB%A8%BC%EC%A7%80&start=611\n",
      "https://search.naver.com/search.naver?where=post&query=%EC%B4%88%EB%AF%B8%EC%84%B8%EB%A8%BC%EC%A7%80&start=621\n",
      "https://search.naver.com/search.naver?where=post&query=%EC%B4%88%EB%AF%B8%EC%84%B8%EB%A8%BC%EC%A7%80&start=631\n",
      "https://search.naver.com/search.naver?where=post&query=%EC%B4%88%EB%AF%B8%EC%84%B8%EB%A8%BC%EC%A7%80&start=641\n",
      "https://search.naver.com/search.naver?where=post&query=%EC%B4%88%EB%AF%B8%EC%84%B8%EB%A8%BC%EC%A7%80&start=651\n",
      "https://search.naver.com/search.naver?where=post&query=%EC%B4%88%EB%AF%B8%EC%84%B8%EB%A8%BC%EC%A7%80&start=661\n",
      "https://search.naver.com/search.naver?where=post&query=%EC%B4%88%EB%AF%B8%EC%84%B8%EB%A8%BC%EC%A7%80&start=671\n",
      "https://search.naver.com/search.naver?where=post&query=%EC%B4%88%EB%AF%B8%EC%84%B8%EB%A8%BC%EC%A7%80&start=681\n",
      "https://search.naver.com/search.naver?where=post&query=%EC%B4%88%EB%AF%B8%EC%84%B8%EB%A8%BC%EC%A7%80&start=691\n",
      "https://search.naver.com/search.naver?where=post&query=%EC%B4%88%EB%AF%B8%EC%84%B8%EB%A8%BC%EC%A7%80&start=701\n",
      "https://search.naver.com/search.naver?where=post&query=%EC%B4%88%EB%AF%B8%EC%84%B8%EB%A8%BC%EC%A7%80&start=711\n",
      "https://search.naver.com/search.naver?where=post&query=%EC%B4%88%EB%AF%B8%EC%84%B8%EB%A8%BC%EC%A7%80&start=721\n",
      "https://search.naver.com/search.naver?where=post&query=%EC%B4%88%EB%AF%B8%EC%84%B8%EB%A8%BC%EC%A7%80&start=731\n",
      "https://search.naver.com/search.naver?where=post&query=%EC%B4%88%EB%AF%B8%EC%84%B8%EB%A8%BC%EC%A7%80&start=741\n",
      "https://search.naver.com/search.naver?where=post&query=%EC%B4%88%EB%AF%B8%EC%84%B8%EB%A8%BC%EC%A7%80&start=751\n",
      "https://search.naver.com/search.naver?where=post&query=%EC%B4%88%EB%AF%B8%EC%84%B8%EB%A8%BC%EC%A7%80&start=761\n",
      "https://search.naver.com/search.naver?where=post&query=%EC%B4%88%EB%AF%B8%EC%84%B8%EB%A8%BC%EC%A7%80&start=771\n",
      "https://search.naver.com/search.naver?where=post&query=%EC%B4%88%EB%AF%B8%EC%84%B8%EB%A8%BC%EC%A7%80&start=781\n",
      "https://search.naver.com/search.naver?where=post&query=%EC%B4%88%EB%AF%B8%EC%84%B8%EB%A8%BC%EC%A7%80&start=791\n",
      "https://search.naver.com/search.naver?where=post&query=%EC%B4%88%EB%AF%B8%EC%84%B8%EB%A8%BC%EC%A7%80&start=801\n",
      "https://search.naver.com/search.naver?where=post&query=%EC%B4%88%EB%AF%B8%EC%84%B8%EB%A8%BC%EC%A7%80&start=811\n",
      "https://search.naver.com/search.naver?where=post&query=%EC%B4%88%EB%AF%B8%EC%84%B8%EB%A8%BC%EC%A7%80&start=821\n",
      "https://search.naver.com/search.naver?where=post&query=%EC%B4%88%EB%AF%B8%EC%84%B8%EB%A8%BC%EC%A7%80&start=831\n",
      "https://search.naver.com/search.naver?where=post&query=%EC%B4%88%EB%AF%B8%EC%84%B8%EB%A8%BC%EC%A7%80&start=841\n",
      "https://search.naver.com/search.naver?where=post&query=%EC%B4%88%EB%AF%B8%EC%84%B8%EB%A8%BC%EC%A7%80&start=851\n",
      "https://search.naver.com/search.naver?where=post&query=%EC%B4%88%EB%AF%B8%EC%84%B8%EB%A8%BC%EC%A7%80&start=861\n",
      "https://search.naver.com/search.naver?where=post&query=%EC%B4%88%EB%AF%B8%EC%84%B8%EB%A8%BC%EC%A7%80&start=871\n",
      "https://search.naver.com/search.naver?where=post&query=%EC%B4%88%EB%AF%B8%EC%84%B8%EB%A8%BC%EC%A7%80&start=881\n",
      "https://search.naver.com/search.naver?where=post&query=%EC%B4%88%EB%AF%B8%EC%84%B8%EB%A8%BC%EC%A7%80&start=891\n",
      "https://search.naver.com/search.naver?where=post&query=%EC%B4%88%EB%AF%B8%EC%84%B8%EB%A8%BC%EC%A7%80&start=901\n",
      "https://search.naver.com/search.naver?where=post&query=%EC%B4%88%EB%AF%B8%EC%84%B8%EB%A8%BC%EC%A7%80&start=911\n",
      "https://search.naver.com/search.naver?where=post&query=%EC%B4%88%EB%AF%B8%EC%84%B8%EB%A8%BC%EC%A7%80&start=921\n",
      "https://search.naver.com/search.naver?where=post&query=%EC%B4%88%EB%AF%B8%EC%84%B8%EB%A8%BC%EC%A7%80&start=931\n",
      "https://search.naver.com/search.naver?where=post&query=%EC%B4%88%EB%AF%B8%EC%84%B8%EB%A8%BC%EC%A7%80&start=941\n",
      "https://search.naver.com/search.naver?where=post&query=%EC%B4%88%EB%AF%B8%EC%84%B8%EB%A8%BC%EC%A7%80&start=951\n",
      "https://search.naver.com/search.naver?where=post&query=%EC%B4%88%EB%AF%B8%EC%84%B8%EB%A8%BC%EC%A7%80&start=961\n",
      "https://search.naver.com/search.naver?where=post&query=%EC%B4%88%EB%AF%B8%EC%84%B8%EB%A8%BC%EC%A7%80&start=971\n",
      "https://search.naver.com/search.naver?where=post&query=%EC%B4%88%EB%AF%B8%EC%84%B8%EB%A8%BC%EC%A7%80&start=981\n",
      "https://search.naver.com/search.naver?where=post&query=%EC%B4%88%EB%AF%B8%EC%84%B8%EB%A8%BC%EC%A7%80&start=991\n"
     ]
    }
   ],
   "source": [
    "dst_url = r'https://search.naver.com/search.naver?where=post&query=%EC%B4%88%EB%AF%B8%EC%84%B8%EB%A8%BC%EC%A7%80'\n",
    "dst_url = dst_url + r\"&start=\"\n",
    "\n",
    "start_point = 1\n",
    "\n",
    "while start_point < 1000:\n",
    "    print(dst_url + str(start_point))\n",
    "    \n",
    "    start_point = start_point + 10"
   ]
  },
  {
   "cell_type": "code",
   "execution_count": 3,
   "metadata": {},
   "outputs": [
    {
     "data": {
      "text/plain": [
       "'https://search.naver.com/search.naver?where=post&where=post&query=초미세먼지&start=991'"
      ]
     },
     "execution_count": 3,
     "metadata": {},
     "output_type": "execute_result"
    }
   ],
   "source": [
    "def get_naver_blog_url(keyword, page):\n",
    "    start = (page - 1) * 10 + 1\n",
    "    url = 'https://search.naver.com/search.naver?where=post&where=post&query={query}&start={start}'.format(\n",
    "        query = keyword,\n",
    "        start = start,\n",
    "    )\n",
    "    \n",
    "    return url\n",
    "\n",
    "#100 페이지까지만 가능(1000개)\n",
    "get_naver_blog_url(\"초미세먼지\", 100)"
   ]
  },
  {
   "cell_type": "code",
   "execution_count": 83,
   "metadata": {
    "collapsed": true
   },
   "outputs": [],
   "source": [
    "#사용하지 말 것!!! ___ 자주 차단됨.\n",
    "#response = requests.get(dst_url)"
   ]
  },
  {
   "cell_type": "code",
   "execution_count": 4,
   "metadata": {
    "collapsed": true
   },
   "outputs": [
    {
     "data": {
      "text/plain": [
       "<!DOCTYPE doctype html>\n",
       " <html lang=\"ko\"> <head> <meta charset=\"utf-8\"/> <meta content=\"always\" name=\"referrer\"/> <meta content=\"telephone=no,address=no,email=no\" name=\"format-detection\"/> <meta content=\"width=device-width,initial-scale=1.0,maximum-scale=2.0\" name=\"viewport\"/> <meta content=\"초미세먼지 : 네이버 블로그검색\" property=\"og:title\"> <meta content=\"https://ssl.pstatic.net/sstatic/search/common/og_v3.png\" property=\"og:image\"/> <meta content=\"'초미세먼지'의 네이버 블로그검색 결과입니다.\" property=\"og:description\"/> <meta content=\"'초미세먼지'의 네이버 블로그검색 결과입니다.\" lang=\"ko\" name=\"description\"/> <title>초미세먼지 : 네이버 블로그검색</title> <link href=\"https://ssl.pstatic.net/sstatic/search/favicon/favicon_140327.ico\" rel=\"shortcut icon\"/> <link href=\"https://ssl.pstatic.net/sstatic/search/opensearch-description.https.xml\" rel=\"search\" title=\"Naver\" type=\"application/opensearchdescription+xml\"><link href=\"https://ssl.pstatic.net/sstatic/search/pc/2016/css/search1_170907.css\" rel=\"stylesheet\" type=\"text/css\"/> <link href=\"https://ssl.pstatic.net/sstatic/search/pc/2016/css/search2_171026.css\" rel=\"stylesheet\" type=\"text/css\"/> <link href=\"https://ssl.pstatic.net/sstatic/search/pc/css/api_atcmp_170914.css\" rel=\"stylesheet\" type=\"text/css\"/><script type=\"text/javascript\"> naver = window.naver || {}; naver.search = naver.search || {}; var g_D = 0 ; if (!String.prototype.trim) { String.prototype.trim = function () { return this.replace(/^[\\s\\uFEFF\\xA0]+|[\\s\\uFEFF\\xA0]+$/g, ''); }; } function urlencode (q) { return escape(q).replace(/\\+/g, \"%2B\") ; } function urlexpand (url) { var href = document.location.href ; if (url == \"\") return href ; if (url.match(/^[-.A-Za-z]+:/)) return url ; if (url.charAt(0) == '#') return href.split(\"#\")[0] + url ; if (url.charAt(0) == '?') return href.split(\"?\")[0] + url ; if (url.charAt(0) == '/') return href.replace(/([^:\\/])\\/.*$/, \"$1\") + url ; return href.substring(0, href.lastIndexOf(\"/\")+1) + url ; } naver.search.error = (function () { var errorList = Array() ; return { add : function (s) { errorList.push(s) ; }, clear : function () { delete errorList ; }, get : function (s) { return errorList ; }, getString : function (d) { if (typeof d === 'undefined') d = '|' ; return errorList.join(d) ; } } })(); naver.search.cookie = (function () { return { set : function (key, value, expire, domain) { var cookie = key + \"=\" + escape(value); if (typeof expire !== 'undefined') { if (expire instanceof Date) { cookie = cookie + \"; expires=\" + expire.toUTCString(); } else { var exdate = new Date((new Date()).getTime() + expire*1000); cookie = cookie + \"; expires=\" + exdate.toUTCString(); } } cookie = cookie + \"; path=/\"; if (domain != null) { cookie = cookie + \"; domain=\" + domain; } document.cookie = cookie; }, get : function (key) { var cookie_list = document.cookie.split(/\\s*;\\s*/); for (var i = 0; i < cookie_list.length; i++) { var tmp_list = cookie_list[i].split(\"=\"); var c_key = tmp_list[0].trim(); var c_value = tmp_list[1]; if (key == c_key) { return unescape(c_value); } } return null; } } })(); naver.search.localStorage = (function () { var EOF = \"/* EOF */\" ; var resourceInfo ; var updatedResource = false ; function isValid (data) { var s = data.substr(data.length - (EOF.length + 3)) ; if (s.indexOf(EOF) > 0) return true ; return false ; } function loadResourceInfo () { var a = naver.search.cookie.get(\"nx_res\") ; if (a) { resourceInfo = a.split(',') ; } else { resourceInfo = new Array() ; } } function existResource (name, checkSum) { if (typeof resourceInfo === 'undefined') return false ; var a = name + \"=\" + checkSum ; for (var i = 0; i < resourceInfo.length; i++) { if (resourceInfo[i] == a) return true ; } return false ; } function getIndexResourceInfo (name) { if (typeof resourceInfo === 'undefined') return -1 ; var a = name + \"=\" ; for (var i = 0; i < resourceInfo.length; i++) { if (resourceInfo[i].indexOf(a) == 0) return i ; } return -1 ; } function setResourceInfo (name, checkSum) { var i = getIndexResourceInfo(name) ; var a = name + \"=\" + checkSum ; if (i >= 0) { resourceInfo[i] = a ; } else { resourceInfo.push(a) ; } updatedResource = true ; } function updatedResourceInfo () { return updatedResource ; } function saveResourceInfo () { var a = resourceInfo.toString() ; naver.search.cookie.set(\"nx_res\", a, undefined, \"search.naver.com\") ; } function loadResource (url, name, checkSum, onLoad, onFallback) { try { var nameKey = \"cn_\" + name ; var dataKey = \"cd_\" + name ; if (url.indexOf(\"//\") != 0) { url = urlexpand(url) ; } /* for test css/js */ if (g_D > 0 && (url.search(/^n.search.naver.com/) || url.search(/^\\w*:\\/\\/([^:/?]*\\.|)*naver\\.(?:net|com)/) == -1 || url.search(/^\\w*:\\/\\/dev\\.ui\\.naver\\.com/))) { onFallback(url, nameKey, dataKey) ; return ; } if (!window.localStorage) { onFallback(url, nameKey, dataKey) ; return ; } var lsName = window.localStorage.getItem(nameKey) ; var lsData = window.localStorage.getItem(dataKey) ; if (lsName == url && lsData) { if (getIndexResourceInfo(name) == -1) setResourceInfo(name, checkSum) ; onLoad(lsName, lsData) ; return ; } var oAjax ; if (window.XMLHttpRequest) { oAjax = new window.XMLHttpRequest ; oAjax.open(\"GET\", url, false) ; oAjax.send() ; if (oAjax.readyState == 4) { if (oAjax.status == 200) { var resData = oAjax.responseText ; if (isValid(resData)) { window.localStorage.setItem(nameKey, url) ; window.localStorage.setItem(dataKey, resData) ; setResourceInfo(name, checkSum) ; onLoad(url, resData) ; naver.search.error.add(nameKey + \":s\") ; } else { onFallback(url + (url.indexOf(\"?\") == -1 ? \"?\" : \"&\") + \"__time=\" + (new Date()).getTime(), nameKey, dataKey) ; naver.search.error.add(nameKey + \":e:netdata=\" + resData.length) ; } } else { onFallback(url, nameKey, dataKey) ; naver.search.error.add(nameKey + \":e:rsp=\" + oAjax.status) ; } } else { onFallback(url, nameKey, dataKey) ; naver.search.error.add(name_key + \":e:state=\" + oAjax.readyState) ; } } else { onFallback(url, nameKey, dataKey) ; naver.search.error.add(name_key + \":e:noajax\") ; } } catch (e) { onFallback(url, nameKey, dataKey) ; naver.search.error.add(nameKey + \":e:\" + e.toString()) ; return ; } } return { loadCSS : function (url, name, checkSum) { loadResource(url, name, checkSum, function (name, data) { var sheet = document.createElement('style') ; sheet.type = 'text/css' ; if (sheet.innerHTML != 'undefined') sheet.innerHTML = data ; else sheet.styleSheet.cssText = data ; document.getElementsByTagName(\"head\")[0].appendChild(sheet) ; }, function (u, n, d) { document.write(\"<link rel=\\\"stylesheet\\\" type=\\\"text/css\\\" href=\\\"\" + u + \"\\\">\") ; }); }, loadJS : function (url, name, checkSum) { loadResource(url, name, checkSum, function (name, data) { document.write(\"<script>\" + data + \"</scr\" + \"ipt>\") ; }, function (u, n, d) { document.write(\"<script src=\\\"\" + u + \"\\\"></scr\" + \"ipt>\") ; }); }, loadInfo : function () { loadResourceInfo() ; }, saveInfo : function () { if (updatedResourceInfo()) { saveResourceInfo() ; } } } })(); naver.search.https = window.location.protocol == \"https:\"; naver.search.meta_referrer = 0; var _nx_js_load = (function () { var scrs = {} ; return function (script, callback) { scrs[script] = {} ; scrs[script].domscript = document.createElement('script'); scrs[script].domscript.src = script ; if (callback) scrs[script].callback = (callback instanceof Array) ? callback : [callback]; scrs[script].domscript.onloadDone = false; scrs[script].domscript.onload = function() { scrs[script].domscript.onloadDone = true; if (scrs[script].callback) { for (var i = 0; i < scrs[script].callback.length; i++) { scrs[script].callback[i]() ; } } scrs[script].domscript.onload = scrs[script].domscript.onreadystatechange = null; } ; scrs[script].domscript.onreadystatechange = function() { if ( (\"loaded\" === scrs[script].domscript.readyState || \"complete\" === scrs[script].domscript.readyState) && !scrs[script].domscript.onloadDone ) { scrs[script].domscript.onload(); } } ; document.getElementsByTagName('head')[0].appendChild(scrs[script].domscript); }; })() ; var nx_js_defer_load = (function() { var info = {} ; return function(scrname, callback, t) { var nx_load_once = (function() { return function(scrname) { if (info[scrname].t > 0) setTimeout(function() { _nx_js_load(scrname, info[scrname].callback) ; }, t) ; else _nx_js_load(scrname, info[scrname].callback) ; } ; })(); if (t < 0) t = 0 ; if (info[scrname]) { n = info[scrname].length; for (var i = 0; i < n; i++) { if (info[scrname][i] == callback) return ; } if (t < info[scrname].t) info[scrname].t = t ; } else { info[scrname] = {} ; info[scrname].callback = [] ; info[scrname].t = t ; jindo.$Fn(function() { nx_load_once(scrname) ; }).attach(window, \"load\") ; } info[scrname].callback.push(callback) ; }; })(); function nx_js_lazyload(scripts, onload, is_serial) { if (!(scripts instanceof Array)) { scripts = [scripts]; } if (is_serial) { function load_next() { if (scripts.length == 0) { onload(); return; } _nx_js_load( scripts.shift(), load_next ) ; } load_next(); } else { var load_check = function() { var num_js = scripts.length; return function() { num_js--; if (num_js <= 0) { onload(); } } }(); for (var i = 0; i < scripts.length; i++) { _nx_js_load( scripts[i], load_check ) ; } } } function nx_defer_eval (id) { var codeElement = document.getElementById(id), code = codeElement.innerHTML; eval(code.replace(/\\/\\*/, '').replace(/\\*\\//, '')); } </script><script type=\"text/javascript\"> var _spt = {start:(new Date()).getTime(), anchor:{}} ; </script> <script> try { document.execCommand('BackgroundImageCache', false, true); } catch(e) {} if (top.frames.length!=0 || window!=top) window.open(location, \"_top\") ; naver = window.naver || {}; naver.search = naver.search || {}; naver.search.ext = naver.search.ext || {}; naver.search.map_api = { v2 : \"https://ssl.pstatic.net/sstatic.map/openapi/openapi_v23.js\", v3 : \"https://ssl.pstatic.net/sstatic.map/openapi/maps3.js\" } ; var nx_au_cookie_domain = \"search.naver.com\" ; var nx_mobile_agent = 0 ; var headerfooter_query = \"초미세먼지\" ; var headerfooter_query_encoded = \"%EC%B4%88%EB%AF%B8%EC%84%B8%EB%A8%BC%EC%A7%80\" ; var headerfooter_query_encoded_uhc = \"%C3%CA%B9%CC%BC%BC%B8%D5%C1%F6\" ; var headerfooter_query_encoded_utf8 = \"%EC%B4%88%EB%AF%B8%EC%84%B8%EB%A8%BC%EC%A7%80\" ; var headerfooter_time_year = 2017 ; var headerfooter_time_month = 11 ; var headerfooter_time_day = 6 ; var headerfooter_time_hour = 10 ; var headerfooter_time_minute = 23 ; var headerfooter_time_second = 11 ; var headerfooter_time_wday = 1 ; var headerfooter_time_year_s = \"2017\" ; var headerfooter_time_month_s = \"11\" ; var headerfooter_time_day_s = \"06\" ; var headerfooter_time_hour_s = \"10\" ; var headerfooter_time_minute_s = \"23\" ; var headerfooter_time_second_s = \"11\" ; var headerfooter_time_wday_s = \"1\" ; var g_ssc = \"tab.blog.post\" ; var g_query = headerfooter_query_encoded_uhc ; var g_query_cr = \"%C3%CA%B9%CC%BC%BC%B8%D5%C1%F6\" ; var g_url_query = \"\" ; var g_puid = \"TQ+HQwpVuE4ssvEud5GssssssQl-349917\" ; var g_suid = \"XGSIa+SLODgqNKFUC6mm3A==\" ; var g_tab = \"blog\" ; var g_content_tab = \"blog\" ; var g_stab = \"post\" ; var g_stab_orig = \"post\" ; var g_crt = \"\" ; var g_m_str = \"\" ; var g_tablet_device = 0 ; var g_nx_splugin ; document.domain = \"naver.com\" ; document.documentElement.setAttribute('data-useragent', window.navigator.userAgent.toLowerCase()) ; document.documentElement.setAttribute('data-platform', window.navigator.platform.toLowerCase()) ; window.onerror = function (e) { if (! e) e = window.event ; if (! g_D) { window.status = e ; } return ! g_D ; } ; var g_er_image, g_er_count = 0 ; function g_er (msg) { if (g_er_count++ > 0) return ; g_er_image = new Image() ; g_er_image.src = \"http://er.search.naver.com/er?f=\"+g_tab+\"&w=\"+g_stab+\"&q=%EC%B4%88%EB%AF%B8%EC%84%B8%EB%A8%BC%EC%A7%80&u=\"+encodeURIComponent(document.location)+\"&m=\"+encodeURIComponent(msg) ; } function trim_space (q) { var head_re = /^ */; var tail_re = / *$/; q = q.replace(head_re, \"\"); q = q.replace(tail_re, \"\"); return q; } function trim_crlf (q) { var crlf = /[\\r|\\n]/ ; q = q.replace(crlf, \"\") ; return q ; } if (typeof(encodeURIComponent) != \"function\") { encodeURIComponent = function (s) { function toHex (n) { var hexchars = \"0123456789ABCDEF\" ; return \"%\" + hexchars.charAt(n>>4) + hexchars.charAt(n&0xF) ; } var es = \"\" ; for (var i = 0; i < s.length;) { var c = s.charCodeAt(i++) ; if ((c&0xF800) == 0xD800) { var sc = s.charCodeAt(i++) ; c = ((c-0xD800)<<10) + (sc-0xDC00) + 0x10000 ; } if (!(c&~0x7F)) { if ((c>=65&&c<=90) || (c>=97&&c<=122) || (c>=48&&c<=57) || (c>=45&&c<=46) || c==95 || c==33 || c==126 || (c>=39&&c<=42)) es += String.fromCharCode(c) ; else es += toHex(c) ; } else if (!(c&~0x7FF)) es += toHex(0xC0+(c>>6)) + toHex(c&0x3F) ; else if (!(c&~0xFFFF)) es += toHex(0xE0+(c>>12)) + toHex(0x80+(c>>6&0x3F)) + toHex(0x80+(c&0x3F)) ; else es += toHex(0xF0+(c>>18)) + toHex(0x80+(c>>12&0x3F)) + toHex(0x80+(c>>6&0x3F)) + toHex(0x80+(c&0x3F)) ; } return es ; } } function include_script (type, defer, src, charset) { var script = document.createElement(\"script\") ; script.type = type, script.defer = defer ; script.src = src ; if (charset) script.charset = charset ; else script.charset = 'utf-8' ; document.getElementsByTagName('head')[0].appendChild(script) ; return script ; } function include_style (src, charset) { var h = document.getElementsByTagName(\"head\")[0] ; var l = document.createElement('link') ; l.type = 'text/css' ; l.rel = 'stylesheet' ; if (charset) l.charset = charset ; else l.charset = 'utf-8' ; l.media = 'screen' ; l.href = src ; h.appendChild(l) ; } function bt (id, after) { document.getElementById(id).src = after ; } function tt_sub_disable (o) { if (typeof(o.tt_sub) == \"undefined\") return false ; if ((typeof(o.tt_sub) == \"object\") && (o.tt_sub.length)) { var i ; for (var i=0; i<o.tt_sub.length; i++) o.tt_sub[i].disabled = true ; } else o.tt_sub.disabled = true ; return true ; } function cpip () { var evt, sx = sy = px = py = -1 ; try { evt = window.event ; } catch (e) {} try { sx=evt.clientX-document.body.clientLeft, sy=evt.clientY-document.body.clientTop ; } catch (e) {} try { px=document.body.scrollLeft+(sx<0?0:sx), py=document.documentElement.scrollTop+(sy<0?0:sy) ; } catch (e) {} try { if (evt.pageX) px=evt.pageX ; if (evt.pageY) py=evt.pageY ; } catch (e) {} return \"px=\"+px+\"&py=\"+py+\"&sx=\"+sx+\"&sy=\"+sy ; } function nxGetCommonCRParam () { return \"p=\"+g_puid+\"&q=\"+g_query_cr+\"&ssc=\"+g_ssc+\"&f=\"+g_tab+\"&w=\"+g_stab+\"&s=\"+g_suid+\"&time=\"+(new Date()).getTime()+g_crt ; } function getCRRankingByParam (p, info) { if (typeof info == 'undefined' || info == null) return 0 ; var cr = 0 ; try { var y, z ; var y = p.split('&') ; for (var i = 0; i < y.length; i++) { if (z = y[i].split('=')) { if (z[0] == 'a') { for (var j = 0; j < info.length; j++) { if (z[1].substr(0, info[j].n.length) == info[j].n) { cr = info[j].r ; break ; } } break ; } } } } catch (e) { } return cr ; } function getCRRanking (p) { var cr = 0 ; if (typeof nx_cr_area_info != 'undefined') cr = getCRRankingByParam(p, nx_cr_area_info) ; if (cr) return cr ; if (typeof nx_cr_right_area_info != 'undefined') cr = getCRRankingByParam(p, nx_cr_right_area_info) ; return cr ; } function isOutlink (u) { if (!u || u.indexOf(\"://\") < 0) return false; var b = (u.search(/^\\w*:\\/\\/([^:/?]*\\.|)*(?!(ad)?cr\\.)[^.:/?]+\\.+naver\\.com(:\\d*)?(\\/|$)/) < 0);  return b; } function nxGetCRURL (m, a, b, c, d, e) { var p = \"\" ; var u ; if (c==undefined && d==undefined && e==undefined) { p = (a==undefined?\"\":\"&\"+a) + (b==undefined || a.indexOf(\"u=\")==0 || a.indexOf(\"&u=\") > 0 ?\"\":\"&u=\"+urlencode(b)) ; u = b ; } else { p = (a==undefined ? \"\" : \"&a=\"+urlencode(a)) + (b==undefined ? \"\" : \"&r=\"+urlencode(b)) + (c==undefined ? \"\" : \"&i=\"+urlencode(c)) + (d==undefined ? \"\" : \"&u=\"+urlencode(d)) + (e==undefined ? \"\" : \"&\"+e) ; u = d ; } if (! p) return null ; var url ; if (naver.search.https) { url = (naver.search.meta_referrer ? \"/p/crd\" : \"/p/cr\") + \"/rd\"; if (m != 0) m = 1; } else { out = isOutlink(u); url = \"http://cr.naver.com\" + (g_D && out ? \"/nr\" : \"/rd\"); if (m != 0) m = g_D && out ? 2 : 1; } url += \"?m=\" + m + \"&\" + cpip() + \"&\" + nxGetCommonCRParam() + p; return url; } function tCR (a, b, c, d, e) { var l = nxGetCRURL(0, a, b, c, d, e) ; var cr = getCRRanking(l) ; if (cr > 0) l = l + \"&cr=\" + cr ; if (document.images) (new Image()).src = l ; else document.location = l ; return false ; } function gCR (u, a, r, i, e, t) { if (u) u = urlexpand(u) ; var l = nxGetCRURL(1, a, r, i, u, e) ; var o = document.createElement(\"a\") ; var cr = getCRRanking(l) ; if (cr > 0) l = l + \"&cr=\" + cr ; if (o.click) { o.href = l ; o.style.display = \"none\" ; document.body.appendChild(o) ; o.click() ; } else document.location = l ; } function goCR (o, p, t) { var u = o.href ; tt_sub_disable(o) ; if (p.indexOf(\"u=javascript\") >= 0) t = true ; var n = (o.ownerDocument==document && o.target && o.target!=\"_self\" && o.target!=\"_parent\" && o.target!=\"_top\") && !(window.location.protocol&&window.location.protocol.indexOf(\"https:\")==0) ; var cr = getCRRanking(p) ; if (cr > 0) p = p + \"&cr=\" + cr ;  if (!(u && u.indexOf(\"http://cr.naver.com/\")==0) && !(o.getAttribute !== undefined && o.getAttribute(\"crurl\"))) { if (0 && u && u.indexOf(\"/search.naver?\") >= 0) { var str = \"\" ; if (0) u += \"&crcp=1\", str += urlencode(\"&crcp=1\") ; if (0) u += \"&rule=1\", str += urlencode(\"&rule=1\") ; if (0) u += \"&debug=1\", str += urlencode(\"&debug=1\") ; p = p.replace(/(((?:^|&)u=).*\\/search.naver%3F[^&]*)/, '$1' + str) ; } u = nxGetCRURL(t?0:(n?-1:1), p, u) ; } if (u && !u.match(/m=0&/)) { var a = o.innerHTML ; if (g_D && naver.search.https && naver.search.meta_referrer && o.href && isOutlink(o.href)) o.setAttribute(\"rel\", \"noreferrer\"); o.href = u ; if (o.getAttribute !== undefined) o.setAttribute(\"crurl\", \"1\"); if (o.innerHTML != a) o.innerHTML = a ; } else if (document.images) (new Image()).src = u ; return true ; } function goOtherCR (o, p) { return goCR(o, p, false) ; } function goOtherTCR (o, p) { return goCR(o, p, true) ; } function get_form_url (o) { var url = o.getAttribute(\"action\") ; if (url == null) url = \"\" ; var e, n = 0 ; for (var i=0; i<o.elements.length; i++) { e = o.elements[i] ; if (e.disabled || !e.name) continue ; url += (n++>0?\"&\":url.indexOf(\"?\")<0?\"?\":url.indexOf(\"?\")<url.length-1?\"&\":\"\") + encodeURIComponent(e.name) + \"=\" + encodeURIComponent(e.value) ; } return url ; } function formCR (o, area, rank, id) { if (typeof o == 'string') o = document.getElementById(o) ; var target = o.getAttribute(\"target\") ; if (target && target!=\"_self\" && target!=\"_parent\" && target!=\"_top\" || /^post$/i.test(o.getAttribute(\"method\"))) { tCR(area, rank, id) ; o.submit() ; return false ; } var url = get_form_url(o) ; var a = document.createElement(\"a\") ; a.href = url ; var p = area != undefined ? \"a=\" + area : \"\" ; if (rank != undefined) p += (p?\"&\":\"\") + \"r=\" + encodeURIComponent(rank) ; if (id != undefined) p += (p?\"&\":\"\") + \"i=\" + encodeURIComponent(id) ; if (url != undefined) p += (p?\"&\":\"\") + \"u=\" + encodeURIComponent(urlexpand(url)) ; goCR(a, p) ; if (navigator.userAgent.indexOf('MSIE') > 0) { a.style.display = 'none' ; o.appendChild(a) ; a.click() ; } else document.location = a.href ; return false ; } function goHist (o, a, e) { return true ; } function rank_val (rank, name, sign, number, ad_onair) { this.rank = rank ; this.name = name ; this.sign = sign ; this.number = number ; this.ad_onair = ad_onair ; } function rr_hotquery_val (titleImg, totalLink, ad_onair) { this.titleImg = titleImg ; this.totalLink = totalLink ; this.ad_onair = ad_onair ; } function rr_append () { for (var i=0; i<rr_list.length; i++) if (rr_list[i].qname==hotqry_Name && rr_list[i].dir==hotqry_Dir) return 0 ; var o = { order:hotqry_Order, contid:hotqry_ContID, qname:hotqry_Name, dir:hotqry_Dir, toprank:hotqry_TopRank, rankdown:hotqry_RankDown, clicklog:hotqry_ClickLog, toprank_idx:toprank_idx, lowrank_idx:lowrank_idx, topranklist:toprank, lowranklist:lowrank_idx>=0?lowrank:null } ; rr_list = rr_list.concat(o) ; return 1 ; } function winload (str) { w = 870, h = 651 ; ww = 880, hh = 700 ; l = (screen.availWidth/2) - (ww/2) ; t = (screen.availHeight/2) - (hh/2) ; window.open(str,\"sdsgis\",\"top=\"+t+\",left=\"+l+\",width=\"+w+\",height=\"+h+\",status=yes,resizable=yes,toolbars=no,location=no,scrollbars=no\") ; } function winload_map (str) { t = 0; l = 0; w = screen.availWidth - 10; h = screen.availHeight - 30; window.open(str,\"sdsgis\",\"top=\"+t+\",left=\"+l+\",width=\"+w+\",height=\"+h+\",status=yes,resizable=yes,toolbars=no,location=no,scrollbars=yes\") ; } function sitevalue (title, sid) { var target_name = \"value\" ; window.open(\"about:blank\", target_name, \"width=380, height=343, resizable=no, menubar=no, statusbar=no, scrollbar=no\") ; siteform.action = \"http://dir.naver.com/siteview/sitevalue.php\"; siteform.target = target_name ; siteform.title.value = title ; siteform.sid.value = sid ; siteform.pageid.value = g_puid ; siteform.sessionid.value = g_suid ; siteform.submit() ; return false ; } function open_mapbrowser (x, y, scale, title) { var host = \"http://maps.naver.com\" ; if (x == null) x = \"\" ; else x = new String(x) ; if (y == null) y = \"\" ; else y = new String(y) ; if (title == null) title = \"\" ; if (x.indexOf(\".\")>=0 && y.indexOf(\".\")>=0) { if (x>=122.8957333 && x<=133.4503243 && y>=31.1396418 && y<=43.4549896) host = \"http://map.naver.com\" ; } win = window.open(host+\"/?x=\"+x+\"&y=\"+y+\"&title=\"+title, \"_blank\") ; win.focus() ; } function open_mapbrowser_etc (args, t) { var host = \"http://maps.naver.com\" ; if (t && t==1) host = \"http://map.naver.com\" ; if (args == null) args=\"\" ; win = window.open(host+\"/?\"+args, \"_blank\") ; if (win != null) { win.focus() ; return true ; } else return false ; } function nx_open_mapbrowser (x, y, scale, title, id, type) { var host = \"http://map.naver.com\" ; var param ; if (x == null) x = \"\" ; else x = new String(x) ; if (y == null) y = \"\" ; else y = new String(y) ; if (title == null) title = \"\" ; if (arguments.length <= 4) param = host+\"/?x=\"+x+\"&y=\"+y+\"&title=\"+title ; else param = host+\"/index.nhn?enc=utf8&mapMode=0&level=2&lng=\"+x+\"&lat=\"+y+\"&pinTitle=\"+title+\"&pinId=\"+id+\"&pinType=\"+type ; win = window.open(param, \"_blank\") ; win.focus() ; } function nx_open_mapbrowser_etc (args, t) { var host = \"http://map.naver.com\" ; if (args == null) args=\"\" ; win = window.open(host+\"/?\"+args, \"_blank\") ; if (win != null) { win.focus() ; return true ; } else return false ; } function goMap (txtAddr, txtX, txtY, rAddr, rTel) { if (txtX == \"\") alert(txtAddr+'을 찾을 수 없습니다. 다른 조건을 가지고 검색하여 주십시요.') ; else winload_map('http://map.naver.com/view?item='+txtAddr+'&x='+txtX+'&y='+txtY+'&strAddr='+rAddr+'&strTel='+rTel) ; } function goSanghoMap (encTitle, x, y, encAddr, encTel) { var v_args = \"&x=\" + x + \"&y=\"+ y + \"&title=\" + encTitle + \"&address=\" + encAddr + \"&tel=\" + encTel ; open_mapbrowser_etc(v_args) ; } function nx_env () { var i ; for (i=0; i<document.links.length; i++) if (document.links[i].target == \"nxt\") document.links[i].target = \"_blank\"; for (i=0; i<document.forms.length; i++) if (document.forms[i].target == \"nxt\") document.forms[i].target = \"_blank\"; return true ; } function nx_onkeydown (e) { function cancel_event (event) { if (event.preventDefault) { event.preventDefault() ; event.stopPropagation() ; } else event.returnValue = false ; } function ignore_input (e, k, c) { var el = e.target || e.srcElement ; var el_upper = el && el.tagName ? el.tagName.toUpperCase() : \"\" ; if (el_upper == \"INPUT\" || el_upper == \"SELECT\" || el_upper == \"TEXTAREA\" || el_upper == \"EMBED\" || el_upper == \"OBJECT\") return true ; else if (k & m.ALT) return true ; else if (k == m.CTRL && c != 86) return true ; else if (k & m.META || c == 91 || c == 224) return true ; return false ; } try { if (typeof(e) == 'undefined') e = event ; var f = document.getElementsByName(\"search\")[0] ; var k = 0, c = 0 ; var m = { ALT:1, CTRL:2, SHIFT:4, META:8 } ; if ((typeof(e.altKey) != 'undefined') ? e.altKey : (e.modifiers & Event.ALT_MASK > 0)) k |= m.ALT ; if ((typeof(e.ctrlKey) != 'undefined') ? e.ctrlKey : (e.modifiers & Event.CONTROL_MASK > 0)) k |= m.CTRL ; if ((typeof(e.shiftKey) != 'undefined') ? e.shiftKey : (e.modifiers & Event.SHIFT_MASK > 0)) k |= m.SHIFT ; if ((typeof(e.metaKey) != 'undefined') && e.metaKey) k |= m.META ; c = e.keyCode ? e.keyCode : e.which ; if (ignore_input(e, k, c)) return true ; if (((k === 0 || k === m.SHIFT) && (c === 21 || c === 229)) || (k === m.SHIFT && c === 32) || c === 113 || c === 45) { cancel_event(e) ; scrollTo(0, 0) ; f.query.focus() ; f.query.select() ; return false ; } else if (c > 44) { scrollTo(0, 0) ; f.query.value = '' ; f.query.focus() ; f.query.select() ; return true ; } } catch (err) {} return true ; } function Init () { if (document.captureEvents && Event.KEYDOWN) document.captureEvents (Event.KEYDOWN) ; document.onkeydown = nx_onkeydown ; } var msg_hidden_idle=null; function msg (id) { if(msg_hidden_idle) clearInterval(msg_hidden_idle); if(id) { var mid=document.getElementById(id); mid.style.display=''; mid.style.visibility='visible'; } } function msg_hidden (id, f) { if(f) hidden(id); else msg_hidden_idle=setInterval(\"hidden('\"+id+\"')\",100); } function hidden (id) { var mid=document.getElementById(id); mid.style.display='none'; mid.style.visibility='hidden'; } function nx_check_basic () { return ; } function nx_set_cookie (name, value, expire, domain) { var cookie = name + \"=\" + escape(value); if (expire != null) { if (expire instanceof Date) { cookie = cookie + \"; expires=\" + expire.toUTCString(); } else { var exdate = new Date((new Date()).getTime() + expire*1000); cookie = cookie + \"; expires=\" + exdate.toUTCString(); } } cookie = cookie + \"; path=/\"; if (domain != null) { cookie = cookie + \"; domain=\" + domain; } document.cookie = cookie; } function nx_get_cookie (name) { var cookie_list = document.cookie.split(/\\s*;\\s*/); for (var i = 0; i < cookie_list.length; i++) { var tmp_list = cookie_list[i].split(\"=\"); var c_name = trim_space(tmp_list[0]); var c_value = tmp_list[1]; if (name == c_name) { return unescape(c_value); } } return null; } var nx_default_charset = document.charset ; function nx_form_emul_charset (form) { if (/msie/i.test(navigator.userAgent) && !/opera/i.test(navigator.userAgent)) { document.charset = form.acceptCharset ; window.onbeforeunload = function () { document.charset = nx_default_charset ; } ; } return true; } Init() ; var lcs_add = {}; var lcs_bc = {}; var lcs_ver = \"v0.5.00\"; var lcs_cnt = 0; function lcs_do( etc ) { if (!window.lcs_SerName) { window.lcs_SerName = \"lcs.naver.com\"; } var rs = \"\"; var index; var doc = document; var wlt = window.location; try { var lcs_Addr = (wlt.protocol ? wlt.protocol : \"http:\")+\"//\" + window.lcs_SerName + \"/m?\"; } catch(e){ return; } try { rs = lcs_Addr + \"u=\" + encodeURIComponent(wlt.href) + \"&e=\" + (doc.referrer ? encodeURIComponent(doc.referrer) : \"\"); } catch(e) { } try { if (typeof lcs_add.i == 'undefined' ) lcs_add.i = \"\"; for( var index in lcs_add) { if( typeof lcs_add[index] != 'function' ) rs += \"&\" + index + \"=\" + encodeURIComponent(lcs_add[index]); } for( var index in etc ) { if ( (index.length >= 3 && (typeof etc[index] != 'function')) || index == 'qy') { rs += \"&\" + index + \"=\" + encodeURIComponent(etc[index]); } } if(lcs_cnt < 1) { lcs_getBrowserCapa(); } for( var index in lcs_bc ) { if( typeof lcs_bc[index] != 'function' ) rs += \"&\" + index + \"=\" + encodeURIComponent(lcs_bc[index]); } var timeStr = (new Date).getTime(); rs += \"&ts=\" + timeStr; rs += \"&EOU\"; var obj = document.createElement('img') ; obj.src = rs; obj.onload = function() { obj.onload = null; return; } ; lcs_cnt++; } catch(e) { return; } } function lcs_getBrowserCapa() { lcs_getOS(); lcs_getlanguage(); lcs_getScreen(); lcs_getWindowSize(); lcs_getColorDepth(); lcs_getJavaEnabled(); lcs_getCookieEnabled(); } function lcs_getOS() { var lcs_os = \"\"; try { (navigator.platform ? lcs_os = navigator.platform : \"\"); } catch (e) { } lcs_bc[\"os\"] = lcs_os; } function lcs_getlanguage() { var lcs_ln = \"\"; try { (navigator.userLanguage? lcs_ln = navigator.userLanguage : (navigator.language)? lcs_ln = navigator.language : \"\"); } catch (e) { } lcs_bc[\"ln\"] = lcs_ln; } function lcs_getScreen() { var lcs_sr = \"\"; var pixelRatio = 0 ; try { if ( window.screen && screen.width && screen.height) { lcs_sr = screen.width + 'x'+ screen.height; pixelRatio = window.devicePixelRatio; if ( (pixelRatio) && (pixelRatio != 1) ){ lcs_sr = ( screen.width * pixelRatio ) + 'x' +( screen.height * pixelRatio ) ; } } else if ( window.java || self.java ) { var sr = java.awt.Toolkit.getDefaultToolkit().getScreenSize(); lcs_sr = sr.width + 'x' + sr.height; } } catch(e) { lcs_sr = \"\"; } lcs_bc[\"sr\"] = lcs_sr; } function lcs_getWindowSize() { var doc = document; lcs_bc[\"bw\"] = ''; lcs_bc[\"bh\"] = ''; try { lcs_bc[\"bw\"] = doc.documentElement.clientWidth ? doc.documentElement.clientWidth : doc.body.clientWidth; lcs_bc[\"bh\"] = doc.documentElement.clientHeight ? doc.documentElement.clientHeight : doc.body.clientHeight; } catch(e) { } } function lcs_getColorDepth(){ lcs_bc[\"c\"] = \"\"; try { if (window.screen) { lcs_bc[\"c\"] = screen.colorDepth ? screen.colorDepth : screen.pixelDepth; } else if (window.java || self.java ) { var c = java.awt.Toolkit.getDefaultToolkit().getColorModel().getPixelSize(); lcs_bc[\"c\"] = c; } } catch (e) { lcs_bc[\"c\"] = \"\"; } } function lcs_getJavaEnabled() { lcs_bc[\"j\"] = \"\"; try { lcs_bc[\"j\"]= navigator.javaEnabled() ? \"Y\":\"N\"; } catch (e) {} } function lcs_getCookieEnabled() { lcs_bc[\"k\"] = \"\"; try { lcs_bc[\"k\"]= navigator.cookieEnabled ? \"Y\":\"N\"; } catch (e) { } } if (window.addEventListener) window.addEventListener(\"load\", function() { lcs_do({\"pid\": \"TQ+HQwpVuE4ssvEud5GssssssQl-349917\"}) }, false) ; else lcs_do({\"pid\": \"TQ+HQwpVuE4ssvEud5GssssssQl-349917\"}) ; </script> <script src=\"https://ssl.pstatic.net/sstatic/sdyn.js?f=/au/pc/_nx/jindo_1.5.3_170518b.js+/search/js/nhn.Component.js+/search/js/jindo.Component.1.1.0.js+/search/js/jindo.component.library_120927.js+/search/js/flashObject_121025.js+/au/pc/search_option/nhn.search.search_option_171102.js+/au/pc/naver_autocomplete/nhn.common.atcmp.naver_web_170713_1.js+/search/js/component.js+/search/js/2013/nhn.thumbnail_sliding_131211.js+/au/s/pc/_common/jindo/jindo.Rolling_140526.js+/au/pc/_common/nhn.common_170518.js+/au/pc/_nx/2017/nx_jquery_0622b.js \" type=\"text/javascript\"></script> <script type=\"text/javascript\"> var displayControlFuncObject ; var displayControlObject = { renderCount : 0, func : function () { if (this.renderCount > 5) return ; var elem = $Element('content') ; if (! elem) return ; var child = elem.child() ; for (var i = 0; i < child.length; i++) { if (child[i].hasClass('section') && !child[i].hasClass('nx_no_control')) { if (!child[i].visible()) child[i].show() ; } } if (this.renderCount++ > 5) displayControlFuncObject.detach(window, 'scroll') ; } } ; displayControlFuncObject = $Fn(displayControlObject.func, displayControlObject) ; displayControlFuncObject.attach(window, 'scroll') ; </script> <script type=\"text/javascript\"> var g_site = \"\" ; function nx_form_submit (f) { var idx = 0 ; var q = trim_space(f.query.value) ; if (g_D || 0) f.action = \"\" ; if (naver.search.option.mson) naver.search.option.append_params(f) ; return true ; } function raise () { } var onload_post = \"\"; function nx_init () { nx_env() ; window.onerror = null, window.status = \"\" ; try { eval(onload_post) ; } catch(e) { if (g_D) raise(e) ; } ; return true ; } function document_write (s) { document.write(s) ; } function nx_social_toggle (o) { var l = $Element($(\"social_use\")) ; if (o || l.hasClass('on')) l.removeClass('on') ; else l.addClass('on') ; } $Fn(function() { $Fn(function(e) { var link = $$.getSingle(\"div.social_layer\", document.body); if (link) { var el = e.element; var wel = $Element(el); elLink = $Element(link).$value(); if (!(link && (el == link || wel.isChildOf(link)))) { var l = $Element($(\"social_use\")) ; if (o || l.hasClass('on')) l.removeClass('on') ; } } }).attach(document.body, \"click\"); }).attach(window, \"load\"); nhn.jsLazyLoad = { include: function(a, b, c) { nx_js_lazyload(a, b, 0) ; } } ; nx_js_defer_load(\"https://ssl.pstatic.net/sstatic/au/s/pc/_others/nxtt/search_om.js\", function() {NXTT.div=document.getElementById(\"nxtt_div\");}, 50); </script></link></meta></head> <body class=\"\"> <div id=\"nxtt_div\" style=\"display:none;position:absolute;border-width:0;z-index:11000\"></div> <div id=\"u_skip\"> <a href=\"#lnb\"><span>메뉴 영역으로 바로가기</span></a> <a href=\"#content\"><span>본문 영역으로 바로가기</span></a> </div> <div id=\"wrap\"> <div id=\"header_wrap\" role=\"heading\"> <div class=\"header_group\"> <div class=\"search_area\"> <h1><a class=\"spnew logo_naver\" href=\"http://www.naver.com\" onclick=\"return goOtherCR(this, 'a=sta.naver&amp;r=&amp;i=&amp;u='+urlencode(this.href));\">NAVER</a></h1> <form action=\"?\" id=\"nx_search_form\" method=\"get\" name=\"search\" onsubmit=\"return nx_form_submit(this)\" role=\"search\"> <fieldset class=\"greenwindow\"> <legend>검색</legend> <input name=\"sm\" type=\"hidden\" value=\"tab_hty.top\"/> <input name=\"where\" type=\"hidden\" value=\"post\"/> <div class=\"greenbox\"> <span class=\"keyword\"> <input accesskey=\"s\" autocomplete=\"off\" class=\"box_window\" id=\"nx_query\" maxlength=\"255\" name=\"query\" title=\"검색어 입력\" type=\"text\" value=\"초미세먼지\"/> </span> </div> <input name=\"oquery\" type=\"hidden\" value=\"초미세먼지\"/> <input name=\"tqi\" type=\"hidden\" value=\"TQ+HQwpVuE4ssvEud5GssssssQl-349917\"/> <input disabled=\"\" name=\"acq\" type=\"hidden\" value=\"\"/> <input disabled=\"\" name=\"acr\" type=\"hidden\" value=\"\"/> <input disabled=\"\" name=\"qdt\" type=\"hidden\" value=\"\"/> <input disabled=\"\" name=\"acir\" type=\"hidden\" value=\"\"/> <input disabled=\"\" name=\"os\" type=\"hidden\" value=\"\"/> <input disabled=\"\" name=\"bid\" type=\"hidden\" value=\"\"/> <input disabled=\"\" name=\"pkid\" type=\"hidden\" value=\"\"/> <input disabled=\"\" name=\"eid\" type=\"hidden\" value=\"\"/> <input disabled=\"\" name=\"mra\" type=\"hidden\" value=\"\"/> <div class=\"setkr_area\"> <!-- [D] 레이어 상태에 따라 title값 변화 필요 * 닫힌 경우 : title=\"한글 입력기 열기\" * 열린 경우 : title=\"한글 입력기 닫기\" --> <button class=\"bt_setkr\" id=\"ke_kbd_btn\" onclick=\"nx_ime_load(this);return tCR('a=sch.ime');\" title=\"한글 입력기 열기\" type=\"button\"><span class=\"spnew ico_keyboard\">한글 입력기</span></button> <style id=\"_nx_kbd_style\" type=\"text/css\"></style><div id=\"_nx_kbd\" style=\"display:none;\"></div> </div> <!--@code lang=\"html\" title=\"[JS] 한글입력기 레이지 로딩 하거나 열기/닫기 수행.\"--> <script type=\"text/javascript\"> function nx_ime_load_fail () { alert(\"네트워크 상태가 안 좋아 한영입력기를 불러오지 못했습니다.\\n잠시 후 다시 시도해 주세요.\"); } function nx_ime_load (elBtn) { if (window.nx_kbd_toggle) { nx_kbd_toggle(elBtn); return; } new $Ajax(\"https://ssl.pstatic.net/sstatic/au/pc/ime/ime.contents_170920.js\", { type : \"jsonp\", timeout : 3, callbackid : \"$get_ime\", onload : function (res) { var oData = res.json(); if (oData) { var elStyle = $(\"_nx_kbd_style\"); if (elStyle.styleSheet) { elStyle.styleSheet.cssText = oData.ime_css; } else { elStyle.innerHTML = oData.ime_css; } $(\"_nx_kbd\").innerHTML = oData.ime_html; nx_js_lazyload(\"https://ssl.pstatic.net/sstatic/au/s/pc/_common/ime/nhn.ime_search_140825.js\", function () { nx_kbd_toggle(elBtn); }); } else { nx_ime_load_fail(); } }, ontimeout : nx_ime_load_fail, onerror : nx_ime_load_fail }).request(); } </script> <div class=\"autocomplete\" id=\"nautocomplete\"> <a class=\"bt_atcp _btn_arw fold\" href=\"#\" onclick=\"return false;\"><span class=\"blind _text\">자동완성 펼치기</span><span class=\"ico_arrow spnew\"></span></a> </div> <button class=\"bt_search\" onmousedown=\"$Element(this).removeClass('over');$Element(this).addClass('down');\" onmouseout=\"$Element(this).removeClass('over down');\" onmouseover=\"$Element(this).addClass('over');\" type=\"submit\"><span class=\"spnew ico_search\">검색</span></button> <div class=\"ly_atcmp\" id=\"nx_autoframe_top\" style=\"display:none;\"> <iframe frameborder=\"0\" style=\"display:none;display:block\\9;display:block\\0/;position:absolute;top:-1px;left:-1px;z-index:-1;width:100%;height:100%;padding:1px;filter:alpha(opacity=0);opacity:0\" title=\"빈프레임\"></iframe> <div class=\"api_atcmp_wrap _atcmp\" style=\"display:none;\"> <div class=\"words nature\"> <h3 class=\"tit\">생각한대로 검색해 보세요 <span class=\"beta\">Beta</span></h3> <ul class=\"_nature\"> <li class=\"_item\"><a href=\"#\" onclick=\"return false;\">@txt@</a><span id=\"rank@rank@\" style=\"display:none\">@txt@</span></li> </ul> </div> <div class=\"words _words\"> <div class=\"_atcmp_result_wrap\"> <ul class=\"_resultBox\"></ul> <ul class=\"_resultBox\"></ul> <ul class=\"_resultBox\"></ul> <ul class=\"_resultBox\"></ul> </div> <div class=\"add_group _atcmp_answer_wrap\"></div> </div> <div class=\"atcmp_plus _plus\"> <span class=\"desc\"> <span class=\"plus_txt\">시간대와 관심사에 맞춘 <em class=\"txt\">컨텍스트 자동완성</em></span> <a class=\"spat ico_info\" href=\"https://help.naver.com/support/alias/search/word/word_16.naver\" onclick=\"__atcmpCR(event, this, 'plus.help', '','','');\" target=\"_blank\"><span class=\"blind\">도움말 보기</span></a> </span> <span class=\"switch _plus_btn\"> <a class=\"btn_turnon active\" href=\"#\" onclick=\"__atcmpCR(event, this, 'plus.use', '','','');\">ON<span class=\"blind\">선택됨</span></a> <a class=\"btn_turnoff\" href=\"#\" onclick=\"__atcmpCR(event, this, 'plus.unuse', '','','');\">OFF</a> </span> <div class=\"layer_plus _plusAlert\"> <strong class=\"tit\">컨텍스트 자동완성</strong> <div class=\"_logout\" style=\"display:block;\"> <p class=\"dsc\"><em class=\"txt\">동일한 시간대/연령/남녀별</em> 사용자 그룹의<br/>관심사에 맞춰 자동완성을 제공합니다.</p> <div class=\"btn_area\"> <a class=\"btn btn_login\" href=\"https://nid.naver.com/nidlogin.login?url=https%3A%2F%2Fsearch.naver.com%2Fsearch.naver%3Fwhere%3Dpost%26where%3Dpost%26query%3D%25EC%25B4%2588%25EB%25AF%25B8%25EC%2584%25B8%25EB%25A8%25BC%25EC%25A7%2580%26start%3D991\" onclick=\"__atcmpCR(event, this, 'plus.login', '','','');\">로그인</a> <a class=\"btn btn_view\" href=\"https://help.naver.com/support/alias/search/word/word_16.naver\" onclick=\"__atcmpCR(event, this, 'plus.detail', '','','');\" target=\"_blank\">자세히</a> </div> </div> <div class=\"_login\" style=\"display:none;\"> <p class=\"dsc\">ON/OFF설정은<br/>해당 기기(브라우저)에 저장됩니다.</p> <div class=\"btn_area\"> <a class=\"btn btn_view\" href=\"https://help.naver.com/support/alias/search/word/word_21.naver\" onclick=\"__atcmpCR(event, this, 'plus.detail', '','','');\" target=\"_blank\">자세히</a> </div> </div> <button class=\"btn_close _close\" onclick=\"__atcmpCR(event, this, 'plus.close', '','','');\" type=\"button\"><i class=\"spat ico_close\">컨텍스트 자동완성 레이어 닫기</i></button> </div> </div> <p class=\"func\"><span class=\"fl\"><a href=\"https://help.naver.com/support/alias/search/word/word_17.naver\" onclick=\"__atcmpCR(event, this, 'help', '','','');\" target=\"_blank\">도움말</a><span class=\"atcmp_bar\"></span><a href=\"https://help.naver.com/support/alias/search/word/word_18.naver\" onclick=\"__atcmpCR(event, this, 'report', '','','');\" target=\"_blank\">신고</a></span><span><em><a class=\"hisoff\" href=\"javascript:;\">검색어저장 켜기</a><span class=\"atcmp_bar\"></span></em><a class=\"funoff\" href=\"javascript:;\">자동완성 끄기</a></span></p> <span class=\"atcmp_helper _help_tooltip1\">기능을 다시 켤 때는 <em class=\"ico_search spat\">검색창 오른쪽 화살표 버튼</em>을 클릭하세요</span> </div> <div class=\"api_atcmp_wrap _atcmpIng\" style=\"display:none;\"> <div class=\"words\"><p class=\"info_words\">현재 자동완성 기능을 사용하고 계십니다.</p></div> <p class=\"func\"><span class=\"fl\"><a href=\"https://help.naver.com/support/alias/search/word/word_17.naver\" onclick=\"__atcmpCR(event, this, 'help', '','','');\" target=\"_blank\">도움말</a><span class=\"atcmp_bar\"></span><a href=\"https://help.naver.com/support/alias/search/word/word_18.naver\" onclick=\"__atcmpCR(event, this, 'report', '','','');\" target=\"_blank\">신고</a></span><span><em><a class=\"hisoff\" href=\"javascript:;\">검색어저장 켜기</a><span class=\"atcmp_bar\"></span></em><a class=\"funoff\" href=\"javascript:;\">자동완성 끄기</a></span></p> <span class=\"atcmp_helper _help_tooltip2\">기능을 다시 켤 때는 <em class=\"ico_search spat\">검색창 오른쪽 화살표 버튼</em>을 클릭하세요</span> </div> <div class=\"api_atcmp_wrap _atcmpStart\" style=\"display:none;\"> <div class=\"words\"><p class=\"info_words\">자동완성 기능이 활성화되었습니다.</p></div> <p class=\"func\"><span class=\"fl\"><a href=\"https://help.naver.com/support/alias/search/word/word_17.naver\" onclick=\"__atcmpCR(event, this, 'help', '','','');\" target=\"_blank\">도움말</a><span class=\"atcmp_bar\"></span><a href=\"https://help.naver.com/support/alias/search/word/word_18.naver\" onclick=\"__atcmpCR(event, this, 'report', '','','');\" target=\"_blank\">신고</a></span><span><em><a class=\"hisoff\" href=\"javascript:;\">검색어저장 켜기</a><span class=\"atcmp_bar\"></span></em><a class=\"funoff\" href=\"javascript:;\">자동완성 끄기</a></span></p> <span class=\"atcmp_helper _help_tooltip3\">기능을 다시 켤 때는 <em class=\"ico_search spat\">검색창 오른쪽 화살표 버튼</em>을 클릭하세요</span> </div> <div class=\"api_atcmp_wrap _atcmpOff\" style=\"display:none;\"> <div class=\"words\"><p class=\"info_words\">자동완성 기능이 꺼져 있습니다.</p></div> <p class=\"func\"><span class=\"fl\"><a href=\"https://help.naver.com/support/alias/search/word/word_17.naver\" onclick=\"__atcmpCR(event, this, 'help', '','','');\" target=\"_blank\">도움말</a><span class=\"atcmp_bar\"></span><a href=\"https://help.naver.com/support/alias/search/word/word_18.naver\" onclick=\"__atcmpCR(event, this, 'report', '','','');\" target=\"_blank\">신고</a></span><span><em><a class=\"hisoff\" href=\"javascript:;\">검색어저장 켜기</a><span class=\"atcmp_bar\"></span></em><a class=\"funoff\" href=\"javascript:;\">자동완성 켜기</a></span></p> </div> <div class=\"api_atcmp_wrap _keywords\" style=\"display:none;\"> <div class=\"my_words\"> <div class=\"lst_tab\"> <ul><li class=\"on _recentTab\"><a href=\"javascript:;\">최근검색어</a></li> <li class=\"_myTab\"><a href=\"javascript:;\">내 검색어</a></li></ul> </div> <div class=\"words _recent\"> <ul><li data-rank=\"@rank@\"><a class=\"t@my@ _star _myBtn\" href=\"javascript:;\" title=\"내 검색어 등록\"><em class=\"spat\">내 검색어 등록</em></a><a class=\"keyword\" href=\"javascript:;\">@txt@</a><em class=\"keyword_date\">@date@.</em><a class=\"btn_delete spat _del\" href=\"javascript:;\" title=\"검색어삭제\">삭제</a><span style=\"display:none\">@in_txt@</span></li></ul> <div class=\"info_words _recentNone\" style=\"display:none\">최근검색어 내역이 없습니다.</div> <p class=\"info_words _offMsg\" style=\"display:none\">검색어 저장 기능이 꺼져 있습니다.</p> </div> <div class=\"words _my\" style=\"display:none\"> <ul><li data-rank=\"@rank@\"><a class=\"ton _star _myBtn\" href=\"javascript:;\" title=\"내 검색어 해제\"><em class=\"spat\">내 검색어 해제</em></a><a class=\"keyword\" href=\"javascript:;\">@txt@</a></li></ul> <div class=\"info_words _myNone\" style=\"display:none\">설정된 내 검색어가 없습니다.<br/>최근검색어에서 <span class=\"star spat\">내 검색어 등록</span>를 선택하여 자주 찾는 검색어를<br>내 검색어로 저장해 보세요.</br></div> <p class=\"info_words _offMsg\" style=\"display:none\">검색어 저장 기능이 꺼져 있습니다.</p> </div> <p class=\"noti _noti\" style=\"display:none\"><em class=\"ico_noti spat\"><span class=\"blind\">알림</span></em>공용 PC에서는 개인정보 보호를 위하여 반드시 로그아웃을 해 주세요.</p> <p class=\"func _recentBtnGroup\"><span class=\"fl\"><a class=\"_delMode\" href=\"javascript:;\">기록 삭제</a></span><span><a class=\"_keywordOff\" href=\"javascript:;\">검색어저장 끄기</a><span class=\"atcmp_bar\"></span><a class=\"_acOff\" href=\"javascript:;\">자동완성 끄기</a></span></p> <p class=\"func _recentDelBtnGroup\" style=\"display:none\"><span class=\"fl\"><a class=\"_delAll\" href=\"javascript:;\" title=\"최근 검색어 기록을 모두 삭제합니다.\">기록 전체 삭제</a></span><span><a class=\"_delDone\" href=\"javascript:;\">완료</a></span></p> <p class=\"func _myBtnGroup\" style=\"display:none\"><span class=\"fl\"><a class=\"_delAll\" href=\"javascript:;\" title=\"설정된 내 검색어를 모두 삭제합니다.\">기록 전체 삭제</a></span><span><a class=\"_keywordOff\" href=\"javascript:;\">검색어저장 끄기</a><span class=\"atcmp_bar\"></span><a class=\"_acOff\" href=\"javascript:;\">자동완성 끄기</a></span></p> <span class=\"atcmp_helper _help2\">기능을 다시 켤 때는 <em class=\"ico_search spat\">검색창 오른쪽 화살표 버튼</em>을 클릭하세요</span> <div class=\"ly_noti _maxLayer\" style=\"display:none\"> <span class=\"mask\"></span> <p><span class=\"ico_alert spat\"></span>내 검색어는 <em>최대 10</em>개 까지 저장할 수 있습니다.<br>추가하시려면 기존 내 검색어를 지워주세요. <a class=\"btn_close _close\" href=\"javascript:;\"><i class=\"spat ico_close\">닫기</i></a></br></p> </div> </div> </div> <div class=\"api_atcmp_wrap _alert\" style=\"display:none;\"> <div class=\"api_atcmp_alert\"> <span class=\"ico_alert spat\"></span> <p class=\"dsc_txt\">제19대 대통령선거 후보에 대해 5월 9일 선거일까지 자동완성 기능이 제공되지 않습니다.<br/> <a href=\"http://naver_diary.blog.me/220982360603\" nocr=\"\" onclick=\"return goOtherCR(this,'a=sug.vote&amp;r=&amp;i=&amp;u='+urlencode(this.href));\" target=\"_blank\">자세히보기</a></p> </div> </div> </div> </fieldset> </form> </div> <div id=\"gnb\"> <script type=\"text/javascript\"> var gnb_option = { gnb_service : \"search\", gnb_template : \"gnb_utf8\", gnb_logout : encodeURIComponent(location.href), gnb_login : encodeURIComponent(location.href), gnb_brightness : 1 , gnb_item_hide_option : 0 } ; var gnb_url = (window.location.protocol == \"https:\") ? \"https://ssl.pstatic.net/static.gn/templates/gnb_utf8.nhn\" : \"http://static.gn.naver.net/template/gnb_utf8.nhn\"; nx_js_defer_load(gnb_url + \"?\" + headerfooter_time_year_s + headerfooter_time_month_s + headerfooter_time_day_s + headerfooter_time_hour_s, function() { getGNB() ; $Fn(function(we) { if (typeof gnbAllLayerClose == \"function\") { var bShowLayer = gnbUserLayer.show || gnbNaverMeLayer.show || gnbMoreLayer.show; var bClickGNBArea = $Element($$.getSingle(\"ul.gnb_lst\")).isEqual(we.element) || $Element($$.getSingle(\"ul.gnb_lst\")).isParentOf(we.element); if (bShowLayer && !bClickGNBArea) { gnbAllLayerClose(); } } }, this).attach(document, \"click\"); }, 0) ; </script> </div> </div><script> var nx_usain_beacon = function() { var sent = 0; var tags = []; var sampling = 0 ; (function addUagentInfo() { var nav = jindo.$Agent().navigator(); if (nav.version) { var version = \"\"; var vers = (nav.version + \"\").split('.'); version = vers[0]; if (version > 0) { tags.push('ua.' + nav.getName() + '.' + version); } } })(); var usain_obj = { send: function() { }, add_tag: function(tag) { tags.push(tag); } }; return usain_obj; }(); </script> <div id=\"lnb\"> <div class=\"lnb_group\"> <div class=\"lnb_menu\"> <ul class=\"base\"> <li class=\"lnb0\"><a class=\"tab\" href=\"//search.naver.com/search.naver?where=nexearch&amp;sm=tab_jum&amp;query=%EC%B4%88%EB%AF%B8%EC%84%B8%EB%A8%BC%EC%A7%80\" onclick=\"return goOtherCR(this,'a=tab.nx&amp;r=1&amp;i=&amp;u='+urlencode(this.href));\"><span class=\"spnew\">통합검색</span></a></li><li class=\"lnb7\"><a class=\"tab\" href=\"//search.naver.com/search.naver?where=realtime&amp;sm=tab_jum&amp;query=%EC%B4%88%EB%AF%B8%EC%84%B8%EB%A8%BC%EC%A7%80\" onclick=\"return goOtherCR(this,'a=tab.realtime&amp;r=1&amp;i=&amp;u='+urlencode(this.href));\"><span class=\"spnew\">실시간검색</span></a></li><li class=\"lnb8\"><a class=\"tab\" href=\"http://dic.naver.com/search.nhn?dicQuery=%EC%B4%88%EB%AF%B8%EC%84%B8%EB%A8%BC%EC%A7%80&amp;query=%EC%B4%88%EB%AF%B8%EC%84%B8%EB%A8%BC%EC%A7%80&amp;target=dic&amp;query_utf=&amp;isOnlyViewEE=\" onclick=\"return goOtherCR(this,'a=tab.ldic&amp;r=2&amp;i=&amp;u='+urlencode(this.href));\" target=\"_blank\"><span class=\"spnew\">어학사전</span><span class=\"new_window spim\">새창</span></a></li><li class=\"lnb4\"><a class=\"tab\" href=\"//search.naver.com/search.naver?where=news&amp;sm=tab_jum&amp;query=%EC%B4%88%EB%AF%B8%EC%84%B8%EB%A8%BC%EC%A7%80\" onclick=\"return goOtherCR(this,'a=tab.news&amp;r=3&amp;i=&amp;u='+urlencode(this.href));\"><span class=\"spnew\">뉴스</span></a></li><li class=\"lnb2\"><a class=\"tab\" href=\"//search.naver.com/search.naver?where=image&amp;sm=tab_jum&amp;query=%EC%B4%88%EB%AF%B8%EC%84%B8%EB%A8%BC%EC%A7%80\" onclick=\"return goOtherCR(this,'a=tab.image&amp;r=4&amp;i=&amp;u='+urlencode(this.href));\"><span class=\"spnew\">이미지</span></a></li><li class=\"lnb6\"><a class=\"tab\" href=\"//search.naver.com/search.naver?where=article&amp;sm=tab_jum&amp;query=%EC%B4%88%EB%AF%B8%EC%84%B8%EB%A8%BC%EC%A7%80\" onclick=\"return goOtherCR(this,'a=tab.cafe&amp;r=5&amp;i=&amp;u='+urlencode(this.href));\"><span class=\"spnew\">카페</span></a></li><li class=\"lnb10\"><a class=\"tab\" href=\"//search.naver.com/search.naver?where=kdic&amp;sm=tab_jum&amp;query=%EC%B4%88%EB%AF%B8%EC%84%B8%EB%A8%BC%EC%A7%80\" onclick=\"return goOtherCR(this,'a=tab.kdic&amp;r=6&amp;i=&amp;u='+urlencode(this.href));\"><span class=\"spnew\">지식백과</span></a></li><li class=\"lnb3\"><a class=\"tab on\" href=\"//search.naver.com/search.naver?where=post&amp;sm=tab_jum&amp;query=%EC%B4%88%EB%AF%B8%EC%84%B8%EB%A8%BC%EC%A7%80\" onclick=\"return goOtherCR(this,'a=tab.blog&amp;r=7&amp;i=&amp;u='+urlencode(this.href));\"><span class=\"spnew\">블로그</span></a></li></ul> <div class=\"more_area\" id=\"_nx_lnb_more\"> <a class=\"lnb_more\" href=\"#\" onclick=\"jQuery('#_nx_lnb_more').toggleClass('more_on'); tCR(jQuery('#_nx_lnb_more').hasClass('more_on') ? 'a=tab.more' : 'a=tmr.less'); return false;\"><span class=\"spnew\">더보기</span></a> <div class=\"addon\"> <iframe frameborder=\"0\" style=\"display:none;display:block\\9;display:block\\0/;position:absolute;top:-1px;left:-1px;z-index:-1;width:100%;height:100%;padding:1px;filter:alpha(opacity=0);opacity:0\" title=\"빈프레임\"></iframe> <ul><li class=\"lnb19\"><a class=\"tab\" href=\"//search.naver.com/search.naver?where=site&amp;sm=tab_jum&amp;query=%EC%B4%88%EB%AF%B8%EC%84%B8%EB%A8%BC%EC%A7%80\" onclick=\"return goOtherCR(this,'a=tmr.site&amp;r=1&amp;i=&amp;u='+urlencode(this.href));\"><span class=\"spnew\">사이트</span></a></li><li class=\"lnb13\"><a class=\"tab\" href=\"http://map.naver.com/local/search.nhn?query=%EC%B4%88%EB%AF%B8%EC%84%B8%EB%A8%BC%EC%A7%80\" onclick=\"return goOtherCR(this,'a=tmr.map&amp;r=2&amp;i=&amp;u='+urlencode(this.href));\" target=\"_blank\"><span class=\"spnew\">지도</span><span class=\"new_window spim\">새창</span></a></li><li class=\"lnb1\"><a class=\"tab\" href=\"//search.naver.com/search.naver?where=video&amp;sm=tab_jum&amp;query=%EC%B4%88%EB%AF%B8%EC%84%B8%EB%A8%BC%EC%A7%80\" onclick=\"return goOtherCR(this,'a=tmr.video&amp;r=3&amp;i=&amp;u='+urlencode(this.href));\"><span class=\"spnew\">동영상</span></a></li><li class=\"lnb12\"><a class=\"tab\" href=\"http://shopping.naver.com/search/all.nhn?where=all&amp;frm=NVSCTAB&amp;query=%EC%B4%88%EB%AF%B8%EC%84%B8%EB%A8%BC%EC%A7%80\" onclick=\"return goOtherCR(this,'a=tmr.shopping&amp;r=4&amp;i=&amp;u='+urlencode(this.href));\" target=\"_blank\"><span class=\"spnew\">쇼핑</span><span class=\"new_window spim\">새창</span></a></li><li class=\"lnb14\"><a class=\"tab\" href=\"http://music.naver.com/search/search.nhn?query=%EC%B4%88%EB%AF%B8%EC%84%B8%EB%A8%BC%EC%A7%80\" onclick=\"return goOtherCR(this,'a=tmr.music&amp;r=5&amp;i=&amp;u='+urlencode(this.href));\" target=\"_blank\"><span class=\"spnew\">뮤직</span><span class=\"new_window spim\">새창</span></a></li><li class=\"lnb16\"><a class=\"tab\" href=\"http://academic.naver.com/search.naver?field=0&amp;query=%EC%B4%88%EB%AF%B8%EC%84%B8%EB%A8%BC%EC%A7%80\" onclick=\"return goOtherCR(this,'a=tmr.doc&amp;r=6&amp;i=&amp;u='+urlencode(this.href));\" target=\"_blank\"><span class=\"spnew\">학술정보</span><span class=\"new_window spim\">새창</span></a></li><li class=\"lnb5\"><a class=\"tab\" href=\"//search.naver.com/search.naver?where=kin&amp;sm=tab_jum&amp;query=%EC%B4%88%EB%AF%B8%EC%84%B8%EB%A8%BC%EC%A7%80\" onclick=\"return goOtherCR(this,'a=tmr.kin&amp;r=7&amp;i=&amp;u='+urlencode(this.href));\"><span class=\"spnew\">지식iN</span></a></li><li class=\"lnb9\"><a class=\"tab\" href=\"//search.naver.com/search.naver?where=webkr&amp;sm=tab_jum&amp;query=%EC%B4%88%EB%AF%B8%EC%84%B8%EB%A8%BC%EC%A7%80\" onclick=\"return goOtherCR(this,'a=tmr.web&amp;r=8&amp;i=&amp;u='+urlencode(this.href));\"><span class=\"spnew\">웹문서</span></a></li><li class=\"lnb11\"><a class=\"tab\" href=\"//search.naver.com/search.naver?where=magazine&amp;sm=tab_jum&amp;query=%EC%B4%88%EB%AF%B8%EC%84%B8%EB%A8%BC%EC%A7%80\" onclick=\"return goOtherCR(this,'a=tmr.mgz&amp;r=10&amp;i=&amp;u='+urlencode(this.href));\"><span class=\"spnew\">매거진</span></a></li><li class=\"lnb15\"><a class=\"tab\" href=\"http://book.naver.com/search/search.nhn?query=%EC%B4%88%EB%AF%B8%EC%84%B8%EB%A8%BC%EC%A7%80\" onclick=\"return goOtherCR(this,'a=tmr.book&amp;r=12&amp;i=&amp;u='+urlencode(this.href));\" target=\"_blank\"><span class=\"spnew\">책</span><span class=\"new_window spim\">새창</span></a></li><li class=\"lnb17\"><a class=\"tab\" href=\"http://newslibrary.naver.com/search/searchByKeyword.nhn#{%22mode%22%3A1%2C%22sort%22%3A0%2C%22trans%22%3A1%2C%22pageSize%22%3A10%2C%22keyword%22%3A%22%EC%B4%88%EB%AF%B8%EC%84%B8%EB%A8%BC%EC%A7%80%22%2C%22status%22%3A%22success%22%2C%22startIndex%22%3A1%2C%22page%22%3A1}\" onclick=\"return goOtherCR(this,'a=tmr.dna&amp;r=13&amp;i=&amp;u='+urlencode(this.href));\" target=\"_blank\"><span class=\"spnew\">뉴스라이브러리</span><span class=\"new_window spim\">새창</span></a></li><li class=\"lnb20\"><a class=\"tab\" href=\"http://m.post.naver.com/search/post.nhn?keyword=%EC%B4%88%EB%AF%B8%EC%84%B8%EB%A8%BC%EC%A7%80\" onclick=\"return goOtherCR(this,'a=tmr.pst&amp;r=14&amp;i=&amp;u='+urlencode(this.href));\" target=\"_blank\"><span class=\"spnew\">포스트</span><span class=\"new_window spim\">새창</span></a></li></ul> </div> </div> <a class=\"bt_option\" href=\"#\" id=\"_search_option_btn\" onclick=\"return tCR('a=fno.option');\" title=\"검색옵션 열기\">검색옵션<span class=\"spnew ico_arrow\"></span></a> </div><div class=\"lnb_util\"> <ul class=\"list_util\"> <li> <a class=\"bt_help\" href=\"https://help.naver.com/support/alias/search/integration/integration_1.naver\" onclick=\"return goOtherCR(this, 'u='+urlencode(this.href)+'&amp;a=fno.help&amp;r=&amp;i='); return false;\" target=\"_blank\"><span class=\"spnew ico_help\">도움말</span></a> </li> <li> <a class=\"bt_origin\" href=\"https://help.naver.com/support/alias/search/integration/integration_2.naver\" onclick=\"return goOtherCR(this, 'u='+urlencode(this.href)+'&amp;a=fno.origin&amp;r=&amp;i='); return false;\" target=\"_blank\"><span class=\"spnew ico_origin\">원본반영</span></a> </li> <li> <a class=\"naver-splugin bt_share\" data-band-url=\"https://search.naver.com/search.naver?query=%EC%B4%88%EB%AF%B8%EC%84%B8%EB%A8%BC%EC%A7%80&amp;sm=bdp_pin&amp;start=991&amp;where=post&amp;where=post\" data-blog-url=\"https://search.naver.com/search.naver?query=%EC%B4%88%EB%AF%B8%EC%84%B8%EB%A8%BC%EC%A7%80&amp;sm=svc_pin.blog&amp;start=991&amp;where=post&amp;where=post\" data-cafe-source-form=\"2\" data-cafe-url=\"https://search.naver.com/search.naver?query=%EC%B4%88%EB%AF%B8%EC%84%B8%EB%A8%BC%EC%A7%80&amp;sm=svc_pin.cafe&amp;start=991&amp;where=post&amp;where=post\" data-calendar-url=\"https://search.naver.com/search.naver?query=%EC%B4%88%EB%AF%B8%EC%84%B8%EB%A8%BC%EC%A7%80&amp;sm=svc_pin.cal&amp;start=991&amp;where=post&amp;where=post\" data-evkey=\"search\" data-facebook-url=\"https://search.naver.com/search.naver?query=%EC%B4%88%EB%AF%B8%EC%84%B8%EB%A8%BC%EC%A7%80&amp;sm=fbp_pin&amp;start=991&amp;where=post&amp;where=post\" data-mail-display=\"off\" data-me-display=\"off\" data-memo-url=\"https://search.naver.com/search.naver?query=%EC%B4%88%EB%AF%B8%EC%84%B8%EB%A8%BC%EC%A7%80&amp;sm=svc_pin.memo&amp;start=991&amp;where=post&amp;where=post\" data-option=\"{baseElement:'spiButton2', layerPosition:'outside-bottom', align:'right', top:4, left:0, marginLeft:8, marginTop:10}\" data-service-name=\"통합검색\" data-style=\"standard\" data-twitter-url=\"https://search.naver.com/search.naver?query=%EC%B4%88%EB%AF%B8%EC%84%B8%EB%A8%BC%EC%A7%80&amp;sm=twp_pin&amp;start=991&amp;where=post&amp;where=post\" href=\"#\" id=\"spiButton2\" onclick=\"return tCR('a=fno.pplugin');\" title=\"보내기 열기/닫기\"><span class=\"spim naver-splugin-c ico_share\"></span><span class=\"blind\">보내기</span></a> </li> </ul> </div><script type=\"text/javascript\"> nx_js_defer_load(\"https://ssl.pstatic.net/spi/js/release/ko_KR/splugin.js?\" + headerfooter_time_year_s + headerfooter_time_month_s + headerfooter_time_day_s, function() { g_nx_splugin = SocialPlugIn_Core({ \"evKey\" : \"search\", \"serviceName\" : \"블로그검색\" }) ; }, 150) ; function splugin_oninitialize(sTargetId) { var elTarget = document.getElementById(sTargetId) ; var sUrl = $$.getSingle('a._sp_each_url', elTarget ).href ; var sTitle = $Element($$.getSingle('._sp_each_title', elTarget)).text() ; var sSource = $Element($$.getSingle('._sp_each_source', elTarget)) ; if (sSource) sSource = sSource.text() ; return { \"url\" : sUrl, \"title\" : sTitle, \"option\" : {baseElement:sTargetId + '_base', layerPosition:'outside-bottom', align:'right', top:18, left:-28, marginLeft:8, marginTop:10}, \"me\" : { display : \"off\" }, \"mail\" : { display : \"off\" }, \"sourceName\" : sSource } ; } </script><script> nx_js_defer_load(\"//search.like.naver.com/static/js/likeIt.list.js?\" + headerfooter_time_year_s + headerfooter_time_month_s + headerfooter_time_day_s, function() { nhn.LikeIt.list.util.init({ sId : \"SEARCH\", sDomain : \"//search.like.naver.com\", bMobile : false }) ; }, 150) ; </script></div> </div><script type=\"text/javascript\"> naver.search.option = {} ; naver.search.option.mson = 0 ; naver.search.option.params = {} ; naver.search.option.append_params = (function () { return function (f) { for (var k in naver.search.option.params) { var v = naver.search.option.params[k] ; var input = document.createElement(\"input\"); input.type = \"hidden\"; input.name = k ; input.value = v ; f.appendChild(input); } return true ; } ; })() ; naver.search.option.get_params = (function () { return function () { var option_params = \"\" ; if (naver.search.option.mson) { for (var k in naver.search.option.params) { var v = naver.search.option.params[k] ; option_params = option_params.concat(\"&\" + k + \"=\" + urlencode(v)) ; } } return option_params ; } ; })() ; function nx_set_option_switch (on) { var o_on = $Element(\"nx_option_mson\") ; var o_off = $Element(\"nx_option_msoff\") ; var ton ; var toff ; var domain = \"search.naver.com\" ; if (on) { ton = o_on ; toff = o_off ; naver.search.option.mson = 1 ; naver.search.option.params[\"mson\"] = 1 ; nx_set_cookie(\"nx_mson\", 1, null, domain) ; } else { ton = o_off ; toff = o_on ; naver.search.option.mson = 0 ; delete naver.search.option.params[\"mson\"] ; nx_set_cookie(\"nx_mson\", \"\", new Date(new Date().getTime() - 86400), domain) ; } if (!ton.hasClass(\"on\")) { ton.html(ton.text() + '<span class=\"blind\">(선택됨)</span>') ; ton.addClass(\"on\") ; } if (toff.hasClass(\"on\")) { var c = toff.child()[0] ; if (c) toff.remove(c) ; toff.removeClass(\"on\") ; } } </script><div id=\"snb\" style=\"display:none;\"> <div class=\"snb_inner\"> <ul class=\"option_menu\"><li class=\"menu\"> <a class=\"m\" href=\"#\" onclick=\"return tCR('a=fno.sortlink');\">정렬<span class=\"spim\"></span></a> <div class=\"snb_itembox\"> <iframe frameborder=\"0\" style=\"display:none;display:block\\9;display:block\\0/;position:absolute;top:-1px;left:-1px;z-index:-1;width:100%;height:100%;padding:1px;filter:alpha(opacity=0);opacity:0\" title=\"빈프레임\"></iframe> <ul class=\"lst_choice\"> <li class=\"selected\"><a href=\"#\" onclick=\"submit_sort_option('sim'); return false;\">관련도순<span class=\"blind\">선택됨</span></a></li> <li><a href=\"#\" onclick=\"submit_sort_option('date'); return false;\">최신순</a></li> </ul> </div> </li> <li class=\"menu\"> <a class=\"m\" href=\"#\" onclick=\"return tCR('a=fno.datelink');\">기간<span class=\"spim\"></span></a> <div class=\"snb_itembox\" id=\"_nx_option_date\"> <iframe frameborder=\"0\" style=\"display:none;display:block\\9;display:block\\0/;position:absolute;top:-1px;left:-1px;z-index:-1;width:100%;height:100%;padding:1px;filter:alpha(opacity=0);opacity:0\" title=\"빈프레임\"></iframe> <ul class=\"lst_choice\"> <li class=\"selected\"><a class=\"_btn\" href=\"#\" onclick=\"submit_date_option('all'); return false;\" title=\"2003.05.20 이후\">전체<span class=\"blind\">선택됨</span></a></li> <li><a class=\"_btn\" href=\"#\" onclick=\"submit_date_option('1day'); return false;\">1일</a></li> <li><a class=\"_btn\" href=\"#\" onclick=\"submit_date_option('1week'); return false;\">1주</a></li> <li><a class=\"_btn\" href=\"#\" onclick=\"submit_date_option('1month'); return false;\">1개월</a></li> <li><a class=\"_btn\" href=\"#\" onclick=\"submit_date_option('6month'); return false;\">6개월</a></li> <li><a class=\"_btn\" href=\"#\" onclick=\"submit_date_option('1year'); return false;\">1년</a></li> </ul> <div class=\"item_option set_calendar\"> <p class=\"tit\">직접입력</p> <div class=\"input_box _input_box_start\"> <input class=\"input_txt _input_start\" id=\"blog_input_period_begin\" maxlength=\"10\" title=\"검색기간 시작일\" type=\"text\" value=\"\"/> <a class=\"spim _btn_start\" href=\"#\" id=\"blog_btn_prod_from\" onclick=\"return tCR('a=fno.datecalenderopen');\">달력 레이어 호출</a> </div> <div class=\"input_box _input_box_end\"> <input class=\"input_txt _input_end\" id=\"blog_input_period_end\" maxlength=\"10\" title=\"검색기간 종료일\" type=\"text\" value=\"\"/> <a class=\"spim _btn_end\" href=\"#\" id=\"blog_btn_prod_to\" onclick=\"return tCR('a=fno.datecalenderopen');\">달력 레이어 호출</a> </div> <div class=\"ly_option_alert _alert_layer\" style=\"display:none;\">잘못된 날짜형식입니다.<br/> <em>(yyyy.mm.dd)</em><span class=\"spim arrow\" style=\"left: 105px;\"></span></div> <span class=\"btn_inp\"> <button class=\"_btn_submit\" type=\"button\"><span class=\"tx\">적용하기</span></button> </span> </div> <div class=\"op_calendar _date_option_calendar_layer\"> <div class=\"h_cal\"> <strong class=\"calendar-title\"></strong> <a class=\"bt_pv2 calendar-btn-prev-year\" href=\"#\" onclick=\"return tCR('a=fno.datecalendercheck');\"><span>이전 년도</span></a> <a class=\"bt_pv calendar-btn-prev-mon\" href=\"#\" onclick=\"return tCR('a=fno.datecalendercheck');\"><span>이전 달</span></a> <a class=\"bt_nx calendar-btn-next-mon\" href=\"#\" onclick=\"return tCR('a=fno.datecalendercheck');\"><span>다음 달</span></a> <a class=\"bt_nx2 calendar-btn-next-year\" href=\"#\" onclick=\"return tCR('a=fno.datecalendercheck');\"><span>다음 년도</span></a> </div> <div class=\"cal_date\"> <table cellpadding=\"0\" cellspacing=\"0\"> <caption class=\"blind\">기간 설정 달력</caption> <thead> <tr> <th scope=\"col\">일</th> <th scope=\"col\">월</th> <th scope=\"col\">화</th> <th scope=\"col\">수</th> <th scope=\"col\">목</th> <th scope=\"col\">금</th> <th scope=\"col\">토</th> </tr> </thead> <tbody> <tr class=\"calendar-week\"> <td><a class=\"calendar-date\" href=\"#\" onclick=\"return tCR('a=fno.datecalendercheck');\"></a></td> <td><a class=\"calendar-date\" href=\"#\" onclick=\"return tCR('a=fno.datecalendercheck');\"></a></td> <td><a class=\"calendar-date\" href=\"#\" onclick=\"return tCR('a=fno.datecalendercheck');\"></a></td> <td><a class=\"calendar-date\" href=\"#\" onclick=\"return tCR('a=fno.datecalendercheck');\"></a></td> <td><a class=\"calendar-date\" href=\"#\" onclick=\"return tCR('a=fno.datecalendercheck');\"></a></td> <td><a class=\"calendar-date\" href=\"#\" onclick=\"return tCR('a=fno.datecalendercheck');\"></a></td> <td><a class=\"calendar-date\" href=\"#\" onclick=\"return tCR('a=fno.datecalendercheck');\"></a></td> </tr> </tbody> </table> </div> <p class=\"today _footer\"> <span>오늘날짜</span> <a class=\"_today\" href=\"#\" onclick=\"return tCR('a=fno.datecalendertoday');\"></a> </p> <a class=\"ly_close _close\" href=\"#\" onclick=\"return tCR('a=fno.datecalenderclose');\"> <img alt=\"닫기\" height=\"11\" src=\"https://ssl.pstatic.net/sstatic//keypage/lifesrch/sports/img2010/bt_ly_close.gif\" width=\"11\"/> </a> </div> </div> </li> <li class=\"menu\"> <a class=\"m\" href=\"#\" onclick=\"return tCR('a=fno.alink');\">영역<span class=\"spim\"></span></a> <div class=\"snb_itembox\"> <iframe frameborder=\"0\" style=\"display:none;display:block\\9;display:block\\0/;position:absolute;top:-1px;left:-1px;z-index:-1;width:100%;height:100%;padding:1px;filter:alpha(opacity=0);opacity:0\" title=\"빈프레임\"></iframe> <ul class=\"lst_choice\"> <li class=\"selected\"><a href=\"#\" onclick=\"submit_srchby_option('all'); return false;\">전체<span class=\"blind\">선택됨</span></a></li> <li><a href=\"#\" onclick=\"submit_srchby_option('title'); return false;\">제목</a></li> </ul> </div> </li> <li class=\"menu\"> <a class=\"m\" href=\"#\" onclick=\"return tCR('a=fno.biolink');\">유사문서<span class=\"spim\"></span></a> <div class=\"snb_itembox\"> <iframe frameborder=\"0\" style=\"display:none;display:block\\9;display:block\\0/;position:absolute;top:-1px;left:-1px;z-index:-1;width:100%;height:100%;padding:1px;filter:alpha(opacity=0);opacity:0\" title=\"빈프레임\"></iframe> <ul class=\"lst_choice\"> <li class=\"selected\"><a href=\"#\" onclick=\"submit_dup_option(1); return false;\">제외<span class=\"blind\">선택됨</span></a></li> <li><a href=\"#\" onclick=\"submit_dup_option(0); return false;\">포함</a></li> </ul> </div> </li> <li class=\"menu\"> <a class=\"m\" href=\"#\" onclick=\"return tCR('a=fno.srclink');\">출처<span class=\"spim\"></span></a> <div class=\"snb_itembox\" style=\"width:180px\"> <iframe frameborder=\"0\" style=\"display:none;display:block\\9;display:block\\0/;position:absolute;top:-1px;left:-1px;z-index:-1;width:100%;height:100%;padding:1px;filter:alpha(opacity=0);opacity:0\" title=\"빈프레임\"></iframe> <a class=\"tit_txt selected\" href=\"#\" onclick=\"submit_origin_option('all'); return false;\">전체</a> <div class=\"item_option url_info\"> <div class=\"info_choice\"> <p class=\"title_txt\">출처선택<a class=\"spim ico_q\" href=\"#\" onclick=\"onClickSrcHelp(); return false;\">출처선택 도움말</a></p> <ul class=\"data_info _src_radio\"> <li><input checked=\"\" class=\"incr\" id=\"url_sort\" name=\"gurl\" onclick=\"tCR('a=fno.srcinclude');\" type=\"radio\"/><label for=\"url_sort\">특정출처만 검색</label></li> <li><input class=\"incr\" id=\"url_res\" name=\"gurl\" onclick=\"tCR('a=fno.srcexclude');\" type=\"radio\"/><label for=\"url_res\">특정출처 제외 검색</label></li> </ul> </div> <div class=\"input_box\"> <input class=\"input_txt\" id=\"src_input\" maxlength=\"80\" onkeydown=\"return onEnterSrc(event);\" title=\"출처 URL입력\" type=\"text\" value=\"\"/> </div> <span class=\"btn_inp\"> <button onclick=\"submit_origin_option(''); return false;\" type=\"button\"> <span class=\"tx\">적용하기</span> </button> </span> <p class=\"noti_tx _src_addr\" style=\"display:none;\">주소를 입력해 주세요.</p> <div class=\"tx_area _src_help\" style=\"display:none;\"> <p class=\"tx_noti\">제한해서 보고 싶거나 결과에서 빼고 싶은 블로그 / 도메인 URL을 입력하세요 <em>예) blog.naver.com/abcdef,blog.naver.com,egloos.com</em></p> </div> </div> </div> </li> <li class=\"option_keep\"> <div class=\"option_choice\"> 옵션유지 <span class=\"option\"> <button id=\"nx_option_msoff\" onclick=\"blog_mson_value_switch(0); nx_set_option_switch(false); return tCR('a=fno.msoff');\" type=\"button\">꺼짐</button><button id=\"nx_option_mson\" onclick=\"blog_mson_value_switch(1); nx_set_option_switch(true); return tCR('a=fno.mson');\" type=\"button\">켜짐</button> </span> <span class=\"bar\"></span> </div> </li>\n",
       "<li class=\"menu\"> <a class=\"m\" href=\"#\" onclick=\"return tCR('a=fno.dtslink');\">상세검색<span class=\"spim\"></span></a> <div class=\"snb_itembox ly_detailsch\" id=\"_nx_option_detail\"> <iframe frameborder=\"0\" style=\"display:none;display:block\\9;display:block\\0/;position:absolute;top:-1px;left:-1px;z-index:-1;width:100%;height:100%;padding:1px;filter:alpha(opacity=0);opacity:0\" title=\"빈프레임\"></iframe> <div class=\"sch_inner\"> <div class=\"sctitle_txt scroll _preview\"></div> <div class=\"sch_data\"> <dl class=\"sch_option\"> <dt>기본검색</dt> <dd> <div class=\"inp_op\"><input class=\"_base\" title=\"기본검색어 입력\" type=\"text\"/></div> <p class=\"rule_check\"><input class=\"incr _or\" id=\"rch\" onclick=\"tCR('a=fno.dtsors');\" type=\"checkbox\"/><label for=\"rch\">입력한 단어가 하나이상 포함된 문서 검색</label></p> </dd> </dl> <dl class=\"sch_option more_sch\"> <dt>상세검색</dt> <dd> <div class=\"inp_op\"><input class=\"_exact\" id=\"inpop1\" type=\"text\"/><label class=\"_placeholder_exact\" for=\"inpop1\">정확히 일치하는 단어/문장(\" \")</label></div> <div class=\"inp_op\"><input class=\"_include\" id=\"inpop2\" type=\"text\"/><label class=\"_placeholder_include\" for=\"inpop2\">반드시 포함하는 단어(+)</label></div> <div class=\"inp_op\"><input class=\"_exclude\" id=\"inpop3\" type=\"text\"/><label class=\"_placeholder_exclude\" for=\"inpop3\">제외하는 단어(-)</label></div> <div class=\"tx_area\"> <p class=\"tx_noti\">기본검색의 결과 범위를 줄이고자 할 때 사용합니다.<br/>여러개의 단어를 입력하실 때는<span class=\"tx\">쉼표(,)</span>로 구분해서 입력하세요.</p> </div> </dd> </dl> </div> <div class=\"sch_foot\"> <a class=\"btn_help\" href=\"https://help.naver.com/support/alias/search/integration/integration_4.naver\" onclick=\"window.open(this.href, '_blank'); return tCR('u='+urlencode(this.href)+'&amp;a=fno.dtshelp');\">도움말</a> <a class=\"btn_initial _reset\" href=\"#\" onclick=\"return tCR('a=fno.dtsclear');\">초기화</a> <button class=\"btn_ft ty_green _search\" onclick=\"return tCR('a=fno.dtssrch');\"><span>검색</span></button><button class=\"btn_ft _close\" onclick=\"return tCR('a=fno.dtsclose');\"><span>닫기</span></button> </div> </div> </div> </li></ul> </div> </div> <script type=\"text/javascript\"> /* 검색옵션 모듈 생성 */ var oNXSearchOption = new nhn.SearchOption($('_search_option_btn'), $('snb'), {open:false}); </script><script> /* 검색옵션 - 상세검색 - !!상세 옵션이 있는 탭에서만 생성해주세요. */ new nhn.SearchOption.Detail( $(\"_nx_option_detail\"), { s_base: \"초미세먼지\", b_or: false, a_exact: [], a_include: [], a_exclude: [] } ); </script><script type=\"text/javascript\"> $Fn(function (we) { var el = we.element, elLnbMore = $(\"_nx_lnb_more\"); if (el != elLnbMore && !$Element(elLnbMore).isParentOf(el)) { $Element('_nx_lnb_more').removeClass('more_on'); } }).attach(document, \"click\"); </script></div><script type=\"text/javascript\"> var nx_location_country = \"KR\" ; var nx_location_region = \"\" ; var nx_location_city = \"\" ; var nx_location_hcode = \"4315056000\" ; var nx_location_rcode = \"16150112\" ; var nx_location_r1 = \"충청북도\" ; var nx_location_r2 = \"제천시\" ; var nx_location_r3 = \"신월동\" ; </script><div id=\"container\" role=\"main\"> <div class=\"pack_group\" id=\"content\"> <h1 class=\"blind\">OOO 검색결과 시작</h1> <div class=\"main_pack\" id=\"main_pack\"><script type=\"text/javascript\">var nx_cr_area_info=[{ n:\"tab\",r:1 }];</script><div class=\"sp_keyword section\" id=\"nx_related_keywords\"> <dl class=\"relate_area\"> <dt><span class=\"tit_relate\">연관검색어</span><a class=\"spkw ico_help\" href=\"https://help.naver.com/support/alias/search/word/word_1.naver\" onclick=\"return goOtherCR(this, 'a=rsk.guide&amp;r=&amp;i=&amp;u='+urlencode(urlexpand(this.href)));\" target=\"_blank\" title=\"새창\"><span class=\"blind\">도움말</span></a></dt> <dd class=\"lst_relate\"> <ul> <li> <a data-area=\"*q\" data-idx=\"1\" href=\"?where=post&amp;query=%EC%9D%B8%EC%B2%9C+%EB%AF%B8%EC%84%B8%EB%A8%BC%EC%A7%80&amp;ie=utf8&amp;sm=tab_she&amp;qdt=0\">인천 미세먼지</a> </li> <li> <a data-area=\"*q\" data-idx=\"2\" href=\"?where=post&amp;query=%EC%98%A4%EB%8A%98+%EC%9D%B8%EC%B2%9C+%EB%AF%B8%EC%84%B8%EB%A8%BC%EC%A7%80&amp;ie=utf8&amp;sm=tab_she&amp;qdt=0\">오늘 인천 미세먼지</a> </li> <li> <a data-area=\"*q\" data-idx=\"3\" href=\"?where=post&amp;query=%EA%B4%91%EC%A3%BC+%EB%AF%B8%EC%84%B8%EB%A8%BC%EC%A7%80&amp;ie=utf8&amp;sm=tab_she&amp;qdt=0\">광주 미세먼지</a> </li> <li> <a data-area=\"*q\" data-idx=\"4\" href=\"?where=post&amp;query=%ED%98%84%EC%9E%AC%EB%AF%B8%EC%84%B8%EB%A8%BC%EC%A7%80%EB%86%8D%EB%8F%84&amp;ie=utf8&amp;sm=tab_she&amp;qdt=0\">현재미세먼지농도</a> </li> <li> <a data-area=\"*q\" data-idx=\"5\" href=\"?where=post&amp;query=%EC%A0%84%EA%B5%AD+%EC%B4%88%EB%AF%B8%EC%84%B8%EB%A8%BC%EC%A7%80&amp;ie=utf8&amp;sm=tab_she&amp;qdt=0\">전국 초미세먼지</a> </li> <li> <a data-area=\"*q\" data-idx=\"6\" href=\"?where=post&amp;query=%EC%98%A4%EB%8A%98+%EC%84%9C%EC%9A%B8+%EB%AF%B8%EC%84%B8%EB%A8%BC%EC%A7%80+%EB%86%8D%EB%8F%84&amp;ie=utf8&amp;sm=tab_she&amp;qdt=0\">오늘 서울 미세먼지 농도</a> </li> <li> <a data-area=\"*q\" data-idx=\"7\" href=\"?where=post&amp;query=%EC%A4%91%EA%B5%AD+%EC%8A%A4%EB%AA%A8%EA%B7%B8&amp;ie=utf8&amp;sm=tab_she&amp;qdt=0\">중국 스모그</a> </li> <li> <a data-area=\"*q\" data-idx=\"8\" href=\"?where=post&amp;query=%EC%98%A4%EB%8A%98+%EC%B4%88%EB%AF%B8%EC%84%B8%EB%A8%BC%EC%A7%80+%EB%86%8D%EB%8F%84&amp;ie=utf8&amp;sm=tab_she&amp;qdt=0\">오늘 초미세먼지 농도</a> </li> <li> <a data-area=\"*q\" data-idx=\"9\" href=\"?where=post&amp;query=%EC%B4%88%EB%AF%B8%EC%84%B8%EB%A8%BC%EC%A7%80+%EA%B8%B0%EC%A4%80&amp;ie=utf8&amp;sm=tab_she&amp;qdt=0\">초미세먼지 기준</a> </li> <li> <a data-area=\"*q\" data-idx=\"10\" href=\"?where=post&amp;query=%EC%A3%BC%EB%A7%90+%EB%AF%B8%EC%84%B8%EB%A8%BC%EC%A7%80&amp;ie=utf8&amp;sm=tab_she&amp;qdt=0\">주말 미세먼지</a> </li> <li> <a data-area=\"*q\" data-idx=\"11\" href=\"?where=post&amp;query=%EC%9A%B8%EC%82%B0+%EB%AF%B8%EC%84%B8%EB%A8%BC%EC%A7%80&amp;ie=utf8&amp;sm=tab_she&amp;qdt=0\">울산 미세먼지</a> </li> <li> <a data-area=\"*q\" data-idx=\"12\" href=\"?where=post&amp;query=%EB%82%B4%EC%9D%BC+%EB%AF%B8%EC%84%B8%EB%A8%BC%EC%A7%80&amp;ie=utf8&amp;sm=tab_she&amp;qdt=0\">내일 미세먼지</a> </li> <li> <a data-area=\"*q\" data-idx=\"13\" href=\"?where=post&amp;query=%EB%AF%B8%EC%84%B8%EB%A8%BC%EC%A7%80+%EC%A4%91%EA%B5%AD&amp;ie=utf8&amp;sm=tab_she&amp;qdt=0\">미세먼지 중국</a> </li> <li> <a data-area=\"*q\" data-idx=\"14\" href=\"?where=post&amp;query=%EC%A3%BC%EB%A7%90%EB%82%A0%EC%94%A8&amp;ie=utf8&amp;sm=tab_she&amp;qdt=0\">주말날씨</a> </li> <li> <a data-area=\"*q\" data-idx=\"15\" href=\"?where=post&amp;query=ytn+%EB%82%A0%EC%94%A8&amp;ie=utf8&amp;sm=tab_she&amp;qdt=0\">ytn 날씨</a> </li> <li> <a data-area=\"*q\" data-idx=\"16\" href=\"?where=post&amp;query=%EC%B4%88%EB%AF%B8%EC%84%B8%EB%A8%BC%EC%A7%80+%EB%A7%88%EC%8A%A4%ED%81%AC&amp;ie=utf8&amp;sm=tab_she&amp;qdt=0\">초미세먼지 마스크</a> </li> <li> <a data-area=\"*d\" data-idx=\"17\" href=\"?where=post&amp;query=%EC%84%9C%EC%9A%B8+%EC%B4%88%EB%AF%B8%EC%84%B8%EB%A8%BC%EC%A7%80&amp;ie=utf8&amp;sm=tab_she&amp;qdt=0\">서울 초미세먼지</a> </li> <li> <a data-area=\"*d\" data-idx=\"18\" href=\"?where=post&amp;query=%EC%A4%91%EA%B5%AD+%EC%B4%88%EB%AF%B8%EC%84%B8%EB%A8%BC%EC%A7%80&amp;ie=utf8&amp;sm=tab_she&amp;qdt=0\">중국 초미세먼지</a> </li> <li> <a data-area=\"*d\" data-idx=\"19\" href=\"?where=post&amp;query=%EB%B6%80%EC%82%B0+%EC%B4%88%EB%AF%B8%EC%84%B8%EB%A8%BC%EC%A7%80&amp;ie=utf8&amp;sm=tab_she&amp;qdt=0\">부산 초미세먼지</a> </li> <li> <a data-area=\"*d\" data-idx=\"20\" href=\"?where=post&amp;query=%EB%8C%80%EA%B5%AC+%EC%B4%88%EB%AF%B8%EC%84%B8%EB%A8%BC%EC%A7%80&amp;ie=utf8&amp;sm=tab_she&amp;qdt=0\">대구 초미세먼지</a> </li> </ul> </dd> <dd class=\"closed\" style=\"display:none\"> 닫기 후 1주일간 유지됩니다. 연관검색어를 다시 보시겠습니까? <a class=\"open\" href=\"#\" onclick=\"return false;\" role=\"button\">열기</a></dd> </dl> <div class=\"ly_option\"> <a class=\"btn_more\" href=\"#\" onclick=\"return false;\" role=\"button\" style=\"display:none;\"><span class=\"unfold\">더보기<span class=\"spkw ico_darr\"></span></span><span class=\"fold\">접기<span class=\"spkw ico_uarr\"></span></span></a><a class=\"btn_report\" href=\"https://help.naver.com/support/alias/search/word/word_2.naver\" onclick=\"return goOtherCR(this, 'a=rsk.report&amp;r=&amp;i=&amp;u='+urlencode(urlexpand(this.href)));\" target=\"_blank\">신고</a><a class=\"btn_close\" href=\"#\" onclick=\"return false;\" role=\"button\"><span class=\"spkw\">검색어제안 기능 닫기</span></a> </div> </div> <script type=\"text/javascript\"> (function() { var elRoot = $Element(\"nx_related_keywords\"); var elKs = $Element(elRoot.query(\"> dl > dd.lst_relate\")); var btnMore = $Element(elRoot.query(\"> div.ly_option > a.btn_more\")); var cr = \"rsk\"; var ck = \"qre\"; var cookie = $Cookie(); var sectionWidth = document.getElementById(\"nx_related_keywords\").offsetWidth; function init() { elKs.hide(); if(cookie.get(ck)) show_list(false); else show_list(true); } function rearrange_list() { var eD = $Element(elRoot.query(\"> dl\")); var c = \"relate_area_v1\"; var h1, h2; h1 = $Element(elKs.query(\"> ul\")); h2 = h1.last(); if (h2.offset().top - h1.offset().top < 50) { btnMore.hide(); eD.addClass(c); } else { btnMore.show(); eD.removeClass(c); } } function show_list(doOpen){ var eC = $Element(elRoot.query(\"> dl > dd.closed\")); var eO = $Element(elRoot.query(\"> div.ly_option\")); if (doOpen) { elKs.show(); eC.hide(); eO.show(); } else { elKs.hide(); eC.show(); eO.hide(); } } $Fn(function(e){ var lg, d; if($Element(e.currentElement).hasClass(\"open\")) { lg = cr+\".1unfold\"; show_list(true); rearrange_list(); cookie.remove(ck, nx_au_cookie_domain); } else { lg = cr+\".1fold\"; show_list(false); d = new Date(); d.setDate(d.getDate() + 7); cookie.set(ck, 1, d, nx_au_cookie_domain); } return tCR(lg, 1, \"\"); }).attach([$Element(elRoot.query(\"> div.ly_option > a.btn_close\")),$Element(elRoot.query(\"> dl > dd.closed > a\"))], \"click\"); $Fn(function(){ var lg = cr+\".list1more\"; if(elRoot.hasClass(\"unfold\")) lg = cr+\".list1close\"; elRoot.toggleClass(\"unfold\") ; return tCR(lg, 1, \"\"); }).attach(btnMore, \"click\"); $Fn(function(e){ var oThis = e.currentElement; var eT = $Element(oThis); return goOtherCR(oThis, 'a='+cr+eT.attr(\"data-area\")+'.list1&r='+eT.attr(\"data-idx\")+'&i=&u='+urlencode(oThis.href)); }).attach(elKs.queryAll(\"> ul > li > a\"), \"click\"); $Fn(function(){ var curSectionWidth = document.getElementById(\"nx_related_keywords\").offsetWidth; if (curSectionWidth != sectionWidth){ sectionWidth = curSectionWidth; rearrange_list(); } }).attach(window, \"resize\"); $Fn(function(){ rearrange_list(); }).attach(window, \"load\"); init(); }) (); </script> <script type=\"text/javascript\">\n",
       "  if (typeof NAVER === \"undefined\") {\n",
       "    NAVER = {};\n",
       "  }\n",
       "  if (typeof NAVER.SEARCH_AD === \"undefined\") {\n",
       "    NAVER.SEARCH_AD = {};\n",
       "  }\n",
       "  NAVER.SEARCH_AD.showTooltip = function (element) {\n",
       "      var parentElement = $Element(element).parent();\n",
       "      var timerAttribute = parentElement.attr(\"data-timer\");\n",
       "      if (timerAttribute) {\n",
       "          clearTimeout(timerAttribute);\n",
       "          parentElement.attr(\"data-timer\", \"\");\n",
       "      }\n",
       "      var tooltipElement = $Element(parentElement.query(\"._tooltip\"));\n",
       "      tooltipElement.css(\"display\", \"inline\");\n",
       "  };\n",
       "  NAVER.SEARCH_AD.hideTooltip = function (element) {\n",
       "      var parentElement = $Element(element).parent();\n",
       "      if (!parentElement.attr(\"data-timer\")) {\n",
       "          var timer = setTimeout(function () {\n",
       "              var tooltipElement = $Element(parentElement.query(\"._tooltip\"));\n",
       "              tooltipElement.css(\"display\", \"none\");\n",
       "          }, 100);\n",
       "          parentElement.attr(\"data-timer\", timer);\n",
       "      }\n",
       "  };\n",
       "\n",
       "  var _elAdIndLayerTab = null;\n",
       "  var _elAdIndLayerTimeTab;\n",
       "  var _elDscNcautionTab = null;\n",
       "\n",
       "  function adInfoShowTab(el) {\n",
       "    if (_elAdIndLayerTab) {\n",
       "      adInfoHideTab();\n",
       "      return false;\n",
       "    } else {\n",
       "      if (!_elDscNcautionTab) {\n",
       "        _elDscNcautionTab = $Element(el).parent();\n",
       "      }\n",
       "      _elDscNcautionTab._element.style.zIndex = 121;\n",
       "      _elAdIndLayerTab = $Element(el).next();\n",
       "      _elAdIndLayerTab.show();\n",
       "      _elAdIndLayerTimeTab = (new Date()).getTime();\n",
       "      return true;\n",
       "    }\n",
       "  }\n",
       "\n",
       "  function adInfoHideTab() {\n",
       "    if (_elAdIndLayerTab) {\n",
       "      if (_elDscNcautionTab) {\n",
       "        _elDscNcautionTab._element.style.zIndex = 0;\n",
       "      }\n",
       "      _elAdIndLayerTab.hide();\n",
       "      _elAdIndLayerTab = null;\n",
       "    }\n",
       "  }\n",
       "\n",
       "  function adInfoHideClickEventHandlerTab(e) {\n",
       "    if (_elAdIndLayerTimeTab + 200 < (new Date()).getTime()) adInfoHideTab();\n",
       "  }\n",
       "\n",
       "  document.body[window.addEventListener ? 'addEventListener' : 'attachEvent'](window.addEventListener ? \"click\" : \"onclick\", adInfoHideClickEventHandlerTab, false);\n",
       "</script>\n",
       "<link href=\"https://ssl.pstatic.net/sstatic/search/sa/170109/css/sa.css\" rel=\"stylesheet\" type=\"text/css\">\n",
       "<div class=\"ad_section ad_tab_section section bg_type_v2\">\n",
       "<div class=\"section_head\"><h2>파워링크</h2>\n",
       "<div class=\"dsc_ncaution\"><em>‘<strong>초미세먼지</strong>’</em> 관련 광고입니다.\n",
       "      <a class=\"ico_ad_dsc\" href=\"javascript:void(0);\" onclick=\"if(adInfoShowTab(this)) goOtherCR(this, 'a=tsa.adset&amp;r=0&amp;i=tsaadset&amp;u='+urlencode(this.href));\" title=\"이 광고가 표시된 이유\">이 광고가 표시된 이유</a>\n",
       "<div class=\"ly_ad_dsc\" onclick=\"adInfoHideTab();\" style=\"display:none\"><span class=\"ico_arr\"> </span>\n",
       "<p>광고 노출기준은 검색어에 대한 연관성과 광고주의 입찰가입니다.</p>\n",
       "<button class=\"bt_ad_clse\" title=\"안내 레이어 닫기\" type=\"button\">안내 레이어 닫기</button>\n",
       "</div>\n",
       "</div>\n",
       "<a class=\"go_register space\" href=\"//saedu.naver.com/adbiz/searchad/intro.nhn\" onclick=\"return goOtherCR(this, 'a=tsa.registration&amp;r=0&amp;i=tsaregistration&amp;u='+urlencode(this.href));\" target=\"_blank\">등록 안내</a>\n",
       "</div>\n",
       "<div class=\"ad_area nx_power\">\n",
       "<ul class=\"lst_type\">\n",
       "<li class=\"lst lst1\" onmouseout=\"jindo.$Element(this).removeClass('ad_hover');\" onmouseover=\"jindo.$Element(this).addClass('ad_hover');\">\n",
       "<div class=\"inner\">\n",
       "<a class=\"lnk_tit\" href=\"https://adcr.naver.com/adcr?x=PU70uevVX0gl1SorJZS+Zv///w==k7eR0Tv9lhaQCqSGSIQ2UndRfTKzUtz+RgslNMnK2jkQv7hjviFPh822Jd1wt8wp+gx8BDAvqW+BmAg50pImjwHiLCEGioa9gz1ifrHQgo6aZRj1TZdQOtv0neagLOiMDS3PvCcYTdJpF1lZdKwF2uiA5mwJd+hwHDBl80gali8cCLAcqzUFAwutCKTIznN1mav2F/5dLU+jumNSCG7EP8Oc18cji3zMik1tLUSg5Er7jM4yNjok54eX0YwhEbbVVlMhn32S62Ql6pm2yti3pn5nxANI2Hofrvw1paF5YxcRedmZYfUN8vyskjMWTzjdKX/fbuPAVvB/3KmgpGhy8kvFfeouKbSB1WtoFgfYBF8uOeQINQ5hn3Eg3O10hCcMQ8QXi7r22msbfP38vlIHZSnL+IdMFGswaabPhvl8fft8aT2YXh92oWTgIOMijb85LJGdaMQE4bAmPyl7DvWwX0+R33DbEJezq1F9VZUZGXMyadxfOzMrQ1NURMDSXxiZAPxjMousRv/CeiBzwtOonISYgey2Zc2gn3rsE0sCJtxvPZqZlVMUp//tIfLQZFZryxJ4uvAsK+/bdvydqpsfcLmtW/M4ixYxufLIaD3++T5Mdf9wC4qKKgOHUz1h6gH54wyckbSQPsNedpzCKmLI0LQ==&amp;p=0\" onclick=\"return goOtherCR(this, 'a=tsa.tit&amp;r=1&amp;i=nad-a001-01-000000020167062&amp;d=' + urlencode('http://www.kt.com') + '&amp;u='+ urlencode(this.href));\" target=\"_blank\">KT GiGA IoT에어닥터</a>\n",
       "<a class=\"lnk_url\" href=\"https://adcr.naver.com/adcr?x=PU70uevVX0gl1SorJZS+Zv///w==k7eR0Tv9lhaQCqSGSIQ2UndRfTKzUtz+RgslNMnK2jkQv7hjviFPh822Jd1wt8wp+gx8BDAvqW+BmAg50pImjwHiLCEGioa9gz1ifrHQgo6aZRj1TZdQOtv0neagLOiMDS3PvCcYTdJpF1lZdKwF2uiA5mwJd+hwHDBl80gali8cCLAcqzUFAwutCKTIznN1mav2F/5dLU+jumNSCG7EP8Oc18cji3zMik1tLUSg5Er7jM4yNjok54eX0YwhEbbVVlMhn32S62Ql6pm2yti3pn5nxANI2Hofrvw1paF5YxcRedmZYfUN8vyskjMWTzjdKX/fbuPAVvB/3KmgpGhy8kvFfeouKbSB1WtoFgfYBF8uOeQINQ5hn3Eg3O10hCcMQ8QXi7r22msbfP38vlIHZSnL+IdMFGswaabPhvl8fft8aT2YXh92oWTgIOMijb85LJGdaMQE4bAmPyl7DvWwX0+R33DbEJezq1F9VZUZGXMyadxfOzMrQ1NURMDSXxiZAPxjMousRv/CeiBzwtOonISYgey2Zc2gn3rsE0sCJtxvPZqZlVMUp//tIfLQZFZryxJ4uvAsK+/bdvydqpsfcLmtW/M4ixYxufLIaD3++T5Mdf9wC4qKKgOHUz1h6gH54wyckbSQPsNedpzCKmLI0LQ==&amp;p=1\" onclick=\"return goOtherCR(this, 'a=tsa.url&amp;r=1&amp;i=nad-a001-01-000000020167062&amp;d='+urlencode('http://www.kt.com')+'&amp;u='+urlencode(this.href));\" target=\"_blank\">www.kt.com</a>\n",
       "<p class=\"ad_dsc\"><strong class=\"hl\">초미세먼지</strong> 측정까지 한번에! 눈으로 확인하는 공기질 정보, 실내 공기 전문 가이드</p>\n",
       "</div>\n",
       "</li>\n",
       "<li class=\"lst lst2\" onmouseout=\"jindo.$Element(this).removeClass('ad_hover');\" onmouseover=\"jindo.$Element(this).addClass('ad_hover');\">\n",
       "<div class=\"inner\">\n",
       "<a class=\"lnk_tit\" href=\"https://adcr.naver.com/adcr?x=fGT50rU1iy30CWAwJjVsv////w==kTR+I/syR0WN25j7p6/7TvX/OUe1vwe2kJ4yRLgC32lw0fjBAtPWOBR91yqzsQqF467a8i6Y8epFPcfaHDuRNRGPwOWtpvqKDNCMHzLFOg8xVm639AdGqAwlNNK4PIKo+g0XD0k9lEU92yVrei05Z/0VYYMzrLgzHRvbgPG43G6CwsHSLE1zpKUzGgiQSi5T1S0xtKPoQbLNmomoQAxfWccADwCMZS9zC/k5kgTWKcuf9YCrkbwQNg2OCjxzDW2+HaFsbINiChAMpPh9T2mLFg6tSBxdzZIk6rApkUFqHz59JftbcqNPCnwIr6uIyuXkvxlo97BEVSEFbwy+no9ruMUx1GGkM3tyAyOzVx9wLK9yxdgBkaUKHLTdw0B4fm5xFNOanYB+RAqocYyX6812Yz0Evpcss3KLeK+ktTqK29FWtOJZLh2g9ImLYPZMC9JTlviduHCwu/xwrfXPUXDNg2QEN62CJ55SiI3FA8X7jX0Hc2p22esIHctmb9zV11BSoYR7wLsFEZRnzXulDj3A9fhAz17NOlF88Ou4xixZEIcPLckjh7UhCbXxTYPZEVyFM5SmTKz3Hv5wPV/PvyyXENbZm8wEsg2jUPu4+x2VQlc9AuoPLnMnb1+UMPt0ILXG7mH/EVP6o9HTRiGpBrB+pI0JegzjJ3bEm159Ed6R1IMx4keBDTulEPmrLMm691/ek4TWpJ06OnGlnO2f65PfwJVmS91Z3SCEMjAk5vpQFO0g=&amp;p=0\" onclick=\"return goOtherCR(this, 'a=tsa.tit&amp;r=2&amp;i=nad-a001-01-000000011537254&amp;d=' + urlencode('http://www.airguardk.com') + '&amp;u='+ urlencode(this.href));\" target=\"_blank\">초미세먼지 에어가드K</a>\n",
       "<a class=\"lnk_url\" href=\"https://adcr.naver.com/adcr?x=fGT50rU1iy30CWAwJjVsv////w==kTR+I/syR0WN25j7p6/7TvX/OUe1vwe2kJ4yRLgC32lw0fjBAtPWOBR91yqzsQqF467a8i6Y8epFPcfaHDuRNRGPwOWtpvqKDNCMHzLFOg8xVm639AdGqAwlNNK4PIKo+g0XD0k9lEU92yVrei05Z/0VYYMzrLgzHRvbgPG43G6CwsHSLE1zpKUzGgiQSi5T1S0xtKPoQbLNmomoQAxfWccADwCMZS9zC/k5kgTWKcuf9YCrkbwQNg2OCjxzDW2+HaFsbINiChAMpPh9T2mLFg6tSBxdzZIk6rApkUFqHz59JftbcqNPCnwIr6uIyuXkvxlo97BEVSEFbwy+no9ruMUx1GGkM3tyAyOzVx9wLK9yxdgBkaUKHLTdw0B4fm5xFNOanYB+RAqocYyX6812Yz0Evpcss3KLeK+ktTqK29FWtOJZLh2g9ImLYPZMC9JTlviduHCwu/xwrfXPUXDNg2QEN62CJ55SiI3FA8X7jX0Hc2p22esIHctmb9zV11BSoYR7wLsFEZRnzXulDj3A9fhAz17NOlF88Ou4xixZEIcPLckjh7UhCbXxTYPZEVyFM5SmTKz3Hv5wPV/PvyyXENbZm8wEsg2jUPu4+x2VQlc9AuoPLnMnb1+UMPt0ILXG7mH/EVP6o9HTRiGpBrB+pI0JegzjJ3bEm159Ed6R1IMx4keBDTulEPmrLMm691/ek4TWpJ06OnGlnO2f65PfwJVmS91Z3SCEMjAk5vpQFO0g=&amp;p=1\" onclick=\"return goOtherCR(this, 'a=tsa.url&amp;r=2&amp;i=nad-a001-01-000000011537254&amp;d='+urlencode('http://www.airguardk.com')+'&amp;u='+urlencode(this.href));\" target=\"_blank\">www.airguardk.com</a>\n",
       "<span class=\"ico_area\">\n",
       "<span class=\"ico\">\n",
       "<span class=\"sp_ad ico_talktalk\" onblur=\"NAVER.SEARCH_AD.hideTooltip(this);\" onfocus=\"NAVER.SEARCH_AD.showTooltip(this);\" onmouseout=\"NAVER.SEARCH_AD.hideTooltip(this);\" onmouseover=\"NAVER.SEARCH_AD.showTooltip(this);\" tabindex=\"0\">네이버 톡톡</span>\n",
       "<a class=\"ly_ad _tooltip\" href=\"//talk.naver.com/intro\" onblur=\"NAVER.SEARCH_AD.hideTooltip(this);\" onclick=\"return goOtherCR(this, 'a=tsa.talktalk&amp;r=2&amp;i=nad-a001-01-000000011537254&amp;u='+urlencode(this.href));\" onfocus=\"NAVER.SEARCH_AD.showTooltip(this);\" onmouseout=\"NAVER.SEARCH_AD.hideTooltip(this);\" onmouseover=\"NAVER.SEARCH_AD.showTooltip(this);\" style=\"display:none\" target=\"_blank\">\n",
       "<span class=\"ly_box\">\n",
       "<p>네이버톡톡으로 상담이 가능한 사이트입니다.</p>\n",
       "<p class=\"ly_ad_go\"><strong>톡톡</strong> 서비스 보기<span class=\"sp_ad bu\"></span></p>\n",
       "</span>\n",
       "<span class=\"sp_ad ly_tail\"></span>\n",
       "</a>\n",
       "</span>\n",
       "</span>\n",
       "<p class=\"ad_dsc\">기상전문가 케이웨더의 공기서비스 <strong class=\"hl\">초미세먼지</strong> 전문, 실시간측정, 개선관리까지</p>\n",
       "</div>\n",
       "</li>\n",
       "<li class=\"lst lst3\" onmouseout=\"jindo.$Element(this).removeClass('ad_hover');\" onmouseover=\"jindo.$Element(this).addClass('ad_hover');\">\n",
       "<div class=\"inner\">\n",
       "<a class=\"lnk_tit\" href=\"https://adcr.naver.com/adcr?x=wF7cCLr6T6LLvQIvcm4D3////w==k96It71lAfLjkO2KGlQjl9AjbFuZqIrYKpcBaVaye+IJY5U5RFNbiBg4cA/c5SpTNU91p2VX2biynIQ+SIPTjJOG/kne6a+NiGQmLrITca6VcVdhZxol1SP7ykUW7nZwedJ19NsCwQ0tyMy8uRatJL+jxnJMC7szwXC2bDSaATo5HZOXM0x2x/cprlVX2eB5aHGPBN7I2H5Fzc/8X13IiFvkmwigXOMrxGcY8RdjiAW/TYVhbdW29p58vhzP0r8Nbb4R4owJ/nFg26uRuL31jPa3jCzkYlVsoxZ+Hc1rIrUwULbF0EzMYiRFBPzVPfbjgw1UusKQyqhyVcWHCjKwl9H0HkynIokFTpJxtzr9GaJ4In1cUn2b058qZQ7aaDxLdHyWaL1l4gOKAVvmYMFy43l+xbHO0LcGmiHcDh+YIwbBe+rf0RCY9+Z7MzM6Qz08dJmegyS9vOEGVvliR1oAd6bgEiZrP3F5uiL7fCgDog/5fYkpGQSdQjtN8ojxW/zOertyoUZP4gIjsza1dfXp2uJCaMVMtpKxBSMhMxt82f0Nan3t+HDN8jUNbwAGVCuRkmFuQNjXOdiwJECXuOIdxXab5uaN9EVZ0PXrwtCb2U8Y=&amp;p=0\" onclick=\"return goOtherCR(this, 'a=tsa.tit&amp;r=3&amp;i=nad-a001-01-000000021208399&amp;d=' + urlencode('http://storefarm.naver.com/haloair') + '&amp;u='+ urlencode(this.href));\" target=\"_blank\">초미세먼지에는 할로바이탈에어</a>\n",
       "<a class=\"lnk_url\" href=\"https://adcr.naver.com/adcr?x=wF7cCLr6T6LLvQIvcm4D3////w==k96It71lAfLjkO2KGlQjl9AjbFuZqIrYKpcBaVaye+IJY5U5RFNbiBg4cA/c5SpTNU91p2VX2biynIQ+SIPTjJOG/kne6a+NiGQmLrITca6VcVdhZxol1SP7ykUW7nZwedJ19NsCwQ0tyMy8uRatJL+jxnJMC7szwXC2bDSaATo5HZOXM0x2x/cprlVX2eB5aHGPBN7I2H5Fzc/8X13IiFvkmwigXOMrxGcY8RdjiAW/TYVhbdW29p58vhzP0r8Nbb4R4owJ/nFg26uRuL31jPa3jCzkYlVsoxZ+Hc1rIrUwULbF0EzMYiRFBPzVPfbjgw1UusKQyqhyVcWHCjKwl9H0HkynIokFTpJxtzr9GaJ4In1cUn2b058qZQ7aaDxLdHyWaL1l4gOKAVvmYMFy43l+xbHO0LcGmiHcDh+YIwbBe+rf0RCY9+Z7MzM6Qz08dJmegyS9vOEGVvliR1oAd6bgEiZrP3F5uiL7fCgDog/5fYkpGQSdQjtN8ojxW/zOertyoUZP4gIjsza1dfXp2uJCaMVMtpKxBSMhMxt82f0Nan3t+HDN8jUNbwAGVCuRkmFuQNjXOdiwJECXuOIdxXab5uaN9EVZ0PXrwtCb2U8Y=&amp;p=1\" onclick=\"return goOtherCR(this, 'a=tsa.url&amp;r=3&amp;i=nad-a001-01-000000021208399&amp;d='+urlencode('http://storefarm.naver.com/haloair')+'&amp;u='+urlencode(this.href));\" target=\"_blank\">storefarm.naver.com/haloair</a>\n",
       "<span class=\"ico_area\">\n",
       "<span class=\"ico\">\n",
       "<span alt=\"네이버페이\" class=\"sp_ad ico_npay\" onblur=\"NAVER.SEARCH_AD.hideTooltip(this);\" onfocus=\"NAVER.SEARCH_AD.showTooltip(this);\" onmouseout=\"NAVER.SEARCH_AD.hideTooltip(this);\" onmouseover=\"NAVER.SEARCH_AD.showTooltip(this);\" tabindex=\"0\">네이버페이</span>\n",
       "<a class=\"ly_ad _tooltip\" href=\"//pay.naver.com/about?frm=sa\" onblur=\"NAVER.SEARCH_AD.hideTooltip(this);\" onclick=\"return goOtherCR(this, 'a=tsa.checkout&amp;r=3&amp;i=nad-a001-01-000000021208399&amp;u='+urlencode(this.href));\" onfocus=\"NAVER.SEARCH_AD.showTooltip(this);\" onmouseout=\"NAVER.SEARCH_AD.hideTooltip(this);\" onmouseover=\"NAVER.SEARCH_AD.showTooltip(this);\" style=\"display:none\" target=\"_blank\">\n",
       "<span class=\"ly_box\">\n",
       "<p>네이버 아이디 하나로 간편구매</p>\n",
       "<p class=\"ly_ad_go\"><strong>Naver Pay</strong> 서비스 보기<span class=\"sp_ad bu\"></span></p>\n",
       "</span>\n",
       "<span class=\"sp_ad ly_tail\"></span>\n",
       "</a>\n",
       "</span>\n",
       "</span>\n",
       "<p class=\"ad_dsc\">특허받은 미네랄 산소캔! <strong class=\"hl\">초미세먼지</strong>을 앓는 분들을 위한 호흡기 디톡스</p>\n",
       "</div>\n",
       "</li>\n",
       "</ul>\n",
       "</div>\n",
       "</div>\n",
       "<script>g_crt+=\"\";</script>\n",
       "<script type=\"text/javascript\"> var blog_terms = [\"%EC%B4%88%EB%AF%B8%EC%84%B8%EB%A8%BC%EC%A7%80\",\"%EC%B4%88%EB%AF%B8%EC%84%B8\",\"%EB%A8%BC%EC%A7%80\"]; function make_nso() { var st = document.getElementById(\"st\").value; var date_option = document.getElementById(\"date_option\").value; var date_from = document.getElementById(\"date_from\").value; var date_to = document.getElementById(\"date_to\").value; var srchby = document.getElementById(\"srchby\").value; var nso = \"\"; if (st == \"sim\") { nso = \"so:r\"; } else { nso = \"so:dd\"; } if (srchby == \"all\") { nso = nso + \",a:all\"; } else { nso = nso + \",a:t\"; } if (date_option == \"2\") { nso = nso + \",p:1d\"; } else if (date_option == \"3\") { nso = nso + \",p:1w\"; } else if (date_option == \"4\") { nso = nso + \",p:1m\"; } else if (date_option == \"6\") { nso = nso + \",p:6m\"; } else if (date_option == \"7\") { nso = nso + \",p:1y\"; } else if (date_option == \"8\") { nso = nso + \",p:from\" + date_from.replace('.','').replace('.','') + \"to\" + date_to.replace('.','').replace('.','') ; } else { nso = nso + \",p:all\"; } document.getElementById(\"nso\").value = nso; } function set_start_end_date() { var input_1 = document.getElementById(\"date_from\"); var input_2 = document.getElementById(\"date_to\"); var today = new Date(); var end_year = today.getFullYear(); end_year = end_year < 10 ? \"0\" + end_year: end_year; var end_month = today.getMonth()+1; end_month = end_month < 10 ? \"0\" + end_month : end_month; var end_day = today.getDate(); end_day = end_day < 10 ? \"0\" + end_day : end_day; today = end_year + \"\" + end_month + \"\" + end_day; var date_from = input_1.value.replace(\".\", \"\").replace(\".\", \"\"); var date_to = input_2.value.replace(\".\", \"\").replace(\".\", \"\"); if (date_from.length == 8) { if (date_from < \"20030520\") date_from = \"20030520\"; else if (date_from > today) date_from = today; } else date_from = \"20030520\"; if (date_to.length == 8) { if (date_to < \"20030520\") date_to = \"20030520\"; else if (date_to > today) date_to = today; } else date_to = today; if (date_from > date_to) { var temp = date_from; date_from = date_to; date_to = temp; } $('date_from').value = date_from; $('date_to').value = date_to; } function submit_sort_option(sort_option) { var blog_form = $Form('bs_option'); var area = 'sortsim'; if (sort_option == 'date') { area = 'sortdate'; } blog_form.value('st', sort_option); blog_form.value('sm', 'tab_opt'); make_nso(); formCR('bs_option', 'fno.' + area); } function submit_date_option(period) { var blog_form = $Form('bs_option'); var area = 'dateperiodall'; var value = '0'; if (period == \"1day\") { value = '2'; area = 'dateoneday'; } else if (period == \"1week\") { value = '3'; area = 'dateoneweek'; } else if (period == \"1month\") { value = '4'; area = 'dateonemonth'; } else if (period == \"6month\") { value = '6'; area = 'datesixmonth'; } else if (period == \"1year\") { value = '7'; area = 'dateoneyear'; } else if (period == \"user\") { value = '8'; blog_form.value('date_from', $('blog_input_period_begin').value); blog_form.value('date_to', $('blog_input_period_end').value); area = 'datecustomapply' ; } blog_form.value('date_option', value); blog_form.value('sm', 'tab_opt'); set_start_end_date(); make_nso(); formCR('bs_option', 'fno.' + area); } function submit_srchby_option(srchby_option) { var blog_form = $Form('bs_option'); var area = 'areafieldall'; if (srchby_option == \"title\") { area = 'areafieldtit'; } blog_form.value('srchby', srchby_option); blog_form.value('sm', 'tab_opt'); make_nso(); formCR('bs_option', 'fno.' + area); } function submit_dup_option(dup_option) { var blog_form = $Form('bs_option'); var area = ''; if (dup_option == 0) { blog_form.value('dup_remove', 0); area = 'bioinclude'; } else { blog_form.value('dup_remove', 1); area = 'bioexclude'; } blog_form.value('sm', 'tab_opt'); make_nso(); formCR('bs_option', 'fno.' + area); } function submit_origin_option(target) { var blog_form = $Form('bs_option'); var area = ''; if (target === 'all') { blog_form.value('post_blogurl', ''); blog_form.value('post_blogurl_without', ''); blog_form.value('sm', 'tab_opt'); area = 'srcall'; } else { var input = $('src_input'); var value = input ? input.value : ''; value.replace(/^\\s*/, '').replace(/\\s*$/, ''); if (value === '' || value === 'http://') { $$.getSingle('._src_addr').style.display = 'block'; input.focus(); input.value = value; return; } var radio = $$.getSingle('ul._src_radio input:checked'); if (!radio) { return; } if (radio.id === 'url_sort') { blog_form.value('post_blogurl', value); blog_form.value('post_blogurl_without', ''); } else { blog_form.value('post_blogurl', ''); blog_form.value('post_blogurl_without', value); } area = 'srcapply'; } document.getElementById(\"bs_option\")[\"sm\"].value = \"tab_opt\"; make_nso(); formCR('bs_option', 'fno.' + area); } var blogSrchCleared = false ; function CRinsideBlogSearchBox() { var blog_query_search = document.getElementById('blog_query_search').value ; if (blog_query_search == \"\" || (blog_query_search == \"이 블로그에서 다시 검색\" && blogSrchCleared == false) || (blog_query_search == \"이 블로그 제외하고 다시 검색\" && blogSrchCleared == false)) { alert(\"검색어를 입력하세요.\"); return; } else { document.getElementById('form_query').value = document.getElementById('blog_query_search').value ; document.getElementById('sm').value = \"tab_bir\" ; document.getElementById('mson').value = 1; this.href = location.href ; tCR('a=blg.inresch&r=991&i=&u=javascript'); document.getElementById('bs_option').submit() ; } event.returnValue = false; } function blog_clear_text(obj) { var label = document.getElementById(\"blog_inner_search_label\"); obj.className = \"box_input action\"; if ((label.innerHTML == \"이 블로그에서 다시 검색\" || label.innerHTML == \"이 블로그 제외하고 다시 검색\") && blogSrchCleared == false ) { label.innerHTML = \"\"; blogSrchCleared = true; } } function onClickSrcHelp() { var src_help = $$.getSingle('._src_help'); if (src_help) { $Element(src_help).toggle(); } tCR('a=fno.srctip'); } function onEnterSrc(e) { if (e.keyCode == 13) { submit_origin_option(''); return false; } return true; } function blog_mson_value_switch(v) { document.getElementById('mson').value = v; } </script> <script type=\"text/javascript\"> /* 검색옵션 - 기간 */ $Fn(function() { new nhn.SearchOption.Date( $(\"_nx_option_date\"), { /* 적용 버튼 혹은 enter 키 입력시 호출되는 함수 */ fSubmit: function(p) { if (p) { submit_date_option('user'); } }, htCalendar: { /* 시작일을 나타내는 캘린더의 초기 설정될 날짜 값 */ htStartDate: {nYear : headerfooter_time_year,nMonth: headerfooter_time_month,nDate: headerfooter_time_day}, /* 종료일을 나타내는 캘린더의 초기 설정될 날짜 값 */ htEndDate: {nYear: headerfooter_time_year,nMonth: headerfooter_time_month,nDate: headerfooter_time_day}, /* 유효한 날짜 범위중 최소 날짜 (예. 1990.1.1) */ htMinDate:{nYear: 2003,nMonth: 5,nDate: 20}, /* 유효한 날짜 범위중 최대 날짜 (예. 오늘날자) */ htMaxDate: {nYear: headerfooter_time_year,nMonth: headerfooter_time_month,nDate: headerfooter_time_day}, /* 오늘날자 */ htTodayDate: {nYear: headerfooter_time_year,nMonth: headerfooter_time_month,nDate: headerfooter_time_day,nDay: headerfooter_time_wday} } } ); }).attach(window, \"load\"); nx_set_option_switch(0); </script> <form action=\"?\" id=\"bs_option\" method=\"GET\" name=\"bs_option_n\"> <input name=\"where\" type=\"hidden\" value=\"post\"/> <input id=\"form_query\" name=\"query\" type=\"hidden\" value=\"초미세먼지\"/> <input id=\"ie\" name=\"ie\" type=\"hidden\" value=\"utf8\"/> <input id=\"st\" name=\"st\" type=\"hidden\" value=\"sim\"/> <input id=\"sm\" name=\"sm\" type=\"hidden\" value=\"tab_opt\"/> <input id=\"date_from\" name=\"date_from\" type=\"hidden\" value=\"\"/> <input id=\"date_to\" name=\"date_to\" type=\"hidden\" value=\"\"/> <input id=\"date_option\" name=\"date_option\" type=\"hidden\" value=\"0\"/> <input id=\"srchby\" name=\"srchby\" type=\"hidden\" value=\"all\"/> <input id=\"dup_remove\" name=\"dup_remove\" type=\"hidden\" value=\"1\"/> <input id=\"post_blogurl\" name=\"post_blogurl\" type=\"hidden\" value=\"\"/> <input id=\"post_blogurl_without\" name=\"post_blogurl_without\" type=\"hidden\" value=\"\"/> <input id=\"nso\" name=\"nso\" type=\"hidden\" value=\"\"/> <input id=\"mson\" name=\"mson\" type=\"hidden\" value=\"0\"/> </form> <div class=\"blog section _blogBase\"> <div class=\"section_head\"> <h2>블로그</h2> <span class=\"title_num\">991-1000 / 75,075건</span> </div> <ul class=\"type01\" id=\"elThumbnailResultArea\"> <li class=\"sh_blog_top\" id=\"sp_blog_1\"> <div class=\"thumb thumb-rollover\"> <a class=\"sp_thmb thmb80\" href=\"http://blog.naver.com/violaming77?Redirect=Log&amp;logNo=220363195396\" onclick=\"return goOtherCR(this, 'a=blg*i.img&amp;r=991&amp;i=90000003_00000000000000334EAB8404&amp;u='+urlencode(this.href))\" target=\"_blank\"><img alt=\"LG 프리미엄 공기청정\" class=\"sh_blog_thumbnail\" onerror=\"this.parentNode.parentNode.style.display='none';\" onload=\"onThumbnailLoad(this,'https://search.pstatic.net/common/?src=http%3A%2F%2Fblogfiles.naver.net%2F20150518_81%2Fviolaming77_1431933579953g64hG_JPEG%2FDSC_0176.JPG%23900x1350&amp;type=m80_80');\" src=\"https://search.pstatic.net/common/?src=http%3A%2F%2Fblogfiles.naver.net%2F20150518_81%2Fviolaming77_1431933579953g64hG_JPEG%2FDSC_0176.JPG%23900x1350&amp;type=m80_80\"/><span class=\"thmb_v\"></span><span class=\"mask\"></span> </a> <a class=\"thumb_num num-rollover\" href=\"#\"><span>39<span class=\"blind\">장의 이미지 더보기</span></span></a> <div class=\"thumb_slide_wrap\" style=\"width:0px; overflow:hidden; display:none;\"></div> </div> <dl> <dt><a class=\"sh_blog_title _sp_each_url _sp_each_title\" href=\"http://blog.naver.com/violaming77?Redirect=Log&amp;logNo=220363195396\" onclick=\"return goOtherCR(this, 'a=blg*i.tit&amp;r=991&amp;i=90000003_00000000000000334EAB8404&amp;u='+urlencode(this.href))\" target=\"_blank\" title=\"LG 프리미엄 공기청정기, 초미세먼지 걱정 끝!\">LG 프리미엄 공기청정기, <strong class=\"hl\">초미세먼지</strong> 걱정 끝!</a></dt> <dd class=\"txt_inline\">2015.05.23. </dd> <dd class=\"sh_blog_passage\">LG 프리미엄 공기청정기는 3단계 전문필터로 미세먼지보다 더 심하다는 <strong class=\"hl\">초미세먼지</strong>까지 걸려줘요. 간략하게 필터를 소개해드리자면- 1단계 : 극세필터로 1차적인 공기...</dd> <dd class=\"txt_block\"> <span class=\"inline\"> <a class=\"txt84\" href=\"http://blog.naver.com/violaming77\" onclick=\"return goOtherCR(this, 'u='+urlencode(urlexpand(this.href))+'&amp;a=blg*i.blogname&amp;r=991&amp;i=90000003_00000000000000334EAB8404');\" target=\"_blank\">대박터지는 우리집</a><a class=\"url\" href=\"http://blog.naver.com/violaming77?Redirect=Log&amp;logNo=220363195396\" onclick=\"return goOtherCR(this, 'a=blg*i.url&amp;r=991&amp;i=90000003_00000000000000334EAB8404&amp;u='+urlencode(this.href))\" target=\"_blank\">blog.naver.com/violaming77/220363195396</a> <span class=\"bar\"></span> <a class=\"txt84\" href=\"?date_from=&amp;date_option=0&amp;date_to=&amp;dup_remove=1&amp;ie=utf8&amp;nso=&amp;qdt=0&amp;query=%EC%B4%88%EB%AF%B8%EC%84%B8%EB%A8%BC%EC%A7%80&amp;qvt=0&amp;sm=tab_brs&amp;srchby=all&amp;st=sim&amp;where=post&amp;post_blogurl=blog.naver.com%2Fviolaming77\" onclick=\"return goOtherCR(this, 'a=blg*i.similar&amp;r=991&amp;i=90000003_00000000000000334EAB8404&amp;u='+urlencode(this.href))\">블로그 내 검색</a> </span> </dd> </dl> </li> <li class=\"sh_blog_top\" id=\"sp_blog_2\"> <div class=\"thumb thumb-rollover\"> <a class=\"sp_thmb thmb80\" href=\"http://blog.naver.com/scenek?Redirect=Log&amp;logNo=220105318268\" onclick=\"return goOtherCR(this, 'a=blg*i.img&amp;r=992&amp;i=90000003_00000000000000333F4C9F7C&amp;u='+urlencode(this.href))\" target=\"_blank\"><img alt=\"초미세먼지 선풍기커버\" class=\"sh_blog_thumbnail\" onerror=\"this.parentNode.parentNode.style.display='none';\" onload=\"onThumbnailLoad(this,'https://search.pstatic.net/common/?src=http%3A%2F%2Fblogfiles.naver.net%2F20140827_279%2Fscenek_1409127258313XOp4z_JPEG%2F%25C3%25CA%25B9%25CC%25BC%25BC%25B8%25D5%25C1%25F61.jpg%23727x511&amp;type=m80_80');\" src=\"https://search.pstatic.net/common/?src=http%3A%2F%2Fblogfiles.naver.net%2F20140827_279%2Fscenek_1409127258313XOp4z_JPEG%2F%25C3%25CA%25B9%25CC%25BC%25BC%25B8%25D5%25C1%25F61.jpg%23727x511&amp;type=m80_80\"/><span class=\"thmb_v\"></span><span class=\"mask\"></span> </a> <a class=\"thumb_num num-rollover\" href=\"#\"><span>10<span class=\"blind\">장의 이미지 더보기</span></span></a> <div class=\"thumb_slide_wrap\" style=\"width:0px; overflow:hidden; display:none;\"></div> </div> <dl> <dt><a class=\"sh_blog_title _sp_each_url _sp_each_title\" href=\"http://blog.naver.com/scenek?Redirect=Log&amp;logNo=220105318268\" onclick=\"return goOtherCR(this, 'a=blg*i.tit&amp;r=992&amp;i=90000003_00000000000000333F4C9F7C&amp;u='+urlencode(this.href))\" target=\"_blank\" title=\"초미세먼지 선풍기커버로 막는다구요\"><strong class=\"hl\">초미세먼지</strong> 선풍기커버로 막는다구요</a></dt> <dd class=\"txt_inline\">2014.08.27. </dd> <dd class=\"sh_blog_passage\">특히 미세먼지 가운데서 <strong class=\"hl\">초미세먼지</strong>는 더욱 더 해롭다고 합니다. 이러한 미세먼지는 어린아이나 임산부에게 특히 위험하다고 합니다. 오죽했으면 조선일보에서...</dd> <dd class=\"txt_block\"> <span class=\"inline\"> <a class=\"txt84\" href=\"http://blog.naver.com/scenek\" onclick=\"return goOtherCR(this, 'u='+urlencode(urlexpand(this.href))+'&amp;a=blg*i.blogname&amp;r=992&amp;i=90000003_00000000000000333F4C9F7C');\" target=\"_blank\">올바른 정보 도우미</a><a class=\"url\" href=\"http://blog.naver.com/scenek?Redirect=Log&amp;logNo=220105318268\" onclick=\"return goOtherCR(this, 'a=blg*i.url&amp;r=992&amp;i=90000003_00000000000000333F4C9F7C&amp;u='+urlencode(this.href))\" target=\"_blank\">blog.naver.com/scenek/220105318268</a> <span class=\"bar\"></span> <a class=\"txt84\" href=\"?date_from=&amp;date_option=0&amp;date_to=&amp;dup_remove=1&amp;ie=utf8&amp;nso=&amp;qdt=0&amp;query=%EC%B4%88%EB%AF%B8%EC%84%B8%EB%A8%BC%EC%A7%80&amp;qvt=0&amp;sm=tab_brs&amp;srchby=all&amp;st=sim&amp;where=post&amp;post_blogurl=blog.naver.com%2Fscenek\" onclick=\"return goOtherCR(this, 'a=blg*i.similar&amp;r=992&amp;i=90000003_00000000000000333F4C9F7C&amp;u='+urlencode(this.href))\">블로그 내 검색</a> </span> </dd> </dl> </li> <li class=\"sh_blog_top\" id=\"sp_blog_3\"> <div class=\"thumb thumb-rollover\"> <a class=\"sp_thmb thmb80\" href=\"http://hippalus.tistory.com/108\" onclick=\"return goOtherCR(this, 'a=blg*t.img&amp;r=993&amp;i=a00000fa_bbc30d508319007f8d5a0bf2&amp;u='+urlencode(this.href))\" target=\"_blank\"><img alt=\"초미세먼지 : 3M 마스\" class=\"sh_blog_thumbnail\" onerror=\"this.parentNode.parentNode.style.display='none';\" onload=\"onThumbnailLoad(this,'https://search.pstatic.net/sunny/?src=http%3A%2F%2Fcfile10.uf.tistory.com%2Fimage%2F2709A94B566B5F0323CAB4%23740x555&amp;type=m80_80');\" src=\"https://search.pstatic.net/sunny/?src=http%3A%2F%2Fcfile10.uf.tistory.com%2Fimage%2F2709A94B566B5F0323CAB4%23740x555&amp;type=m80_80\"/><span class=\"thmb_v\"></span><span class=\"mask\"></span> </a> <a class=\"thumb_num num-rollover\" href=\"#\"><span>2<span class=\"blind\">장의 이미지 더보기</span></span></a> <div class=\"thumb_slide_wrap\" style=\"width:0px; overflow:hidden; display:none;\"></div> </div> <dl> <dt><a class=\"sh_blog_title _sp_each_url _sp_each_title\" href=\"http://hippalus.tistory.com/108\" onclick=\"return goOtherCR(this, 'a=blg*t.tit&amp;r=993&amp;i=a00000fa_bbc30d508319007f8d5a0bf2&amp;u='+urlencode(this.href))\" target=\"_blank\" title=\"초미세먼지 : 3M 마스크 9002V 당신의 폐는 강철폐가 아니다. 황사나 미세먼지에 쿨한척 말자.\"><strong class=\"hl\">초미세먼지</strong> : 3M 마스크 9002V 당신의 폐는 강철폐가 아니다....</a></dt> <dd class=\"txt_inline\">2015.12.12. </dd> <dd class=\"sh_blog_passage\">그때만 해도 황사만 있었는데 요즘들어 <strong class=\"hl\">초미세먼지</strong> 경보가 자주 울린다. 예전부터 있었겠지만 안알려준건 아닌건지... 흔히 잘못 알고 있는 사실이 미세먼지...</dd> <dd class=\"txt_block\"> <span class=\"inline\"> <a class=\"txt84\" href=\"http://hippalus.tistory.com/\" onclick=\"return goOtherCR(this, 'u='+urlencode(urlexpand(this.href))+'&amp;a=blg*t.blogname&amp;r=993&amp;i=a00000fa_bbc30d508319007f8d5a0bf2');\" target=\"_blank\">히파루스의 솔직한 ...</a><a class=\"url\" href=\"http://hippalus.tistory.com/108\" onclick=\"return goOtherCR(this, 'a=blg*t.url&amp;r=993&amp;i=a00000fa_bbc30d508319007f8d5a0bf2&amp;u='+urlencode(this.href))\" target=\"_blank\">hippalus.tistory.com/108</a> <span class=\"bar\"></span> <a class=\"txt84\" href=\"?date_from=&amp;date_option=0&amp;date_to=&amp;dup_remove=1&amp;ie=utf8&amp;nso=&amp;qdt=0&amp;query=%EC%B4%88%EB%AF%B8%EC%84%B8%EB%A8%BC%EC%A7%80&amp;qvt=0&amp;sm=tab_brs&amp;srchby=all&amp;st=sim&amp;where=post&amp;post_blogurl=hippalus.tistory.com%2F\" onclick=\"return goOtherCR(this, 'a=blg*t.similar&amp;r=993&amp;i=a00000fa_bbc30d508319007f8d5a0bf2&amp;u='+urlencode(this.href))\">블로그 내 검색</a> </span> </dd> </dl> </li> <li class=\"sh_blog_top\" id=\"sp_blog_4\"> <div class=\"thumb thumb-rollover\"> <a class=\"sp_thmb thmb80\" href=\"http://joo-sy.com/220945793893\" onclick=\"return goOtherCR(this, 'a=blg*i.img&amp;r=994&amp;i=90000003_000000000000003371654365&amp;u='+urlencode(this.href))\" target=\"_blank\"><img alt=\"[2.27] '초미세먼지 피\" class=\"sh_blog_thumbnail\" onerror=\"this.parentNode.parentNode.style.display='none';\" onload=\"onThumbnailLoad(this,'https://search.pstatic.net/common/?src=http%3A%2F%2Fblogfiles.naver.net%2FMjAxNzAyMjdfMzgg%2FMDAxNDg4MTc0MTg4Nzc3.kJGN47GxQ4QxrlRNo4b--ixFtpKERpdSCMK7VybUw74g.TPt-6ELDza4e7fOlf5ODTlKgQmuJr6N0JulQ-2vIxawg.JPEG.joo350%2F17021482_1338077849585306_1562620308991679120_n.jpg%23900x643&amp;type=m80_80');\" src=\"https://search.pstatic.net/common/?src=http%3A%2F%2Fblogfiles.naver.net%2FMjAxNzAyMjdfMzgg%2FMDAxNDg4MTc0MTg4Nzc3.kJGN47GxQ4QxrlRNo4b--ixFtpKERpdSCMK7VybUw74g.TPt-6ELDza4e7fOlf5ODTlKgQmuJr6N0JulQ-2vIxawg.JPEG.joo350%2F17021482_1338077849585306_1562620308991679120_n.jpg%23900x643&amp;type=m80_80\"/><span class=\"thmb_v\"></span><span class=\"mask\"></span> </a> <a class=\"thumb_num num-rollover\" href=\"#\"><span>2<span class=\"blind\">장의 이미지 더보기</span></span></a> <div class=\"thumb_slide_wrap\" style=\"width:0px; overflow:hidden; display:none;\"></div> </div> <dl> <dt><a class=\"sh_blog_title _sp_each_url _sp_each_title\" href=\"http://joo-sy.com/220945793893\" onclick=\"return goOtherCR(this, 'a=blg*i.tit&amp;r=994&amp;i=90000003_000000000000003371654365&amp;u='+urlencode(this.href))\" target=\"_blank\" title=\"[2.27] '초미세먼지 피해저감 및 국민안전 R&amp;D 토론회' 참석\">[2.27] '<strong class=\"hl\">초미세먼지</strong> 피해저감 및 국민안전 R&amp;D 토론회' 참석</a></dt> <dd class=\"txt_inline\">2017.02.27. </dd> <dd class=\"sh_blog_passage\">\" 우리 당 장병완 산자위원장님을 비롯한 많은 의원님들이 공동주최하는 &lt;<strong class=\"hl\">초미세먼지</strong> 피해저감 및 국민안전 R&amp;D 토론회&gt; 에 참석했습니다. 미세먼지로 인해 우리...</dd> <dd class=\"txt_block\"> <span class=\"inline\"> <a class=\"txt84\" href=\"http://joo-sy.com\" onclick=\"return goOtherCR(this, 'u='+urlencode(urlexpand(this.href))+'&amp;a=blg*i.blogname&amp;r=994&amp;i=90000003_000000000000003371654365');\" target=\"_blank\">주승용과 함께 만드...</a><a class=\"url\" href=\"http://joo-sy.com/220945793893\" onclick=\"return goOtherCR(this, 'a=blg*i.url&amp;r=994&amp;i=90000003_000000000000003371654365&amp;u='+urlencode(this.href))\" target=\"_blank\">joo-sy.com/220945793893</a> <span class=\"bar\"></span> <a class=\"txt84\" href=\"?date_from=&amp;date_option=0&amp;date_to=&amp;dup_remove=1&amp;ie=utf8&amp;nso=&amp;qdt=0&amp;query=%EC%B4%88%EB%AF%B8%EC%84%B8%EB%A8%BC%EC%A7%80&amp;qvt=0&amp;sm=tab_brs&amp;srchby=all&amp;st=sim&amp;where=post&amp;post_blogurl=joo-sy.com\" onclick=\"return goOtherCR(this, 'a=blg*i.similar&amp;r=994&amp;i=90000003_000000000000003371654365&amp;u='+urlencode(this.href))\">블로그 내 검색</a> </span> </dd> </dl> </li> <li class=\"sh_blog_top\" id=\"sp_blog_5\"> <div class=\"thumb thumb-rollover\"> <a class=\"sp_thmb thmb80\" href=\"http://blog.naver.com/torbangmalim?Redirect=Log&amp;logNo=220668750461\" onclick=\"return goOtherCR(this, 'a=blg*i.img&amp;r=995&amp;i=90000003_000000000000003360E1EA7D&amp;u='+urlencode(this.href))\" target=\"_blank\"><img alt=\"오늘의 미세먼지/초미\" class=\"sh_blog_thumbnail\" onerror=\"this.parentNode.parentNode.style.display='none';\" onload=\"onThumbnailLoad(this,'https://search.pstatic.net/common/?src=http%3A%2F%2Fblogfiles.naver.net%2F20160325_270%2Ftorbangmalim_14588702867265UpNi_JPEG%2FDSC_4587.jpg%23550x825&amp;type=m80_80');\" src=\"https://search.pstatic.net/common/?src=http%3A%2F%2Fblogfiles.naver.net%2F20160325_270%2Ftorbangmalim_14588702867265UpNi_JPEG%2FDSC_4587.jpg%23550x825&amp;type=m80_80\"/><span class=\"thmb_v\"></span><span class=\"mask\"></span> </a> <a class=\"thumb_num num-rollover\" href=\"#\"><span>12<span class=\"blind\">장의 이미지 더보기</span></span></a> <div class=\"thumb_slide_wrap\" style=\"width:0px; overflow:hidden; display:none;\"></div> </div> <dl> <dt><a class=\"sh_blog_title _sp_each_url _sp_each_title\" href=\"http://blog.naver.com/torbangmalim?Redirect=Log&amp;logNo=220668750461\" onclick=\"return goOtherCR(this, 'a=blg*i.tit&amp;r=995&amp;i=90000003_000000000000003360E1EA7D&amp;u='+urlencode(this.href))\" target=\"_blank\" title=\"오늘의 미세먼지/초미세먼지 농도 체크 필수!! 청소는 LG청소기 코드제로 싸이킹으로~\">오늘의 미세먼지/<strong class=\"hl\">초미세먼지</strong> 농도 체크 필수!! 청소는 LG청소기...</a></dt> <dd class=\"txt_inline\">2016.03.29. </dd> <dd class=\"sh_blog_passage\">오늘의 미세먼지/<strong class=\"hl\">초미세먼지</strong> 농도 체크는 필수!! 청소는 LG 코드제로 싸이킹으로 울 집 관리하고 있어요. 요 며칠 미세먼지 농도가 정말 심했죠!! 근처 마트에 가는데도...</dd> <dd class=\"txt_block\"> <span class=\"inline\"> <a class=\"txt84\" href=\"http://blog.naver.com/torbangmalim\" onclick=\"return goOtherCR(this, 'u='+urlencode(urlexpand(this.href))+'&amp;a=blg*i.blogname&amp;r=995&amp;i=90000003_000000000000003360E1EA7D');\" target=\"_blank\">토방이네는 지금......</a><a class=\"url\" href=\"http://blog.naver.com/torbangmalim?Redirect=Log&amp;logNo=220668750461\" onclick=\"return goOtherCR(this, 'a=blg*i.url&amp;r=995&amp;i=90000003_000000000000003360E1EA7D&amp;u='+urlencode(this.href))\" target=\"_blank\">blog.naver.com/torbangmalim/220668750461</a> <span class=\"bar\"></span> <a class=\"txt84\" href=\"?date_from=&amp;date_option=0&amp;date_to=&amp;dup_remove=1&amp;ie=utf8&amp;nso=&amp;qdt=0&amp;query=%EC%B4%88%EB%AF%B8%EC%84%B8%EB%A8%BC%EC%A7%80&amp;qvt=0&amp;sm=tab_brs&amp;srchby=all&amp;st=sim&amp;where=post&amp;post_blogurl=blog.naver.com%2Ftorbangmalim\" onclick=\"return goOtherCR(this, 'a=blg*i.similar&amp;r=995&amp;i=90000003_000000000000003360E1EA7D&amp;u='+urlencode(this.href))\">블로그 내 검색</a> </span> </dd> </dl> </li> <li class=\"sh_blog_top\" id=\"sp_blog_6\"> <div class=\"thumb thumb-rollover\"> <a class=\"sp_thmb thmb80\" href=\"http://blog.naver.com/nanumup?Redirect=Log&amp;logNo=221047244459\" onclick=\"return goOtherCR(this, 'a=blg*i.img&amp;r=996&amp;i=90000003_0000000000000033777146AB&amp;u='+urlencode(this.href))\" target=\"_blank\"><img alt=\"초미세먼지 공기청정기\" class=\"sh_blog_thumbnail\" onerror=\"this.parentNode.parentNode.style.display='none';\" onload=\"onThumbnailLoad(this,'https://search.pstatic.net/common/?src=http%3A%2F%2Fblogfiles.naver.net%2FMjAxNzA3MDlfMTMg%2FMDAxNDk5NTU5MTQ0ODQ2.nyCERNYDEWyuCL-oOLitp-xSoccDd34aIDSpVH8566Ag.5IWnKdQ-tEJftSYIDh4PyDn3YJbSzws7AztSpHjyr5Ug.JPEG.nanumup%2F%25C3%25CA%25B9%25CC%25BC%25BC%25B8%25D5%25C0%25FA-%25B0%25F8%25C3%25BB%25B1%25E2-%25B0%25BB24.jpg%23607x393&amp;type=m80_80');\" src=\"https://search.pstatic.net/common/?src=http%3A%2F%2Fblogfiles.naver.net%2FMjAxNzA3MDlfMTMg%2FMDAxNDk5NTU5MTQ0ODQ2.nyCERNYDEWyuCL-oOLitp-xSoccDd34aIDSpVH8566Ag.5IWnKdQ-tEJftSYIDh4PyDn3YJbSzws7AztSpHjyr5Ug.JPEG.nanumup%2F%25C3%25CA%25B9%25CC%25BC%25BC%25B8%25D5%25C0%25FA-%25B0%25F8%25C3%25BB%25B1%25E2-%25B0%25BB24.jpg%23607x393&amp;type=m80_80\"/><span class=\"thmb_v\"></span><span class=\"mask\"></span> </a> <a class=\"thumb_num num-rollover\" href=\"#\"><span>13<span class=\"blind\">장의 이미지 더보기</span></span></a> <div class=\"thumb_slide_wrap\" style=\"width:0px; overflow:hidden; display:none;\"></div> </div> <dl> <dt><a class=\"sh_blog_title _sp_each_url _sp_each_title\" href=\"http://blog.naver.com/nanumup?Redirect=Log&amp;logNo=221047244459\" onclick=\"return goOtherCR(this, 'a=blg*i.tit&amp;r=996&amp;i=90000003_0000000000000033777146AB&amp;u='+urlencode(this.href))\" target=\"_blank\" title=\"초미세먼지 공기청정기 완전 쪼아요 에어로사이드\"><strong class=\"hl\">초미세먼지</strong> 공기청정기 완전 쪼아요 에어로사이드</a></dt> <dd class=\"txt_inline\">2017.07.09. </dd> <dd class=\"sh_blog_passage\">필터가 없어 청소 걱정 NO ~ NO~ <strong class=\"hl\">초미세먼지</strong>까지 걸러주는 공기청정기 YES! YES! 예전 연예인들 공항패션 하면 마스크 쓴 모습들이 생각나지 않으세요? 그렇지만 지금의...</dd> <dd class=\"txt_block\"> <span class=\"inline\"> <a class=\"total_origin\" href=\"http://section.blog.naver.com/Event/SmartEditor3Promotion.nhn\" onclick=\"return goOtherCR(this,'a=blg*i.se3&amp;r=6&amp;i=90000003_0000000000000033777146AB&amp;u='+urlencode(urlexpand(this.href)));\" target=\"_blank\"><em class=\"spcm ico_smarteditor\">스마트에디터3.0</em></a><a class=\"txt84\" href=\"http://blog.naver.com/nanumup\" onclick=\"return goOtherCR(this, 'u='+urlencode(urlexpand(this.href))+'&amp;a=blg*i.blogname&amp;r=996&amp;i=90000003_0000000000000033777146AB');\" target=\"_blank\">디자인 돋아</a><a class=\"url\" href=\"http://blog.naver.com/nanumup?Redirect=Log&amp;logNo=221047244459\" onclick=\"return goOtherCR(this, 'a=blg*i.url&amp;r=996&amp;i=90000003_0000000000000033777146AB&amp;u='+urlencode(this.href))\" target=\"_blank\">blog.naver.com/nanumup/221047244459</a> </span> </dd> </dl> </li> <li class=\"sh_blog_top\" id=\"sp_blog_7\"> <dl> <dt><a class=\"sh_blog_title _sp_each_url _sp_each_title\" href=\"http://blog.daum.net/onemanband-/42903\" onclick=\"return goOtherCR(this, 'a=blg*d.tit&amp;r=997&amp;i=a00000fa_6b5288a92da079513fe181e0&amp;u='+urlencode(this.href))\" target=\"_blank\" title=\"[단독] 석탄화력 1기 배출 초미세먼지 ‘경유차 18만대분’\">[단독] 석탄화력 1기 배출 <strong class=\"hl\">초미세먼지</strong> ‘경유차 18만대분’</a></dt> <dd class=\"txt_inline\">2017.10.24. </dd> <dd class=\"sh_blog_passage\">[단독] 석탄화력 1기 배출 <strong class=\"hl\">초미세먼지</strong> ‘경유차 18만대분’ 1기당 <strong class=\"hl\">초미세먼지</strong> 年112톤 나와 LNG발전소 28톤보다 4배 많아 업체선 “친환경 발전소” 홍보 열중 “국민...</dd> <dd class=\"txt_block\"> <span class=\"inline\"> <a class=\"txt84\" href=\"http://blog.daum.net/onemanband-\" onclick=\"return goOtherCR(this, 'u='+urlencode(urlexpand(this.href))+'&amp;a=blg*d.blogname&amp;r=997&amp;i=a00000fa_6b5288a92da079513fe181e0');\" target=\"_blank\">News Clip</a><a class=\"url\" href=\"http://blog.daum.net/onemanband-/42903\" onclick=\"return goOtherCR(this, 'a=blg*d.url&amp;r=997&amp;i=a00000fa_6b5288a92da079513fe181e0&amp;u='+urlencode(this.href))\" target=\"_blank\">blog.daum.net/onemanband-/42903</a> <span class=\"bar\"></span> <a class=\"txt84\" href=\"?date_from=&amp;date_option=0&amp;date_to=&amp;dup_remove=1&amp;ie=utf8&amp;nso=&amp;qdt=0&amp;query=%EC%B4%88%EB%AF%B8%EC%84%B8%EB%A8%BC%EC%A7%80&amp;qvt=0&amp;sm=tab_brs&amp;srchby=all&amp;st=sim&amp;where=post&amp;post_blogurl=blog.daum.net%2Fonemanband-\" onclick=\"return goOtherCR(this, 'a=blg*d.similar&amp;r=997&amp;i=a00000fa_6b5288a92da079513fe181e0&amp;u='+urlencode(this.href))\">블로그 내 검색</a> </span> </dd> </dl> </li> <li class=\"sh_blog_top\" id=\"sp_blog_8\"> <div class=\"thumb thumb-rollover\"> <a class=\"sp_thmb thmb80\" href=\"http://blog.naver.com/msi119?Redirect=Log&amp;logNo=220892300752\" onclick=\"return goOtherCR(this, 'a=blg*i.img&amp;r=998&amp;i=90000003_00000000000000336E3505D0&amp;u='+urlencode(this.href))\" target=\"_blank\"><img alt=\"인파로(Air Quality M\" class=\"sh_blog_thumbnail\" onerror=\"this.parentNode.parentNode.style.display='none';\" onload=\"onThumbnailLoad(this,'https://search.pstatic.net/common/?src=http%3A%2F%2Fblogfiles.naver.net%2FMjAxNjEyMjJfMjEg%2FMDAxNDgyMzg4MzY4MTcx.mMHGDQofeBhfbIobHpRgcu9W8a5y0e36pwnTrPyrusgg.vYlgoOv3KBjnA9kLHIyIU6GMa-ETwEtetlZY4zJyJRgg.JPEG.msi119%2FIMG_20161222_120110.jpg%23900x1600&amp;type=m80_80');\" src=\"https://search.pstatic.net/common/?src=http%3A%2F%2Fblogfiles.naver.net%2FMjAxNjEyMjJfMjEg%2FMDAxNDgyMzg4MzY4MTcx.mMHGDQofeBhfbIobHpRgcu9W8a5y0e36pwnTrPyrusgg.vYlgoOv3KBjnA9kLHIyIU6GMa-ETwEtetlZY4zJyJRgg.JPEG.msi119%2FIMG_20161222_120110.jpg%23900x1600&amp;type=m80_80\"/><span class=\"thmb_v\"></span><span class=\"mask\"></span> </a> <a class=\"thumb_num num-rollover\" href=\"#\"><span>16<span class=\"blind\">장의 이미지 더보기</span></span></a> <div class=\"thumb_slide_wrap\" style=\"width:0px; overflow:hidden; display:none;\"></div> </div> <dl> <dt><a class=\"sh_blog_title _sp_each_url _sp_each_title\" href=\"http://blog.naver.com/msi119?Redirect=Log&amp;logNo=220892300752\" onclick=\"return goOtherCR(this, 'a=blg*i.tit&amp;r=998&amp;i=90000003_00000000000000336E3505D0&amp;u='+urlencode(this.href))\" target=\"_blank\" title=\"인파로(Air Quality Monitor) 초미세먼지 기기\">인파로(Air Quality Monitor) <strong class=\"hl\">초미세먼지</strong> 기기</a></dt> <dd class=\"txt_inline\">2016.12.22. </dd> <dd class=\"sh_blog_passage\">그냥 국산제품중 가격대비 믿을만한 <strong class=\"hl\">초미세먼지</strong>와 포름알데히드+공기중 유기화합물 게이지 모니터~! 가격은 중국산 보다 쬐~~~금 높은듯 해도 따지고 보면 높은게...</dd> <dd class=\"txt_block\"> <span class=\"inline\"> <a class=\"total_origin\" href=\"http://section.blog.naver.com/Event/SmartEditor3Promotion.nhn\" onclick=\"return goOtherCR(this,'a=blg*i.se3&amp;r=8&amp;i=90000003_00000000000000336E3505D0&amp;u='+urlencode(urlexpand(this.href)));\" target=\"_blank\"><em class=\"spcm ico_smarteditor\">스마트에디터3.0</em></a><a class=\"txt84\" href=\"http://blog.naver.com/msi119\" onclick=\"return goOtherCR(this, 'u='+urlencode(urlexpand(this.href))+'&amp;a=blg*i.blogname&amp;r=998&amp;i=90000003_00000000000000336E3505D0');\" target=\"_blank\">오리랑 두더쥐랑 @@...</a><a class=\"url\" href=\"http://blog.naver.com/msi119?Redirect=Log&amp;logNo=220892300752\" onclick=\"return goOtherCR(this, 'a=blg*i.url&amp;r=998&amp;i=90000003_00000000000000336E3505D0&amp;u='+urlencode(this.href))\" target=\"_blank\">blog.naver.com/msi119/220892300752</a> </span> </dd> </dl> </li> <li class=\"sh_blog_top\" id=\"sp_blog_9\"> <div class=\"thumb thumb-rollover\"> <a class=\"sp_thmb thmb80\" href=\"http://haru365haru.blog.me/221106185806\" onclick=\"return goOtherCR(this, 'a=blg*i.img&amp;r=999&amp;i=90000003_00000000000000337AF4A64E&amp;u='+urlencode(this.href))\" target=\"_blank\"><img alt=\"17년9월28일(목) 내일\" class=\"sh_blog_thumbnail\" onerror=\"this.parentNode.parentNode.style.display='none';\" onload=\"onThumbnailLoad(this,'https://search.pstatic.net/common/?src=http%3A%2F%2Fblogfiles.naver.net%2FMjAxNzA5MjdfMjYz%2FMDAxNTA2NDc1MjI4NzEx.eTleiDA4E_HI3W1ZhPufljtMBS4-35S2YprfavsgGqsg.oFdKxhF-mfJTUCzl944vEACfxvuKaPkFx2iu-MydQ00g.JPEG.haru365haru%2FPicsArt_09-27-10.17.06.jpg%23960x960&amp;type=m80_80');\" src=\"https://search.pstatic.net/common/?src=http%3A%2F%2Fblogfiles.naver.net%2FMjAxNzA5MjdfMjYz%2FMDAxNTA2NDc1MjI4NzEx.eTleiDA4E_HI3W1ZhPufljtMBS4-35S2YprfavsgGqsg.oFdKxhF-mfJTUCzl944vEACfxvuKaPkFx2iu-MydQ00g.JPEG.haru365haru%2FPicsArt_09-27-10.17.06.jpg%23960x960&amp;type=m80_80\"/><span class=\"thmb_v\"></span><span class=\"mask\"></span> </a> <a class=\"thumb_num num-rollover\" href=\"#\"><span>4<span class=\"blind\">장의 이미지 더보기</span></span></a> <div class=\"thumb_slide_wrap\" style=\"width:0px; overflow:hidden; display:none;\"></div> </div> <dl> <dt><a class=\"sh_blog_title _sp_each_url _sp_each_title\" href=\"http://haru365haru.blog.me/221106185806\" onclick=\"return goOtherCR(this, 'a=blg*i.tit&amp;r=999&amp;i=90000003_00000000000000337AF4A64E&amp;u='+urlencode(this.href))\" target=\"_blank\" title=\"17년9월28일(목) 내일 미세먼지/초미세먼지 예보\">17년9월28일(목) 내일 미세먼지/<strong class=\"hl\">초미세먼지</strong> 예보</a></dt> <dd class=\"txt_inline\">2017.09.27. </dd> <dd class=\"sh_blog_passage\">17년9월27일(수) 내일 미세먼지/<strong class=\"hl\">초미세먼지</strong> 예보 △ 오늘 미세먼지/<strong class=\"hl\">초미세먼지</strong> 보기 △ 9월27일 수요일 내일 미세먼지(pm10) 예보 드디어 파란색이 왔습니다... m.blog....</dd> <dd class=\"txt_block\"> <span class=\"inline\"> <a class=\"total_origin\" href=\"http://section.blog.naver.com/Event/SmartEditor3Promotion.nhn\" onclick=\"return goOtherCR(this,'a=blg*i.se3&amp;r=9&amp;i=90000003_00000000000000337AF4A64E&amp;u='+urlencode(urlexpand(this.href)));\" target=\"_blank\"><em class=\"spcm ico_smarteditor\">스마트에디터3.0</em></a><a class=\"txt84\" href=\"http://haru365haru.blog.me\" onclick=\"return goOtherCR(this, 'u='+urlencode(urlexpand(this.href))+'&amp;a=blg*i.blogname&amp;r=999&amp;i=90000003_00000000000000337AF4A64E');\" target=\"_blank\">하루가 쓰는 이야기</a><a class=\"url\" href=\"http://haru365haru.blog.me/221106185806\" onclick=\"return goOtherCR(this, 'a=blg*i.url&amp;r=999&amp;i=90000003_00000000000000337AF4A64E&amp;u='+urlencode(this.href))\" target=\"_blank\">haru365haru.blog.me/221106185806</a> </span> </dd> </dl> </li> <li class=\"sh_blog_top\" id=\"sp_blog_10\"> <dl> <dt><a class=\"sh_blog_title _sp_each_url _sp_each_title\" href=\"http://blog.naver.com/moonjinforum?Redirect=Log&amp;logNo=220997424664\" onclick=\"return goOtherCR(this, 'a=blg*i.tit&amp;r=1000&amp;i=90000003_000000000000003374791618&amp;u='+urlencode(this.href))\" target=\"_blank\" title='[발언] [미세먼지 패닉] \"교실 등 실내도 안심못해…창문 닫아도 초미세먼지 침투\" (연합뉴스, 2017.05.03)'>안심못해…창문 닫아도 <strong class=\"hl\">초미세먼지</strong> 침투\" (연합뉴스, 2017.05.03)</a></dt> <dd class=\"txt_inline\">2017.05.03. </dd> <dd class=\"sh_blog_passage\">[발언] [미세먼지 패닉] \"교실 등 실내도 안심못해…창문 닫아도 <strong class=\"hl\">초미세먼지</strong> 침투\" (연합뉴스, 2017.05.03) (서울=연합뉴스) 박성진 기자 = 최근 심한 미세먼지 탓에 학교...</dd> <dd class=\"txt_block\"> <span class=\"inline\"> <a class=\"txt84\" href=\"http://blog.naver.com/moonjinforum\" onclick=\"return goOtherCR(this, 'u='+urlencode(urlexpand(this.href))+'&amp;a=blg*i.blogname&amp;r=1000&amp;i=90000003_000000000000003374791618');\" target=\"_blank\">문진(問津)으로 여는...</a><a class=\"url\" href=\"http://blog.naver.com/moonjinforum?Redirect=Log&amp;logNo=220997424664\" onclick=\"return goOtherCR(this, 'a=blg*i.url&amp;r=1000&amp;i=90000003_000000000000003374791618&amp;u='+urlencode(this.href))\" target=\"_blank\">blog.naver.com/moonjinforum/220997424664</a> <span class=\"bar\"></span> <a class=\"txt84\" href=\"?date_from=&amp;date_option=0&amp;date_to=&amp;dup_remove=1&amp;ie=utf8&amp;nso=&amp;qdt=0&amp;query=%EC%B4%88%EB%AF%B8%EC%84%B8%EB%A8%BC%EC%A7%80&amp;qvt=0&amp;sm=tab_brs&amp;srchby=all&amp;st=sim&amp;where=post&amp;post_blogurl=blog.naver.com%2Fmoonjinforum\" onclick=\"return goOtherCR(this, 'a=blg*i.similar&amp;r=1000&amp;i=90000003_000000000000003374791618&amp;u='+urlencode(this.href))\">블로그 내 검색</a> </span> </dd> </dl> </li> </ul> <script type=\"text/javascript\"> var aSlidingThumbnailData = [ {\"nTotal\" : \"40\",\"aItems\" : [\"https://search.pstatic.net/common/?src=http%3A%2F%2Fblogfiles.naver.net%2F20150518_81%2Fviolaming77_1431933579953g64hG_JPEG%2FDSC_0176.JPG&type=m100_100#900x1350\",\"https://search.pstatic.net/common/?src=http%3A%2F%2Fblogfiles.naver.net%2F20150518_191%2Fviolaming77_1431933578845EJBmR_JPEG%2FDSC_0169.JPG&type=m100_100#900x1350\",\"https://search.pstatic.net/common/?src=http%3A%2F%2Fblogfiles.naver.net%2F20150518_53%2Fviolaming77_1431933575097Ja2hM_JPEG%2FDSC_0130.JPG&type=m100_100#900x599\",\"https://search.pstatic.net/common/?src=http%3A%2F%2Fblogfiles.naver.net%2F20150522_281%2Fviolaming77_1432257006761SBbFT_JPEG%2FDSC_0134.JPG&type=m100_100#450x300\",\"https://search.pstatic.net/common/?src=http%3A%2F%2Fblogfiles.naver.net%2F20150522_185%2Fviolaming77_1432257015477YbfLo_JPEG%2FDSC_0135.JPG&type=m100_100#450x300\",\"https://search.pstatic.net/common/?src=http%3A%2F%2Fblogfiles.naver.net%2F20150518_265%2Fviolaming77_1431933577224JEzSH_JPEG%2FDSC_0137.JPG&type=m100_100#900x599\"],\"sRedirectUrl\" : \"http://blog.naver.com/violaming77?Redirect=Log&logNo=220363195396\",\"sClickLog\" : \"goOtherCR(this,'u='+urlencode(urlexpand(this.href ? this.href : location.href))+'&a=blg*i.img&r=991&i=90000003_00000000000000334EAB8404');\",\"sClickLogOver\" : \"tCR('a=blg*i.slideopen&r=991&i=90000003_00000000000000334EAB8404&u=javascript');\",\"sClickLogOut\" : \"tCR('a=blg*i.slideclose&r=991&i=90000003_00000000000000334EAB8404&u=javascript');\"},{\"nTotal\" : \"11\",\"aItems\" : [\"https://search.pstatic.net/common/?src=http%3A%2F%2Fblogfiles.naver.net%2F20140827_279%2Fscenek_1409127258313XOp4z_JPEG%2F%25C3%25CA%25B9%25CC%25BC%25BC%25B8%25D5%25C1%25F61.jpg&type=m100_100#727x511\",\"https://search.pstatic.net/common/?src=http%3A%2F%2Fblogfiles.naver.net%2F20140827_28%2Fscenek_1409127286183EgQA9_JPEG%2F%25C3%25CA%25B9%25CC%25BC%25BC%25B8%25D5%25C1%25F62.jpg&type=m100_100#723x672\",\"https://search.pstatic.net/common/?src=http%3A%2F%2Fblogfiles.naver.net%2F20140827_74%2Fscenek_1409127453518MHA1S_JPEG%2F%25C3%25CA%25B9%25CC%25BC%25BC%25B8%25D5%25C1%25F63.jpg&type=m100_100#723x437\",\"https://search.pstatic.net/common/?src=http%3A%2F%2Fblogfiles.naver.net%2F20140827_160%2Fscenek_1409127520631nlNW1_JPEG%2F%25C3%25CA%25B9%25CC%25BC%25BC%25B8%25D5%25C1%25F64.jpg&type=m100_100#715x534\",\"https://search.pstatic.net/common/?src=http%3A%2F%2Fblogfiles.naver.net%2F20140827_57%2Fscenek_1409127905180mTLtr_JPEG%2F%25BB%25E7%25BF%25EB%25C0%25DA_%25C1%25F6%25C1%25A4_6.jpg&type=m100_100#724x640\",\"https://search.pstatic.net/common/?src=http%3A%2F%2Fblogfiles.naver.net%2F20140827_208%2Fscenek_1409128037511ITaI7_JPEG%2F%25BC%25B1%25C7%25B3%25B1%25E2%25C4%25BF%25B9%25F67.jpg&type=m100_100#712x655\"],\"sRedirectUrl\" : \"http://blog.naver.com/scenek?Redirect=Log&logNo=220105318268\",\"sClickLog\" : \"goOtherCR(this,'u='+urlencode(urlexpand(this.href ? this.href : location.href))+'&a=blg*i.img&r=992&i=90000003_00000000000000333F4C9F7C');\",\"sClickLogOver\" : \"tCR('a=blg*i.slideopen&r=992&i=90000003_00000000000000333F4C9F7C&u=javascript');\",\"sClickLogOut\" : \"tCR('a=blg*i.slideclose&r=992&i=90000003_00000000000000333F4C9F7C&u=javascript');\"},{\"nTotal\" : \"3\",\"aItems\" : [\"https://search.pstatic.net/sunny/?src=http%3A%2F%2Fcfile10.uf.tistory.com%2Fimage%2F2709A94B566B5F0323CAB4&type=m100_100#740x555\",\"https://search.pstatic.net/sunny/?src=http%3A%2F%2Fcfile5.uf.tistory.com%2Fimage%2F24109E4E566B5F151D083B&type=m100_100#740x555\",\"https://search.pstatic.net/sunny/?src=http%3A%2F%2Fcfile9.uf.tistory.com%2Fimage%2F230E854E566B5F16202571&type=m100_100#740x555\"],\"sRedirectUrl\" : \"http://hippalus.tistory.com/108\",\"sClickLog\" : \"goOtherCR(this,'u='+urlencode(urlexpand(this.href ? this.href : location.href))+'&a=blg*t.img&r=993&i=a00000fa_bbc30d508319007f8d5a0bf2');\",\"sClickLogOver\" : \"tCR('a=blg*t.slideopen&r=993&i=a00000fa_bbc30d508319007f8d5a0bf2&u=javascript');\",\"sClickLogOut\" : \"tCR('a=blg*t.slideclose&r=993&i=a00000fa_bbc30d508319007f8d5a0bf2&u=javascript');\"},{\"nTotal\" : \"3\",\"aItems\" : [\"https://search.pstatic.net/common/?src=http%3A%2F%2Fblogfiles.naver.net%2FMjAxNzAyMjdfMzgg%2FMDAxNDg4MTc0MTg4Nzc3.kJGN47GxQ4QxrlRNo4b--ixFtpKERpdSCMK7VybUw74g.TPt-6ELDza4e7fOlf5ODTlKgQmuJr6N0JulQ-2vIxawg.JPEG.joo350%2F17021482_1338077849585306_1562620308991679120_n.jpg&type=m100_100#900x643\",\"https://search.pstatic.net/common/?src=http%3A%2F%2Fblogfiles.naver.net%2FMjAxNzAyMjdfMTg4%2FMDAxNDg4MTc0MTg5MTQ2.QiztVw3xh8Z2UrNoOeS2YYSjw0LrGR6HUlHJVyCj2bsg.M4C6cSw--dvOwdR9sIzRYTssT1upDPojxS8CTNJgLN8g.JPEG.joo350%2F17021865_1338077892918635_2986352431705432430_n.jpg&type=m100_100#900x551\",\"https://search.pstatic.net/common/?src=http%3A%2F%2Fblogfiles.naver.net%2FMjAxNzAyMjdfMjg0%2FMDAxNDg4MTc0MTg5NDE2.ERAvuO6sqzBExh0DxZFfuIyPq0826ycpKJ20Oyn0wSQg.H-aCQB9yIjOB-82jcn0waKkUlfbzH-xResGAgv5XIpwg.JPEG.joo350%2F17021386_1338077876251970_8905962122582939858_n.jpg&type=m100_100#900x669\"],\"sRedirectUrl\" : \"http://joo-sy.com/220945793893\",\"sClickLog\" : \"goOtherCR(this,'u='+urlencode(urlexpand(this.href ? this.href : location.href))+'&a=blg*i.img&r=994&i=90000003_000000000000003371654365');\",\"sClickLogOver\" : \"tCR('a=blg*i.slideopen&r=994&i=90000003_000000000000003371654365&u=javascript');\",\"sClickLogOut\" : \"tCR('a=blg*i.slideclose&r=994&i=90000003_000000000000003371654365&u=javascript');\"},{\"nTotal\" : \"13\",\"aItems\" : [\"https://search.pstatic.net/common/?src=http%3A%2F%2Fblogfiles.naver.net%2F20160325_270%2Ftorbangmalim_14588702867265UpNi_JPEG%2FDSC_4587.jpg&type=m100_100#550x825\",\"https://search.pstatic.net/common/?src=http%3A%2F%2Fblogfiles.naver.net%2F20160325_287%2Ftorbangmalim_1458870287115dtNQ8_JPEG%2FDSC_4591.jpg&type=m100_100#850x567\",\"https://search.pstatic.net/common/?src=http%3A%2F%2Fblogfiles.naver.net%2F20160325_192%2Ftorbangmalim_1458870287568icxyS_JPEG%2FDSC_4641.jpg&type=m100_100#550x825\",\"https://search.pstatic.net/common/?src=http%3A%2F%2Fblogfiles.naver.net%2F20160325_54%2Ftorbangmalim_1458870287837UgfnC_JPEG%2FDSC_4594.jpg&type=m100_100#850x567\",\"https://search.pstatic.net/common/?src=http%3A%2F%2Fblogfiles.naver.net%2F20160325_72%2Ftorbangmalim_1458870289330GU3fO_JPEG%2FDSC_4596.jpg&type=m100_100#850x567\",\"https://search.pstatic.net/common/?src=http%3A%2F%2Fblogfiles.naver.net%2F20160325_268%2Ftorbangmalim_1458870289557z8SN8_JPEG%2FDSC_4597.jpg&type=m100_100#850x567\"],\"sRedirectUrl\" : \"http://blog.naver.com/torbangmalim?Redirect=Log&logNo=220668750461\",\"sClickLog\" : \"goOtherCR(this,'u='+urlencode(urlexpand(this.href ? this.href : location.href))+'&a=blg*i.img&r=995&i=90000003_000000000000003360E1EA7D');\",\"sClickLogOver\" : \"tCR('a=blg*i.slideopen&r=995&i=90000003_000000000000003360E1EA7D&u=javascript');\",\"sClickLogOut\" : \"tCR('a=blg*i.slideclose&r=995&i=90000003_000000000000003360E1EA7D&u=javascript');\"},{\"nTotal\" : \"14\",\"aItems\" : [\"https://search.pstatic.net/common/?src=http%3A%2F%2Fblogfiles.naver.net%2FMjAxNzA3MDlfMTMg%2FMDAxNDk5NTU5MTQ0ODQ2.nyCERNYDEWyuCL-oOLitp-xSoccDd34aIDSpVH8566Ag.5IWnKdQ-tEJftSYIDh4PyDn3YJbSzws7AztSpHjyr5Ug.JPEG.nanumup%2F%25C3%25CA%25B9%25CC%25BC%25BC%25B8%25D5%25C0%25FA-%25B0%25F8%25C3%25BB%25B1%25E2-%25B0%25BB24.jpg&type=m100_100#607x393\",\"https://search.pstatic.net/common/?src=http%3A%2F%2Fblogfiles.naver.net%2FMjAxNzA3MDlfMTgy%2FMDAxNDk5NTUzMzk1MTk0.wkvW2i1Z0vec5hu5ShZtOLJFhr59Qg97K_A7CL2pq0Ag.D3O83vaeVnRiyTcp5R3VU7YMmwcrVchMlxzP4r1x45Qg.JPEG.nanumup%2F%25C3%25CA%25B9%25CC%25BC%25BC%25B8%25D5%25C0%25FA-%25B0%25F8%25C3%25BB%25B1%25E2-%25B0%25BB2.jpg&type=m100_100#960x642\",\"https://search.pstatic.net/common/?src=http%3A%2F%2Fblogfiles.naver.net%2FMjAxNzA3MDlfNCAg%2FMDAxNDk5NTUzNDI2NTkx.YyC3vGifkpBoZE90txpRkPwLcyxiOuOSQ8UVKfjFUdQg.mIq3qcYcJ5Bv1xe5tPc7SxtDNFMQCSCDNBeR18s1HK4g.JPEG.nanumup%2F%25C3%25CA%25B9%25CC%25BC%25BC%25B8%25D5%25C0%25FA-%25B0%25F8%25C3%25BB%25B1%25E2-%25B0%25BB1.jpg&type=m100_100#826x546\",\"https://search.pstatic.net/common/?src=http%3A%2F%2Fblogfiles.naver.net%2FMjAxNzA3MDlfMTA3%2FMDAxNDk5NTU0ODE5NzM3.CwveN_CFAPRxt8grg7-KM99ADpfEJCmbnMSJbFvlr2sg.3ejyeEeTbU-eOfo6u5lnp7hJtnajA7yW48PciUOogyUg.JPEG.nanumup%2F%25C3%25CA%25B9%25CC%25BC%25BC%25B8%25D5%25C0%25FA-%25B0%25F8%25C3%25BB%25B1%25E2-%25B0%25BB3.jpg&type=m100_100#794x602\",\"https://search.pstatic.net/common/?src=http%3A%2F%2Fblogfiles.naver.net%2FMjAxNzA3MDlfNjgg%2FMDAxNDk5NTU2MDMyODcx.H47vN-mlp0btX35ADeekMo0djPVXrxDVrqTNARH_Stsg.zlA5iAMFXoe4p6tbWJcNh3A9KYoZXitP5EPgSKatK1gg.JPEG.nanumup%2F%25C3%25CA%25B9%25CC%25BC%25BC%25B8%25D5%25C0%25FA-%25B0%25F8%25C3%25BB%25B1%25E2-%25B0%25BB4.jpg&type=m100_100#848x585\",\"https://search.pstatic.net/common/?src=http%3A%2F%2Fblogfiles.naver.net%2FMjAxNzA3MDlfMTI0%2FMDAxNDk5NTU2ODk1NTUz.voj6qooByDjkIkHiZyjfaPaAwVTM0ftmnBGIcN0Pn04g.XHFIhXjRFUSscSAoenfYPVcgWwezLfbv6jdB-tXyn7Qg.JPEG.nanumup%2F%25C3%25CA%25B9%25CC%25BC%25BC%25B8%25D5%25C0%25FA-%25B0%25F8%25C3%25BB%25B1%25E2-%25B0%25BB5.jpg&type=m100_100#800x538\"],\"sRedirectUrl\" : \"http://blog.naver.com/nanumup?Redirect=Log&logNo=221047244459\",\"sClickLog\" : \"goOtherCR(this,'u='+urlencode(urlexpand(this.href ? this.href : location.href))+'&a=blg*i.img&r=996&i=90000003_0000000000000033777146AB');\",\"sClickLogOver\" : \"tCR('a=blg*i.slideopen&r=996&i=90000003_0000000000000033777146AB&u=javascript');\",\"sClickLogOut\" : \"tCR('a=blg*i.slideclose&r=996&i=90000003_0000000000000033777146AB&u=javascript');\"},{\"nTotal\" : \"17\",\"aItems\" : [\"https://search.pstatic.net/common/?src=http%3A%2F%2Fblogfiles.naver.net%2FMjAxNjEyMjJfMjEg%2FMDAxNDgyMzg4MzY4MTcx.mMHGDQofeBhfbIobHpRgcu9W8a5y0e36pwnTrPyrusgg.vYlgoOv3KBjnA9kLHIyIU6GMa-ETwEtetlZY4zJyJRgg.JPEG.msi119%2FIMG_20161222_120110.jpg&type=m100_100#900x1600\",\"https://search.pstatic.net/common/?src=http%3A%2F%2Fblogfiles.naver.net%2FMjAxNjEyMjJfNDQg%2FMDAxNDgyMzg4MzY4Mzc1.eqVnuPGmThMqNhl8RoXSswKc5nDYh4Jpm-SMoPkjEZIg.5cbBEUc5QvSoVyMb10JtV2N8SJMLPjyiOrMBfzU3rYYg.JPEG.msi119%2FIMG_20161222_130833.jpg&type=m100_100#900x1600\",\"https://search.pstatic.net/common/?src=http%3A%2F%2Fblogfiles.naver.net%2FMjAxNjEyMjJfNzIg%2FMDAxNDgyMzg4MzY5MTYz.0NWHNCXxRRAkhp-_7IH445yKmjYB29eJWJwguKBzb5Mg.Hrm0FcrlDSwHrEDT80jkUpGppev5eqTBy7WPs2IeirIg.JPEG.msi119%2FIMG_20161222_131101.jpg&type=m100_100#900x506\",\"https://search.pstatic.net/common/?src=http%3A%2F%2Fblogfiles.naver.net%2FMjAxNjEyMjJfOTIg%2FMDAxNDgyMzg4MzY5MDA4.-QQ-MRRllKK-6AmErVNe3n3ub18ct5dB1n95_wTOY0Ig.45_ICVhNWDo6EudqUzZAYNGguYASU9J7sZLVV9pQsYMg.JPEG.msi119%2FIMG_20161222_131113.jpg&type=m100_100#900x506\",\"https://search.pstatic.net/common/?src=http%3A%2F%2Fblogfiles.naver.net%2FMjAxNjEyMjJfMjYx%2FMDAxNDgyMzg4MzY5MzIx.sqntHH18ZAdv7Z8g_vQ-RmswZr5KjE04sbVUB2wPv1Eg.uuMbyuRadC1QnsrPlJnNeP6I0XXKxQkGkSimP5w_16og.JPEG.msi119%2FIMG_20161222_131204.jpg&type=m100_100#900x506\",\"https://search.pstatic.net/common/?src=http%3A%2F%2Fblogfiles.naver.net%2FMjAxNjEyMjJfMjA1%2FMDAxNDgyMzg4MzY5NjE3.n1HNOe48-GSkV1jWK_EOtzYC0l23uKNsbn58V2efQP4g.13y-hjtTYkzKju6yM0_l8TZAX27k7XCrmyLBQT7V-18g.JPEG.msi119%2FIMG_20161222_131224.jpg&type=m100_100#900x506\"],\"sRedirectUrl\" : \"http://blog.naver.com/msi119?Redirect=Log&logNo=220892300752\",\"sClickLog\" : \"goOtherCR(this,'u='+urlencode(urlexpand(this.href ? this.href : location.href))+'&a=blg*i.img&r=998&i=90000003_00000000000000336E3505D0');\",\"sClickLogOver\" : \"tCR('a=blg*i.slideopen&r=998&i=90000003_00000000000000336E3505D0&u=javascript');\",\"sClickLogOut\" : \"tCR('a=blg*i.slideclose&r=998&i=90000003_00000000000000336E3505D0&u=javascript');\"},{\"nTotal\" : \"5\",\"aItems\" : [\"https://search.pstatic.net/common/?src=http%3A%2F%2Fblogfiles.naver.net%2FMjAxNzA5MjdfMjYz%2FMDAxNTA2NDc1MjI4NzEx.eTleiDA4E_HI3W1ZhPufljtMBS4-35S2YprfavsgGqsg.oFdKxhF-mfJTUCzl944vEACfxvuKaPkFx2iu-MydQ00g.JPEG.haru365haru%2FPicsArt_09-27-10.17.06.jpg&type=m100_100#960x960\",\"https://search.pstatic.net/common/?src=http%3A%2F%2Fblogfiles.naver.net%2FMjAxNzA5MjdfMTU4%2FMDAxNTA2NDc1MjI5NTY4.8b1MnDDQZyC2M47jxBxYp0flh1QKWFa7yDOgQddCpaog.xFhq8ENcPdlRjFhYDC73_L9nxXOrzPuYNFIuKOcZXC0g.JPEG.haru365haru%2FPicsArt_09-27-10.18.47.jpg&type=m100_100#960x960\",\"https://search.pstatic.net/common/?src=http%3A%2F%2Fblogfiles.naver.net%2FMjAxNzA5MjdfMTUx%2FMDAxNTA2NDc1NTg5NDY1.mwkwwvBQY-9ObjiQH5mk8mYUYRms67GYwPUP8QqPFk8g.hv-9atPH-2STPhm_0wy5tfnVNRkGbseLYbZuVOCiLvog.JPEG.haru365haru%2Fcu1505964435725.jpg&type=m100_100#960x720\",\"https://search.pstatic.net/common/?src=http%3A%2F%2Fblogfiles.naver.net%2FMjAxNzA5MjdfMjA3%2FMDAxNTA2NDc2MTE4MDQy.ENkN1Zhk_Kt17WkPnzGz0FIafLDY0lupAEM0hgYSVpsg.qTygNJlbs3IrbxcIWoYBhs1fOypc9cOBJHCDY7kcgW4g.GIF.haru365haru%2FPM10.09KM.Animation.gif&type=m100_100#330x358\",\"https://search.pstatic.net/common/?src=http%3A%2F%2Fblogfiles.naver.net%2FMjAxNzA5MjdfMjQ5%2FMDAxNTA2NDc2MTM5Nzc2.GsIx30rEygsX8fvWcfheNteRHAf14CnBKxB2H83AdwEg.RzeFePCLv8b96_Gxbytkps1MegRo9sb_Auo4gnc6C2cg.GIF.haru365haru%2FPM2_5.09KM.Animation.gif&type=m100_100#330x358\"],\"sRedirectUrl\" : \"http://haru365haru.blog.me/221106185806\",\"sClickLog\" : \"goOtherCR(this,'u='+urlencode(urlexpand(this.href ? this.href : location.href))+'&a=blg*i.img&r=999&i=90000003_00000000000000337AF4A64E');\",\"sClickLogOver\" : \"tCR('a=blg*i.slideopen&r=999&i=90000003_00000000000000337AF4A64E&u=javascript');\",\"sClickLogOut\" : \"tCR('a=blg*i.slideclose&r=999&i=90000003_00000000000000337AF4A64E&u=javascript');\"} ]; if(typeof aSlidingThumbnailData!=\"undefined\"){ oThumbnailSliding = new nhn.ThumbnailSliding($('elThumbnailResultArea')); } </script> <script charset=\"UTF-8\" src=\"https://ssl.pstatic.net/sstatic/search/js/nhn.open_map_20130305.js\" type=\"text/javascript\"></script> <script type=\"text/javascript\"> (function(){ var elBase = $$.getSingle(\"._blogBase\",$(\"content\")); var oFnCallBack = { closeMap : function(mapId,cr,sUrl,sClassName){ tCR(cr.replace(\"area\",\"maplayerclose\")); }, clickTitle : function(mapId,cr,sUrl,sClassName){ tCR(cr.replace(\"area\",\"mapaddress\") + \"&u=\" + urlencode(sUrl)); }, viewLarge : function(mapId,cr,sUrl,sClassName){ tCR(cr.replace(\"area\",\"bigmap\") + \"&u=\" + urlencode(sUrl)); }, searchRoute : function(mapId,cr,sUrl,sClassName){ tCR(cr.replace(\"area\",\"findmap\") + \"&u=\" + urlencode(sUrl)); } }; var oFnOpenClose = { clickBtnOpen : function(mapId,cr,sUrl,sClassName){ tCR(cr.replace(\"area\",\"mapopen\")); }, clickBtnClose: function(mapId,cr,sUrl,sClassName){ tCR(cr.replace(\"area\",\"mapclose\")); } }; var oOpenUrl = { }; oTotalSearch.oBCKOpenMap.addArea(\"blog\",{ \"base\" : elBase, \"prefix\" : \"blog_\", \"url\" : \"https://mashup.map.naver.com/view.nhn\", \"type\" : \"nexearch\", \"oFnCallBack\" : oFnCallBack, \"oFnOpenClose\" : oFnOpenClose, \"oOpenUrl\" : oOpenUrl }); })(); </script> </div> <div class=\"paging\"> <a class=\"pre\" href=\"?date_from=&amp;date_option=0&amp;date_to=&amp;dup_remove=1&amp;ie=utf8&amp;nso=&amp;post_blogurl=&amp;post_blogurl_without=&amp;query=%EC%B4%88%EB%AF%B8%EC%84%B8%EB%A8%BC%EC%A7%80&amp;sm=tab_pge&amp;srchby=all&amp;st=sim&amp;where=post&amp;start=981\" onclick=\"return goOtherCR(this, 'a=blg.paging&amp;r=99&amp;u='+urlencode(urlexpand(this.href)));\">이전페이지</a> <a href=\"?date_from=&amp;date_option=0&amp;date_to=&amp;dup_remove=1&amp;ie=utf8&amp;nso=&amp;post_blogurl=&amp;post_blogurl_without=&amp;query=%EC%B4%88%EB%AF%B8%EC%84%B8%EB%A8%BC%EC%A7%80&amp;sm=tab_pge&amp;srchby=all&amp;st=sim&amp;where=post&amp;start=901\" onclick=\"return goOtherCR(this,'a=blg.paging&amp;i=91&amp;r=91&amp;u='+urlencode(urlexpand(this.href)));\">91</a> <a href=\"?date_from=&amp;date_option=0&amp;date_to=&amp;dup_remove=1&amp;ie=utf8&amp;nso=&amp;post_blogurl=&amp;post_blogurl_without=&amp;query=%EC%B4%88%EB%AF%B8%EC%84%B8%EB%A8%BC%EC%A7%80&amp;sm=tab_pge&amp;srchby=all&amp;st=sim&amp;where=post&amp;start=911\" onclick=\"return goOtherCR(this,'a=blg.paging&amp;i=92&amp;r=92&amp;u='+urlencode(urlexpand(this.href)));\">92</a> <a href=\"?date_from=&amp;date_option=0&amp;date_to=&amp;dup_remove=1&amp;ie=utf8&amp;nso=&amp;post_blogurl=&amp;post_blogurl_without=&amp;query=%EC%B4%88%EB%AF%B8%EC%84%B8%EB%A8%BC%EC%A7%80&amp;sm=tab_pge&amp;srchby=all&amp;st=sim&amp;where=post&amp;start=921\" onclick=\"return goOtherCR(this,'a=blg.paging&amp;i=93&amp;r=93&amp;u='+urlencode(urlexpand(this.href)));\">93</a> <a href=\"?date_from=&amp;date_option=0&amp;date_to=&amp;dup_remove=1&amp;ie=utf8&amp;nso=&amp;post_blogurl=&amp;post_blogurl_without=&amp;query=%EC%B4%88%EB%AF%B8%EC%84%B8%EB%A8%BC%EC%A7%80&amp;sm=tab_pge&amp;srchby=all&amp;st=sim&amp;where=post&amp;start=931\" onclick=\"return goOtherCR(this,'a=blg.paging&amp;i=94&amp;r=94&amp;u='+urlencode(urlexpand(this.href)));\">94</a> <a href=\"?date_from=&amp;date_option=0&amp;date_to=&amp;dup_remove=1&amp;ie=utf8&amp;nso=&amp;post_blogurl=&amp;post_blogurl_without=&amp;query=%EC%B4%88%EB%AF%B8%EC%84%B8%EB%A8%BC%EC%A7%80&amp;sm=tab_pge&amp;srchby=all&amp;st=sim&amp;where=post&amp;start=941\" onclick=\"return goOtherCR(this,'a=blg.paging&amp;i=95&amp;r=95&amp;u='+urlencode(urlexpand(this.href)));\">95</a> <a href=\"?date_from=&amp;date_option=0&amp;date_to=&amp;dup_remove=1&amp;ie=utf8&amp;nso=&amp;post_blogurl=&amp;post_blogurl_without=&amp;query=%EC%B4%88%EB%AF%B8%EC%84%B8%EB%A8%BC%EC%A7%80&amp;sm=tab_pge&amp;srchby=all&amp;st=sim&amp;where=post&amp;start=951\" onclick=\"return goOtherCR(this,'a=blg.paging&amp;i=96&amp;r=96&amp;u='+urlencode(urlexpand(this.href)));\">96</a> <a href=\"?date_from=&amp;date_option=0&amp;date_to=&amp;dup_remove=1&amp;ie=utf8&amp;nso=&amp;post_blogurl=&amp;post_blogurl_without=&amp;query=%EC%B4%88%EB%AF%B8%EC%84%B8%EB%A8%BC%EC%A7%80&amp;sm=tab_pge&amp;srchby=all&amp;st=sim&amp;where=post&amp;start=961\" onclick=\"return goOtherCR(this,'a=blg.paging&amp;i=97&amp;r=97&amp;u='+urlencode(urlexpand(this.href)));\">97</a> <a href=\"?date_from=&amp;date_option=0&amp;date_to=&amp;dup_remove=1&amp;ie=utf8&amp;nso=&amp;post_blogurl=&amp;post_blogurl_without=&amp;query=%EC%B4%88%EB%AF%B8%EC%84%B8%EB%A8%BC%EC%A7%80&amp;sm=tab_pge&amp;srchby=all&amp;st=sim&amp;where=post&amp;start=971\" onclick=\"return goOtherCR(this,'a=blg.paging&amp;i=98&amp;r=98&amp;u='+urlencode(urlexpand(this.href)));\">98</a> <a href=\"?date_from=&amp;date_option=0&amp;date_to=&amp;dup_remove=1&amp;ie=utf8&amp;nso=&amp;post_blogurl=&amp;post_blogurl_without=&amp;query=%EC%B4%88%EB%AF%B8%EC%84%B8%EB%A8%BC%EC%A7%80&amp;sm=tab_pge&amp;srchby=all&amp;st=sim&amp;where=post&amp;start=981\" onclick=\"return goOtherCR(this,'a=blg.paging&amp;i=99&amp;r=99&amp;u='+urlencode(urlexpand(this.href)));\">99</a> <strong>100</strong> </div> <script type=\"text/javascript\"> setTimeout(function(){ var wElPaging = $Element($$.getSingle(\"div.paging\")); wElPaging.hide(); wElPaging.show(); wElPaging = null; },0); </script> <div class=\"message_bottom\"> <p>원하는 내용을 좀 더 빨리 찾을 수 있도록 유사한 문서는 검색결과에서 생략했고,<br/> 좋은 검색결과를 제공하기 위해 결과는 1,000건까지만 제공하고 있습니다.<br/> 원하는 결과를 찾지 못하셨다면 <em>더 구체적인 검색어</em>를 입력하거나 <a href=\"?where=post&amp;sm=tab_rpt&amp;query=%EC%B4%88%EB%AF%B8%EC%84%B8%EB%A8%BC%EC%A7%80&amp;st=sim&amp;date_option=0&amp;date_from=&amp;date_to=&amp;dup_remove=0&amp;post_blogurl=&amp;post_blogurl_without=&amp;srchby=all&amp;nso=&amp;ie=utf8\">유사한 문서를 포함하는 검색결과</a>를 확인하세요.</p> </div>\n",
       "<div class=\"collection\"></div> </link></div><div class=\"sub_pack\" id=\"sub_pack\"><div class=\"z_aside section\" id=\"nxfr_htp\"> <div class=\"section_head\"><h2>뉴스토픽</h2></div> <div class=\"realtime_srch _aside_news_tab\"> <div class=\"hotkwd\"> <ul class=\"api_realtime_tab _tab\"> <li class=\"selected\" data-index=\"0\"><a href=\"#\" onclick=\"return tCR('htk.nws', 1, '');\">뉴스</a></li> <li data-index=\"1\"><a href=\"#\" onclick=\"return tCR('htk.ents', 1, '');\">연예·스포츠</a></li> </ul> </div> <ol class=\"lst_realtime_srch _tab_area\"><li><a class=\"bx\" href=\"//search.naver.com/search.naver?where=nexearch&amp;sm=tab_htk.nws&amp;ie=utf8&amp;query=%EC%95%84%EB%B2%A0+%ED%8A%B8%EB%9F%BC%ED%94%84\" onclick=\"return goOtherCR(this, 'a=htk.nwslist&amp;r=1&amp;i=&amp;u='+urlencode(urlexpand(this.href)));\"><span class=\"keyword\"><em class=\"num\">1</em><span class=\"tit\">아베 트럼프</span></span></a></li><li><a class=\"bx\" href=\"//search.naver.com/search.naver?where=nexearch&amp;sm=tab_htk.nws&amp;ie=utf8&amp;query=%EC%84%B1%ED%8F%AD%ED%96%89+%EB%85%BC%EB%9E%80+%ED%95%9C%EC%83%98\" onclick=\"return goOtherCR(this, 'a=htk.nwslist&amp;r=2&amp;i=&amp;u='+urlencode(urlexpand(this.href)));\"><span class=\"keyword\"><em class=\"num\">2</em><span class=\"tit\">성폭행 논란 한샘</span></span></a></li><li><a class=\"bx\" href=\"//search.naver.com/search.naver?where=nexearch&amp;sm=tab_htk.nws&amp;ie=utf8&amp;query=%EC%98%A4%EB%8A%98+%EB%82%A0%EC%94%A8\" onclick=\"return goOtherCR(this, 'a=htk.nwslist&amp;r=3&amp;i=&amp;u='+urlencode(urlexpand(this.href)));\"><span class=\"keyword\"><em class=\"num\">3</em><span class=\"tit\">오늘 날씨</span></span></a></li><li><a class=\"bx\" href=\"//search.naver.com/search.naver?where=nexearch&amp;sm=tab_htk.nws&amp;ie=utf8&amp;query=%EB%AC%B8%EC%9E%AC%EC%9D%B8+%EC%A0%95%EB%B6%80\" onclick=\"return goOtherCR(this, 'a=htk.nwslist&amp;r=4&amp;i=&amp;u='+urlencode(urlexpand(this.href)));\"><span class=\"keyword\"><em class=\"num\">4</em><span class=\"tit\">문재인 정부</span></span></a></li><li><a class=\"bx\" href=\"//search.naver.com/search.naver?where=nexearch&amp;sm=tab_htk.nws&amp;ie=utf8&amp;query=%ED%8A%B8%EB%9F%BC%ED%94%84+%EB%B0%A9%ED%95%9C+%EC%95%9E%EB%91%90%EA%B3%A0\" onclick=\"return goOtherCR(this, 'a=htk.nwslist&amp;r=5&amp;i=&amp;u='+urlencode(urlexpand(this.href)));\"><span class=\"keyword\"><em class=\"num\">5</em><span class=\"tit\">트럼프 방한 앞두고</span></span></a></li><li><a class=\"bx\" href=\"//search.naver.com/search.naver?where=nexearch&amp;sm=tab_htk.nws&amp;ie=utf8&amp;query=%EC%B5%9C%EC%96%91%ED%95%98+%ED%95%9C%EC%83%98+%ED%9A%8C%EC%9E%A5\" onclick=\"return goOtherCR(this, 'a=htk.nwslist&amp;r=6&amp;i=&amp;u='+urlencode(urlexpand(this.href)));\"><span class=\"keyword\"><em class=\"num\">6</em><span class=\"tit\">최양하 한샘 회장</span></span></a></li><li><a class=\"bx\" href=\"//search.naver.com/search.naver?where=nexearch&amp;sm=tab_htk.nws&amp;ie=utf8&amp;query=%EC%95%A0%ED%94%8C+%EC%95%84%EC%9D%B4%ED%8F%B0X\" onclick=\"return goOtherCR(this, 'a=htk.nwslist&amp;r=7&amp;i=&amp;u='+urlencode(urlexpand(this.href)));\"><span class=\"keyword\"><em class=\"num\">7</em><span class=\"tit\">애플 아이폰X</span></span></a></li><li><a class=\"bx bx_item\" href=\"//search.naver.com/search.naver?where=nexearch&amp;sm=tab_htk.nws&amp;ie=utf8&amp;query=%EB%A7%90%ED%95%98%EB%8A%94+%EC%86%8C%ED%99%94%EA%B8%B0\" onclick=\"return goOtherCR(this, 'a=htk.nwslist&amp;r=8&amp;i=&amp;u='+urlencode(urlexpand(this.href)));\"><span class=\"keyword\"><em class=\"num\">8</em><span class=\"tit\">말하는 소화기</span></span><em class=\"rank new\"><span class=\"spim\"></span><span>NEW</span></em></a></li><li><a class=\"bx bx_item\" href=\"//search.naver.com/search.naver?where=nexearch&amp;sm=tab_htk.nws&amp;ie=utf8&amp;query=%EC%B2%AD%EB%B0%B1%EB%B4%89%EC%82%AC%EC%83%81+%EB%B3%B8%EC%83%81+%EC%88%98%EC%83%81\" onclick=\"return goOtherCR(this, 'a=htk.nwslist&amp;r=9&amp;i=&amp;u='+urlencode(urlexpand(this.href)));\"><span class=\"keyword\"><em class=\"num\">9</em><span class=\"tit\">청백봉사상 본상 수상</span></span><em class=\"rank new\"><span class=\"spim\"></span><span>NEW</span></em></a></li><li><a class=\"bx\" href=\"//search.naver.com/search.naver?where=nexearch&amp;sm=tab_htk.nws&amp;ie=utf8&amp;query=%EB%B0%94%EB%A5%B8%EC%A0%95%EB%8B%B9+%EB%A7%88%EC%A7%80%EB%A7%89+%EC%9D%98%EC%B4%9D\" onclick=\"return goOtherCR(this, 'a=htk.nwslist&amp;r=10&amp;i=&amp;u='+urlencode(urlexpand(this.href)));\"><span class=\"keyword\"><em class=\"num\">10</em><span class=\"tit\">바른정당 마지막 의총</span></span></a></li></ol> <ol class=\"lst_realtime_srch _tab_area\" style=\"display:none;\"><li><a class=\"bx\" href=\"//search.naver.com/search.naver?where=nexearch&amp;sm=tab_htk.ent&amp;ie=utf8&amp;query=%EA%B2%B0%ED%98%BC+%EC%9D%B4%EC%84%B8%EC%B0%BD%E2%99%A5%EC%A0%95%ED%95%98%EB%82%98\" onclick=\"return goOtherCR(this, 'a=htk.entslist&amp;r=1&amp;i=&amp;u='+urlencode(urlexpand(this.href)));\"><span class=\"keyword\"><em class=\"num\">1</em><span class=\"tit\">결혼 이세창♥정하나</span></span></a></li><li><a class=\"bx\" href=\"//search.naver.com/search.naver?where=nexearch&amp;sm=tab_htk.ent&amp;ie=utf8&amp;query=1%EB%B0%95+2%EC%9D%BC+%E6%95%85+%EA%B9%80%EC%A3%BC%ED%98%81+%EC%B6%94%EB%AA%A8\" onclick=\"return goOtherCR(this, 'a=htk.entslist&amp;r=2&amp;i=&amp;u='+urlencode(urlexpand(this.href)));\"><span class=\"keyword\"><em class=\"num\">2</em><span class=\"tit\">1박 2일 故 김주혁 추모</span></span></a></li><li><a class=\"bx\" href=\"//search.naver.com/search.naver?where=nexearch&amp;sm=tab_htk.ent&amp;ie=utf8&amp;query=%EC%86%A1%EC%A4%91%EA%B8%B0+%EC%86%A1%ED%98%9C%EA%B5%90\" onclick=\"return goOtherCR(this, 'a=htk.entslist&amp;r=3&amp;i=&amp;u='+urlencode(urlexpand(this.href)));\"><span class=\"keyword\"><em class=\"num\">3</em><span class=\"tit\">송중기 송혜교</span></span></a></li><li><a class=\"bx\" href=\"//search.naver.com/search.naver?where=nexearch&amp;sm=tab_htk.ent&amp;ie=utf8&amp;query=%EB%8F%84%EB%91%91%EB%86%88+%EB%8F%84%EB%91%91%EB%8B%98+%EA%B9%80%EC%A7%80%ED%9B%88\" onclick=\"return goOtherCR(this, 'a=htk.entslist&amp;r=4&amp;i=&amp;u='+urlencode(urlexpand(this.href)));\"><span class=\"keyword\"><em class=\"num\">4</em><span class=\"tit\">도둑놈 도둑님 김지훈</span></span></a></li><li><a class=\"bx\" href=\"//search.naver.com/search.naver?where=nexearch&amp;sm=tab_htk.ent&amp;ie=utf8&amp;query=%ED%99%A9%EA%B8%88%EB%B9%9B+%EB%82%B4+%EC%9D%B8%EC%83%9D+%EC%8B%A0%ED%98%9C%EC%84%A0\" onclick=\"return goOtherCR(this, 'a=htk.entslist&amp;r=5&amp;i=&amp;u='+urlencode(urlexpand(this.href)));\"><span class=\"keyword\"><em class=\"num\">5</em><span class=\"tit\">황금빛 내 인생 신혜선</span></span></a></li><li><a class=\"bx\" href=\"//search.naver.com/search.naver?where=nexearch&amp;sm=tab_htk.ent&amp;ie=utf8&amp;query=%EB%B3%80%ED%98%81%EC%9D%98+%EC%82%AC%EB%9E%91+%EC%B5%9C%EC%8B%9C%EC%9B%90\" onclick=\"return goOtherCR(this, 'a=htk.entslist&amp;r=6&amp;i=&amp;u='+urlencode(urlexpand(this.href)));\"><span class=\"keyword\"><em class=\"num\">6</em><span class=\"tit\">변혁의 사랑 최시원</span></span></a></li><li><a class=\"bx\" href=\"//search.naver.com/search.naver?where=nexearch&amp;sm=tab_htk.ent&amp;ie=utf8&amp;query=%EA%B9%80%EC%96%B4%EC%A4%80%EC%9D%98+%EB%B8%94%EB%9E%99%ED%95%98%EC%9A%B0%EC%8A%A4+%EA%B9%80%EC%96%B4%EC%A4%80\" onclick=\"return goOtherCR(this, 'a=htk.entslist&amp;r=7&amp;i=&amp;u='+urlencode(urlexpand(this.href)));\"><span class=\"keyword\"><em class=\"num\">7</em><span class=\"tit\">김어준의 블랙하우스 김어준</span></span></a></li><li><a class=\"bx\" href=\"//search.naver.com/search.naver?where=nexearch&amp;sm=tab_htk.ent&amp;ie=utf8&amp;query=%EB%8F%84%EB%91%91%EB%86%88+%EB%8F%84%EB%91%91%EB%8B%98+%EC%A7%80%ED%98%84%EC%9A%B0\" onclick=\"return goOtherCR(this, 'a=htk.entslist&amp;r=8&amp;i=&amp;u='+urlencode(urlexpand(this.href)));\"><span class=\"keyword\"><em class=\"num\">8</em><span class=\"tit\">도둑놈 도둑님 지현우</span></span></a></li><li><a class=\"bx\" href=\"//search.naver.com/search.naver?where=nexearch&amp;sm=tab_htk.ent&amp;ie=utf8&amp;query=%EB%82%98%EC%9D%98+%EC%99%B8%EC%82%AC%EC%B9%9C+%EC%9C%A4%ED%9B%84\" onclick=\"return goOtherCR(this, 'a=htk.entslist&amp;r=9&amp;i=&amp;u='+urlencode(urlexpand(this.href)));\"><span class=\"keyword\"><em class=\"num\">9</em><span class=\"tit\">나의 외사친 윤후</span></span></a></li><li><a class=\"bx\" href=\"//search.naver.com/search.naver?where=nexearch&amp;sm=tab_htk.ent&amp;ie=utf8&amp;query=%EB%A7%A4%EB%93%9C%EB%8F%85+%EC%9C%A0%EC%A7%80%ED%83%9C\" onclick=\"return goOtherCR(this, 'a=htk.entslist&amp;r=10&amp;i=&amp;u='+urlencode(urlexpand(this.href)));\"><span class=\"keyword\"><em class=\"num\">10</em><span class=\"tit\">매드독 유지태</span></span></a></li></ol><div class=\"realtime_srch_area\"><p class=\"dsc\"><time>2017.11.06. 05:30 ~ 08:30</time> 기준 <a class=\"spim lk_rts_help\" href=\"https://help.naver.com/support/alias/search/word/word_3.naver\" onclick=\"return goOtherCR(this, 'a=htk.guide&amp;r=&amp;i=&amp;u='+urlencode(this.href));\" target=\"_blank\">도움말</a></p></div> </div> </div> <script type=\"text/javascript\"> (function() { var sJavascriptFile = \"https://ssl.pstatic.net/sstatic/au/pc/realtime_keyword/nhn.aside_keyword_tab_170529.js\"; var fnCallback = function() { new nhn.AsideKeywordTab($$.getSingle(\"._aside_news_tab\")); }; if (typeof(nxrtrank) == \"undefined\") nx_js_defer_load(\"https://ssl.pstatic.net/sstatic/au/pc/realtime_keyword/nhn.nxrtrank_150610.js\", function() {nx_js_lazyload(sJavascriptFile, fnCallback, 1);}, 150) ; else nx_js_defer_load(sJavascriptFile, fnCallback, 300) ; }()); </script> <div class=\"z_aside rss_view\" id=\"nx_blog_rss\">외부블로그  <a class=\"rss\" href=\"https://help.naver.com/support/alias/search/integration/integration_3.naver\" onclick=\"return goOtherCR(this, 'a=.searchadd&amp;r=&amp;i=&amp;u='+urlencode(this.href));\" target=\"_blank\">등록</a> </div>\n",
       "<script type=\"text/javascript\"> _spt.anchor['a1'] = (new Date()).getTime() ; </script></div><div class=\"ly_dimmed\"></div> </div> </div><div id=\"footer\"> <div class=\"footer_group\"> <div class=\"sub_pack_btm\"> <a class=\"top\" href=\"#\" onclick=\"window.scrollTo(0,0); return false;\"><span class=\"spim\"></span>맨위로</a> </div> <div class=\"search_area\"><div class=\"realtime_srch_rolling\" id=\"_nx_footer_realtime\"> <h3 class=\"tit_rts\">실시간 급상승 <a class=\"spim lk_rts_help\" href=\"https://help.naver.com/support/alias/search/word/word_5.naver\" onclick=\"return goOtherCR(this, 'a=fkc_def.guide&amp;r=&amp;i=&amp;u='+urlencode(this.href));\" target=\"_blank\">도움말</a></h3> <div class=\"realtime_srch _roling_realtime\"> <ol class=\"lst_realtime_srch\"> <li> <span class=\"bx bx_item _link\" title=\"유상무\"> <a class=\"keyword\" href=\"//search.naver.com/search.naver?where=nexearch&amp;sm=tab_lvf&amp;ie=utf8&amp;query=%EC%9C%A0%EC%83%81%EB%AC%B4\" onclick=\"return goOtherCR(this, 'a=fkc_def.list&amp;r=1&amp;i=&amp;u='+urlencode(this.href));\"> <em class=\"num\">1</em> <span class=\"tit _text\">유상무</span> </a> </span> </li> <li> <span class=\"bx bx_item _link\" title=\"바른정당\"> <a class=\"keyword\" href=\"//search.naver.com/search.naver?where=nexearch&amp;sm=tab_lvf&amp;ie=utf8&amp;query=%EB%B0%94%EB%A5%B8%EC%A0%95%EB%8B%B9\" onclick=\"return goOtherCR(this, 'a=fkc_def.list&amp;r=2&amp;i=&amp;u='+urlencode(this.href));\"> <em class=\"num\">2</em> <span class=\"tit _text\">바른정당</span> </a> </span> </li> <li> <span class=\"bx bx_item _link\" title=\"김무성\"> <a class=\"keyword\" href=\"//search.naver.com/search.naver?where=nexearch&amp;sm=tab_lvf&amp;ie=utf8&amp;query=%EA%B9%80%EB%AC%B4%EC%84%B1\" onclick=\"return goOtherCR(this, 'a=fkc_def.list&amp;r=3&amp;i=&amp;u='+urlencode(this.href));\"> <em class=\"num\">3</em> <span class=\"tit _text\">김무성</span> </a> </span> </li> <li> <span class=\"bx bx_item _link\" title=\"손흥민 골\"> <a class=\"keyword\" href=\"//search.naver.com/search.naver?where=nexearch&amp;sm=tab_lvf&amp;ie=utf8&amp;query=%EC%86%90%ED%9D%A5%EB%AF%BC+%EA%B3%A8\" onclick=\"return goOtherCR(this, 'a=fkc_def.list&amp;r=4&amp;i=&amp;u='+urlencode(this.href));\"> <em class=\"num\">4</em> <span class=\"tit _text\">손흥민 골</span> </a> </span> </li> <li> <span class=\"bx bx_item _link\" title=\"함정\"> <a class=\"keyword\" href=\"//search.naver.com/search.naver?where=nexearch&amp;sm=tab_lvf&amp;ie=utf8&amp;query=%ED%95%A8%EC%A0%95\" onclick=\"return goOtherCR(this, 'a=fkc_def.list&amp;r=5&amp;i=&amp;u='+urlencode(this.href));\"> <em class=\"num\">5</em> <span class=\"tit _text\">함정</span> </a> </span> </li> <li> <span class=\"bx bx_item _link\" title=\"단종\"> <a class=\"keyword\" href=\"//search.naver.com/search.naver?where=nexearch&amp;sm=tab_lvf&amp;ie=utf8&amp;query=%EB%8B%A8%EC%A2%85\" onclick=\"return goOtherCR(this, 'a=fkc_def.list&amp;r=6&amp;i=&amp;u='+urlencode(this.href));\"> <em class=\"num\">6</em> <span class=\"tit _text\">단종</span> </a> </span> </li> <li> <span class=\"bx bx_item _link\" title=\"한샘 성폭행\"> <a class=\"keyword\" href=\"//search.naver.com/search.naver?where=nexearch&amp;sm=tab_lvf&amp;ie=utf8&amp;query=%ED%95%9C%EC%83%98+%EC%84%B1%ED%8F%AD%ED%96%89\" onclick=\"return goOtherCR(this, 'a=fkc_def.list&amp;r=7&amp;i=&amp;u='+urlencode(this.href));\"> <em class=\"num\">7</em> <span class=\"tit _text\">한샘 성폭행</span> </a> </span> </li> <li> <span class=\"bx bx_item _link\" title=\"한샘\"> <a class=\"keyword\" href=\"//search.naver.com/search.naver?where=nexearch&amp;sm=tab_lvf&amp;ie=utf8&amp;query=%ED%95%9C%EC%83%98\" onclick=\"return goOtherCR(this, 'a=fkc_def.list&amp;r=8&amp;i=&amp;u='+urlencode(this.href));\"> <em class=\"num\">8</em> <span class=\"tit _text\">한샘</span> </a> </span> </li> <li> <span class=\"bx bx_item _link\" title=\"작곡가 김연지\"> <a class=\"keyword\" href=\"//search.naver.com/search.naver?where=nexearch&amp;sm=tab_lvf&amp;ie=utf8&amp;query=%EC%9E%91%EA%B3%A1%EA%B0%80+%EA%B9%80%EC%97%B0%EC%A7%80\" onclick=\"return goOtherCR(this, 'a=fkc_def.list&amp;r=9&amp;i=&amp;u='+urlencode(this.href));\"> <em class=\"num\">9</em> <span class=\"tit _text\">작곡가 김연지</span> </a> </span> </li> <li> <span class=\"bx bx_item _link\" title=\"김용태\"> <a class=\"keyword\" href=\"//search.naver.com/search.naver?where=nexearch&amp;sm=tab_lvf&amp;ie=utf8&amp;query=%EA%B9%80%EC%9A%A9%ED%83%9C\" onclick=\"return goOtherCR(this, 'a=fkc_def.list&amp;r=10&amp;i=&amp;u='+urlencode(this.href));\"> <em class=\"num\">10</em> <span class=\"tit _text\">김용태</span> </a> </span> </li> <li> <span class=\"bx bx_item _link\" title=\"김재철\"> <a class=\"keyword\" href=\"//search.naver.com/search.naver?where=nexearch&amp;sm=tab_lvf&amp;ie=utf8&amp;query=%EA%B9%80%EC%9E%AC%EC%B2%A0\" onclick=\"return goOtherCR(this, 'a=fkc_def.list&amp;r=11&amp;i=&amp;u='+urlencode(this.href));\"> <em class=\"num\">11</em> <span class=\"tit _text\">김재철</span> </a> </span> </li> <li> <span class=\"bx bx_item _link\" title=\"김영우\"> <a class=\"keyword\" href=\"//search.naver.com/search.naver?where=nexearch&amp;sm=tab_lvf&amp;ie=utf8&amp;query=%EA%B9%80%EC%98%81%EC%9A%B0\" onclick=\"return goOtherCR(this, 'a=fkc_def.list&amp;r=12&amp;i=&amp;u='+urlencode(this.href));\"> <em class=\"num\">12</em> <span class=\"tit _text\">김영우</span> </a> </span> </li> <li> <span class=\"bx bx_item _link\" title=\"정하나\"> <a class=\"keyword\" href=\"//search.naver.com/search.naver?where=nexearch&amp;sm=tab_lvf&amp;ie=utf8&amp;query=%EC%A0%95%ED%95%98%EB%82%98\" onclick=\"return goOtherCR(this, 'a=fkc_def.list&amp;r=13&amp;i=&amp;u='+urlencode(this.href));\"> <em class=\"num\">13</em> <span class=\"tit _text\">정하나</span> </a> </span> </li> <li> <span class=\"bx bx_item _link\" title=\"손흥민\"> <a class=\"keyword\" href=\"//search.naver.com/search.naver?where=nexearch&amp;sm=tab_lvf&amp;ie=utf8&amp;query=%EC%86%90%ED%9D%A5%EB%AF%BC\" onclick=\"return goOtherCR(this, 'a=fkc_def.list&amp;r=14&amp;i=&amp;u='+urlencode(this.href));\"> <em class=\"num\">14</em> <span class=\"tit _text\">손흥민</span> </a> </span> </li> <li> <span class=\"bx bx_item _link\" title=\"조민아\"> <a class=\"keyword\" href=\"//search.naver.com/search.naver?where=nexearch&amp;sm=tab_lvf&amp;ie=utf8&amp;query=%EC%A1%B0%EB%AF%BC%EC%95%84\" onclick=\"return goOtherCR(this, 'a=fkc_def.list&amp;r=15&amp;i=&amp;u='+urlencode(this.href));\"> <em class=\"num\">15</em> <span class=\"tit _text\">조민아</span> </a> </span> </li> <li> <span class=\"bx bx_item _link\" title=\"이세창\"> <a class=\"keyword\" href=\"//search.naver.com/search.naver?where=nexearch&amp;sm=tab_lvf&amp;ie=utf8&amp;query=%EC%9D%B4%EC%84%B8%EC%B0%BD\" onclick=\"return goOtherCR(this, 'a=fkc_def.list&amp;r=16&amp;i=&amp;u='+urlencode(this.href));\"> <em class=\"num\">16</em> <span class=\"tit _text\">이세창</span> </a> </span> </li> <li> <span class=\"bx bx_item _link\" title=\"처음학교로\"> <a class=\"keyword\" href=\"//search.naver.com/search.naver?where=nexearch&amp;sm=tab_lvf&amp;ie=utf8&amp;query=%EC%B2%98%EC%9D%8C%ED%95%99%EA%B5%90%EB%A1%9C\" onclick=\"return goOtherCR(this, 'a=fkc_def.list&amp;r=17&amp;i=&amp;u='+urlencode(this.href));\"> <em class=\"num\">17</em> <span class=\"tit _text\">처음학교로</span> </a> </span> </li> <li> <span class=\"bx bx_item _link\" title=\"수능\"> <a class=\"keyword\" href=\"//search.naver.com/search.naver?where=nexearch&amp;sm=tab_lvf&amp;ie=utf8&amp;query=%EC%88%98%EB%8A%A5\" onclick=\"return goOtherCR(this, 'a=fkc_def.list&amp;r=18&amp;i=&amp;u='+urlencode(this.href));\"> <em class=\"num\">18</em> <span class=\"tit _text\">수능</span> </a> </span> </li> <li> <span class=\"bx bx_item _link\" title=\"황금빛내인생\"> <a class=\"keyword\" href=\"//search.naver.com/search.naver?where=nexearch&amp;sm=tab_lvf&amp;ie=utf8&amp;query=%ED%99%A9%EA%B8%88%EB%B9%9B%EB%82%B4%EC%9D%B8%EC%83%9D\" onclick=\"return goOtherCR(this, 'a=fkc_def.list&amp;r=19&amp;i=&amp;u='+urlencode(this.href));\"> <em class=\"num\">19</em> <span class=\"tit _text\">황금빛내인생</span> </a> </span> </li> <li> <span class=\"bx bx_item _link\" title=\"이연희\"> <a class=\"keyword\" href=\"//search.naver.com/search.naver?where=nexearch&amp;sm=tab_lvf&amp;ie=utf8&amp;query=%EC%9D%B4%EC%97%B0%ED%9D%AC\" onclick=\"return goOtherCR(this, 'a=fkc_def.list&amp;r=20&amp;i=&amp;u='+urlencode(this.href));\"> <em class=\"num\">20</em> <span class=\"tit _text\">이연희</span> </a> </span> </li> <li class=\"_dummy_first\"> <span class=\"bx bx_item _link\" title=\"유상무\"> <a class=\"keyword\" href=\"//search.naver.com/search.naver?where=nexearch&amp;sm=tab_lvf&amp;ie=utf8&amp;query=%EC%9C%A0%EC%83%81%EB%AC%B4\" onclick=\"return goOtherCR(this, 'a=fkc_def.list&amp;r=20&amp;i=&amp;u='+urlencode(this.href));\"> <em class=\"num\">1</em> <span class=\"tit _text\">유상무</span> </a> </span> </li> </ol> </div> <div class=\"ly_realtime_srch v2 _tab_chart\" id=\"nxfr_brlayer\" style=\"height:385px\"> <div class=\"tab_realtime_srch _tab\"> <ul role=\"tablist\"> <li class=\"selected\" data-index=\"0\"><a href=\"#\" onclick=\"return tCR('fkc.tabrkl', 1, '');\" role=\"tab\">실시간 급상승</a></li> <li data-index=\"1\"><a href=\"#\" onclick=\"return tCR('fkc.tabhtk', 1, '');\" role=\"tab\">뉴스토픽</a></li> <li data-index=\"2\"><a href=\"#\" onclick=\"return tCR('fkc.tabbckt', 1, '');\" role=\"tab\">청소년 인기</a></li> </ul> </div> <div class=\"tab_area _tab_area _tabRealtime\" style=\"display: block;\"> <h3 class=\"blind\">실시간 급상승</h3> <div class=\"group_ranking\"> <div class=\"hotkwd\"> <ul class=\"api_realtime_tab _realtime_tab\"> <li class=\"selected\" data-index=\"0\"><a href=\"#\" onclick=\"return tCR('fkc_rkl.lefttab', 1, '');\">1~10위</a></li> <li data-index=\"1\"><a href=\"#\" onclick=\"return tCR('fkc_rkl.righttab', 1, '');\">11~20위</a></li> </ul> </div> <ol class=\"lst_realtime_srch _realtime_tab_area\"> <li> <span class=\"bx bx_item _link\" title=\"유상무\"> <a class=\"keyword\" href=\"//search.naver.com/search.naver?where=nexearch&amp;sm=tab_lvf&amp;ie=utf8&amp;query=%EC%9C%A0%EC%83%81%EB%AC%B4\" onclick=\"return goOtherCR(this, 'a=fkc_rkl.list&amp;r=1&amp;i=&amp;u='+urlencode(this.href));\"> <em class=\"num\">1</em> <span class=\"tit _text\">유상무</span> </a> <a class=\"datalab _status\" href=\"http://datalab.naver.com/keyword/realtimeDetail.naver?where=search&amp;query=%EC%9C%A0%EC%83%81%EB%AC%B4&amp;datetime=2017-11-06T10%3A23%3A00\" onclick=\"return goOtherCR(this, 'a=fkc_rkl.numv&amp;r=1&amp;i=&amp;u='+urlencode(this.href));\" target=\"_blank\"><i class=\"spim ico_graph\">검색 추이</i></a> </span> </li> <li> <span class=\"bx bx_item _link\" title=\"바른정당\"> <a class=\"keyword\" href=\"//search.naver.com/search.naver?where=nexearch&amp;sm=tab_lvf&amp;ie=utf8&amp;query=%EB%B0%94%EB%A5%B8%EC%A0%95%EB%8B%B9\" onclick=\"return goOtherCR(this, 'a=fkc_rkl.list&amp;r=2&amp;i=&amp;u='+urlencode(this.href));\"> <em class=\"num\">2</em> <span class=\"tit _text\">바른정당</span> </a> <a class=\"datalab _status\" href=\"http://datalab.naver.com/keyword/realtimeDetail.naver?where=search&amp;query=%EB%B0%94%EB%A5%B8%EC%A0%95%EB%8B%B9&amp;datetime=2017-11-06T10%3A23%3A00\" onclick=\"return goOtherCR(this, 'a=fkc_rkl.numv&amp;r=2&amp;i=&amp;u='+urlencode(this.href));\" target=\"_blank\"><i class=\"spim ico_graph\">검색 추이</i></a> </span> </li> <li> <span class=\"bx bx_item _link\" title=\"김무성\"> <a class=\"keyword\" href=\"//search.naver.com/search.naver?where=nexearch&amp;sm=tab_lvf&amp;ie=utf8&amp;query=%EA%B9%80%EB%AC%B4%EC%84%B1\" onclick=\"return goOtherCR(this, 'a=fkc_rkl.list&amp;r=3&amp;i=&amp;u='+urlencode(this.href));\"> <em class=\"num\">3</em> <span class=\"tit _text\">김무성</span> </a> <a class=\"datalab _status\" href=\"http://datalab.naver.com/keyword/realtimeDetail.naver?where=search&amp;query=%EA%B9%80%EB%AC%B4%EC%84%B1&amp;datetime=2017-11-06T10%3A23%3A00\" onclick=\"return goOtherCR(this, 'a=fkc_rkl.numv&amp;r=3&amp;i=&amp;u='+urlencode(this.href));\" target=\"_blank\"><i class=\"spim ico_graph\">검색 추이</i></a> </span> </li> <li> <span class=\"bx bx_item _link\" title=\"손흥민 골\"> <a class=\"keyword\" href=\"//search.naver.com/search.naver?where=nexearch&amp;sm=tab_lvf&amp;ie=utf8&amp;query=%EC%86%90%ED%9D%A5%EB%AF%BC+%EA%B3%A8\" onclick=\"return goOtherCR(this, 'a=fkc_rkl.list&amp;r=4&amp;i=&amp;u='+urlencode(this.href));\"> <em class=\"num\">4</em> <span class=\"tit _text\">손흥민 골</span> </a> <a class=\"datalab _status\" href=\"http://datalab.naver.com/keyword/realtimeDetail.naver?where=search&amp;query=%EC%86%90%ED%9D%A5%EB%AF%BC+%EA%B3%A8&amp;datetime=2017-11-06T10%3A23%3A00\" onclick=\"return goOtherCR(this, 'a=fkc_rkl.numv&amp;r=4&amp;i=&amp;u='+urlencode(this.href));\" target=\"_blank\"><i class=\"spim ico_graph\">검색 추이</i></a> </span> </li> <li> <span class=\"bx bx_item _link\" title=\"함정\"> <a class=\"keyword\" href=\"//search.naver.com/search.naver?where=nexearch&amp;sm=tab_lvf&amp;ie=utf8&amp;query=%ED%95%A8%EC%A0%95\" onclick=\"return goOtherCR(this, 'a=fkc_rkl.list&amp;r=5&amp;i=&amp;u='+urlencode(this.href));\"> <em class=\"num\">5</em> <span class=\"tit _text\">함정</span> </a> <a class=\"datalab _status\" href=\"http://datalab.naver.com/keyword/realtimeDetail.naver?where=search&amp;query=%ED%95%A8%EC%A0%95&amp;datetime=2017-11-06T10%3A23%3A00\" onclick=\"return goOtherCR(this, 'a=fkc_rkl.numv&amp;r=5&amp;i=&amp;u='+urlencode(this.href));\" target=\"_blank\"><i class=\"spim ico_graph\">검색 추이</i></a> </span> </li> <li> <span class=\"bx bx_item _link\" title=\"단종\"> <a class=\"keyword\" href=\"//search.naver.com/search.naver?where=nexearch&amp;sm=tab_lvf&amp;ie=utf8&amp;query=%EB%8B%A8%EC%A2%85\" onclick=\"return goOtherCR(this, 'a=fkc_rkl.list&amp;r=6&amp;i=&amp;u='+urlencode(this.href));\"> <em class=\"num\">6</em> <span class=\"tit _text\">단종</span> </a> <a class=\"datalab _status\" href=\"http://datalab.naver.com/keyword/realtimeDetail.naver?where=search&amp;query=%EB%8B%A8%EC%A2%85&amp;datetime=2017-11-06T10%3A23%3A00\" onclick=\"return goOtherCR(this, 'a=fkc_rkl.numv&amp;r=6&amp;i=&amp;u='+urlencode(this.href));\" target=\"_blank\"><i class=\"spim ico_graph\">검색 추이</i></a> </span> </li> <li> <span class=\"bx bx_item _link\" title=\"한샘 성폭행\"> <a class=\"keyword\" href=\"//search.naver.com/search.naver?where=nexearch&amp;sm=tab_lvf&amp;ie=utf8&amp;query=%ED%95%9C%EC%83%98+%EC%84%B1%ED%8F%AD%ED%96%89\" onclick=\"return goOtherCR(this, 'a=fkc_rkl.list&amp;r=7&amp;i=&amp;u='+urlencode(this.href));\"> <em class=\"num\">7</em> <span class=\"tit _text\">한샘 성폭행</span> </a> <a class=\"datalab _status\" href=\"http://datalab.naver.com/keyword/realtimeDetail.naver?where=search&amp;query=%ED%95%9C%EC%83%98+%EC%84%B1%ED%8F%AD%ED%96%89&amp;datetime=2017-11-06T10%3A23%3A00\" onclick=\"return goOtherCR(this, 'a=fkc_rkl.numv&amp;r=7&amp;i=&amp;u='+urlencode(this.href));\" target=\"_blank\"><i class=\"spim ico_graph\">검색 추이</i></a> </span> </li> <li> <span class=\"bx bx_item _link\" title=\"한샘\"> <a class=\"keyword\" href=\"//search.naver.com/search.naver?where=nexearch&amp;sm=tab_lvf&amp;ie=utf8&amp;query=%ED%95%9C%EC%83%98\" onclick=\"return goOtherCR(this, 'a=fkc_rkl.list&amp;r=8&amp;i=&amp;u='+urlencode(this.href));\"> <em class=\"num\">8</em> <span class=\"tit _text\">한샘</span> </a> <a class=\"datalab _status\" href=\"http://datalab.naver.com/keyword/realtimeDetail.naver?where=search&amp;query=%ED%95%9C%EC%83%98&amp;datetime=2017-11-06T10%3A23%3A00\" onclick=\"return goOtherCR(this, 'a=fkc_rkl.numv&amp;r=8&amp;i=&amp;u='+urlencode(this.href));\" target=\"_blank\"><i class=\"spim ico_graph\">검색 추이</i></a> </span> </li> <li> <span class=\"bx bx_item _link\" title=\"작곡가 김연지\"> <a class=\"keyword\" href=\"//search.naver.com/search.naver?where=nexearch&amp;sm=tab_lvf&amp;ie=utf8&amp;query=%EC%9E%91%EA%B3%A1%EA%B0%80+%EA%B9%80%EC%97%B0%EC%A7%80\" onclick=\"return goOtherCR(this, 'a=fkc_rkl.list&amp;r=9&amp;i=&amp;u='+urlencode(this.href));\"> <em class=\"num\">9</em> <span class=\"tit _text\">작곡가 김연지</span> </a> <a class=\"datalab _status\" href=\"http://datalab.naver.com/keyword/realtimeDetail.naver?where=search&amp;query=%EC%9E%91%EA%B3%A1%EA%B0%80+%EA%B9%80%EC%97%B0%EC%A7%80&amp;datetime=2017-11-06T10%3A23%3A00\" onclick=\"return goOtherCR(this, 'a=fkc_rkl.numv&amp;r=9&amp;i=&amp;u='+urlencode(this.href));\" target=\"_blank\"><i class=\"spim ico_graph\">검색 추이</i></a> </span> </li> <li> <span class=\"bx bx_item _link\" title=\"김용태\"> <a class=\"keyword\" href=\"//search.naver.com/search.naver?where=nexearch&amp;sm=tab_lvf&amp;ie=utf8&amp;query=%EA%B9%80%EC%9A%A9%ED%83%9C\" onclick=\"return goOtherCR(this, 'a=fkc_rkl.list&amp;r=10&amp;i=&amp;u='+urlencode(this.href));\"> <em class=\"num\">10</em> <span class=\"tit _text\">김용태</span> </a> <a class=\"datalab _status\" href=\"http://datalab.naver.com/keyword/realtimeDetail.naver?where=search&amp;query=%EA%B9%80%EC%9A%A9%ED%83%9C&amp;datetime=2017-11-06T10%3A23%3A00\" onclick=\"return goOtherCR(this, 'a=fkc_rkl.numv&amp;r=10&amp;i=&amp;u='+urlencode(this.href));\" target=\"_blank\"><i class=\"spim ico_graph\">검색 추이</i></a> </span> </li> </ol> <ol class=\"lst_realtime_srch _realtime_tab_area\" start=\"11\" style=\"display:none;\"> <li> <span class=\"bx bx_item _link\" title=\"김재철\"> <a class=\"keyword\" href=\"//search.naver.com/search.naver?where=nexearch&amp;sm=tab_lvf&amp;ie=utf8&amp;query=%EA%B9%80%EC%9E%AC%EC%B2%A0\" onclick=\"return goOtherCR(this, 'a=fkc_rkl.list&amp;r=11&amp;i=&amp;u='+urlencode(this.href));\"> <em class=\"num\">11</em> <span class=\"tit _text\">김재철</span> </a> <a class=\"datalab _status\" href=\"http://datalab.naver.com/keyword/realtimeDetail.naver?where=search&amp;query=%EA%B9%80%EC%9E%AC%EC%B2%A0&amp;datetime=2017-11-06T10%3A23%3A00\" onclick=\"return goOtherCR(this, 'a=fkc_rkl.numv&amp;r=11&amp;i=&amp;u='+urlencode(this.href));\" target=\"_blank\"><i class=\"spim ico_graph\">검색 추이</i></a> </span> </li> <li> <span class=\"bx bx_item _link\" title=\"김영우\"> <a class=\"keyword\" href=\"//search.naver.com/search.naver?where=nexearch&amp;sm=tab_lvf&amp;ie=utf8&amp;query=%EA%B9%80%EC%98%81%EC%9A%B0\" onclick=\"return goOtherCR(this, 'a=fkc_rkl.list&amp;r=12&amp;i=&amp;u='+urlencode(this.href));\"> <em class=\"num\">12</em> <span class=\"tit _text\">김영우</span> </a> <a class=\"datalab _status\" href=\"http://datalab.naver.com/keyword/realtimeDetail.naver?where=search&amp;query=%EA%B9%80%EC%98%81%EC%9A%B0&amp;datetime=2017-11-06T10%3A23%3A00\" onclick=\"return goOtherCR(this, 'a=fkc_rkl.numv&amp;r=12&amp;i=&amp;u='+urlencode(this.href));\" target=\"_blank\"><i class=\"spim ico_graph\">검색 추이</i></a> </span> </li> <li> <span class=\"bx bx_item _link\" title=\"정하나\"> <a class=\"keyword\" href=\"//search.naver.com/search.naver?where=nexearch&amp;sm=tab_lvf&amp;ie=utf8&amp;query=%EC%A0%95%ED%95%98%EB%82%98\" onclick=\"return goOtherCR(this, 'a=fkc_rkl.list&amp;r=13&amp;i=&amp;u='+urlencode(this.href));\"> <em class=\"num\">13</em> <span class=\"tit _text\">정하나</span> </a> <a class=\"datalab _status\" href=\"http://datalab.naver.com/keyword/realtimeDetail.naver?where=search&amp;query=%EC%A0%95%ED%95%98%EB%82%98&amp;datetime=2017-11-06T10%3A23%3A00\" onclick=\"return goOtherCR(this, 'a=fkc_rkl.numv&amp;r=13&amp;i=&amp;u='+urlencode(this.href));\" target=\"_blank\"><i class=\"spim ico_graph\">검색 추이</i></a> </span> </li> <li> <span class=\"bx bx_item _link\" title=\"손흥민\"> <a class=\"keyword\" href=\"//search.naver.com/search.naver?where=nexearch&amp;sm=tab_lvf&amp;ie=utf8&amp;query=%EC%86%90%ED%9D%A5%EB%AF%BC\" onclick=\"return goOtherCR(this, 'a=fkc_rkl.list&amp;r=14&amp;i=&amp;u='+urlencode(this.href));\"> <em class=\"num\">14</em> <span class=\"tit _text\">손흥민</span> </a> <a class=\"datalab _status\" href=\"http://datalab.naver.com/keyword/realtimeDetail.naver?where=search&amp;query=%EC%86%90%ED%9D%A5%EB%AF%BC&amp;datetime=2017-11-06T10%3A23%3A00\" onclick=\"return goOtherCR(this, 'a=fkc_rkl.numv&amp;r=14&amp;i=&amp;u='+urlencode(this.href));\" target=\"_blank\"><i class=\"spim ico_graph\">검색 추이</i></a> </span> </li> <li> <span class=\"bx bx_item _link\" title=\"조민아\"> <a class=\"keyword\" href=\"//search.naver.com/search.naver?where=nexearch&amp;sm=tab_lvf&amp;ie=utf8&amp;query=%EC%A1%B0%EB%AF%BC%EC%95%84\" onclick=\"return goOtherCR(this, 'a=fkc_rkl.list&amp;r=15&amp;i=&amp;u='+urlencode(this.href));\"> <em class=\"num\">15</em> <span class=\"tit _text\">조민아</span> </a> <a class=\"datalab _status\" href=\"http://datalab.naver.com/keyword/realtimeDetail.naver?where=search&amp;query=%EC%A1%B0%EB%AF%BC%EC%95%84&amp;datetime=2017-11-06T10%3A23%3A00\" onclick=\"return goOtherCR(this, 'a=fkc_rkl.numv&amp;r=15&amp;i=&amp;u='+urlencode(this.href));\" target=\"_blank\"><i class=\"spim ico_graph\">검색 추이</i></a> </span> </li> <li> <span class=\"bx bx_item _link\" title=\"이세창\"> <a class=\"keyword\" href=\"//search.naver.com/search.naver?where=nexearch&amp;sm=tab_lvf&amp;ie=utf8&amp;query=%EC%9D%B4%EC%84%B8%EC%B0%BD\" onclick=\"return goOtherCR(this, 'a=fkc_rkl.list&amp;r=16&amp;i=&amp;u='+urlencode(this.href));\"> <em class=\"num\">16</em> <span class=\"tit _text\">이세창</span> </a> <a class=\"datalab _status\" href=\"http://datalab.naver.com/keyword/realtimeDetail.naver?where=search&amp;query=%EC%9D%B4%EC%84%B8%EC%B0%BD&amp;datetime=2017-11-06T10%3A23%3A00\" onclick=\"return goOtherCR(this, 'a=fkc_rkl.numv&amp;r=16&amp;i=&amp;u='+urlencode(this.href));\" target=\"_blank\"><i class=\"spim ico_graph\">검색 추이</i></a> </span> </li> <li> <span class=\"bx bx_item _link\" title=\"처음학교로\"> <a class=\"keyword\" href=\"//search.naver.com/search.naver?where=nexearch&amp;sm=tab_lvf&amp;ie=utf8&amp;query=%EC%B2%98%EC%9D%8C%ED%95%99%EA%B5%90%EB%A1%9C\" onclick=\"return goOtherCR(this, 'a=fkc_rkl.list&amp;r=17&amp;i=&amp;u='+urlencode(this.href));\"> <em class=\"num\">17</em> <span class=\"tit _text\">처음학교로</span> </a> <a class=\"datalab _status\" href=\"http://datalab.naver.com/keyword/realtimeDetail.naver?where=search&amp;query=%EC%B2%98%EC%9D%8C%ED%95%99%EA%B5%90%EB%A1%9C&amp;datetime=2017-11-06T10%3A23%3A00\" onclick=\"return goOtherCR(this, 'a=fkc_rkl.numv&amp;r=17&amp;i=&amp;u='+urlencode(this.href));\" target=\"_blank\"><i class=\"spim ico_graph\">검색 추이</i></a> </span> </li> <li> <span class=\"bx bx_item _link\" title=\"수능\"> <a class=\"keyword\" href=\"//search.naver.com/search.naver?where=nexearch&amp;sm=tab_lvf&amp;ie=utf8&amp;query=%EC%88%98%EB%8A%A5\" onclick=\"return goOtherCR(this, 'a=fkc_rkl.list&amp;r=18&amp;i=&amp;u='+urlencode(this.href));\"> <em class=\"num\">18</em> <span class=\"tit _text\">수능</span> </a> <a class=\"datalab _status\" href=\"http://datalab.naver.com/keyword/realtimeDetail.naver?where=search&amp;query=%EC%88%98%EB%8A%A5&amp;datetime=2017-11-06T10%3A23%3A00\" onclick=\"return goOtherCR(this, 'a=fkc_rkl.numv&amp;r=18&amp;i=&amp;u='+urlencode(this.href));\" target=\"_blank\"><i class=\"spim ico_graph\">검색 추이</i></a> </span> </li> <li> <span class=\"bx bx_item _link\" title=\"황금빛내인생\"> <a class=\"keyword\" href=\"//search.naver.com/search.naver?where=nexearch&amp;sm=tab_lvf&amp;ie=utf8&amp;query=%ED%99%A9%EA%B8%88%EB%B9%9B%EB%82%B4%EC%9D%B8%EC%83%9D\" onclick=\"return goOtherCR(this, 'a=fkc_rkl.list&amp;r=19&amp;i=&amp;u='+urlencode(this.href));\"> <em class=\"num\">19</em> <span class=\"tit _text\">황금빛내인생</span> </a> <a class=\"datalab _status\" href=\"http://datalab.naver.com/keyword/realtimeDetail.naver?where=search&amp;query=%ED%99%A9%EA%B8%88%EB%B9%9B%EB%82%B4%EC%9D%B8%EC%83%9D&amp;datetime=2017-11-06T10%3A23%3A00\" onclick=\"return goOtherCR(this, 'a=fkc_rkl.numv&amp;r=19&amp;i=&amp;u='+urlencode(this.href));\" target=\"_blank\"><i class=\"spim ico_graph\">검색 추이</i></a> </span> </li> <li> <span class=\"bx bx_item _link\" title=\"이연희\"> <a class=\"keyword\" href=\"//search.naver.com/search.naver?where=nexearch&amp;sm=tab_lvf&amp;ie=utf8&amp;query=%EC%9D%B4%EC%97%B0%ED%9D%AC\" onclick=\"return goOtherCR(this, 'a=fkc_rkl.list&amp;r=20&amp;i=&amp;u='+urlencode(this.href));\"> <em class=\"num\">20</em> <span class=\"tit _text\">이연희</span> </a> <a class=\"datalab _status\" href=\"http://datalab.naver.com/keyword/realtimeDetail.naver?where=search&amp;query=%EC%9D%B4%EC%97%B0%ED%9D%AC&amp;datetime=2017-11-06T10%3A23%3A00\" onclick=\"return goOtherCR(this, 'a=fkc_rkl.numv&amp;r=20&amp;i=&amp;u='+urlencode(this.href));\" target=\"_blank\"><i class=\"spim ico_graph\">검색 추이</i></a> </span> </li> </ol> </div> <div class=\"realtime_srch_area\"> <p class=\"dsc\"><time><span class=\"_time\">2017.11.06. 10:23:00</span></time> 기준 <a class=\"spim lk_rts_help\" href=\"https://help.naver.com/support/alias/search/word/word_5.naver\" onclick=\"return goOtherCR(this, 'a=fkc_rkl.guide&amp;r=&amp;i=&amp;u='+urlencode(this.href))\" target=\"_blank\">도움말</a></p> <a class=\"link_history\" href=\"http://datalab.naver.com/keyword/realtimeList.naver?where=search\" onclick=\"return goOtherCR(this, 'a=fkc_rkl.trmore&amp;r=&amp;i=&amp;u='+urlencode(this.href));\" target=\"_blank\"><i class=\"spim ico_datalab\">DataLab</i>급상승 트래킹<i class=\"spim ico_arr\"></i></a> </div> </div> <div class=\"tab_area _tab_area\" style=\"display: none;\"> <h3 class=\"blind\">뉴스토픽</h3> <div class=\"hotkwd\"> <ul class=\"api_realtime_tab _news_tab\"> <li class=\"selected\" data-index=\"0\"><a href=\"#\" onclick=\"return tCR('fkc_htk.nws', 1, '');\">뉴스</a></li> <li data-index=\"1\"><a href=\"#\" onclick=\"return tCR('fkc_htk.ents', 1, '');\">연예·스포츠</a></li> </ul> </div> <ol class=\"lst_realtime_srch _news_tab_area\"> <li> <a class=\"bx\" href=\"//search.naver.com/search.naver?where=nexearch&amp;sm=tab_htf.nws&amp;ie=utf8&amp;query=%EC%95%84%EB%B2%A0+%ED%8A%B8%EB%9F%BC%ED%94%84\" onclick=\"return goOtherCR(this, 'a=fkc_htk.nwslist&amp;r=20&amp;i=&amp;u='+urlencode(this.href));\"> <span class=\"keyword\"> <em class=\"num\">1</em> <span class=\"tit _text\">아베 트럼프</span> </span> </a> </li> <li> <a class=\"bx\" href=\"//search.naver.com/search.naver?where=nexearch&amp;sm=tab_htf.nws&amp;ie=utf8&amp;query=%EC%84%B1%ED%8F%AD%ED%96%89+%EB%85%BC%EB%9E%80+%ED%95%9C%EC%83%98\" onclick=\"return goOtherCR(this, 'a=fkc_htk.nwslist&amp;r=20&amp;i=&amp;u='+urlencode(this.href));\"> <span class=\"keyword\"> <em class=\"num\">2</em> <span class=\"tit _text\">성폭행 논란 한샘</span> </span> </a> </li> <li> <a class=\"bx\" href=\"//search.naver.com/search.naver?where=nexearch&amp;sm=tab_htf.nws&amp;ie=utf8&amp;query=%EC%98%A4%EB%8A%98+%EB%82%A0%EC%94%A8\" onclick=\"return goOtherCR(this, 'a=fkc_htk.nwslist&amp;r=20&amp;i=&amp;u='+urlencode(this.href));\"> <span class=\"keyword\"> <em class=\"num\">3</em> <span class=\"tit _text\">오늘 날씨</span> </span> </a> </li> <li> <a class=\"bx\" href=\"//search.naver.com/search.naver?where=nexearch&amp;sm=tab_htf.nws&amp;ie=utf8&amp;query=%EB%AC%B8%EC%9E%AC%EC%9D%B8+%EC%A0%95%EB%B6%80\" onclick=\"return goOtherCR(this, 'a=fkc_htk.nwslist&amp;r=20&amp;i=&amp;u='+urlencode(this.href));\"> <span class=\"keyword\"> <em class=\"num\">4</em> <span class=\"tit _text\">문재인 정부</span> </span> </a> </li> <li> <a class=\"bx\" href=\"//search.naver.com/search.naver?where=nexearch&amp;sm=tab_htf.nws&amp;ie=utf8&amp;query=%ED%8A%B8%EB%9F%BC%ED%94%84+%EB%B0%A9%ED%95%9C+%EC%95%9E%EB%91%90%EA%B3%A0\" onclick=\"return goOtherCR(this, 'a=fkc_htk.nwslist&amp;r=20&amp;i=&amp;u='+urlencode(this.href));\"> <span class=\"keyword\"> <em class=\"num\">5</em> <span class=\"tit _text\">트럼프 방한 앞두고</span> </span> </a> </li> <li> <a class=\"bx\" href=\"//search.naver.com/search.naver?where=nexearch&amp;sm=tab_htf.nws&amp;ie=utf8&amp;query=%EC%B5%9C%EC%96%91%ED%95%98+%ED%95%9C%EC%83%98+%ED%9A%8C%EC%9E%A5\" onclick=\"return goOtherCR(this, 'a=fkc_htk.nwslist&amp;r=20&amp;i=&amp;u='+urlencode(this.href));\"> <span class=\"keyword\"> <em class=\"num\">6</em> <span class=\"tit _text\">최양하 한샘 회장</span> </span> </a> </li> <li> <a class=\"bx\" href=\"//search.naver.com/search.naver?where=nexearch&amp;sm=tab_htf.nws&amp;ie=utf8&amp;query=%EC%95%A0%ED%94%8C+%EC%95%84%EC%9D%B4%ED%8F%B0X\" onclick=\"return goOtherCR(this, 'a=fkc_htk.nwslist&amp;r=20&amp;i=&amp;u='+urlencode(this.href));\"> <span class=\"keyword\"> <em class=\"num\">7</em> <span class=\"tit _text\">애플 아이폰X</span> </span> </a> </li> <li> <a class=\"bx bx_item\" href=\"//search.naver.com/search.naver?where=nexearch&amp;sm=tab_htf.nws&amp;ie=utf8&amp;query=%EB%A7%90%ED%95%98%EB%8A%94+%EC%86%8C%ED%99%94%EA%B8%B0\" onclick=\"return goOtherCR(this, 'a=fkc_htk.nwslist&amp;r=20&amp;i=&amp;u='+urlencode(this.href));\"> <span class=\"keyword\"> <em class=\"num\">8</em> <span class=\"tit _text\">말하는 소화기</span> </span> <em class=\"rank new\"><span class=\"spim\"></span><span>NEW</span></em> </a> </li> <li> <a class=\"bx bx_item\" href=\"//search.naver.com/search.naver?where=nexearch&amp;sm=tab_htf.nws&amp;ie=utf8&amp;query=%EC%B2%AD%EB%B0%B1%EB%B4%89%EC%82%AC%EC%83%81+%EB%B3%B8%EC%83%81+%EC%88%98%EC%83%81\" onclick=\"return goOtherCR(this, 'a=fkc_htk.nwslist&amp;r=20&amp;i=&amp;u='+urlencode(this.href));\"> <span class=\"keyword\"> <em class=\"num\">9</em> <span class=\"tit _text\">청백봉사상 본상 수상</span> </span> <em class=\"rank new\"><span class=\"spim\"></span><span>NEW</span></em> </a> </li> <li> <a class=\"bx\" href=\"//search.naver.com/search.naver?where=nexearch&amp;sm=tab_htf.nws&amp;ie=utf8&amp;query=%EB%B0%94%EB%A5%B8%EC%A0%95%EB%8B%B9+%EB%A7%88%EC%A7%80%EB%A7%89+%EC%9D%98%EC%B4%9D\" onclick=\"return goOtherCR(this, 'a=fkc_htk.nwslist&amp;r=20&amp;i=&amp;u='+urlencode(this.href));\"> <span class=\"keyword\"> <em class=\"num\">10</em> <span class=\"tit _text\">바른정당 마지막 의총</span> </span> </a> </li> </ol> <ol class=\"lst_realtime_srch _news_tab_area\" style=\"display:none;\"> <li> <a class=\"bx\" href=\"//search.naver.com/search.naver?where=nexearch&amp;sm=tab_htf.ent&amp;ie=utf8&amp;query=%EA%B2%B0%ED%98%BC+%EC%9D%B4%EC%84%B8%EC%B0%BD%E2%99%A5%EC%A0%95%ED%95%98%EB%82%98\" onclick=\"return goOtherCR(this, 'a=fkc_htk.entslist&amp;r=20&amp;i=&amp;u='+urlencode(this.href));\"> <span class=\"keyword\"> <em class=\"num\">1</em> <span class=\"tit _text\">결혼 이세창♥정하나</span> </span> </a> </li> <li> <a class=\"bx\" href=\"//search.naver.com/search.naver?where=nexearch&amp;sm=tab_htf.ent&amp;ie=utf8&amp;query=1%EB%B0%95+2%EC%9D%BC+%E6%95%85+%EA%B9%80%EC%A3%BC%ED%98%81+%EC%B6%94%EB%AA%A8\" onclick=\"return goOtherCR(this, 'a=fkc_htk.entslist&amp;r=20&amp;i=&amp;u='+urlencode(this.href));\"> <span class=\"keyword\"> <em class=\"num\">2</em> <span class=\"tit _text\">1박 2일 故 김주혁 추모</span> </span> </a> </li> <li> <a class=\"bx\" href=\"//search.naver.com/search.naver?where=nexearch&amp;sm=tab_htf.ent&amp;ie=utf8&amp;query=%EC%86%A1%EC%A4%91%EA%B8%B0+%EC%86%A1%ED%98%9C%EA%B5%90\" onclick=\"return goOtherCR(this, 'a=fkc_htk.entslist&amp;r=20&amp;i=&amp;u='+urlencode(this.href));\"> <span class=\"keyword\"> <em class=\"num\">3</em> <span class=\"tit _text\">송중기 송혜교</span> </span> </a> </li> <li> <a class=\"bx\" href=\"//search.naver.com/search.naver?where=nexearch&amp;sm=tab_htf.ent&amp;ie=utf8&amp;query=%EB%8F%84%EB%91%91%EB%86%88+%EB%8F%84%EB%91%91%EB%8B%98+%EA%B9%80%EC%A7%80%ED%9B%88\" onclick=\"return goOtherCR(this, 'a=fkc_htk.entslist&amp;r=20&amp;i=&amp;u='+urlencode(this.href));\"> <span class=\"keyword\"> <em class=\"num\">4</em> <span class=\"tit _text\">도둑놈 도둑님 김지훈</span> </span> </a> </li> <li> <a class=\"bx\" href=\"//search.naver.com/search.naver?where=nexearch&amp;sm=tab_htf.ent&amp;ie=utf8&amp;query=%ED%99%A9%EA%B8%88%EB%B9%9B+%EB%82%B4+%EC%9D%B8%EC%83%9D+%EC%8B%A0%ED%98%9C%EC%84%A0\" onclick=\"return goOtherCR(this, 'a=fkc_htk.entslist&amp;r=20&amp;i=&amp;u='+urlencode(this.href));\"> <span class=\"keyword\"> <em class=\"num\">5</em> <span class=\"tit _text\">황금빛 내 인생 신혜선</span> </span> </a> </li> <li> <a class=\"bx\" href=\"//search.naver.com/search.naver?where=nexearch&amp;sm=tab_htf.ent&amp;ie=utf8&amp;query=%EB%B3%80%ED%98%81%EC%9D%98+%EC%82%AC%EB%9E%91+%EC%B5%9C%EC%8B%9C%EC%9B%90\" onclick=\"return goOtherCR(this, 'a=fkc_htk.entslist&amp;r=20&amp;i=&amp;u='+urlencode(this.href));\"> <span class=\"keyword\"> <em class=\"num\">6</em> <span class=\"tit _text\">변혁의 사랑 최시원</span> </span> </a> </li> <li> <a class=\"bx\" href=\"//search.naver.com/search.naver?where=nexearch&amp;sm=tab_htf.ent&amp;ie=utf8&amp;query=%EA%B9%80%EC%96%B4%EC%A4%80%EC%9D%98+%EB%B8%94%EB%9E%99%ED%95%98%EC%9A%B0%EC%8A%A4+%EA%B9%80%EC%96%B4%EC%A4%80\" onclick=\"return goOtherCR(this, 'a=fkc_htk.entslist&amp;r=20&amp;i=&amp;u='+urlencode(this.href));\"> <span class=\"keyword\"> <em class=\"num\">7</em> <span class=\"tit _text\">김어준의 블랙하우스 김어준</span> </span> </a> </li> <li> <a class=\"bx\" href=\"//search.naver.com/search.naver?where=nexearch&amp;sm=tab_htf.ent&amp;ie=utf8&amp;query=%EB%8F%84%EB%91%91%EB%86%88+%EB%8F%84%EB%91%91%EB%8B%98+%EC%A7%80%ED%98%84%EC%9A%B0\" onclick=\"return goOtherCR(this, 'a=fkc_htk.entslist&amp;r=20&amp;i=&amp;u='+urlencode(this.href));\"> <span class=\"keyword\"> <em class=\"num\">8</em> <span class=\"tit _text\">도둑놈 도둑님 지현우</span> </span> </a> </li> <li> <a class=\"bx\" href=\"//search.naver.com/search.naver?where=nexearch&amp;sm=tab_htf.ent&amp;ie=utf8&amp;query=%EB%82%98%EC%9D%98+%EC%99%B8%EC%82%AC%EC%B9%9C+%EC%9C%A4%ED%9B%84\" onclick=\"return goOtherCR(this, 'a=fkc_htk.entslist&amp;r=20&amp;i=&amp;u='+urlencode(this.href));\"> <span class=\"keyword\"> <em class=\"num\">9</em> <span class=\"tit _text\">나의 외사친 윤후</span> </span> </a> </li> <li> <a class=\"bx\" href=\"//search.naver.com/search.naver?where=nexearch&amp;sm=tab_htf.ent&amp;ie=utf8&amp;query=%EB%A7%A4%EB%93%9C%EB%8F%85+%EC%9C%A0%EC%A7%80%ED%83%9C\" onclick=\"return goOtherCR(this, 'a=fkc_htk.entslist&amp;r=20&amp;i=&amp;u='+urlencode(this.href));\"> <span class=\"keyword\"> <em class=\"num\">10</em> <span class=\"tit _text\">매드독 유지태</span> </span> </a> </li> </ol> <div class=\"realtime_srch_area\"> <p class=\"dsc\"><time>2017.11.06. 05:30 ~ 08:30</time> 기준 <a class=\"spim lk_rts_help\" href=\"https://help.naver.com/support/alias/search/word/word_3.naver\" onclick=\"return goOtherCR(this, 'a=fkc_htk.guide&amp;r=&amp;i=&amp;u='+urlencode(this.href))\" target=\"_blank\">도움말</a></p> </div> </div> <div class=\"tab_area _tab_area _tab2\" style=\"display: none;\"> <h3 class=\"blind\">청소년 인기검색어</h3> <ol class=\"lst_realtime_srch\"> <li> <a class=\"bx bx_item\" href=\"//search.naver.com/search.naver?where=nexearch&amp;sm=tab_bcf&amp;ie=utf8&amp;ug_cid=tee&amp;query=%ED%99%A9%EA%B8%88%EB%B9%9B+%EB%82%B4+%EC%9D%B8%EC%83%9D\" onclick=\"return goOtherCR(this, 'a=fkc_bck*t.list&amp;r=20&amp;i=&amp;u='+urlencode(this.href));\"> <span class=\"keyword\"> <em class=\"num\">1</em> <span class=\"tit\">황금빛 내 인생</span> </span> <em class=\"percent\">17.7%</em> </a> </li> <li> <a class=\"bx bx_item\" href=\"//search.naver.com/search.naver?where=nexearch&amp;sm=tab_bcf&amp;ie=utf8&amp;ug_cid=tee&amp;query=%EC%9C%A0%ED%8A%9C%EB%B8%8C\" onclick=\"return goOtherCR(this, 'a=fkc_bck*t.list&amp;r=20&amp;i=&amp;u='+urlencode(this.href));\"> <span class=\"keyword\"> <em class=\"num\">2</em> <span class=\"tit\">유튜브</span> </span> <em class=\"percent\">17.1%</em> </a> </li> <li> <a class=\"bx bx_item\" href=\"//search.naver.com/search.naver?where=nexearch&amp;sm=tab_bcf&amp;ie=utf8&amp;ug_cid=tee&amp;query=%EB%B0%B0%EA%B0%81+%EA%B3%B5%EC%8B%9D\" onclick=\"return goOtherCR(this, 'a=fkc_bck*t.list&amp;r=20&amp;i=&amp;u='+urlencode(this.href));\"> <span class=\"keyword\"> <em class=\"num\">3</em> <span class=\"tit\">배각 공식</span> </span> <em class=\"percent\">9.6%</em> </a> </li> <li> <a class=\"bx bx_item\" href=\"//search.naver.com/search.naver?where=nexearch&amp;sm=tab_bcf&amp;ie=utf8&amp;ug_cid=tee&amp;query=%EC%9D%B8%EA%B0%84%EC%9D%98+%EC%A1%B4%EC%97%84%EA%B3%BC%EA%B0%80%EC%B9%98\" onclick=\"return goOtherCR(this, 'a=fkc_bck*t.list&amp;r=20&amp;i=&amp;u='+urlencode(this.href));\"> <span class=\"keyword\"> <em class=\"num\">4</em> <span class=\"tit\">인간의 존엄과가치</span> </span> <em class=\"percent\">9.6%</em> </a> </li> <li> <a class=\"bx bx_item\" href=\"//search.naver.com/search.naver?where=nexearch&amp;sm=tab_bcf&amp;ie=utf8&amp;ug_cid=tee&amp;query=%EC%A0%95%EC%A4%80%EC%98%81+%EC%98%81%EC%83%81%ED%8E%B8%EC%A7%80\" onclick=\"return goOtherCR(this, 'a=fkc_bck*t.list&amp;r=20&amp;i=&amp;u='+urlencode(this.href));\"> <span class=\"keyword\"> <em class=\"num\">5</em> <span class=\"tit\">정준영 영상편지</span> </span> <em class=\"percent\">9.3%</em> </a> </li> <li> <a class=\"bx bx_item\" href=\"//search.naver.com/search.naver?where=nexearch&amp;sm=tab_bcf&amp;ie=utf8&amp;ug_cid=tee&amp;query=1%EB%B0%952%EC%9D%BC+%EC%98%81%EC%83%81%ED%8E%B8%EC%A7%80\" onclick=\"return goOtherCR(this, 'a=fkc_bck*t.list&amp;r=20&amp;i=&amp;u='+urlencode(this.href));\"> <span class=\"keyword\"> <em class=\"num\">6</em> <span class=\"tit\">1박2일 영상편지</span> </span> <em class=\"percent\">9.0%</em> </a> </li> <li> <a class=\"bx bx_item\" href=\"//search.naver.com/search.naver?where=nexearch&amp;sm=tab_bcf&amp;ie=utf8&amp;ug_cid=tee&amp;query=%EC%9D%8C%EC%95%85%EA%B4%80%EB%A0%A8+%EC%A7%81%EC%97%85\" onclick=\"return goOtherCR(this, 'a=fkc_bck*t.list&amp;r=20&amp;i=&amp;u='+urlencode(this.href));\"> <span class=\"keyword\"> <em class=\"num\">7</em> <span class=\"tit\">음악관련 직업</span> </span> <em class=\"percent\">7.2%</em> </a> </li> <li> <a class=\"bx bx_item\" href=\"//search.naver.com/search.naver?where=nexearch&amp;sm=tab_bcf&amp;ie=utf8&amp;ug_cid=tee&amp;query=jbj\" onclick=\"return goOtherCR(this, 'a=fkc_bck*t.list&amp;r=20&amp;i=&amp;u='+urlencode(this.href));\"> <span class=\"keyword\"> <em class=\"num\">8</em> <span class=\"tit\">jbj</span> </span> <em class=\"percent\">7.2%</em> </a> </li> <li> <a class=\"bx bx_item\" href=\"//search.naver.com/search.naver?where=nexearch&amp;sm=tab_bcf&amp;ie=utf8&amp;ug_cid=tee&amp;query=1%EB%B0%95+2%EC%9D%BC\" onclick=\"return goOtherCR(this, 'a=fkc_bck*t.list&amp;r=20&amp;i=&amp;u='+urlencode(this.href));\"> <span class=\"keyword\"> <em class=\"num\">9</em> <span class=\"tit\">1박 2일</span> </span> <em class=\"percent\">7.2%</em> </a> </li> <li> <a class=\"bx bx_item\" href=\"//search.naver.com/search.naver?where=nexearch&amp;sm=tab_bcf&amp;ie=utf8&amp;ug_cid=tee&amp;query=%ED%8E%98%EC%9D%B4%EC%BB%A4\" onclick=\"return goOtherCR(this, 'a=fkc_bck*t.list&amp;r=20&amp;i=&amp;u='+urlencode(this.href));\"> <span class=\"keyword\"> <em class=\"num\">10</em> <span class=\"tit\">페이커</span> </span> <em class=\"percent\">6.1%</em> </a> </li> </ol> <div class=\"realtime_srch_area\"> <p class=\"dsc\"><time>2017.11.06. 10:00</time> 기준 <a class=\"spim lk_rts_help\" href=\"https://help.naver.com/support/alias/search/word/word_4.naver\" onclick=\"return goOtherCR(this, 'a=fkc_bck.guide&amp;r=&amp;i=&amp;u='+urlencode(this.href))\" target=\"blank\">도움말</a></p> </div> </div> <iframe frameborder=\"0\" style=\"display:block;position:absolute;top:0;left:0;z-index:-1;width:100%;height:100%\" title=\"빈프레임\"></iframe> </div> </div> <script type=\"text/javascript\"> (function() { var fnCallback = function() { var oFooterRealTime = new nhn.FooterRealtimeKeyword($(\"_nx_footer_realtime\"), \"nexearch\", null, null); nxrtrank.registRealtimeKeyword(\"nexearch\", oFooterRealTime); }; if (typeof(nxrtrank) == \"undefined\") nx_js_defer_load(\"https://ssl.pstatic.net/sstatic/au/pc/realtime_keyword/nhn.nxrtrank_150610.js\", function() {nx_js_lazyload(\"https://ssl.pstatic.net/sstatic/au/pc/realtime_keyword/nhn.footer_realtime_keyword_170529.js\", fnCallback, 1);}, 150) ; else nx_js_defer_load(\"https://ssl.pstatic.net/sstatic/au/pc/realtime_keyword/nhn.footer_realtime_keyword_170529.js\", fnCallback, 300) ; }) (); </script> <form action=\"?\" id=\"nx_search_form_btm\" method=\"get\" name=\"searchu\" onsubmit=\"return nx_form_submit(this);\"> <fieldset class=\"greenwindow\"> <legend>검색</legend> <div class=\"greenbox\"> <span class=\"keyword\"> <input name=\"sm\" type=\"hidden\" value=\"tab_hty.btm\"/> <input name=\"where\" type=\"hidden\" value=\"post\"/> <input autocomplete=\"off\" class=\"box_window\" id=\"nx_query_btm\" maxlength=\"255\" name=\"query\" title=\"검색어 입력\" type=\"text\" value=\"초미세먼지\"/> <input name=\"oquery\" type=\"hidden\" value=\"초미세먼지\"/> <input name=\"tqi\" type=\"hidden\" value=\"TQ+HQwpVuE4ssvEud5GssssssQl-349917\"/> <input disabled=\"\" name=\"acq\" type=\"hidden\" value=\"\"/> <input disabled=\"\" name=\"acr\" type=\"hidden\" value=\"\"/> <input disabled=\"\" name=\"qdt\" type=\"hidden\" value=\"\"/> <input disabled=\"\" name=\"acir\" type=\"hidden\" value=\"\"/> <input disabled=\"\" name=\"os\" type=\"hidden\" value=\"\"/> <input disabled=\"\" name=\"bid\" type=\"hidden\" value=\"\"/> <input disabled=\"\" name=\"pkid\" type=\"hidden\" value=\"\"/> <input disabled=\"\" name=\"eid\" type=\"hidden\" value=\"\"/> <input disabled=\"\" name=\"mra\" type=\"hidden\" value=\"\"/> </span> </div> <div class=\"autocomplete\" id=\"nautocomplete_btm\"> <a class=\"bt_atcp _btn_arw fold\" href=\"#\" onclick=\"return false;\"><span class=\"blind _text\">자동완성 펼치기</span><span class=\"ico_arrow spnew\"></span></a> </div> <button class=\"bt_search\" onmousedown=\"$Element(this).removeClass('over');$Element(this).addClass('down');\" onmouseout=\"$Element(this).removeClass('over down');\" onmouseover=\"$Element(this).addClass('over');\" type=\"submit\"><span class=\"spnew ico_search\">검색</span></button> <div class=\"ly_atcmp ly_atcmp_v1\" id=\"nx_autoframe_btm\" style=\"display:none;\"> <iframe frameborder=\"0\" style=\"display:none;display:block\\9;display:block\\0/;position:absolute;top:-1px;left:-1px;z-index:-1;width:100%;height:100%;padding:1px;filter:alpha(opacity=0);opacity:0\" title=\"빈프레임\"></iframe> <div class=\"api_atcmp_wrap api_atcmp_wrap_v1 _atcmp\" style=\"display:none;\"> <p class=\"func\"><span class=\"fl\"><a href=\"https://help.naver.com/support/alias/search/word/word_17.naver\" onclick=\"__atcmpCR(event, this, 'help', '','','');\" target=\"_blank\">도움말</a><span class=\"atcmp_bar\"></span><a href=\"https://help.naver.com/support/alias/search/word/word_18.naver\" onclick=\"__atcmpCR(event, this, 'report', '','','');\" target=\"_blank\">신고</a></span><span><em><a class=\"hisoff\" href=\"javascript:;\">검색어저장 켜기</a><span class=\"atcmp_bar\"></span></em><a class=\"funoff\" href=\"javascript:;\">자동완성 끄기</a></span></p> <div class=\"atcmp_plus _plus\"> <span class=\"desc\"> <span class=\"plus_txt\">시간대와 관심사에 맞춘 <em class=\"txt\">컨텍스트 자동완성</em></span> <a class=\"spat ico_info\" href=\"https://help.naver.com/support/alias/search/word/word_16.naver\" onclick=\"__atcmpCR(event, this, 'plus.help', '','','');\" target=\"_blank\"><span class=\"blind\">도움말 보기</span></a> </span> <span class=\"switch _plus_btn\"> <a class=\"btn_turnon active\" href=\"#\" onclick=\"__atcmpCR(event, this, 'plus.use', '','','');\">ON<span class=\"blind\">선택됨</span></a> <a class=\"btn_turnoff\" href=\"#\" onclick=\"__atcmpCR(event, this, 'plus.unuse', '','','');\">OFF</a> </span> <div class=\"layer_plus _plusAlert\"> <strong class=\"tit\">컨텍스트 자동완성</strong> <div class=\"_logout\" style=\"display:block;\"> <p class=\"dsc\"><em class=\"txt\">동일한 시간대/연령/남녀별</em> 사용자 그룹의<br/>관심사에 맞춰 자동완성을 제공합니다.</p> <div class=\"btn_area\"> <a class=\"btn btn_login\" href=\"https://nid.naver.com/nidlogin.login\" onclick=\"__atcmpCR(event, this, 'plus.login', '','','');\">로그인</a> <a class=\"btn btn_view\" href=\"https://help.naver.com/support/alias/search/word/word_16.naver\" onclick=\"__atcmpCR(event, this, 'plus.detail', '','','');\" target=\"_blank\">자세히</a> </div> </div> <div class=\"_login\" style=\"display:none;\"> <p class=\"dsc\">ON/OFF설정은<br/>해당 기기(브라우저)에 저장됩니다.</p> <div class=\"btn_area\"> <a class=\"btn btn_view\" href=\"https://help.naver.com/support/alias/search/word/word_21.naver\" onclick=\"__atcmpCR(event, this, 'plus.detail', '','','');\" target=\"_blank\">자세히</a> </div> </div> <button class=\"btn_close _close\" onclick=\"__atcmpCR(event, this, 'plus.close', '','','');\" type=\"button\"><i class=\"spat ico_close\">컨텍스트 자동완성 레이어 닫기</i></button> </div> </div> <div class=\"words _words\"> <div class=\"_atcmp_result_wrap\"> <ul class=\"_resultBox\"></ul> <ul class=\"_resultBox\"></ul> <ul class=\"_resultBox\"></ul> <ul class=\"_resultBox\"></ul> </div> <div class=\"add_group _atcmp_answer_wrap\"></div> </div> <div class=\"words nature\"> <ul class=\"_nature\"> <li class=\"_item\"><a href=\"#\" onclick=\"return false;\">@txt@</a><span id=\"rank@rank@\" style=\"display:none\">@txt@</span></li> </ul> <h3 class=\"tit\">생각한대로 검색해 보세요 <span class=\"beta\">Beta</span></h3> </div> <span class=\"atcmp_helper _help_tooltip1\">기능을 다시 켤 때는 <em class=\"ico_search spat\">검색창 오른쪽 화살표 버튼</em>을 클릭하세요</span> </div> <div class=\"api_atcmp_wrap api_atcmp_wrap_v1 _atcmpIng\" style=\"display:none;\"> <p class=\"func\"><span class=\"fl\"><a href=\"https://help.naver.com/support/alias/search/word/word_17.naver\" onclick=\"__atcmpCR(event, this, 'help', '','','');\" target=\"_blank\">도움말</a><span class=\"atcmp_bar\"></span><a href=\"https://help.naver.com/support/alias/search/word/word_18.naver\" onclick=\"__atcmpCR(event, this, 'report', '','','');\" target=\"_blank\">신고</a></span><span><em><a class=\"hisoff\" href=\"javascript:;\">검색어저장 켜기</a><span class=\"atcmp_bar\"></span></em><a class=\"funoff\" href=\"javascript:;\">자동완성 끄기</a></span></p> <div class=\"words\"><p class=\"info_words\">현재 자동완성 기능을 사용하고 계십니다.</p></div> <span class=\"atcmp_helper _help_tooltip2\">기능을 다시 켤 때는 <em class=\"ico_search spat\">검색창 오른쪽 화살표 버튼</em>을 클릭하세요</span> </div> <div class=\"api_atcmp_wrap api_atcmp_wrap_v1 _atcmpStart\" style=\"display:none;\"> <p class=\"func\"><span class=\"fl\"><a href=\"https://help.naver.com/support/alias/search/word/word_17.naver\" onclick=\"__atcmpCR(event, this, 'help', '','','');\" target=\"_blank\">도움말</a><span class=\"atcmp_bar\"></span><a href=\"https://help.naver.com/support/alias/search/word/word_18.naver\" onclick=\"__atcmpCR(event, this, 'report', '','','');\" target=\"_blank\">신고</a></span><span><em><a class=\"hisoff\" href=\"javascript:;\">검색어저장 켜기</a><span class=\"atcmp_bar\"></span></em><a class=\"funoff\" href=\"javascript:;\">자동완성 끄기</a></span></p> <div class=\"words\"><p class=\"info_words\">자동완성 기능이 활성화되었습니다.</p></div> <span class=\"atcmp_helper _help_tooltip3\">기능을 다시 켤 때는 <em class=\"ico_search spat\">검색창 오른쪽 화살표 버튼</em>을 클릭하세요</span> </div> <div class=\"api_atcmp_wrap api_atcmp_wrap_v1 _atcmpOff\" style=\"display:none;\"> <p class=\"func\"><span class=\"fl\"><a href=\"https://help.naver.com/support/alias/search/word/word_17.naver\" onclick=\"__atcmpCR(event, this, 'help', '','','');\" target=\"_blank\">도움말</a><span class=\"atcmp_bar\"></span><a href=\"https://help.naver.com/support/alias/search/word/word_18.naver\" onclick=\"__atcmpCR(event, this, 'report', '','','');\" target=\"_blank\">신고</a></span><span><em><a class=\"hisoff\" href=\"javascript:;\">검색어저장 켜기</a><span class=\"atcmp_bar\"></span></em><a class=\"funoff\" href=\"javascript:;\">자동완성 켜기</a></span></p> <div class=\"words\"><p class=\"info_words\">자동완성 기능이 꺼져 있습니다.</p></div> </div> <div class=\"api_atcmp_wrap api_atcmp_wrap_v1 _keywords\" id=\"keyword\" style=\"display:none;\"> <div class=\"my_words\"> <p class=\"func _recentBtnGroup\"><span class=\"fl\"><a class=\"_delMode\" href=\"javascript:;\">기록 삭제</a></span><span><a class=\"_keywordOff\" href=\"javascript:;\">검색어저장 끄기</a><span class=\"atcmp_bar\"></span><a class=\"_acOff\" href=\"javascript:;\">자동완성 끄기</a></span></p> <p class=\"func _recentDelBtnGroup\" style=\"display:none\"><span class=\"fl\"><a class=\"_delAll\" href=\"javascript:;\" title=\"최근 검색어 기록을 모두 삭제합니다.\">기록 전체 삭제</a></span><span><a class=\"_delDone\" href=\"javascript:;\">완료</a></span></p> <p class=\"func _myBtnGroup\" style=\"display:none\"><span class=\"fl\"><a class=\"_delAll\" href=\"javascript:;\" title=\"설정된 내 검색어를 모두 삭제합니다.\">기록 전체 삭제</a></span><span><a class=\"_keywordOff\" href=\"javascript:;\">검색어저장 끄기</a><span class=\"atcmp_bar\"></span><a class=\"_acOff\" href=\"javascript:;\">자동완성 끄기</a></span></p> <span class=\"atcmp_helper _help2\">기능을 다시 켤 때는 <em class=\"ico_search spat\">검색창 오른쪽 화살표 버튼</em>을 클릭하세요</span> <p class=\"noti _noti\" style=\"display:none\"><em class=\"ico_noti spat\"><span class=\"blind\">알림</span></em>공용 PC에서는 개인정보 보호를 위하여 반드시 로그아웃을 해 주세요.</p> <div class=\"words _recent\"> <ul><li data-rank=\"@rank@\"><a class=\"t@my@ _star _myBtn\" href=\"javascript:;\" title=\"내 검색어 등록\"><em class=\"spat\">내 검색어 등록</em></a><a class=\"keyword\" href=\"javascript:;\">@txt@</a><em class=\"keyword_date\">@date@.</em><a class=\"btn_delete spat _del\" href=\"javascript:;\" title=\"검색어삭제\">삭제</a><span style=\"display:none\">@in_txt@</span></li></ul> <div class=\"info_words _recentNone\" style=\"display:none\">최근검색어 내역이 없습니다.</div> <p class=\"info_words _offMsg\" style=\"display:none\">검색어 저장 기능이 꺼져 있습니다.</p> </div> <div class=\"words _my\" style=\"display:none\"> <ul><li data-rank=\"@rank@\"><a class=\"ton _star _myBtn\" href=\"javascript:;\" title=\"내 검색어 해제\"><em class=\"spat\">내 검색어 해제</em></a><a class=\"keyword\" href=\"javascript:;\">@txt@</a></li></ul> <div class=\"info_words _myNone\" style=\"display:none\">설정된 내 검색어가 없습니다.<br/>최근검색어에서 <span class=\"star spat\">내 검색어 등록</span>를 선택하여 자주 찾는 검색어를<br>내 검색어로 저장해 보세요.</br></div> <p class=\"info_words _offMsg\" style=\"display:none\">검색어 저장 기능이 꺼져 있습니다.</p> </div> <div class=\"lst_tab\"> <ul> <li class=\"on _recentTab\"><a href=\"javascript:;\">최근검색어</a></li> <li class=\"_myTab\"><a href=\"javascript:;\">내 검색어</a></li> </ul> </div> <div class=\"ly_noti _maxLayer\" style=\"display:none\"> <span class=\"mask\"></span> <p><span class=\"ico_alert spat\"></span>내 검색어는 <em>최대 10</em>개 까지 저장할 수 있습니다.<br>추가하시려면 기존 내 검색어를 지워주세요. <a class=\"btn_close _close\" href=\"javascript:;\"><i class=\"spat ico_close\">닫기</i></a></br></p> </div> </div> </div> <div class=\"api_atcmp_wrap _alert\" style=\"display:none;\"> <div class=\"api_atcmp_alert\"> <span class=\"ico_alert spat\"></span> <p class=\"dsc_txt\">제19대 대통령선거 후보에 대해 5월 9일 선거일까지 자동완성 기능이 제공되지 않습니다.<br/> <a href=\"http://naver_diary.blog.me/220982360603\" nocr=\"\" onclick=\"return goOtherCR(this,'a=sug.vote&amp;r=&amp;i=&amp;u='+urlencode(this.href));\" target=\"_blank\">자세히보기</a></p> </div> </div> </div> </fieldset> </form> </div> <ul class=\"lst_foot\"> <li class=\"first\"><a href=\"http://searchad.naver.com/\" onclick=\"return goOtherCR(this, 'a=fot.searchad&amp;r=&amp;i=&amp;u='+urlencode(this.href));\" target=\"_blank\">검색광고 안내</a><span class=\"bar\"></span></li> <li><a href=\"https://help.naver.com/support/alias/search/footer/blog.naver\" onclick=\"return goOtherCR(this, 'u='+urlencode(this.href)+'&amp;a=fot.help&amp;r=&amp;i=');\" target=\"_blank\">블로그검색 고객센터</a><span class=\"bar\"></span></li> <li><a href=\"https://help.naver.com/support/alias/report/unsound.naver\" onclick=\"return goOtherCR(this, 'u='+urlencode(this.href)+'&amp;a=fot.inform&amp;r=&amp;i=');\" target=\"_blank\">유해게시물신고</a><span class=\"bar\"></span></li> </ul> <address><em>©</em> <a href=\"http://www.navercorp.com/\" onclick=\"return goOtherCR(this, 'u='+urlencode(this.href)+'&amp;a=fot.nhn&amp;r=&amp;i=');\" target=\"_blank\">NAVER Corp.</a></address> </div> </div> <div class=\"layer_map\" id=\"bck_layer_map\" style=\"left:440px; top:284px; display:none\"> <div class=\"layer_bd\"> <iframe frameborder=\"0\" height=\"373\" marginheight=\"0\" marginwidth=\"0\" name=\"map\" scrolling=\"no\" title=\"약도 보기\" width=\"440\"></iframe> </div> <!--[if IE 6]><iframe title=\"약도 보기\" frameborder=\"0\" width=\"444\" height=\"377\" style=\"position:absolute; left:0; top:0; z-index:10\"></iframe><![endif]--> </div> <script id=\"_atcmp_answer_0\" type=\"text/template\"> <div class=\"add_opt _item\" data-sm=\"@2@\" data-keyword=\"@1@\" data-template_id=\"@0@\" data-acir=\"@rank@\" data-os=\"@8@\" data-bid=\"@9@\" data-eid=\"@3@\" data-pkid=\"@10@\" data-mra=\"@11@\" > <a href=\"#\" class=\"opt_dsc\"> <span class=\"dsc_thmb\" style=\"@style7@\">@image7@</span> <span class=\"dsc_group\"> <span class=\"dsc_cate\">@6@</span> <strong class=\"dsc_word\">@1@</strong> <span class=\"dsc_sub\" style=\"@style12@\">@12@</span> </span> </a> </div> </script> <script id=\"_atcmp_answer_3\" type=\"text/template\"> <div class=\"add_opt _item\" data-sm=\"@2@\" data-keyword=\"@1@\" data-template_id=\"@0@\" data-acir=\"@rank@\"> <a href=\"javascript:;\" class=\"opt_lotto\"> <span class=\"lotto_num_area\"> <span class=\"spat lotto_num lotto_num@6@\">@6@</span><span class=\"spat lotto_num lotto_num@7@\">@7@</span><span class=\"spat lotto_num lotto_num@8@\">@8@</span><span class=\"spat lotto_num lotto_num@9@\">@9@</span><span class=\"spat lotto_num lotto_num@10@\">@10@</span><span class=\"spat lotto_num lotto_num@11@\">@11@</span><span class=\"spat lotto_bonus\">+</span><span class=\"spat lotto_num lotto_num@12@\">@12@</span> </span> <span class=\"lotto_sub\">@5@회차<em class=\"lotto_date\">(@13@.)</em></span> </a> </div> </script> <script id=\"_atcmp_answer_9\" type=\"text/template\"> <div class=\"add_opt _item\" data-sm=\"@2@\" data-keyword=\"@1@\" data-template_id=\"@0@\" data-acir=\"@rank@\"> <a href=\"javascript:;\" class=\"opt_exchange opt_exchange_@11@\"> <span class=\"opt_nation\"> <img src=\"https://ssl.pstatic.net/sstatic/keypage/lifesrch/exchange/ico_@12@1.gif\" alt=\"\" /> @14@ <span class=\"tx_nation\">@money@</span> </span> <span class=\"opt_amount\"> <span class=\"amount\"><strong>@6@</strong>원</span><span class=\"changes\"><i class=\"bullet\">@10@</i> @8@ (@9@%)<span class=\"opt_time\"><time datetime=\"@fulldate@\">@7@</time></span></span> </span> </a> </div> </script> <script id=\"_atcmp_answer_10\" type=\"text/template\"> <div class=\"add_opt _item\" data-sm=\"@2@\" data-keyword=\"@1@\" data-template_id=\"@0@\" data-acir=\"@rank@\"> <a href=\"javascript:;\" class=\"opt_weather\"> <span class=\"opt_weather_thmb\"> <img src=\"https://ssl.pstatic.net/sstatic/search/pc/img/wt_@6@.png\" width=\"56\" height=\"56\" alt=\"@7@\"> </span> <span class=\"opt_weather_group\"> <span class=\"opt_weather_state\">@7@</span> <span class=\"opt_weather_state\">기온 <em class=\"opt_deg\">@8@</em><span class=\"opt_unit\">℃</span></span> <span class=\"opt_weather_state\">@9@ <em>@10@</em><span class=\"opt_unit\">@11@</span></span> <span class=\"opt_weather_state\"><span class=\"opt_time\"><time datetime=\"@fulldate@\">@5@</time></span></span> </span> </a> </div> </script> <script id=\"_atcmp_answer_11\" type=\"text/template\"> <div class=\"add_opt _item\" data-sm=\"@2@\" data-keyword=\"@1@\" data-template_id=\"@0@\" data-acir=\"@rank@\"> <a href=\"javascript:;\" class=\"opt_weather\"> <span class=\"opt_weather_thmb\"> <img src=\"https://ssl.pstatic.net/sstatic/search/pc/img/wt_@6@.png\" width=\"56\" height=\"56\" alt=\"@7@\"> </span> <span class=\"opt_weather_group\"> <span class=\"opt_weather_state\">@7@</span> <span class=\"opt_weather_state\">기온 <em class=\"opt_deg\">@8@</em><span class=\"opt_unit\">℃</span></span> <span class=\"opt_weather_state\">@9@ <em>@10@</em><span class=\"opt_unit\">@11@</span></span> <span class=\"opt_weather_state\"><span class=\"opt_time\"><time datetime=\"@fulldate@\">@5@</time></span></span> </span> </a> </div> </script> <script id=\"_atcmp_answer_17\" type=\"text/template\"> <div class=\"add_opt _item\" data-sm=\"@2@\" data-keyword=\"@1@\" data-template_id=\"@0@\" data-acir=\"@rank@\"> <a href=\"@5@\" target=\"_blank\" class=\"opt_shortcut\"> <span class=\"opt_url\">@display_link@</span> <span class=\"opt_txt\">사이트로 바로 이동</span> </a> </div> </script> <script id=\"_atcmp_answer_20\" type=\"text/template\"></script> <script id=\"_atcmp_intend\" type=\"text/template\"> <div class=\"add_opt type_context _item\" data-sm=\"asct\" data-keyword=\"@transquery@\" data-acir=\"@rank@\"> <a href=\"#\" class=\"opt_context\"> <span class=\"opt_tit\"><strong>@query@</strong></span> <span class=\"opt_sub\">@intend@</span> </a> </div> </script> <script id=\"_atcmp_result_item_tpl\" type=\"text/template\"> <li class=\"_item @url_class@\" data-acr=\"@rank@\"> <a href=\"#\" class=\"atcmp_keyword\" onclick=\"return false;\" title=\"\"><span class=\"atcmp_keyword_txt\">@txt@<span class=\"spat ic_expand\"></span></span></a> <a href=\"@url@\" target=\"_blank\" class=\"mquick\">바로이동</a> <span style=\"display:none\">@in_txt@</span> </li> </script> <script id=\"_atcmp_keyword_highlight_tpl\" type=\"text/template\"> @mismatch_before@<strong>@match@</strong>@mismatch_after@ </script> <script id=\"_atcmp_keyword_partial_match_highlight_tpl\" type=\"text/template\"> @mismatch_before@<strong>@match@</strong>@mismatch_after@ </script> <script type=\"text/javascript\"> /* [PR] 서비스에서 사용하는 클릭로그함수 설정 */ window.__atcmpCR = function(we, el, name, order, areaCode, rank) { var htAreaCode = __ghtAutoCompleteConfig[\"htAreaCode\"]; if(typeof htAreaCode[name] !== 'undefined') { var areaCode = htAreaCode[name][0]; var rank = htAreaCode[name][1]; if(areaCode !== '') { tCR('a='+areaCode+'&u='+urlencode(el.href)); /* clickcr(el, areaCode, rank, '', we); */ /* console.log(areaCode + rank); */ } } return false; }; /* [PR] 서비스별로 form submit 전에 처리해야하는 내용은 이곳에 작성해주세요. */ window.__atcmpSubmitBefore = function(elForm) { try { top.nx_form_submit(elForm); } catch (e) { try { nx_form_submit(elForm); } catch (e) {} } }; /* [PR] 각 서비스별 옵션 : 로그인여부는 pr에서 정의필요합니다. */ window.__ghtAutoCompleteConfig = { /* 자동완성 설정 (Top&Bottom) */ \"bLogin\" : false, /* 로그인 여부 */ \"sFromWhere\" : 'nx', /* 검색 출처 (폼전송시 함께 전송) */ \"nStrMax\" : 55, /* 최대 말줄임 길이 */ \"sCookie\" : 'NaverSuggestUse', /* 사용 쿠키명 */ \"htApiUrl\" : { /* 자동완성 API 정보 */ \"sMyKeyword\" : 'https://s.search.naver.com/n/mykeyword/search', \"sAcKeyword\" : '//ac.search.naver.com/nx/ac', \"sAcAnsType\" : '2' /* 1 : 기존정답형만 lookup (탭검인 경우 1로 설정) */ }, \"ahtOption\" : [ { \"sOrder\" : \"asc\", /* 정렬방식 (asc/desc) */ \"sFormId\" : 'nx_search_form', /* 폼엘리먼트 ID */ \"sInputId\" : 'nx_query', /* 입력창 엘리먼트 ID */ \"sViewId\" : 'nx_autoframe_top', /* 자동완성 레이어 ID */ \"sViewToggleButtonId\" : 'nautocomplete' /* 레이어토글 버튼 ID */ } ,{ \"sOrder\" : \"desc\", /* 정렬방식 (asc/desc) */ \"sFormId\" : 'nx_search_form_btm', /* 폼엘리먼트 ID */ \"sInputId\" : 'nx_query_btm', /* 입력창 엘리먼트 ID */ \"sViewId\" : 'nx_autoframe_btm', /* 자동완성 레이어 ID */ \"sViewToggleButtonId\" : 'nautocomplete_btm' /* 레이어토글 버튼 ID */ } ], \"htButtonImg\" : { \"show\" : \"https://ssl.pstatic.net/sstatic/search/2015/btn_atcmp_up.gif\", \"unuseShow\" : \"https://ssl.pstatic.net/sstatic/search/images11/btn_atcmp_up_off.gif\", \"hide\" : \"https://ssl.pstatic.net/sstatic/search/2015/btn_atcmp_down.gif\", \"unuse\" : \"https://ssl.pstatic.net/sstatic/search/images11/btn_atcmp_down_off2.gif\" }, /* 서비스별 클릭영역코드 매핑정보 (sch.xxx: 검색창영역, sug.xxx: 자동완성 영역, sly.xxx: 최근/내검색어 영역) */ \"htAreaCode\": { \"expand\": ['sch.expand', '0'], /* 우측 역삼각형 펼침 */ \"close\": ['sch.close', '0'], /* 우측 역삼각형 접힘 */ \"autokeyword\": ['', ''], /* 자동완성키워드 클릭 (종료: 폼액션으로 넘어가므로 클릭로그 대신 SM파라미터로 수집함) */ \"ansdirect\": ['sug.ansdirect', ''], /* 정답형 바로가기 (엔터/클릭) */ \"go1\": ['sug.go1', ''], /* 바로이동 클릭 */ \"go2\": ['sug.go2', ''], /* 바로이동 클릭 (하단영역이 있는 통검 및 SE통검 에서만 유효함) */ \"help\": ['sug.help', ''], /* 도움말 클릭 */ \"report\": ['sug.report', ''], /* 신고 클릭 */ \"sugoff\": ['sug.sugoff', ''], /* 자동완성 끄기 클릭 */ \"sugon\": ['sug.sugon', ''], /* 자동완성 켜기 클릭 */ \"plus.close\": ['sug.cxhide', ''], /* 자동완성 플러스 닫기버튼 */ \"plus.login\": ['sug.cxlogin', ''], /* 자동완성 플러스 로그인 버튼 */ \"plus.detail\": ['sug.cxlink', ''], /* 자동완성 플러스 자세히 버튼 */ \"plus.help\": ['sug.cxhelp', ''], /* 자동완성 플러스 도움말 */ \"plus.use\": ['sug.cxon', ''], /* 자동완성 플러스 사용 */ \"plus.unuse\": ['sug.cxoff', ''], /* 자동완성 플러스 사용안함 */ \"saveoff\": ['sug.saveoff', ''], /* 검색어저장 끄기 클릭 */ \"saveon\": ['sug.saveon', ''], /* 검색어저장 켜기 클릭 */ \"rtab\": ['sly.rtab', ''], /* 최근검색어 탭 클릭 */ \"mytab\": ['sly.mytab', ''], /* 내검색어 탭 클릭 */ \"rx\": ['sly.rx', ''], /* 최근검색어 개별삭제 클릭 */ \"rdel\": ['sly.rdel', ''], /* 최근검색어 기록삭제 클릭 */ \"rdelend\": ['sly.rdelend', ''], /* 최근검색어 완료 클릭 */ \"ralldel\": ['sly.ralldel', ''], /* 최근검색어 전체삭제 클릭 */ \"myalldel\": ['sly.myalldel', ''], /* 내검색어 전체삭제 */ \"mydel\": ['sly.mydel', ''], /* 내검색어 삭제 */ \"myadd\": ['sly.myadd', ''] /* 내검색어 등록 */ }, /* 서비스별 클릭영역코드 매핑정보 */ /* 서비스별 SM파라미터 매핑정보 */ \"htSmParam\" : { \"hty\" : 'tab_hty.top', /* sm 파라미터 초기값 */ \"htyb\" : 'tab_hty.btm', /* sm 파라미터 초기값(검색창 하단) */ \"hst\" : 'tab_sly.hst', /* 최근검색키워드 */ \"my\" : 'tab_sly.my', /* 내검색키워드 */ \"prefix\" : 'tab_sug', /* sm 파라미터 서비스별 prefix */ \"top\" : 'tab_sug.top', /* 자동완성키워드 */ \"btm\" : 'tab_sug.btm', /* 자동완성키워드 (역순) */ \"pat\" : 'tab_sug.pat', /* 자동완성키워드 (부분자동완성) */ \"mbk\" : 'tab_sug.mbk', /* 자동완성키워드 (오타교정자동완성) */ \"nlq\" : 'tab_sug.nlq', /* 자연어검색 */ \"asgl\" : 'tab_sug.asgl', /* 1국가번호 (한국 국가번호) */ \"asga\" : 'tab_sug.asga', /* 1국가번호 다른중복지역 */ \"aslt\" : 'tab_sug.aslt', /* 3로또당첨번호 */ \"aspl\" : 'tab_sug.aspl', /* 6연금복권당첨번호 */ \"astm\" : 'tab_sug.astm', /* 7영업시간 (신한은행 영업시간) */ \"ast\" : 'tab_sug.ast', /* 8전화번호 (국세청 전화번호) */ \"ase\" : 'tab_sug.ase', /* 9환율 (엔화환율) */ \"aswt\" : 'tab_sug.aswt', /* 10해외날씨 (일본날씨) */ \"asiw\" : 'tab_sug.asiw', /* 11국내날씨 (서울날씨) */ \"asis\" : 'tab_sug.asis' /* 12올림픽순위 */ } }; </script> <script type=\"text/javascript\"> /* 자동완성 객체 생성 (Top & Bottom) */ new nhn.common.atcmp.naver_web.Controller(__ghtAutoCompleteConfig).attach({ onSelect : function(oCustomEvent) {__atcmpSubmitBefore(oCustomEvent.elForm);}, onClickLog : function(oCustomEvent) {__atcmpCR(oCustomEvent.event, oCustomEvent.element, oCustomEvent.name, oCustomEvent.order, '', '');} }); </script> </div> <script type=\"text/javascript\"> (function() { var needFix = navigator.userAgent.toLowerCase().indexOf('webkit') > -1; d = document; if (!needFix || !d.querySelectorAll) return; var toArray = function(list){ var armap=[]; i=0; for(;i<list.length;++i){ armap.push(list[i]); } return Array.prototype.slice.call(armap, 0); } ; window.addEventListener('load', function() { toArray(d.querySelectorAll('#u_skip a')).forEach(function(el) { el.addEventListener('click', function() { var target = d.getElementById(this.href.split('#')[1]); oldTabIndex = target.getAttribute('tabindex'); oldOutlineWidth = d.defaultView.getComputedStyle(target, null).getPropertyValue('outline-width'); target.setAttribute('tabindex', 0); target.style.outlineWidth = 0; target.focus(); if (oldTabIndex === null) target.removeAttribute('tabindex'); else target.setAttribute('tabindex', oldTabIndex); }, false); }); }, false); })(); </script><script type=\"text/javascript\"> if(typeof nx_usain_beacon !== 'undefined') {  $Fn(function () { nx_usain_beacon.send(); }).attach(window, \"load\") ; } </script></body> </html>"
      ]
     },
     "execution_count": 4,
     "metadata": {},
     "output_type": "execute_result"
    }
   ],
   "source": [
    "webpage = urllib.request.urlopen(get_naver_blog_url(\"%EC%B4%88%EB%AF%B8%EC%84%B8%EB%A8%BC%EC%A7%80\", 100))\n",
    "ori_contents = webpage.read().decode(\"utf-8\")\n",
    "contents = BeautifulSoup(ori_contents, \"html.parser\")\n",
    "contents"
   ]
  },
  {
   "cell_type": "code",
   "execution_count": 5,
   "metadata": {
    "collapsed": true
   },
   "outputs": [],
   "source": [
    "post_elements = contents.select(\"#elThumbnailResultArea li.sh_blog_top\")"
   ]
  },
  {
   "cell_type": "code",
   "execution_count": 6,
   "metadata": {},
   "outputs": [
    {
     "data": {
      "text/plain": [
       "10"
      ]
     },
     "execution_count": 6,
     "metadata": {},
     "output_type": "execute_result"
    }
   ],
   "source": [
    "len(post_elements)"
   ]
  },
  {
   "cell_type": "code",
   "execution_count": 7,
   "metadata": {
    "collapsed": true
   },
   "outputs": [],
   "source": [
    "post_element = post_elements[0]"
   ]
  },
  {
   "cell_type": "code",
   "execution_count": 8,
   "metadata": {
    "collapsed": true
   },
   "outputs": [
    {
     "data": {
      "text/plain": [
       "<li class=\"sh_blog_top\" id=\"sp_blog_1\"> <div class=\"thumb thumb-rollover\"> <a class=\"sp_thmb thmb80\" href=\"http://blog.naver.com/violaming77?Redirect=Log&amp;logNo=220363195396\" onclick=\"return goOtherCR(this, 'a=blg*i.img&amp;r=991&amp;i=90000003_00000000000000334EAB8404&amp;u='+urlencode(this.href))\" target=\"_blank\"><img alt=\"LG 프리미엄 공기청정\" class=\"sh_blog_thumbnail\" onerror=\"this.parentNode.parentNode.style.display='none';\" onload=\"onThumbnailLoad(this,'https://search.pstatic.net/common/?src=http%3A%2F%2Fblogfiles.naver.net%2F20150518_81%2Fviolaming77_1431933579953g64hG_JPEG%2FDSC_0176.JPG%23900x1350&amp;type=m80_80');\" src=\"https://search.pstatic.net/common/?src=http%3A%2F%2Fblogfiles.naver.net%2F20150518_81%2Fviolaming77_1431933579953g64hG_JPEG%2FDSC_0176.JPG%23900x1350&amp;type=m80_80\"/><span class=\"thmb_v\"></span><span class=\"mask\"></span> </a> <a class=\"thumb_num num-rollover\" href=\"#\"><span>39<span class=\"blind\">장의 이미지 더보기</span></span></a> <div class=\"thumb_slide_wrap\" style=\"width:0px; overflow:hidden; display:none;\"></div> </div> <dl> <dt><a class=\"sh_blog_title _sp_each_url _sp_each_title\" href=\"http://blog.naver.com/violaming77?Redirect=Log&amp;logNo=220363195396\" onclick=\"return goOtherCR(this, 'a=blg*i.tit&amp;r=991&amp;i=90000003_00000000000000334EAB8404&amp;u='+urlencode(this.href))\" target=\"_blank\" title=\"LG 프리미엄 공기청정기, 초미세먼지 걱정 끝!\">LG 프리미엄 공기청정기, <strong class=\"hl\">초미세먼지</strong> 걱정 끝!</a></dt> <dd class=\"txt_inline\">2015.05.23. </dd> <dd class=\"sh_blog_passage\">LG 프리미엄 공기청정기는 3단계 전문필터로 미세먼지보다 더 심하다는 <strong class=\"hl\">초미세먼지</strong>까지 걸려줘요. 간략하게 필터를 소개해드리자면- 1단계 : 극세필터로 1차적인 공기...</dd> <dd class=\"txt_block\"> <span class=\"inline\"> <a class=\"txt84\" href=\"http://blog.naver.com/violaming77\" onclick=\"return goOtherCR(this, 'u='+urlencode(urlexpand(this.href))+'&amp;a=blg*i.blogname&amp;r=991&amp;i=90000003_00000000000000334EAB8404');\" target=\"_blank\">대박터지는 우리집</a><a class=\"url\" href=\"http://blog.naver.com/violaming77?Redirect=Log&amp;logNo=220363195396\" onclick=\"return goOtherCR(this, 'a=blg*i.url&amp;r=991&amp;i=90000003_00000000000000334EAB8404&amp;u='+urlencode(this.href))\" target=\"_blank\">blog.naver.com/violaming77/220363195396</a> <span class=\"bar\"></span> <a class=\"txt84\" href=\"?date_from=&amp;date_option=0&amp;date_to=&amp;dup_remove=1&amp;ie=utf8&amp;nso=&amp;qdt=0&amp;query=%EC%B4%88%EB%AF%B8%EC%84%B8%EB%A8%BC%EC%A7%80&amp;qvt=0&amp;sm=tab_brs&amp;srchby=all&amp;st=sim&amp;where=post&amp;post_blogurl=blog.naver.com%2Fviolaming77\" onclick=\"return goOtherCR(this, 'a=blg*i.similar&amp;r=991&amp;i=90000003_00000000000000334EAB8404&amp;u='+urlencode(this.href))\">블로그 내 검색</a> </span> </dd> </dl> </li>"
      ]
     },
     "execution_count": 8,
     "metadata": {},
     "output_type": "execute_result"
    }
   ],
   "source": [
    "post_element"
   ]
  },
  {
   "cell_type": "code",
   "execution_count": 9,
   "metadata": {},
   "outputs": [
    {
     "data": {
      "text/plain": [
       "<a class=\"sh_blog_title _sp_each_url _sp_each_title\" href=\"http://blog.naver.com/violaming77?Redirect=Log&amp;logNo=220363195396\" onclick=\"return goOtherCR(this, 'a=blg*i.tit&amp;r=991&amp;i=90000003_00000000000000334EAB8404&amp;u='+urlencode(this.href))\" target=\"_blank\" title=\"LG 프리미엄 공기청정기, 초미세먼지 걱정 끝!\">LG 프리미엄 공기청정기, <strong class=\"hl\">초미세먼지</strong> 걱정 끝!</a>"
      ]
     },
     "execution_count": 9,
     "metadata": {},
     "output_type": "execute_result"
    }
   ],
   "source": [
    "post_element.select_one(\".sh_blog_title\")"
   ]
  },
  {
   "cell_type": "code",
   "execution_count": 10,
   "metadata": {},
   "outputs": [
    {
     "data": {
      "text/plain": [
       "'LG 프리미엄 공기청정기, 초미세먼지 걱정 끝!'"
      ]
     },
     "execution_count": 10,
     "metadata": {},
     "output_type": "execute_result"
    }
   ],
   "source": [
    "post_element.select_one(\".sh_blog_title\").attrs.get(\"title\")"
   ]
  },
  {
   "cell_type": "code",
   "execution_count": 11,
   "metadata": {},
   "outputs": [
    {
     "data": {
      "text/plain": [
       "'http://blog.naver.com/violaming77?Redirect=Log&logNo=220363195396'"
      ]
     },
     "execution_count": 11,
     "metadata": {},
     "output_type": "execute_result"
    }
   ],
   "source": [
    "post_element.select_one(\".sh_blog_title\").attrs.get(\"href\")"
   ]
  },
  {
   "cell_type": "code",
   "execution_count": 12,
   "metadata": {},
   "outputs": [
    {
     "data": {
      "text/plain": [
       "<dd class=\"txt_inline\">2015.05.23. </dd>"
      ]
     },
     "execution_count": 12,
     "metadata": {},
     "output_type": "execute_result"
    }
   ],
   "source": [
    "post_element.select_one(\".txt_inline\")"
   ]
  },
  {
   "cell_type": "code",
   "execution_count": 13,
   "metadata": {},
   "outputs": [
    {
     "data": {
      "text/plain": [
       "'2015.05.23. '"
      ]
     },
     "execution_count": 13,
     "metadata": {},
     "output_type": "execute_result"
    }
   ],
   "source": [
    "post_element.select_one(\".txt_inline\").text"
   ]
  },
  {
   "cell_type": "code",
   "execution_count": 14,
   "metadata": {},
   "outputs": [
    {
     "data": {
      "text/plain": [
       "<a class=\"txt84\" href=\"http://blog.naver.com/violaming77\" onclick=\"return goOtherCR(this, 'u='+urlencode(urlexpand(this.href))+'&amp;a=blg*i.blogname&amp;r=991&amp;i=90000003_00000000000000334EAB8404');\" target=\"_blank\">대박터지는 우리집</a>"
      ]
     },
     "execution_count": 14,
     "metadata": {},
     "output_type": "execute_result"
    }
   ],
   "source": [
    "post_element.select_one(\".txt84\")"
   ]
  },
  {
   "cell_type": "code",
   "execution_count": 15,
   "metadata": {},
   "outputs": [
    {
     "data": {
      "text/plain": [
       "'대박터지는 우리집'"
      ]
     },
     "execution_count": 15,
     "metadata": {},
     "output_type": "execute_result"
    }
   ],
   "source": [
    "post_element.select_one(\".txt84\").text"
   ]
  },
  {
   "cell_type": "code",
   "execution_count": 16,
   "metadata": {},
   "outputs": [
    {
     "data": {
      "text/plain": [
       "<a class=\"url\" href=\"http://blog.naver.com/violaming77?Redirect=Log&amp;logNo=220363195396\" onclick=\"return goOtherCR(this, 'a=blg*i.url&amp;r=991&amp;i=90000003_00000000000000334EAB8404&amp;u='+urlencode(this.href))\" target=\"_blank\">blog.naver.com/violaming77/220363195396</a>"
      ]
     },
     "execution_count": 16,
     "metadata": {},
     "output_type": "execute_result"
    }
   ],
   "source": [
    "post_element.select_one(\".url\")"
   ]
  },
  {
   "cell_type": "code",
   "execution_count": 17,
   "metadata": {},
   "outputs": [
    {
     "data": {
      "text/plain": [
       "'http://blog.naver.com/violaming77?Redirect=Log&logNo=220363195396'"
      ]
     },
     "execution_count": 17,
     "metadata": {},
     "output_type": "execute_result"
    }
   ],
   "source": [
    "post_element.select_one(\".url\")[\"href\"]"
   ]
  },
  {
   "cell_type": "code",
   "execution_count": 25,
   "metadata": {
    "collapsed": true
   },
   "outputs": [],
   "source": [
    "result = [\n",
    "    {\n",
    "        \"title\": post_element.select_one(\".sh_blog_title\").attrs.get(\"title\"),\n",
    "        \"url\": post_element.select_one(\".sh_blog_title\").attrs.get(\"href\"),\n",
    "        \"date\": post_element.select_one(\".txt_inline\").text,\n",
    "        \"blogname\" : post_element.select_one(\".txt84\").text,\n",
    "        \"blogurl\" : post_element.select_one(\".url\")[\"href\"],   \n",
    "    }\n",
    "    for post_element \n",
    "    in post_elements   \n",
    "]"
   ]
  },
  {
   "cell_type": "code",
   "execution_count": 29,
   "metadata": {
    "collapsed": true
   },
   "outputs": [
    {
     "data": {
      "text/plain": [
       "[{'blogname': '대박터지는 우리집',\n",
       "  'blogurl': 'http://blog.naver.com/violaming77?Redirect=Log&logNo=220363195396',\n",
       "  'date': '2015.05.23. ',\n",
       "  'title': 'LG 프리미엄 공기청정기, 초미세먼지 걱정 끝!',\n",
       "  'url': 'http://blog.naver.com/violaming77?Redirect=Log&logNo=220363195396'},\n",
       " {'blogname': '올바른 정보 도우미',\n",
       "  'blogurl': 'http://blog.naver.com/scenek?Redirect=Log&logNo=220105318268',\n",
       "  'date': '2014.08.27. ',\n",
       "  'title': '초미세먼지 선풍기커버로 막는다구요',\n",
       "  'url': 'http://blog.naver.com/scenek?Redirect=Log&logNo=220105318268'},\n",
       " {'blogname': '히파루스의 솔직한 ...',\n",
       "  'blogurl': 'http://hippalus.tistory.com/108',\n",
       "  'date': '2015.12.12. ',\n",
       "  'title': '초미세먼지 : 3M 마스크 9002V 당신의 폐는 강철폐가 아니다. 황사나 미세먼지에 쿨한척 말자.',\n",
       "  'url': 'http://hippalus.tistory.com/108'},\n",
       " {'blogname': '주승용과 함께 만드...',\n",
       "  'blogurl': 'http://joo-sy.com/220945793893',\n",
       "  'date': '2017.02.27. ',\n",
       "  'title': \"[2.27] '초미세먼지 피해저감 및 국민안전 R&D 토론회' 참석\",\n",
       "  'url': 'http://joo-sy.com/220945793893'},\n",
       " {'blogname': '토방이네는 지금......',\n",
       "  'blogurl': 'http://blog.naver.com/torbangmalim?Redirect=Log&logNo=220668750461',\n",
       "  'date': '2016.03.29. ',\n",
       "  'title': '오늘의 미세먼지/초미세먼지 농도 체크 필수!! 청소는 LG청소기 코드제로 싸이킹으로~',\n",
       "  'url': 'http://blog.naver.com/torbangmalim?Redirect=Log&logNo=220668750461'},\n",
       " {'blogname': '디자인 돋아',\n",
       "  'blogurl': 'http://blog.naver.com/nanumup?Redirect=Log&logNo=221047244459',\n",
       "  'date': '2017.07.09. ',\n",
       "  'title': '초미세먼지 공기청정기 완전 쪼아요 에어로사이드',\n",
       "  'url': 'http://blog.naver.com/nanumup?Redirect=Log&logNo=221047244459'},\n",
       " {'blogname': 'News Clip',\n",
       "  'blogurl': 'http://blog.daum.net/onemanband-/42903',\n",
       "  'date': '2017.10.24. ',\n",
       "  'title': '[단독] 석탄화력 1기 배출 초미세먼지 ‘경유차 18만대분’',\n",
       "  'url': 'http://blog.daum.net/onemanband-/42903'},\n",
       " {'blogname': '오리랑 두더쥐랑 @@...',\n",
       "  'blogurl': 'http://blog.naver.com/msi119?Redirect=Log&logNo=220892300752',\n",
       "  'date': '2016.12.22. ',\n",
       "  'title': '인파로(Air Quality Monitor) 초미세먼지 기기',\n",
       "  'url': 'http://blog.naver.com/msi119?Redirect=Log&logNo=220892300752'},\n",
       " {'blogname': '하루가 쓰는 이야기',\n",
       "  'blogurl': 'http://haru365haru.blog.me/221106185806',\n",
       "  'date': '2017.09.27. ',\n",
       "  'title': '17년9월28일(목) 내일 미세먼지/초미세먼지 예보',\n",
       "  'url': 'http://haru365haru.blog.me/221106185806'},\n",
       " {'blogname': '문진(問津)으로 여는...',\n",
       "  'blogurl': 'http://blog.naver.com/moonjinforum?Redirect=Log&logNo=220997424664',\n",
       "  'date': '2017.05.03. ',\n",
       "  'title': '[발언] [미세먼지 패닉] \"교실 등 실내도 안심못해…창문 닫아도 초미세먼지 침투\" (연합뉴스, 2017.05.03)',\n",
       "  'url': 'http://blog.naver.com/moonjinforum?Redirect=Log&logNo=220997424664'}]"
      ]
     },
     "execution_count": 29,
     "metadata": {},
     "output_type": "execute_result"
    }
   ],
   "source": [
    "#len(result)\n",
    "result"
   ]
  },
  {
   "cell_type": "code",
   "execution_count": 28,
   "metadata": {
    "collapsed": true
   },
   "outputs": [
    {
     "data": {
      "text/html": [
       "<div>\n",
       "<table border=\"1\" class=\"dataframe\">\n",
       "  <thead>\n",
       "    <tr style=\"text-align: right;\">\n",
       "      <th></th>\n",
       "      <th>blogname</th>\n",
       "      <th>blogurl</th>\n",
       "      <th>date</th>\n",
       "      <th>title</th>\n",
       "      <th>url</th>\n",
       "    </tr>\n",
       "  </thead>\n",
       "  <tbody>\n",
       "    <tr>\n",
       "      <th>0</th>\n",
       "      <td>대박터지는 우리집</td>\n",
       "      <td>http://blog.naver.com/violaming77?Redirect=Log...</td>\n",
       "      <td>2015.05.23.</td>\n",
       "      <td>LG 프리미엄 공기청정기, 초미세먼지 걱정 끝!</td>\n",
       "      <td>http://blog.naver.com/violaming77?Redirect=Log...</td>\n",
       "    </tr>\n",
       "    <tr>\n",
       "      <th>1</th>\n",
       "      <td>올바른 정보 도우미</td>\n",
       "      <td>http://blog.naver.com/scenek?Redirect=Log&amp;logN...</td>\n",
       "      <td>2014.08.27.</td>\n",
       "      <td>초미세먼지 선풍기커버로 막는다구요</td>\n",
       "      <td>http://blog.naver.com/scenek?Redirect=Log&amp;logN...</td>\n",
       "    </tr>\n",
       "    <tr>\n",
       "      <th>2</th>\n",
       "      <td>히파루스의 솔직한 ...</td>\n",
       "      <td>http://hippalus.tistory.com/108</td>\n",
       "      <td>2015.12.12.</td>\n",
       "      <td>초미세먼지 : 3M 마스크 9002V 당신의 폐는 강철폐가 아니다. 황사나 미세먼지...</td>\n",
       "      <td>http://hippalus.tistory.com/108</td>\n",
       "    </tr>\n",
       "    <tr>\n",
       "      <th>3</th>\n",
       "      <td>주승용과 함께 만드...</td>\n",
       "      <td>http://joo-sy.com/220945793893</td>\n",
       "      <td>2017.02.27.</td>\n",
       "      <td>[2.27] '초미세먼지 피해저감 및 국민안전 R&amp;D 토론회' 참석</td>\n",
       "      <td>http://joo-sy.com/220945793893</td>\n",
       "    </tr>\n",
       "    <tr>\n",
       "      <th>4</th>\n",
       "      <td>토방이네는 지금......</td>\n",
       "      <td>http://blog.naver.com/torbangmalim?Redirect=Lo...</td>\n",
       "      <td>2016.03.29.</td>\n",
       "      <td>오늘의 미세먼지/초미세먼지 농도 체크 필수!! 청소는 LG청소기 코드제로 싸이킹으로~</td>\n",
       "      <td>http://blog.naver.com/torbangmalim?Redirect=Lo...</td>\n",
       "    </tr>\n",
       "    <tr>\n",
       "      <th>5</th>\n",
       "      <td>디자인 돋아</td>\n",
       "      <td>http://blog.naver.com/nanumup?Redirect=Log&amp;log...</td>\n",
       "      <td>2017.07.09.</td>\n",
       "      <td>초미세먼지 공기청정기 완전 쪼아요 에어로사이드</td>\n",
       "      <td>http://blog.naver.com/nanumup?Redirect=Log&amp;log...</td>\n",
       "    </tr>\n",
       "    <tr>\n",
       "      <th>6</th>\n",
       "      <td>News Clip</td>\n",
       "      <td>http://blog.daum.net/onemanband-/42903</td>\n",
       "      <td>2017.10.24.</td>\n",
       "      <td>[단독] 석탄화력 1기 배출 초미세먼지 ‘경유차 18만대분’</td>\n",
       "      <td>http://blog.daum.net/onemanband-/42903</td>\n",
       "    </tr>\n",
       "    <tr>\n",
       "      <th>7</th>\n",
       "      <td>오리랑 두더쥐랑 @@...</td>\n",
       "      <td>http://blog.naver.com/msi119?Redirect=Log&amp;logN...</td>\n",
       "      <td>2016.12.22.</td>\n",
       "      <td>인파로(Air Quality Monitor) 초미세먼지 기기</td>\n",
       "      <td>http://blog.naver.com/msi119?Redirect=Log&amp;logN...</td>\n",
       "    </tr>\n",
       "    <tr>\n",
       "      <th>8</th>\n",
       "      <td>하루가 쓰는 이야기</td>\n",
       "      <td>http://haru365haru.blog.me/221106185806</td>\n",
       "      <td>2017.09.27.</td>\n",
       "      <td>17년9월28일(목) 내일 미세먼지/초미세먼지 예보</td>\n",
       "      <td>http://haru365haru.blog.me/221106185806</td>\n",
       "    </tr>\n",
       "    <tr>\n",
       "      <th>9</th>\n",
       "      <td>문진(問津)으로 여는...</td>\n",
       "      <td>http://blog.naver.com/moonjinforum?Redirect=Lo...</td>\n",
       "      <td>2017.05.03.</td>\n",
       "      <td>[발언] [미세먼지 패닉] \"교실 등 실내도 안심못해…창문 닫아도 초미세먼지 침투\"...</td>\n",
       "      <td>http://blog.naver.com/moonjinforum?Redirect=Lo...</td>\n",
       "    </tr>\n",
       "  </tbody>\n",
       "</table>\n",
       "</div>"
      ],
      "text/plain": [
       "         blogname                                            blogurl  \\\n",
       "0       대박터지는 우리집  http://blog.naver.com/violaming77?Redirect=Log...   \n",
       "1      올바른 정보 도우미  http://blog.naver.com/scenek?Redirect=Log&logN...   \n",
       "2   히파루스의 솔직한 ...                    http://hippalus.tistory.com/108   \n",
       "3   주승용과 함께 만드...                     http://joo-sy.com/220945793893   \n",
       "4  토방이네는 지금......  http://blog.naver.com/torbangmalim?Redirect=Lo...   \n",
       "5          디자인 돋아  http://blog.naver.com/nanumup?Redirect=Log&log...   \n",
       "6       News Clip             http://blog.daum.net/onemanband-/42903   \n",
       "7  오리랑 두더쥐랑 @@...  http://blog.naver.com/msi119?Redirect=Log&logN...   \n",
       "8      하루가 쓰는 이야기            http://haru365haru.blog.me/221106185806   \n",
       "9  문진(問津)으로 여는...  http://blog.naver.com/moonjinforum?Redirect=Lo...   \n",
       "\n",
       "           date                                              title  \\\n",
       "0  2015.05.23.                          LG 프리미엄 공기청정기, 초미세먼지 걱정 끝!   \n",
       "1  2014.08.27.                                  초미세먼지 선풍기커버로 막는다구요   \n",
       "2  2015.12.12.   초미세먼지 : 3M 마스크 9002V 당신의 폐는 강철폐가 아니다. 황사나 미세먼지...   \n",
       "3  2017.02.27.               [2.27] '초미세먼지 피해저감 및 국민안전 R&D 토론회' 참석   \n",
       "4  2016.03.29.     오늘의 미세먼지/초미세먼지 농도 체크 필수!! 청소는 LG청소기 코드제로 싸이킹으로~   \n",
       "5  2017.07.09.                           초미세먼지 공기청정기 완전 쪼아요 에어로사이드   \n",
       "6  2017.10.24.                   [단독] 석탄화력 1기 배출 초미세먼지 ‘경유차 18만대분’   \n",
       "7  2016.12.22.                   인파로(Air Quality Monitor) 초미세먼지 기기   \n",
       "8  2017.09.27.                        17년9월28일(목) 내일 미세먼지/초미세먼지 예보   \n",
       "9  2017.05.03.   [발언] [미세먼지 패닉] \"교실 등 실내도 안심못해…창문 닫아도 초미세먼지 침투\"...   \n",
       "\n",
       "                                                 url  \n",
       "0  http://blog.naver.com/violaming77?Redirect=Log...  \n",
       "1  http://blog.naver.com/scenek?Redirect=Log&logN...  \n",
       "2                    http://hippalus.tistory.com/108  \n",
       "3                     http://joo-sy.com/220945793893  \n",
       "4  http://blog.naver.com/torbangmalim?Redirect=Lo...  \n",
       "5  http://blog.naver.com/nanumup?Redirect=Log&log...  \n",
       "6             http://blog.daum.net/onemanband-/42903  \n",
       "7  http://blog.naver.com/msi119?Redirect=Log&logN...  \n",
       "8            http://haru365haru.blog.me/221106185806  \n",
       "9  http://blog.naver.com/moonjinforum?Redirect=Lo...  "
      ]
     },
     "execution_count": 28,
     "metadata": {},
     "output_type": "execute_result"
    }
   ],
   "source": [
    "pd.DataFrame(result)"
   ]
  },
  {
   "cell_type": "code",
   "execution_count": 30,
   "metadata": {
    "collapsed": true
   },
   "outputs": [],
   "source": [
    "all_result = result + result"
   ]
  },
  {
   "cell_type": "code",
   "execution_count": 31,
   "metadata": {},
   "outputs": [
    {
     "data": {
      "text/plain": [
       "20"
      ]
     },
     "execution_count": 31,
     "metadata": {},
     "output_type": "execute_result"
    }
   ],
   "source": [
    "len(all_result)"
   ]
  },
  {
   "cell_type": "code",
   "execution_count": 32,
   "metadata": {
    "collapsed": true
   },
   "outputs": [
    {
     "data": {
      "text/html": [
       "<div>\n",
       "<table border=\"1\" class=\"dataframe\">\n",
       "  <thead>\n",
       "    <tr style=\"text-align: right;\">\n",
       "      <th></th>\n",
       "      <th>blogname</th>\n",
       "      <th>blogurl</th>\n",
       "      <th>date</th>\n",
       "      <th>title</th>\n",
       "      <th>url</th>\n",
       "    </tr>\n",
       "  </thead>\n",
       "  <tbody>\n",
       "    <tr>\n",
       "      <th>0</th>\n",
       "      <td>대박터지는 우리집</td>\n",
       "      <td>http://blog.naver.com/violaming77?Redirect=Log...</td>\n",
       "      <td>2015.05.23.</td>\n",
       "      <td>LG 프리미엄 공기청정기, 초미세먼지 걱정 끝!</td>\n",
       "      <td>http://blog.naver.com/violaming77?Redirect=Log...</td>\n",
       "    </tr>\n",
       "    <tr>\n",
       "      <th>1</th>\n",
       "      <td>올바른 정보 도우미</td>\n",
       "      <td>http://blog.naver.com/scenek?Redirect=Log&amp;logN...</td>\n",
       "      <td>2014.08.27.</td>\n",
       "      <td>초미세먼지 선풍기커버로 막는다구요</td>\n",
       "      <td>http://blog.naver.com/scenek?Redirect=Log&amp;logN...</td>\n",
       "    </tr>\n",
       "    <tr>\n",
       "      <th>2</th>\n",
       "      <td>히파루스의 솔직한 ...</td>\n",
       "      <td>http://hippalus.tistory.com/108</td>\n",
       "      <td>2015.12.12.</td>\n",
       "      <td>초미세먼지 : 3M 마스크 9002V 당신의 폐는 강철폐가 아니다. 황사나 미세먼지...</td>\n",
       "      <td>http://hippalus.tistory.com/108</td>\n",
       "    </tr>\n",
       "    <tr>\n",
       "      <th>3</th>\n",
       "      <td>주승용과 함께 만드...</td>\n",
       "      <td>http://joo-sy.com/220945793893</td>\n",
       "      <td>2017.02.27.</td>\n",
       "      <td>[2.27] '초미세먼지 피해저감 및 국민안전 R&amp;D 토론회' 참석</td>\n",
       "      <td>http://joo-sy.com/220945793893</td>\n",
       "    </tr>\n",
       "    <tr>\n",
       "      <th>4</th>\n",
       "      <td>토방이네는 지금......</td>\n",
       "      <td>http://blog.naver.com/torbangmalim?Redirect=Lo...</td>\n",
       "      <td>2016.03.29.</td>\n",
       "      <td>오늘의 미세먼지/초미세먼지 농도 체크 필수!! 청소는 LG청소기 코드제로 싸이킹으로~</td>\n",
       "      <td>http://blog.naver.com/torbangmalim?Redirect=Lo...</td>\n",
       "    </tr>\n",
       "    <tr>\n",
       "      <th>5</th>\n",
       "      <td>디자인 돋아</td>\n",
       "      <td>http://blog.naver.com/nanumup?Redirect=Log&amp;log...</td>\n",
       "      <td>2017.07.09.</td>\n",
       "      <td>초미세먼지 공기청정기 완전 쪼아요 에어로사이드</td>\n",
       "      <td>http://blog.naver.com/nanumup?Redirect=Log&amp;log...</td>\n",
       "    </tr>\n",
       "    <tr>\n",
       "      <th>6</th>\n",
       "      <td>News Clip</td>\n",
       "      <td>http://blog.daum.net/onemanband-/42903</td>\n",
       "      <td>2017.10.24.</td>\n",
       "      <td>[단독] 석탄화력 1기 배출 초미세먼지 ‘경유차 18만대분’</td>\n",
       "      <td>http://blog.daum.net/onemanband-/42903</td>\n",
       "    </tr>\n",
       "    <tr>\n",
       "      <th>7</th>\n",
       "      <td>오리랑 두더쥐랑 @@...</td>\n",
       "      <td>http://blog.naver.com/msi119?Redirect=Log&amp;logN...</td>\n",
       "      <td>2016.12.22.</td>\n",
       "      <td>인파로(Air Quality Monitor) 초미세먼지 기기</td>\n",
       "      <td>http://blog.naver.com/msi119?Redirect=Log&amp;logN...</td>\n",
       "    </tr>\n",
       "    <tr>\n",
       "      <th>8</th>\n",
       "      <td>하루가 쓰는 이야기</td>\n",
       "      <td>http://haru365haru.blog.me/221106185806</td>\n",
       "      <td>2017.09.27.</td>\n",
       "      <td>17년9월28일(목) 내일 미세먼지/초미세먼지 예보</td>\n",
       "      <td>http://haru365haru.blog.me/221106185806</td>\n",
       "    </tr>\n",
       "    <tr>\n",
       "      <th>9</th>\n",
       "      <td>문진(問津)으로 여는...</td>\n",
       "      <td>http://blog.naver.com/moonjinforum?Redirect=Lo...</td>\n",
       "      <td>2017.05.03.</td>\n",
       "      <td>[발언] [미세먼지 패닉] \"교실 등 실내도 안심못해…창문 닫아도 초미세먼지 침투\"...</td>\n",
       "      <td>http://blog.naver.com/moonjinforum?Redirect=Lo...</td>\n",
       "    </tr>\n",
       "    <tr>\n",
       "      <th>10</th>\n",
       "      <td>대박터지는 우리집</td>\n",
       "      <td>http://blog.naver.com/violaming77?Redirect=Log...</td>\n",
       "      <td>2015.05.23.</td>\n",
       "      <td>LG 프리미엄 공기청정기, 초미세먼지 걱정 끝!</td>\n",
       "      <td>http://blog.naver.com/violaming77?Redirect=Log...</td>\n",
       "    </tr>\n",
       "    <tr>\n",
       "      <th>11</th>\n",
       "      <td>올바른 정보 도우미</td>\n",
       "      <td>http://blog.naver.com/scenek?Redirect=Log&amp;logN...</td>\n",
       "      <td>2014.08.27.</td>\n",
       "      <td>초미세먼지 선풍기커버로 막는다구요</td>\n",
       "      <td>http://blog.naver.com/scenek?Redirect=Log&amp;logN...</td>\n",
       "    </tr>\n",
       "    <tr>\n",
       "      <th>12</th>\n",
       "      <td>히파루스의 솔직한 ...</td>\n",
       "      <td>http://hippalus.tistory.com/108</td>\n",
       "      <td>2015.12.12.</td>\n",
       "      <td>초미세먼지 : 3M 마스크 9002V 당신의 폐는 강철폐가 아니다. 황사나 미세먼지...</td>\n",
       "      <td>http://hippalus.tistory.com/108</td>\n",
       "    </tr>\n",
       "    <tr>\n",
       "      <th>13</th>\n",
       "      <td>주승용과 함께 만드...</td>\n",
       "      <td>http://joo-sy.com/220945793893</td>\n",
       "      <td>2017.02.27.</td>\n",
       "      <td>[2.27] '초미세먼지 피해저감 및 국민안전 R&amp;D 토론회' 참석</td>\n",
       "      <td>http://joo-sy.com/220945793893</td>\n",
       "    </tr>\n",
       "    <tr>\n",
       "      <th>14</th>\n",
       "      <td>토방이네는 지금......</td>\n",
       "      <td>http://blog.naver.com/torbangmalim?Redirect=Lo...</td>\n",
       "      <td>2016.03.29.</td>\n",
       "      <td>오늘의 미세먼지/초미세먼지 농도 체크 필수!! 청소는 LG청소기 코드제로 싸이킹으로~</td>\n",
       "      <td>http://blog.naver.com/torbangmalim?Redirect=Lo...</td>\n",
       "    </tr>\n",
       "    <tr>\n",
       "      <th>15</th>\n",
       "      <td>디자인 돋아</td>\n",
       "      <td>http://blog.naver.com/nanumup?Redirect=Log&amp;log...</td>\n",
       "      <td>2017.07.09.</td>\n",
       "      <td>초미세먼지 공기청정기 완전 쪼아요 에어로사이드</td>\n",
       "      <td>http://blog.naver.com/nanumup?Redirect=Log&amp;log...</td>\n",
       "    </tr>\n",
       "    <tr>\n",
       "      <th>16</th>\n",
       "      <td>News Clip</td>\n",
       "      <td>http://blog.daum.net/onemanband-/42903</td>\n",
       "      <td>2017.10.24.</td>\n",
       "      <td>[단독] 석탄화력 1기 배출 초미세먼지 ‘경유차 18만대분’</td>\n",
       "      <td>http://blog.daum.net/onemanband-/42903</td>\n",
       "    </tr>\n",
       "    <tr>\n",
       "      <th>17</th>\n",
       "      <td>오리랑 두더쥐랑 @@...</td>\n",
       "      <td>http://blog.naver.com/msi119?Redirect=Log&amp;logN...</td>\n",
       "      <td>2016.12.22.</td>\n",
       "      <td>인파로(Air Quality Monitor) 초미세먼지 기기</td>\n",
       "      <td>http://blog.naver.com/msi119?Redirect=Log&amp;logN...</td>\n",
       "    </tr>\n",
       "    <tr>\n",
       "      <th>18</th>\n",
       "      <td>하루가 쓰는 이야기</td>\n",
       "      <td>http://haru365haru.blog.me/221106185806</td>\n",
       "      <td>2017.09.27.</td>\n",
       "      <td>17년9월28일(목) 내일 미세먼지/초미세먼지 예보</td>\n",
       "      <td>http://haru365haru.blog.me/221106185806</td>\n",
       "    </tr>\n",
       "    <tr>\n",
       "      <th>19</th>\n",
       "      <td>문진(問津)으로 여는...</td>\n",
       "      <td>http://blog.naver.com/moonjinforum?Redirect=Lo...</td>\n",
       "      <td>2017.05.03.</td>\n",
       "      <td>[발언] [미세먼지 패닉] \"교실 등 실내도 안심못해…창문 닫아도 초미세먼지 침투\"...</td>\n",
       "      <td>http://blog.naver.com/moonjinforum?Redirect=Lo...</td>\n",
       "    </tr>\n",
       "  </tbody>\n",
       "</table>\n",
       "</div>"
      ],
      "text/plain": [
       "          blogname                                            blogurl  \\\n",
       "0        대박터지는 우리집  http://blog.naver.com/violaming77?Redirect=Log...   \n",
       "1       올바른 정보 도우미  http://blog.naver.com/scenek?Redirect=Log&logN...   \n",
       "2    히파루스의 솔직한 ...                    http://hippalus.tistory.com/108   \n",
       "3    주승용과 함께 만드...                     http://joo-sy.com/220945793893   \n",
       "4   토방이네는 지금......  http://blog.naver.com/torbangmalim?Redirect=Lo...   \n",
       "5           디자인 돋아  http://blog.naver.com/nanumup?Redirect=Log&log...   \n",
       "6        News Clip             http://blog.daum.net/onemanband-/42903   \n",
       "7   오리랑 두더쥐랑 @@...  http://blog.naver.com/msi119?Redirect=Log&logN...   \n",
       "8       하루가 쓰는 이야기            http://haru365haru.blog.me/221106185806   \n",
       "9   문진(問津)으로 여는...  http://blog.naver.com/moonjinforum?Redirect=Lo...   \n",
       "10       대박터지는 우리집  http://blog.naver.com/violaming77?Redirect=Log...   \n",
       "11      올바른 정보 도우미  http://blog.naver.com/scenek?Redirect=Log&logN...   \n",
       "12   히파루스의 솔직한 ...                    http://hippalus.tistory.com/108   \n",
       "13   주승용과 함께 만드...                     http://joo-sy.com/220945793893   \n",
       "14  토방이네는 지금......  http://blog.naver.com/torbangmalim?Redirect=Lo...   \n",
       "15          디자인 돋아  http://blog.naver.com/nanumup?Redirect=Log&log...   \n",
       "16       News Clip             http://blog.daum.net/onemanband-/42903   \n",
       "17  오리랑 두더쥐랑 @@...  http://blog.naver.com/msi119?Redirect=Log&logN...   \n",
       "18      하루가 쓰는 이야기            http://haru365haru.blog.me/221106185806   \n",
       "19  문진(問津)으로 여는...  http://blog.naver.com/moonjinforum?Redirect=Lo...   \n",
       "\n",
       "            date                                              title  \\\n",
       "0   2015.05.23.                          LG 프리미엄 공기청정기, 초미세먼지 걱정 끝!   \n",
       "1   2014.08.27.                                  초미세먼지 선풍기커버로 막는다구요   \n",
       "2   2015.12.12.   초미세먼지 : 3M 마스크 9002V 당신의 폐는 강철폐가 아니다. 황사나 미세먼지...   \n",
       "3   2017.02.27.               [2.27] '초미세먼지 피해저감 및 국민안전 R&D 토론회' 참석   \n",
       "4   2016.03.29.     오늘의 미세먼지/초미세먼지 농도 체크 필수!! 청소는 LG청소기 코드제로 싸이킹으로~   \n",
       "5   2017.07.09.                           초미세먼지 공기청정기 완전 쪼아요 에어로사이드   \n",
       "6   2017.10.24.                   [단독] 석탄화력 1기 배출 초미세먼지 ‘경유차 18만대분’   \n",
       "7   2016.12.22.                   인파로(Air Quality Monitor) 초미세먼지 기기   \n",
       "8   2017.09.27.                        17년9월28일(목) 내일 미세먼지/초미세먼지 예보   \n",
       "9   2017.05.03.   [발언] [미세먼지 패닉] \"교실 등 실내도 안심못해…창문 닫아도 초미세먼지 침투\"...   \n",
       "10  2015.05.23.                          LG 프리미엄 공기청정기, 초미세먼지 걱정 끝!   \n",
       "11  2014.08.27.                                  초미세먼지 선풍기커버로 막는다구요   \n",
       "12  2015.12.12.   초미세먼지 : 3M 마스크 9002V 당신의 폐는 강철폐가 아니다. 황사나 미세먼지...   \n",
       "13  2017.02.27.               [2.27] '초미세먼지 피해저감 및 국민안전 R&D 토론회' 참석   \n",
       "14  2016.03.29.     오늘의 미세먼지/초미세먼지 농도 체크 필수!! 청소는 LG청소기 코드제로 싸이킹으로~   \n",
       "15  2017.07.09.                           초미세먼지 공기청정기 완전 쪼아요 에어로사이드   \n",
       "16  2017.10.24.                   [단독] 석탄화력 1기 배출 초미세먼지 ‘경유차 18만대분’   \n",
       "17  2016.12.22.                   인파로(Air Quality Monitor) 초미세먼지 기기   \n",
       "18  2017.09.27.                        17년9월28일(목) 내일 미세먼지/초미세먼지 예보   \n",
       "19  2017.05.03.   [발언] [미세먼지 패닉] \"교실 등 실내도 안심못해…창문 닫아도 초미세먼지 침투\"...   \n",
       "\n",
       "                                                  url  \n",
       "0   http://blog.naver.com/violaming77?Redirect=Log...  \n",
       "1   http://blog.naver.com/scenek?Redirect=Log&logN...  \n",
       "2                     http://hippalus.tistory.com/108  \n",
       "3                      http://joo-sy.com/220945793893  \n",
       "4   http://blog.naver.com/torbangmalim?Redirect=Lo...  \n",
       "5   http://blog.naver.com/nanumup?Redirect=Log&log...  \n",
       "6              http://blog.daum.net/onemanband-/42903  \n",
       "7   http://blog.naver.com/msi119?Redirect=Log&logN...  \n",
       "8             http://haru365haru.blog.me/221106185806  \n",
       "9   http://blog.naver.com/moonjinforum?Redirect=Lo...  \n",
       "10  http://blog.naver.com/violaming77?Redirect=Log...  \n",
       "11  http://blog.naver.com/scenek?Redirect=Log&logN...  \n",
       "12                    http://hippalus.tistory.com/108  \n",
       "13                     http://joo-sy.com/220945793893  \n",
       "14  http://blog.naver.com/torbangmalim?Redirect=Lo...  \n",
       "15  http://blog.naver.com/nanumup?Redirect=Log&log...  \n",
       "16             http://blog.daum.net/onemanband-/42903  \n",
       "17  http://blog.naver.com/msi119?Redirect=Log&logN...  \n",
       "18            http://haru365haru.blog.me/221106185806  \n",
       "19  http://blog.naver.com/moonjinforum?Redirect=Lo...  "
      ]
     },
     "execution_count": 32,
     "metadata": {},
     "output_type": "execute_result"
    }
   ],
   "source": [
    "pd.DataFrame(all_result)"
   ]
  },
  {
   "cell_type": "code",
   "execution_count": null,
   "metadata": {
    "collapsed": true
   },
   "outputs": [],
   "source": []
  },
  {
   "cell_type": "code",
   "execution_count": 43,
   "metadata": {
    "collapsed": true
   },
   "outputs": [],
   "source": [
    "resultlist = pd.DataFrame(result)"
   ]
  },
  {
   "cell_type": "code",
   "execution_count": 45,
   "metadata": {
    "collapsed": true
   },
   "outputs": [],
   "source": [
    "resultlist.to_csv(\"a.csv\")"
   ]
  },
  {
   "cell_type": "code",
   "execution_count": null,
   "metadata": {
    "collapsed": true
   },
   "outputs": [],
   "source": [
    "time.sleep(3)"
   ]
  },
  {
   "cell_type": "code",
   "execution_count": 47,
   "metadata": {
    "collapsed": true
   },
   "outputs": [
    {
     "name": "stdout",
     "output_type": "stream",
     "text": [
      "Help on built-in function sleep in module time:\n",
      "\n",
      "sleep(...)\n",
      "    sleep(seconds)\n",
      "    \n",
      "    Delay execution for a given number of seconds.  The argument may be\n",
      "    a floating point number for subsecond precision.\n",
      "\n"
     ]
    }
   ],
   "source": [
    "help(time.sleep)"
   ]
  },
  {
   "cell_type": "code",
   "execution_count": null,
   "metadata": {
    "collapsed": true
   },
   "outputs": [],
   "source": [
    "#네이버 블로그를 긁어보자.\n",
    "#페이지간 간격은 1초로 하고 "
   ]
  },
  {
   "cell_type": "code",
   "execution_count": 49,
   "metadata": {
    "collapsed": true
   },
   "outputs": [
    {
     "name": "stdout",
     "output_type": "stream",
     "text": [
      "Help on function to_csv in module pandas.core.frame:\n",
      "\n",
      "to_csv(self, path_or_buf=None, sep=',', na_rep='', float_format=None, columns=None, header=True, index=True, index_label=None, mode='w', encoding=None, compression=None, quoting=None, quotechar='\"', line_terminator='\\n', chunksize=None, tupleize_cols=False, date_format=None, doublequote=True, escapechar=None, decimal='.')\n",
      "    Write DataFrame to a comma-separated values (csv) file\n",
      "    \n",
      "    Parameters\n",
      "    ----------\n",
      "    path_or_buf : string or file handle, default None\n",
      "        File path or object, if None is provided the result is returned as\n",
      "        a string.\n",
      "    sep : character, default ','\n",
      "        Field delimiter for the output file.\n",
      "    na_rep : string, default ''\n",
      "        Missing data representation\n",
      "    float_format : string, default None\n",
      "        Format string for floating point numbers\n",
      "    columns : sequence, optional\n",
      "        Columns to write\n",
      "    header : boolean or list of string, default True\n",
      "        Write out column names. If a list of string is given it is assumed\n",
      "        to be aliases for the column names\n",
      "    index : boolean, default True\n",
      "        Write row names (index)\n",
      "    index_label : string or sequence, or False, default None\n",
      "        Column label for index column(s) if desired. If None is given, and\n",
      "        `header` and `index` are True, then the index names are used. A\n",
      "        sequence should be given if the DataFrame uses MultiIndex.  If\n",
      "        False do not print fields for index names. Use index_label=False\n",
      "        for easier importing in R\n",
      "    mode : str\n",
      "        Python write mode, default 'w'\n",
      "    encoding : string, optional\n",
      "        A string representing the encoding to use in the output file,\n",
      "        defaults to 'ascii' on Python 2 and 'utf-8' on Python 3.\n",
      "    compression : string, optional\n",
      "        a string representing the compression to use in the output file,\n",
      "        allowed values are 'gzip', 'bz2', 'xz',\n",
      "        only used when the first argument is a filename\n",
      "    line_terminator : string, default ``'\\n'``\n",
      "        The newline character or character sequence to use in the output\n",
      "        file\n",
      "    quoting : optional constant from csv module\n",
      "        defaults to csv.QUOTE_MINIMAL. If you have set a `float_format`\n",
      "        then floats are converted to strings and thus csv.QUOTE_NONNUMERIC\n",
      "        will treat them as non-numeric\n",
      "    quotechar : string (length 1), default '\\\"'\n",
      "        character used to quote fields\n",
      "    doublequote : boolean, default True\n",
      "        Control quoting of `quotechar` inside a field\n",
      "    escapechar : string (length 1), default None\n",
      "        character used to escape `sep` and `quotechar` when appropriate\n",
      "    chunksize : int or None\n",
      "        rows to write at a time\n",
      "    tupleize_cols : boolean, default False\n",
      "        write multi_index columns as a list of tuples (if True)\n",
      "        or new (expanded format) if False)\n",
      "    date_format : string, default None\n",
      "        Format string for datetime objects\n",
      "    decimal: string, default '.'\n",
      "        Character recognized as decimal separator. E.g. use ',' for\n",
      "        European data\n",
      "    \n",
      "        .. versionadded:: 0.16.0\n",
      "\n"
     ]
    }
   ],
   "source": [
    "help(pd.DataFrame.to_csv)"
   ]
  },
  {
   "cell_type": "code",
   "execution_count": 9,
   "metadata": {},
   "outputs": [
    {
     "data": {
      "text/plain": [
       "<title>초미세먼지 : 네이버 뉴스검색</title>"
      ]
     },
     "execution_count": 9,
     "metadata": {},
     "output_type": "execute_result"
    }
   ],
   "source": [
    "contents.title"
   ]
  },
  {
   "cell_type": "code",
   "execution_count": 10,
   "metadata": {},
   "outputs": [
    {
     "data": {
      "text/plain": [
       "'title'"
      ]
     },
     "execution_count": 10,
     "metadata": {},
     "output_type": "execute_result"
    }
   ],
   "source": [
    "contents.title.name"
   ]
  },
  {
   "cell_type": "code",
   "execution_count": 11,
   "metadata": {},
   "outputs": [
    {
     "data": {
      "text/plain": [
       "'초미세먼지 : 네이버 뉴스검색'"
      ]
     },
     "execution_count": 11,
     "metadata": {},
     "output_type": "execute_result"
    }
   ],
   "source": [
    "contents.title.string"
   ]
  },
  {
   "cell_type": "code",
   "execution_count": 12,
   "metadata": {},
   "outputs": [
    {
     "data": {
      "text/plain": [
       "'meta'"
      ]
     },
     "execution_count": 12,
     "metadata": {},
     "output_type": "execute_result"
    }
   ],
   "source": [
    "contents.title.parent.name"
   ]
  },
  {
   "cell_type": "code",
   "execution_count": 14,
   "metadata": {},
   "outputs": [
    {
     "data": {
      "text/plain": [
       "'head'"
      ]
     },
     "execution_count": 14,
     "metadata": {},
     "output_type": "execute_result"
    }
   ],
   "source": [
    "contents.title.parent.parent.name"
   ]
  },
  {
   "cell_type": "code",
   "execution_count": 15,
   "metadata": {},
   "outputs": [
    {
     "data": {
      "text/plain": [
       "<p class=\"dsc\"><em class=\"txt\">동일한 시간대/연령/남녀별</em> 사용자 그룹의<br/>관심사에 맞춰 자동완성을 제공합니다.</p>"
      ]
     },
     "execution_count": 15,
     "metadata": {},
     "output_type": "execute_result"
    }
   ],
   "source": [
    "contents.p"
   ]
  },
  {
   "cell_type": "code",
   "execution_count": 16,
   "metadata": {},
   "outputs": [
    {
     "data": {
      "text/plain": [
       "<div id=\"nxtt_div\" style=\"display:none;position:absolute;border-width:0;z-index:11000\"></div>"
      ]
     },
     "execution_count": 16,
     "metadata": {},
     "output_type": "execute_result"
    }
   ],
   "source": [
    "contents.div"
   ]
  },
  {
   "cell_type": "code",
   "execution_count": 18,
   "metadata": {},
   "outputs": [
    {
     "data": {
      "text/plain": [
       "'nxtt_div'"
      ]
     },
     "execution_count": 18,
     "metadata": {},
     "output_type": "execute_result"
    }
   ],
   "source": [
    "contents.div['id']"
   ]
  },
  {
   "cell_type": "code",
   "execution_count": 19,
   "metadata": {},
   "outputs": [
    {
     "name": "stderr",
     "output_type": "stream",
     "text": [
      "IOPub data rate exceeded.\n",
      "The notebook server will temporarily stop sending output\n",
      "to the client in order to avoid crashing it.\n",
      "To change this limit, set the config variable\n",
      "`--NotebookApp.iopub_data_rate_limit`.\n"
     ]
    }
   ],
   "source": [
    "contents.find_all('div')"
   ]
  },
  {
   "cell_type": "code",
   "execution_count": 21,
   "metadata": {
    "scrolled": true
   },
   "outputs": [
    {
     "data": {
      "text/plain": [
       "<div class=\"news mynews section\"> <div class=\"section_head\"> <h2>뉴스</h2> <div class=\"title_desc all_my\"><span>3,991-4,000 / 46,499건</span></div> <div class=\"news_option\"> <p class=\"message_inner2\"><a class=\"txt_guide\" href=\"#\" onclick=\"tCR('a=upr.help'); window.open('http://sstatic.naver.net/search/pc/2016/pop_news_guide_v1.html.utf8', '', 'top=0,left=0,resizable=1,scrollbars=1,width=1024,height=768'); return false;\">뉴스검색 가이드</a></p> <ul class=\"sort\"> <li class=\"select\"><span>관련도순</span></li> <li><a href=\"#\" onclick=\"news_submit_sort_option(1, 0); return false;\">최신순</a></li> <li><a href=\"#\" onclick=\"news_submit_sort_option(2, 0); return false;\" title=\"1990년 이후 기사를 오래된 순으로 제공합니다.\">오래된순</a></li> </ul> <div class=\"n_update _news_auto_refresh stp\" style=\"display:block\"> <span class=\"_refresh_stop _msg\" style=\"display:none;\"><img alt=\"\" height=\"14\" src=\"https://ssl.pstatic.net/sstatic/search/img3/ico_update2.gif\" width=\"14\"/>검색결과 자동고침 진행 중</span> <span class=\"_refresh_play _msg\" style=\"display:inline;\">검색결과 자동고침</span> <a class=\"btn2 _refresh_stop _btn\" href=\"#\" onclick=\"news_refresh_status(0); goOtherTCR(this, 'a=upr.refreshstop&amp;r=0&amp;i=&amp;u='+urlencode(this.href ? this.href : location.href)); return false;\" style=\"display:none;\"><span>정지</span></a> <a class=\"btn2 _refresh_play _btn\" href=\"#\" onclick=\"news_refresh_status(1); goOtherTCR(this, 'a=upr.refreshstart&amp;r=0&amp;i=&amp;u='+urlencode(this.href ? this.href : location.href)); return false;\" style=\"display:inline-block;\"><span>시작</span></a> </div></div></div><ul class=\"type01\"> <li id=\"sp_nws1\"> <div class=\"thumb\"><a class=\"sp_thmb thmb80\" href=\"http://www.readersnews.com/news/articleView.html?idxno=72384\" onclick=\"return goOtherCR(this, 'a=nws*x.outimg&amp;r=1&amp;i=88000402_000000000000000000056159&amp;g=5043.0000056159&amp;u='+urlencode(this.href));\" target=\"_blank\"><img alt=\"네이버, 미세먼지 모바\" class=\"\" height=\"80\" onerror=\"this.parentNode.style.display='none';\" src=\"https://search.pstatic.net/common/?src=http%3A%2F%2Fimgnews.naver.net%2Fimage%2Forigin%2F5043%2F2017%2F05%2F04%2F56159.jpg&amp;type=ofullfill80_80_q75_re2\" width=\"80\"/><span class=\"thmb_v\"></span></a></div> <dl> <dt><a class=\"_sp_each_url _sp_each_title\" href=\"http://www.readersnews.com/news/articleView.html?idxno=72384\" onclick=\"return goOtherCR(this, 'a=nws*x.outtit&amp;r=1&amp;i=88000402_000000000000000000056159&amp;g=5043.0000056159&amp;u='+urlencode(this.href));\" target=\"_blank\" title=\"네이버, 미세먼지 모바일 영상 서비스 제공\">네이버, 미세<strong class=\"hl\">먼지</strong> 모바일 영상 서비스 제공</a></dt> <dd class=\"txt_inline\"><span class=\"_sp_each_source\">독서신문</span> <span class=\"bar\"></span> 2017.05.04. <div class=\"scial\" id=\"sp_nws1_base\"> <span class=\"bar\"></span> <a class=\"bt_scial2 naver-splugin\" data-oninitialize=\"splugin_oninitialize('sp_nws1');\" data-style=\"unity-v2\" href=\"#\" onclick=\"goOtherTCR(this, 'a=nws*x.pplugin&amp;r=1&amp;i=88000402_000000000000000000056159&amp;u='+urlencode(this.href)); return false;\">보내기</a> </div> </dd> <dd>네이버 모바일 미세먼지 정보 제공 화면 [리더스뉴스/독서신문 박재붕 기자] 네이버(주)(대표이사 한성숙)가 모바일 네이버 검색을 통해 대기 흐름에 따른 미세먼지 및 <strong class=\"hl\">초미세먼지</strong>의 변화를 시각적으로...</dd> <dd> <ul class=\"relation_lst\"> <li> <span class=\"ico_bu\"></span> <a href=\"http://www.ebn.co.kr/news/view/890329\" onclick=\"return goOtherCR(this, 'a=nws*r.outtit&amp;r=2&amp;i=880000A8_000000000000000000280307&amp;g=5093.0000280307&amp;u='+urlencode(this.href));\" target=\"_blank\" title=\"네이버, 국내외 미세먼지 흐름 미리볼 수 있는 예측 정보 강화\">네이버, 국내외 미세<strong class=\"hl\">먼지</strong> 흐름 미리볼 수 있는 예측 정보 강화</a> <span class=\"txt_sinfo\"> <span class=\"press\" title=\"EBN\">EBN</span> <span class=\"bar\"></span> 2017.05.04. </span> </li> <li> <span class=\"ico_bu\"></span> <a href=\"http://www.newsis.com/view/?id=NISX20170504_0014873731&amp;cID=10201&amp;pID=10200\" onclick=\"return goOtherCR(this, 'a=nws*r.outtit&amp;r=3&amp;i=88000127_000000000000000007934736&amp;g=003.0007934736&amp;u='+urlencode(this.href));\" target=\"_blank\" title=\"네이버, 한중일 미세먼지 흐름 '날씨 영상' 강화\">네이버, 한중일 미세<strong class=\"hl\">먼지</strong> 흐름 '날씨 영상' 강화</a> <span class=\"txt_sinfo\"> <span class=\"press\" title=\"뉴시스\">뉴시스</span> <span class=\"bar\"></span> 2017.05.04. <span class=\"bar\"></span><a class=\"\" href=\"http://news.naver.com/main/read.nhn?mode=LSD&amp;mid=sec&amp;sid1=102&amp;oid=003&amp;aid=0007934736\" onclick=\"return goOtherCR(this, 'a=nws*r.inlink&amp;r=3&amp;i=88000127_000000000000000007934736&amp;u='+urlencode(this.href));\" target=\"_blank\">네이버뉴스</a> </span> </li> <li> <span class=\"ico_bu\"></span> <a href=\"http://sports.chosun.com/news/ntype.htm?id=201705040100032820002106&amp;servicedate=20170504\" onclick=\"return goOtherCR(this, 'a=nws*r.outtit&amp;r=4&amp;i=880000D3_000000000000000003088189&amp;g=076.0003088189&amp;u='+urlencode(this.href));\" target=\"_blank\" title=\"네이버, 국내·외 미세먼지 흐름 예측 정보 강화\">네이버, 국내·외 미세<strong class=\"hl\">먼지</strong> 흐름 예측 정보 강화</a> <span class=\"txt_sinfo\"> <span class=\"press\" title=\"스포츠조선\">스포츠조선</span> <span class=\"bar\"></span> 2017.05.04. <span class=\"bar\"></span><a class=\"\" href=\"http://news.naver.com/main/read.nhn?mode=LSD&amp;mid=sec&amp;sid1=101&amp;oid=076&amp;aid=0003088189\" onclick=\"return goOtherCR(this, 'a=nws*r.inlink&amp;r=4&amp;i=880000D3_000000000000000003088189&amp;u='+urlencode(this.href));\" target=\"_blank\">네이버뉴스</a> </span> </li> <li> <span class=\"ico_bu\"></span> <a href=\"http://www.fnnews.com/news/201705041438129812\" onclick=\"return goOtherCR(this, 'a=nws*r.outtit&amp;r=5&amp;i=880000FF_000000000000000003811060&amp;g=014.0003811060&amp;u='+urlencode(this.href));\" target=\"_blank\" title=\"네이버, 한중일 미세먼지 흐름 영상으로 알려준다\">네이버, 한중일 미세<strong class=\"hl\">먼지</strong> 흐름 영상으로 알려준다</a> <span class=\"txt_sinfo\"> <span class=\"press\" title=\"파이낸셜뉴스\">파이낸셜뉴스</span> <span class=\"bar\"></span> 2017.05.04. <span class=\"bar\"></span><a class=\"\" href=\"http://news.naver.com/main/read.nhn?mode=LSD&amp;mid=sec&amp;sid1=105&amp;oid=014&amp;aid=0003811060\" onclick=\"return goOtherCR(this, 'a=nws*r.inlink&amp;r=5&amp;i=880000FF_000000000000000003811060&amp;u='+urlencode(this.href));\" target=\"_blank\">네이버뉴스</a> </span> </li> </ul> <div class=\"newr_more\"> <a class=\"more_news\" href=\"#\" onclick=\"news_submit_related_option('50430000056159', 0, 'nws*r.more'); return false;\">관련뉴스 23건 전체보기</a> </div> </dd> </dl> </li> <li id=\"sp_nws6\"> <dl> <dt><a class=\"_sp_each_url _sp_each_title\" href=\"http://www.gukjenews.com/news/articleView.html?idxno=714019\" onclick=\"return goOtherCR(this, 'a=nws*x.outtit&amp;r=6&amp;i=8813C2D5_000000000000000000622706&amp;g=5291.0000622706&amp;u='+urlencode(this.href));\" target=\"_blank\" title=\"베이징서 미세먼지 '한·중 공동연구단' 워크숍 개최\">베이징서 미세<strong class=\"hl\">먼지</strong> '한·중 공동연구단' 워크숍 개최</a></dt> <dd class=\"txt_inline\"><span class=\"_sp_each_source\">국제뉴스</span> <span class=\"bar\"></span> 2017.05.23. <div class=\"scial\" id=\"sp_nws6_base\"> <span class=\"bar\"></span> <a class=\"bt_scial2 naver-splugin\" data-oninitialize=\"splugin_oninitialize('sp_nws6');\" data-style=\"unity-v2\" href=\"#\" onclick=\"goOtherTCR(this, 'a=nws*x.pplugin&amp;r=6&amp;i=8813C2D5_000000000000000000622706&amp;u='+urlencode(this.href)); return false;\">보내기</a> </div> </dd> <dd>이미혜 교수는 그간 공동연구를 통해 확인한 베이징에 스모그가 발생하면 <strong class=\"hl\">초미세먼지</strong>(PM2.5)뿐 아니라 미세먼지(PM10) 농도도 증가하고 특히 우리나라와 다르게 황산염 비중이 증가한다는 연구 결과를 발표할 예정이다. 이...</dd> <dd> <ul class=\"relation_lst\"> <li> <span class=\"ico_bu\"></span> <a href=\"http://www.queen.co.kr/news/articleView.html?idxno=205183\" onclick=\"return goOtherCR(this, 'a=nws*r.outtit&amp;r=7&amp;i=88172bf3_000000000000000000001651&amp;g=5472.0000001651&amp;u='+urlencode(this.href));\" target=\"_blank\" title=\"미세먼지 저감 한·중 공동 워크숍, 스모그 발생 원인 추적·규명위한 대규모 현장조사\">미세<strong class=\"hl\">먼지</strong> 저감 한·중 공동 워크숍, 스모그 발생 원인 추적·규명위한 대규모...</a> <span class=\"txt_sinfo\"> <span class=\"press\" title=\"Queen\">Queen</span> <span class=\"bar\"></span> 2017.05.23. </span> </li> </ul> </dd> </dl> </li> <li id=\"sp_nws8\"> <div class=\"thumb\"><a class=\"sp_thmb thmb80\" href=\"http://news.knn.co.kr/news/todaynews_read.asp?etime=2017052200135&amp;userid=uk&amp;newsgubun=society\" onclick=\"return goOtherCR(this, 'a=nws*y.outimg&amp;r=8&amp;i=88121F5F_000000000000000000084794&amp;g=5167.0000084794&amp;u='+urlencode(this.href));\" target=\"_blank\"><img alt=\"지리산 공기캔 대상지\" class=\"\" height=\"80\" onerror=\"this.parentNode.style.display='none';\" src=\"https://search.pstatic.net/common/?src=http%3A%2F%2Fimgnews.naver.net%2Fimage%2Forigin%2F5167%2F2017%2F05%2F23%2F84794.jpg&amp;type=ofullfill80_80_q75_re2\" width=\"80\"/><span class=\"thmb_v\"></span></a></div> <dl> <dt><a class=\"_sp_each_url _sp_each_title\" href=\"http://news.knn.co.kr/news/todaynews_read.asp?etime=2017052200135&amp;userid=uk&amp;newsgubun=society\" onclick=\"return goOtherCR(this, 'a=nws*y.outtit&amp;r=8&amp;i=88121F5F_000000000000000000084794&amp;g=5167.0000084794&amp;u='+urlencode(this.href));\" target=\"_blank\" title=\"지리산 공기캔 대상지, 미세먼지는?\">지리산 공기캔 대상지, 미세<strong class=\"hl\">먼지</strong>는?</a></dt> <dd class=\"txt_inline\"><span class=\"_sp_each_source\">KNN</span> <span class=\"bar\"></span> 2017.05.23. <div class=\"scial\" id=\"sp_nws8_base\"> <span class=\"bar\"></span> <a class=\"bt_scial2 naver-splugin\" data-oninitialize=\"splugin_oninitialize('sp_nws8');\" data-style=\"unity-v2\" href=\"#\" onclick=\"goOtherTCR(this, 'a=nws*y.pplugin&amp;r=8&amp;i=88121F5F_000000000000000000084794&amp;u='+urlencode(this.href)); return false;\">보내기</a> </div> </dd> <dd>하루 평균 미세먼지는 22 ㎍/㎥, <strong class=\"hl\">초미세먼지</strong>는 9 ㎍/㎥로 모두 대기환경기준값을 충족했습니다. 이산화황, 일산화탄소 등도 모두 기준값 이하로 나타났습니다. {서영록/하동군 환경정책담당/\"공기질 성분분석을 했는데...</dd> </dl> </li> <li id=\"sp_nws9\"> <div class=\"thumb\"><a class=\"sp_thmb thmb80\" href=\"http://www.m-i.kr/news/articleView.html?idxno=351310\" onclick=\"return goOtherCR(this, 'a=nws*x.outimg&amp;r=9&amp;i=88155e4f_000000000000000000167772&amp;g=5385.0000167772&amp;u='+urlencode(this.href));\" target=\"_blank\"><img alt=\"산림바이오매스에너지\" class=\"\" height=\"80\" onerror=\"this.parentNode.style.display='none';\" src=\"https://search.pstatic.net/common/?src=http%3A%2F%2Fimgnews.naver.net%2Fimage%2Forigin%2F5385%2F2017%2F10%2F19%2F167772.jpg&amp;type=ofullfill80_80_q75_re2\" width=\"80\"/><span class=\"thmb_v\"></span></a></div> <dl> <dt><a class=\"_sp_each_url _sp_each_title\" href=\"http://www.m-i.kr/news/articleView.html?idxno=351310\" onclick=\"return goOtherCR(this, 'a=nws*x.outtit&amp;r=9&amp;i=88155e4f_000000000000000000167772&amp;g=5385.0000167772&amp;u='+urlencode(this.href));\" target=\"_blank\" title=\"산림바이오매스에너지협회, '목재펠릿 선진화 방안' 발표\">산림바이오매스에너지협회, '목재펠릿 선진화 방안' 발표</a></dt> <dd class=\"txt_inline\"><span class=\"_sp_each_source\">매일일보</span> <span class=\"bar\"></span> 2017.10.19. <div class=\"scial\" id=\"sp_nws9_base\"> <span class=\"bar\"></span> <a class=\"bt_scial2 naver-splugin\" data-oninitialize=\"splugin_oninitialize('sp_nws9');\" data-style=\"unity-v2\" href=\"#\" onclick=\"goOtherTCR(this, 'a=nws*x.pplugin&amp;r=9&amp;i=88155e4f_000000000000000000167772&amp;u='+urlencode(this.href)); return false;\">보내기</a> </div> </dd> <dd>아울러 <strong class=\"hl\">초미세먼지</strong>와 관련해서도 협회는 \"2차 전환을 통한 PM2.5 생성에 중요한 역할을 하는 것이 황산화물인데, 대기환경보전법에서 목재펠릿은 황산화물이 배출되지 않는다\"며 \"또 질소산화물도...</dd> <dd> <ul class=\"relation_lst\"> <li> <span class=\"ico_bu\"></span> <a href=\"http://www.todayenergy.kr/news/articleView.html?idxno=127124\" onclick=\"return goOtherCR(this, 'a=nws*r.outtit&amp;r=10&amp;i=8813C2CC_000000000000000000037000&amp;g=5300.0000037000&amp;u='+urlencode(this.href));\" target=\"_blank\" title=\"산림바이오매스에너지協, '목재펠릿 선진화 방안' 발표\">산림바이오매스에너지協, '목재펠릿 선진화 방안' 발표</a> <span class=\"txt_sinfo\"> <span class=\"press\" title=\"투데이에너지\">투데이에너지</span> <span class=\"bar\"></span> 2017.10.19. </span> </li> <li> <span class=\"ico_bu\"></span> <a href=\"http://edu.donga.com/?p=article&amp;ps=view&amp;at_no=20171019140158335463\" onclick=\"return goOtherCR(this, 'a=nws*r.outtit&amp;r=11&amp;i=881665ae_000000000000000000015150&amp;g=5449.0000015150&amp;u='+urlencode(this.href));\" target=\"_blank\" title=\"산림바이오매스에너지협회, 목재펠릿에 올바른 정보를 전하다\">산림바이오매스에너지협회, 목재펠릿에 올바른 정보를 전하다</a> <span class=\"txt_sinfo\"> <span class=\"press\" title=\"에듀동아\">에듀동아</span> <span class=\"bar\"></span> 2017.10.19. </span> </li> </ul> </dd> </dl> </li> <li id=\"sp_nws12\"> <div class=\"thumb\"><a class=\"sp_thmb thmb80\" href=\"http://www.hankyung.com/news/app/newsview.php?aid=2017052396121\" onclick=\"return goOtherCR(this, 'a=nws*y.outimg&amp;r=12&amp;i=88000107_000000000000000003772369&amp;g=015.0003772369&amp;u='+urlencode(this.href));\" target=\"_blank\"><img alt=\"[건강한 인생] ‘따라잡\" class=\"\" height=\"80\" onerror=\"this.parentNode.style.display='none';\" src=\"https://search.pstatic.net/common/?src=http%3A%2F%2Fimgnews.naver.net%2Fimage%2Forigin%2F015%2F2017%2F05%2F23%2F3772369.jpg&amp;type=ofullfill80_80_q75_re2\" width=\"80\"/><span class=\"thmb_v\"></span></a></div> <dl> <dt><a class=\" _sp_each_title\" href=\"http://www.hankyung.com/news/app/newsview.php?aid=2017052396121\" onclick=\"return goOtherCR(this, 'a=nws*y.outtit&amp;r=12&amp;i=88000107_000000000000000003772369&amp;g=015.0003772369&amp;u='+urlencode(this.href));\" target=\"_blank\" title=\"[건강한 인생] '따라잡기 성장' 방해하는 미세먼지 대처법\">[건강한 인생] '따라잡기 성장' 방해하는 미세<strong class=\"hl\">먼지</strong> 대처법</a></dt> <dd class=\"txt_inline\"><span class=\"_sp_each_source\">한국경제</span> <span class=\"bar\"></span> <span class=\"newspaper\">B3면1단</span> <span class=\"bar\"></span> 2017.05.23. <span class=\"bar\"></span> <a class=\"_sp_each_url\" href=\"http://news.naver.com/main/read.nhn?mode=LSD&amp;mid=sec&amp;sid1=103&amp;oid=015&amp;aid=0003772369\" onclick=\"return goOtherCR(this, 'a=nws*y.inlink&amp;r=12&amp;i=88000107_000000000000000003772369&amp;u='+urlencode(this.href));\" target=\"_blank\">네이버뉴스</a> <div class=\"scial\" id=\"sp_nws12_base\"> <span class=\"bar\"></span> <a class=\"bt_scial2 naver-splugin\" data-oninitialize=\"splugin_oninitialize('sp_nws12');\" data-style=\"unity-v2\" href=\"#\" onclick=\"goOtherTCR(this, 'a=nws*y.pplugin&amp;r=12&amp;i=88000107_000000000000000003772369&amp;u='+urlencode(this.href)); return false;\">보내기</a> </div> </dd> <dd>기도가 좁은 어린아이일수록 폐 깊숙이 들어온 <strong class=\"hl\">초미세먼지</strong>가 쉽게 배출되지 않아 건강에 문제가 되기 쉽다. 미세먼지는 기초 면역력과 질병 회복력을 낮추고 균형 있는 성장도 방해한다. 모든 생물에게는 성장의 시기가...</dd> </dl> </li> <li id=\"sp_nws13\"> <div class=\"thumb\"><a class=\"sp_thmb thmb80\" href=\"http://www.hani.co.kr/arti/society/society_general/795914.html\" onclick=\"return goOtherCR(this, 'a=nws*y.outimg&amp;r=13&amp;i=88000103_000000000000000002365687&amp;g=028.0002365687&amp;u='+urlencode(this.href));\" target=\"_blank\"><img alt=\"시민 130명 동시다발 \" class=\"\" height=\"80\" onerror=\"this.parentNode.style.display='none';\" src=\"https://search.pstatic.net/common/?src=http%3A%2F%2Fimgnews.naver.net%2Fimage%2Forigin%2F028%2F2017%2F05%2F23%2F2365687.jpg&amp;type=ofullfill80_80_q75_re2\" width=\"80\"/><span class=\"thmb_v\"></span></a></div> <dl> <dt><a class=\" _sp_each_title\" href=\"http://www.hani.co.kr/arti/society/society_general/795914.html\" onclick=\"return goOtherCR(this, 'a=nws*y.outtit&amp;r=13&amp;i=88000103_000000000000000002365687&amp;g=028.0002365687&amp;u='+urlencode(this.href));\" target=\"_blank\" title=\"시민 130명 동시다발 미세먼지 채집기\">시민 130명 동시다발 미세<strong class=\"hl\">먼지</strong> 채집기</a></dt> <dd class=\"txt_inline\"><span class=\"_sp_each_source\">한겨레</span> <span class=\"bar\"></span> <span class=\"newspaper\">A13면1단</span> <span class=\"bar\"></span> 2017.05.23. <span class=\"bar\"></span> <a class=\"_sp_each_url\" href=\"http://news.naver.com/main/read.nhn?mode=LSD&amp;mid=sec&amp;sid1=102&amp;oid=028&amp;aid=0002365687\" onclick=\"return goOtherCR(this, 'a=nws*y.inlink&amp;r=13&amp;i=88000103_000000000000000002365687&amp;u='+urlencode(this.href));\" target=\"_blank\">네이버뉴스</a> <div class=\"scial\" id=\"sp_nws13_base\"> <span class=\"bar\"></span> <a class=\"bt_scial2 naver-splugin\" data-oninitialize=\"splugin_oninitialize('sp_nws13');\" data-style=\"unity-v2\" href=\"#\" onclick=\"goOtherTCR(this, 'a=nws*y.pplugin&amp;r=13&amp;i=88000103_000000000000000002365687&amp;u='+urlencode(this.href)); return false;\">보내기</a> </div> </dd> <dd>프로젝트에 참여한 김선태 대전대 환경공학과 교수는 “이산화질소는 공기중의 다른 물질과 결합해 <strong class=\"hl\">초미세먼지</strong>를 만들고, 총먼지 농도가 증가하면 미세먼지 농도도 같이 증가한다”며 “시민들이 참여해서 자신이 사는...</dd> </dl> </li> <li id=\"sp_nws14\"> <dl> <dt><a class=\"_sp_each_url _sp_each_title\" href=\"http://www.ccdailynews.com/news/articleView.html?idxno=930951\" onclick=\"return goOtherCR(this, 'a=nws*y.outtit&amp;r=14&amp;i=8809G014_000000000000000000535492&amp;g=5116.0000535492&amp;u='+urlencode(this.href));\" target=\"_blank\" title='\"대기오염물질 발생, 사실 밝히고 사과해야\"'>\"대기오염물질 발생, 사실 밝히고 사과해야\"</a></dt> <dd class=\"txt_inline\"><span class=\"_sp_each_source\">충청일보</span> <span class=\"bar\"></span> 2017.07.17. <div class=\"scial\" id=\"sp_nws14_base\"> <span class=\"bar\"></span> <a class=\"bt_scial2 naver-splugin\" data-oninitialize=\"splugin_oninitialize('sp_nws14');\" data-style=\"unity-v2\" href=\"#\" onclick=\"goOtherTCR(this, 'a=nws*y.pplugin&amp;r=14&amp;i=8809G014_000000000000000000535492&amp;u='+urlencode(this.href)); return false;\">보내기</a> </div> </dd> <dd>국립환경과학원 자료를 바탕으로 확인한 결과 석탄화력에서 발생하는 TSP(먼지, 미세먼지·<strong class=\"hl\">초미세먼지</strong> 포함)는 시 전체 발생량의 1.1% 밖에 차지하지 않는 것으로 알려지면서 시의 근거없는 허위성 주장이 논란이 되고...</dd> </dl> </li> <li id=\"sp_nws15\"> <div class=\"thumb\"><a class=\"sp_thmb thmb80\" href=\"http://www.newsprime.co.kr/news/article.html?no=375728\" onclick=\"return goOtherCR(this, 'a=nws*y.outimg&amp;r=15&amp;i=88155e88_000000000000000000089056&amp;g=5325.0000089056&amp;u='+urlencode(this.href));\" target=\"_blank\"><img alt=\"진주가람초, 미세먼지\" class=\"\" height=\"80\" onerror=\"this.parentNode.style.display='none';\" src=\"https://search.pstatic.net/common/?src=http%3A%2F%2Fimgnews.naver.net%2Fimage%2Forigin%2F5325%2F2017%2F05%2F23%2F89056.jpg&amp;type=ofullfill80_80_q75_re2\" width=\"80\"/><span class=\"thmb_v\"></span></a></div> <dl> <dt><a class=\"_sp_each_url _sp_each_title\" href=\"http://www.newsprime.co.kr/news/article.html?no=375728\" onclick=\"return goOtherCR(this, 'a=nws*y.outtit&amp;r=15&amp;i=88155e88_000000000000000000089056&amp;g=5325.0000089056&amp;u='+urlencode(this.href));\" target=\"_blank\" title=\"진주가람초, 미세먼지 컨설팅 교육 진행\">진주가람초, 미세<strong class=\"hl\">먼지</strong> 컨설팅 교육 진행</a></dt> <dd class=\"txt_inline\"><span class=\"_sp_each_source\">프라임경제</span> <span class=\"bar\"></span> 2017.05.23. <div class=\"scial\" id=\"sp_nws15_base\"> <span class=\"bar\"></span> <a class=\"bt_scial2 naver-splugin\" data-oninitialize=\"splugin_oninitialize('sp_nws15');\" data-style=\"unity-v2\" href=\"#\" onclick=\"goOtherTCR(this, 'a=nws*y.pplugin&amp;r=15&amp;i=88155e88_000000000000000000089056&amp;u='+urlencode(this.href)); return false;\">보내기</a> </div> </dd> <dd>정용환 경남교육연구정보원 강사를 초청해 △미세먼지와 <strong class=\"hl\">초미세먼지</strong>의 의미 △피해사례 및 대응방법 △우리나라의 실정 등의 상세한 안내와 교육이 진행됐다. 이아영 교사는 \"미세먼지가 이렇게 무서운 존재인지 정확히...</dd> </dl> </li> <li id=\"sp_nws16\"> <dl> <dt><a class=\"_sp_each_url _sp_each_title\" href=\"http://ytnscience.co.kr/weather/weather_view.php?s_mcd=1000&amp;key=201705231433404001\" onclick=\"return goOtherCR(this, 'a=nws*y.outtit&amp;r=16&amp;i=8812C135_000000000000000000039944&amp;g=5221.0000039944&amp;u='+urlencode(this.href));\" target=\"_blank\" title=\"[오늘의 미세먼지] 전국 ‘보통’…자외선 ‘약간 나쁨’\">[오늘의 미세<strong class=\"hl\">먼지</strong>] 전국 ‘보통’…자외선 ‘약간 나쁨’</a></dt> <dd class=\"txt_inline\"><span class=\"_sp_each_source\">YTN사이언스</span> <span class=\"bar\"></span> 2017.05.23. <div class=\"scial\" id=\"sp_nws16_base\"> <span class=\"bar\"></span> <a class=\"bt_scial2 naver-splugin\" data-oninitialize=\"splugin_oninitialize('sp_nws16');\" data-style=\"unity-v2\" href=\"#\" onclick=\"goOtherTCR(this, 'a=nws*y.pplugin&amp;r=16&amp;i=8812C135_000000000000000000039944&amp;u='+urlencode(this.href)); return false;\">보내기</a> </div> </dd> <dd>에어가드K 공기지능센터는 “전국의 미세먼지·<strong class=\"hl\">초미세먼지</strong> 농도가 다소 낮을 것으로 예상돼 실내 환기는 종일 가능하겠다”며 “자외선 지수는 영남지방이 ‘나쁨’ 그 밖의 지역은 ‘약간 나쁨’ 단계가 되겠다”고...</dd> </dl> </li> <li id=\"sp_nws17\"> <div class=\"thumb\"><a class=\"sp_thmb thmb80\" href=\"http://www.topstarnews.net/detail.php?number=267457\" onclick=\"return goOtherCR(this, 'a=nws*y.outimg&amp;r=17&amp;i=88155e6f_000000000000000000206792&amp;g=5353.0000206792&amp;u='+urlencode(this.href));\" target=\"_blank\"><img alt=\"[방송리뷰] ‘PD수첩’\" class=\"\" height=\"80\" onerror=\"this.parentNode.style.display='none';\" src=\"https://search.pstatic.net/common/?src=http%3A%2F%2Fimgnews.naver.net%2Fimage%2Forigin%2F5353%2F2017%2F05%2F23%2F206792.jpg&amp;type=ofullfill80_80_q75_re2\" width=\"80\"/><span class=\"thmb_v\"></span></a></div> <dl> <dt><a class=\"_sp_each_url _sp_each_title\" href=\"http://www.topstarnews.net/detail.php?number=267457\" onclick=\"return goOtherCR(this, 'a=nws*y.outtit&amp;r=17&amp;i=88155e6f_000000000000000000206792&amp;g=5353.0000206792&amp;u='+urlencode(this.href));\" target=\"_blank\" title=\"[방송리뷰] ‘PD수첩’ 홍윤철 교수, “미세먼지는 워낙 작아 그 자체가 혈액으로도 들어간다”\">[방송리뷰] ‘PD수첩’ 홍윤철 교수, “미세<strong class=\"hl\">먼지</strong>는 워낙 작아 그 자체가 혈액...</a></dt> <dd class=\"txt_inline\"><span class=\"_sp_each_source\">톱스타뉴스</span> <span class=\"bar\"></span> 2017.05.23. <div class=\"scial\" id=\"sp_nws17_base\"> <span class=\"bar\"></span> <a class=\"bt_scial2 naver-splugin\" data-oninitialize=\"splugin_oninitialize('sp_nws17');\" data-style=\"unity-v2\" href=\"#\" onclick=\"goOtherTCR(this, 'a=nws*y.pplugin&amp;r=17&amp;i=88155e6f_000000000000000000206792&amp;u='+urlencode(this.href)); return false;\">보내기</a> </div> </dd> <dd>또한 박기�O 광주과학기술원 <strong class=\"hl\">초미세먼지</strong>진단연구센터 교수는 터널 안은 밀폐된 환경이기 때문에 중금속이 포함된 미세먼지들도 많이 발견할 수 있다고 전했다.   터널에 한정 지어서 이야기한 것은 각...</dd> </dl> </li> </ul> </div>"
      ]
     },
     "execution_count": 21,
     "metadata": {},
     "output_type": "execute_result"
    }
   ],
   "source": [
    "contents.find('div', {'class':'news mynews section'})"
   ]
  },
  {
   "cell_type": "code",
   "execution_count": 22,
   "metadata": {},
   "outputs": [
    {
     "data": {
      "text/plain": [
       "<ul class=\"type01\"> <li id=\"sp_nws1\"> <div class=\"thumb\"><a class=\"sp_thmb thmb80\" href=\"http://www.readersnews.com/news/articleView.html?idxno=72384\" onclick=\"return goOtherCR(this, 'a=nws*x.outimg&amp;r=1&amp;i=88000402_000000000000000000056159&amp;g=5043.0000056159&amp;u='+urlencode(this.href));\" target=\"_blank\"><img alt=\"네이버, 미세먼지 모바\" class=\"\" height=\"80\" onerror=\"this.parentNode.style.display='none';\" src=\"https://search.pstatic.net/common/?src=http%3A%2F%2Fimgnews.naver.net%2Fimage%2Forigin%2F5043%2F2017%2F05%2F04%2F56159.jpg&amp;type=ofullfill80_80_q75_re2\" width=\"80\"/><span class=\"thmb_v\"></span></a></div> <dl> <dt><a class=\"_sp_each_url _sp_each_title\" href=\"http://www.readersnews.com/news/articleView.html?idxno=72384\" onclick=\"return goOtherCR(this, 'a=nws*x.outtit&amp;r=1&amp;i=88000402_000000000000000000056159&amp;g=5043.0000056159&amp;u='+urlencode(this.href));\" target=\"_blank\" title=\"네이버, 미세먼지 모바일 영상 서비스 제공\">네이버, 미세<strong class=\"hl\">먼지</strong> 모바일 영상 서비스 제공</a></dt> <dd class=\"txt_inline\"><span class=\"_sp_each_source\">독서신문</span> <span class=\"bar\"></span> 2017.05.04. <div class=\"scial\" id=\"sp_nws1_base\"> <span class=\"bar\"></span> <a class=\"bt_scial2 naver-splugin\" data-oninitialize=\"splugin_oninitialize('sp_nws1');\" data-style=\"unity-v2\" href=\"#\" onclick=\"goOtherTCR(this, 'a=nws*x.pplugin&amp;r=1&amp;i=88000402_000000000000000000056159&amp;u='+urlencode(this.href)); return false;\">보내기</a> </div> </dd> <dd>네이버 모바일 미세먼지 정보 제공 화면 [리더스뉴스/독서신문 박재붕 기자] 네이버(주)(대표이사 한성숙)가 모바일 네이버 검색을 통해 대기 흐름에 따른 미세먼지 및 <strong class=\"hl\">초미세먼지</strong>의 변화를 시각적으로...</dd> <dd> <ul class=\"relation_lst\"> <li> <span class=\"ico_bu\"></span> <a href=\"http://www.ebn.co.kr/news/view/890329\" onclick=\"return goOtherCR(this, 'a=nws*r.outtit&amp;r=2&amp;i=880000A8_000000000000000000280307&amp;g=5093.0000280307&amp;u='+urlencode(this.href));\" target=\"_blank\" title=\"네이버, 국내외 미세먼지 흐름 미리볼 수 있는 예측 정보 강화\">네이버, 국내외 미세<strong class=\"hl\">먼지</strong> 흐름 미리볼 수 있는 예측 정보 강화</a> <span class=\"txt_sinfo\"> <span class=\"press\" title=\"EBN\">EBN</span> <span class=\"bar\"></span> 2017.05.04. </span> </li> <li> <span class=\"ico_bu\"></span> <a href=\"http://www.newsis.com/view/?id=NISX20170504_0014873731&amp;cID=10201&amp;pID=10200\" onclick=\"return goOtherCR(this, 'a=nws*r.outtit&amp;r=3&amp;i=88000127_000000000000000007934736&amp;g=003.0007934736&amp;u='+urlencode(this.href));\" target=\"_blank\" title=\"네이버, 한중일 미세먼지 흐름 '날씨 영상' 강화\">네이버, 한중일 미세<strong class=\"hl\">먼지</strong> 흐름 '날씨 영상' 강화</a> <span class=\"txt_sinfo\"> <span class=\"press\" title=\"뉴시스\">뉴시스</span> <span class=\"bar\"></span> 2017.05.04. <span class=\"bar\"></span><a class=\"\" href=\"http://news.naver.com/main/read.nhn?mode=LSD&amp;mid=sec&amp;sid1=102&amp;oid=003&amp;aid=0007934736\" onclick=\"return goOtherCR(this, 'a=nws*r.inlink&amp;r=3&amp;i=88000127_000000000000000007934736&amp;u='+urlencode(this.href));\" target=\"_blank\">네이버뉴스</a> </span> </li> <li> <span class=\"ico_bu\"></span> <a href=\"http://sports.chosun.com/news/ntype.htm?id=201705040100032820002106&amp;servicedate=20170504\" onclick=\"return goOtherCR(this, 'a=nws*r.outtit&amp;r=4&amp;i=880000D3_000000000000000003088189&amp;g=076.0003088189&amp;u='+urlencode(this.href));\" target=\"_blank\" title=\"네이버, 국내·외 미세먼지 흐름 예측 정보 강화\">네이버, 국내·외 미세<strong class=\"hl\">먼지</strong> 흐름 예측 정보 강화</a> <span class=\"txt_sinfo\"> <span class=\"press\" title=\"스포츠조선\">스포츠조선</span> <span class=\"bar\"></span> 2017.05.04. <span class=\"bar\"></span><a class=\"\" href=\"http://news.naver.com/main/read.nhn?mode=LSD&amp;mid=sec&amp;sid1=101&amp;oid=076&amp;aid=0003088189\" onclick=\"return goOtherCR(this, 'a=nws*r.inlink&amp;r=4&amp;i=880000D3_000000000000000003088189&amp;u='+urlencode(this.href));\" target=\"_blank\">네이버뉴스</a> </span> </li> <li> <span class=\"ico_bu\"></span> <a href=\"http://www.fnnews.com/news/201705041438129812\" onclick=\"return goOtherCR(this, 'a=nws*r.outtit&amp;r=5&amp;i=880000FF_000000000000000003811060&amp;g=014.0003811060&amp;u='+urlencode(this.href));\" target=\"_blank\" title=\"네이버, 한중일 미세먼지 흐름 영상으로 알려준다\">네이버, 한중일 미세<strong class=\"hl\">먼지</strong> 흐름 영상으로 알려준다</a> <span class=\"txt_sinfo\"> <span class=\"press\" title=\"파이낸셜뉴스\">파이낸셜뉴스</span> <span class=\"bar\"></span> 2017.05.04. <span class=\"bar\"></span><a class=\"\" href=\"http://news.naver.com/main/read.nhn?mode=LSD&amp;mid=sec&amp;sid1=105&amp;oid=014&amp;aid=0003811060\" onclick=\"return goOtherCR(this, 'a=nws*r.inlink&amp;r=5&amp;i=880000FF_000000000000000003811060&amp;u='+urlencode(this.href));\" target=\"_blank\">네이버뉴스</a> </span> </li> </ul> <div class=\"newr_more\"> <a class=\"more_news\" href=\"#\" onclick=\"news_submit_related_option('50430000056159', 0, 'nws*r.more'); return false;\">관련뉴스 23건 전체보기</a> </div> </dd> </dl> </li> <li id=\"sp_nws6\"> <dl> <dt><a class=\"_sp_each_url _sp_each_title\" href=\"http://www.gukjenews.com/news/articleView.html?idxno=714019\" onclick=\"return goOtherCR(this, 'a=nws*x.outtit&amp;r=6&amp;i=8813C2D5_000000000000000000622706&amp;g=5291.0000622706&amp;u='+urlencode(this.href));\" target=\"_blank\" title=\"베이징서 미세먼지 '한·중 공동연구단' 워크숍 개최\">베이징서 미세<strong class=\"hl\">먼지</strong> '한·중 공동연구단' 워크숍 개최</a></dt> <dd class=\"txt_inline\"><span class=\"_sp_each_source\">국제뉴스</span> <span class=\"bar\"></span> 2017.05.23. <div class=\"scial\" id=\"sp_nws6_base\"> <span class=\"bar\"></span> <a class=\"bt_scial2 naver-splugin\" data-oninitialize=\"splugin_oninitialize('sp_nws6');\" data-style=\"unity-v2\" href=\"#\" onclick=\"goOtherTCR(this, 'a=nws*x.pplugin&amp;r=6&amp;i=8813C2D5_000000000000000000622706&amp;u='+urlencode(this.href)); return false;\">보내기</a> </div> </dd> <dd>이미혜 교수는 그간 공동연구를 통해 확인한 베이징에 스모그가 발생하면 <strong class=\"hl\">초미세먼지</strong>(PM2.5)뿐 아니라 미세먼지(PM10) 농도도 증가하고 특히 우리나라와 다르게 황산염 비중이 증가한다는 연구 결과를 발표할 예정이다. 이...</dd> <dd> <ul class=\"relation_lst\"> <li> <span class=\"ico_bu\"></span> <a href=\"http://www.queen.co.kr/news/articleView.html?idxno=205183\" onclick=\"return goOtherCR(this, 'a=nws*r.outtit&amp;r=7&amp;i=88172bf3_000000000000000000001651&amp;g=5472.0000001651&amp;u='+urlencode(this.href));\" target=\"_blank\" title=\"미세먼지 저감 한·중 공동 워크숍, 스모그 발생 원인 추적·규명위한 대규모 현장조사\">미세<strong class=\"hl\">먼지</strong> 저감 한·중 공동 워크숍, 스모그 발생 원인 추적·규명위한 대규모...</a> <span class=\"txt_sinfo\"> <span class=\"press\" title=\"Queen\">Queen</span> <span class=\"bar\"></span> 2017.05.23. </span> </li> </ul> </dd> </dl> </li> <li id=\"sp_nws8\"> <div class=\"thumb\"><a class=\"sp_thmb thmb80\" href=\"http://news.knn.co.kr/news/todaynews_read.asp?etime=2017052200135&amp;userid=uk&amp;newsgubun=society\" onclick=\"return goOtherCR(this, 'a=nws*y.outimg&amp;r=8&amp;i=88121F5F_000000000000000000084794&amp;g=5167.0000084794&amp;u='+urlencode(this.href));\" target=\"_blank\"><img alt=\"지리산 공기캔 대상지\" class=\"\" height=\"80\" onerror=\"this.parentNode.style.display='none';\" src=\"https://search.pstatic.net/common/?src=http%3A%2F%2Fimgnews.naver.net%2Fimage%2Forigin%2F5167%2F2017%2F05%2F23%2F84794.jpg&amp;type=ofullfill80_80_q75_re2\" width=\"80\"/><span class=\"thmb_v\"></span></a></div> <dl> <dt><a class=\"_sp_each_url _sp_each_title\" href=\"http://news.knn.co.kr/news/todaynews_read.asp?etime=2017052200135&amp;userid=uk&amp;newsgubun=society\" onclick=\"return goOtherCR(this, 'a=nws*y.outtit&amp;r=8&amp;i=88121F5F_000000000000000000084794&amp;g=5167.0000084794&amp;u='+urlencode(this.href));\" target=\"_blank\" title=\"지리산 공기캔 대상지, 미세먼지는?\">지리산 공기캔 대상지, 미세<strong class=\"hl\">먼지</strong>는?</a></dt> <dd class=\"txt_inline\"><span class=\"_sp_each_source\">KNN</span> <span class=\"bar\"></span> 2017.05.23. <div class=\"scial\" id=\"sp_nws8_base\"> <span class=\"bar\"></span> <a class=\"bt_scial2 naver-splugin\" data-oninitialize=\"splugin_oninitialize('sp_nws8');\" data-style=\"unity-v2\" href=\"#\" onclick=\"goOtherTCR(this, 'a=nws*y.pplugin&amp;r=8&amp;i=88121F5F_000000000000000000084794&amp;u='+urlencode(this.href)); return false;\">보내기</a> </div> </dd> <dd>하루 평균 미세먼지는 22 ㎍/㎥, <strong class=\"hl\">초미세먼지</strong>는 9 ㎍/㎥로 모두 대기환경기준값을 충족했습니다. 이산화황, 일산화탄소 등도 모두 기준값 이하로 나타났습니다. {서영록/하동군 환경정책담당/\"공기질 성분분석을 했는데...</dd> </dl> </li> <li id=\"sp_nws9\"> <div class=\"thumb\"><a class=\"sp_thmb thmb80\" href=\"http://www.m-i.kr/news/articleView.html?idxno=351310\" onclick=\"return goOtherCR(this, 'a=nws*x.outimg&amp;r=9&amp;i=88155e4f_000000000000000000167772&amp;g=5385.0000167772&amp;u='+urlencode(this.href));\" target=\"_blank\"><img alt=\"산림바이오매스에너지\" class=\"\" height=\"80\" onerror=\"this.parentNode.style.display='none';\" src=\"https://search.pstatic.net/common/?src=http%3A%2F%2Fimgnews.naver.net%2Fimage%2Forigin%2F5385%2F2017%2F10%2F19%2F167772.jpg&amp;type=ofullfill80_80_q75_re2\" width=\"80\"/><span class=\"thmb_v\"></span></a></div> <dl> <dt><a class=\"_sp_each_url _sp_each_title\" href=\"http://www.m-i.kr/news/articleView.html?idxno=351310\" onclick=\"return goOtherCR(this, 'a=nws*x.outtit&amp;r=9&amp;i=88155e4f_000000000000000000167772&amp;g=5385.0000167772&amp;u='+urlencode(this.href));\" target=\"_blank\" title=\"산림바이오매스에너지협회, '목재펠릿 선진화 방안' 발표\">산림바이오매스에너지협회, '목재펠릿 선진화 방안' 발표</a></dt> <dd class=\"txt_inline\"><span class=\"_sp_each_source\">매일일보</span> <span class=\"bar\"></span> 2017.10.19. <div class=\"scial\" id=\"sp_nws9_base\"> <span class=\"bar\"></span> <a class=\"bt_scial2 naver-splugin\" data-oninitialize=\"splugin_oninitialize('sp_nws9');\" data-style=\"unity-v2\" href=\"#\" onclick=\"goOtherTCR(this, 'a=nws*x.pplugin&amp;r=9&amp;i=88155e4f_000000000000000000167772&amp;u='+urlencode(this.href)); return false;\">보내기</a> </div> </dd> <dd>아울러 <strong class=\"hl\">초미세먼지</strong>와 관련해서도 협회는 \"2차 전환을 통한 PM2.5 생성에 중요한 역할을 하는 것이 황산화물인데, 대기환경보전법에서 목재펠릿은 황산화물이 배출되지 않는다\"며 \"또 질소산화물도...</dd> <dd> <ul class=\"relation_lst\"> <li> <span class=\"ico_bu\"></span> <a href=\"http://www.todayenergy.kr/news/articleView.html?idxno=127124\" onclick=\"return goOtherCR(this, 'a=nws*r.outtit&amp;r=10&amp;i=8813C2CC_000000000000000000037000&amp;g=5300.0000037000&amp;u='+urlencode(this.href));\" target=\"_blank\" title=\"산림바이오매스에너지協, '목재펠릿 선진화 방안' 발표\">산림바이오매스에너지協, '목재펠릿 선진화 방안' 발표</a> <span class=\"txt_sinfo\"> <span class=\"press\" title=\"투데이에너지\">투데이에너지</span> <span class=\"bar\"></span> 2017.10.19. </span> </li> <li> <span class=\"ico_bu\"></span> <a href=\"http://edu.donga.com/?p=article&amp;ps=view&amp;at_no=20171019140158335463\" onclick=\"return goOtherCR(this, 'a=nws*r.outtit&amp;r=11&amp;i=881665ae_000000000000000000015150&amp;g=5449.0000015150&amp;u='+urlencode(this.href));\" target=\"_blank\" title=\"산림바이오매스에너지협회, 목재펠릿에 올바른 정보를 전하다\">산림바이오매스에너지협회, 목재펠릿에 올바른 정보를 전하다</a> <span class=\"txt_sinfo\"> <span class=\"press\" title=\"에듀동아\">에듀동아</span> <span class=\"bar\"></span> 2017.10.19. </span> </li> </ul> </dd> </dl> </li> <li id=\"sp_nws12\"> <div class=\"thumb\"><a class=\"sp_thmb thmb80\" href=\"http://www.hankyung.com/news/app/newsview.php?aid=2017052396121\" onclick=\"return goOtherCR(this, 'a=nws*y.outimg&amp;r=12&amp;i=88000107_000000000000000003772369&amp;g=015.0003772369&amp;u='+urlencode(this.href));\" target=\"_blank\"><img alt=\"[건강한 인생] ‘따라잡\" class=\"\" height=\"80\" onerror=\"this.parentNode.style.display='none';\" src=\"https://search.pstatic.net/common/?src=http%3A%2F%2Fimgnews.naver.net%2Fimage%2Forigin%2F015%2F2017%2F05%2F23%2F3772369.jpg&amp;type=ofullfill80_80_q75_re2\" width=\"80\"/><span class=\"thmb_v\"></span></a></div> <dl> <dt><a class=\" _sp_each_title\" href=\"http://www.hankyung.com/news/app/newsview.php?aid=2017052396121\" onclick=\"return goOtherCR(this, 'a=nws*y.outtit&amp;r=12&amp;i=88000107_000000000000000003772369&amp;g=015.0003772369&amp;u='+urlencode(this.href));\" target=\"_blank\" title=\"[건강한 인생] '따라잡기 성장' 방해하는 미세먼지 대처법\">[건강한 인생] '따라잡기 성장' 방해하는 미세<strong class=\"hl\">먼지</strong> 대처법</a></dt> <dd class=\"txt_inline\"><span class=\"_sp_each_source\">한국경제</span> <span class=\"bar\"></span> <span class=\"newspaper\">B3면1단</span> <span class=\"bar\"></span> 2017.05.23. <span class=\"bar\"></span> <a class=\"_sp_each_url\" href=\"http://news.naver.com/main/read.nhn?mode=LSD&amp;mid=sec&amp;sid1=103&amp;oid=015&amp;aid=0003772369\" onclick=\"return goOtherCR(this, 'a=nws*y.inlink&amp;r=12&amp;i=88000107_000000000000000003772369&amp;u='+urlencode(this.href));\" target=\"_blank\">네이버뉴스</a> <div class=\"scial\" id=\"sp_nws12_base\"> <span class=\"bar\"></span> <a class=\"bt_scial2 naver-splugin\" data-oninitialize=\"splugin_oninitialize('sp_nws12');\" data-style=\"unity-v2\" href=\"#\" onclick=\"goOtherTCR(this, 'a=nws*y.pplugin&amp;r=12&amp;i=88000107_000000000000000003772369&amp;u='+urlencode(this.href)); return false;\">보내기</a> </div> </dd> <dd>기도가 좁은 어린아이일수록 폐 깊숙이 들어온 <strong class=\"hl\">초미세먼지</strong>가 쉽게 배출되지 않아 건강에 문제가 되기 쉽다. 미세먼지는 기초 면역력과 질병 회복력을 낮추고 균형 있는 성장도 방해한다. 모든 생물에게는 성장의 시기가...</dd> </dl> </li> <li id=\"sp_nws13\"> <div class=\"thumb\"><a class=\"sp_thmb thmb80\" href=\"http://www.hani.co.kr/arti/society/society_general/795914.html\" onclick=\"return goOtherCR(this, 'a=nws*y.outimg&amp;r=13&amp;i=88000103_000000000000000002365687&amp;g=028.0002365687&amp;u='+urlencode(this.href));\" target=\"_blank\"><img alt=\"시민 130명 동시다발 \" class=\"\" height=\"80\" onerror=\"this.parentNode.style.display='none';\" src=\"https://search.pstatic.net/common/?src=http%3A%2F%2Fimgnews.naver.net%2Fimage%2Forigin%2F028%2F2017%2F05%2F23%2F2365687.jpg&amp;type=ofullfill80_80_q75_re2\" width=\"80\"/><span class=\"thmb_v\"></span></a></div> <dl> <dt><a class=\" _sp_each_title\" href=\"http://www.hani.co.kr/arti/society/society_general/795914.html\" onclick=\"return goOtherCR(this, 'a=nws*y.outtit&amp;r=13&amp;i=88000103_000000000000000002365687&amp;g=028.0002365687&amp;u='+urlencode(this.href));\" target=\"_blank\" title=\"시민 130명 동시다발 미세먼지 채집기\">시민 130명 동시다발 미세<strong class=\"hl\">먼지</strong> 채집기</a></dt> <dd class=\"txt_inline\"><span class=\"_sp_each_source\">한겨레</span> <span class=\"bar\"></span> <span class=\"newspaper\">A13면1단</span> <span class=\"bar\"></span> 2017.05.23. <span class=\"bar\"></span> <a class=\"_sp_each_url\" href=\"http://news.naver.com/main/read.nhn?mode=LSD&amp;mid=sec&amp;sid1=102&amp;oid=028&amp;aid=0002365687\" onclick=\"return goOtherCR(this, 'a=nws*y.inlink&amp;r=13&amp;i=88000103_000000000000000002365687&amp;u='+urlencode(this.href));\" target=\"_blank\">네이버뉴스</a> <div class=\"scial\" id=\"sp_nws13_base\"> <span class=\"bar\"></span> <a class=\"bt_scial2 naver-splugin\" data-oninitialize=\"splugin_oninitialize('sp_nws13');\" data-style=\"unity-v2\" href=\"#\" onclick=\"goOtherTCR(this, 'a=nws*y.pplugin&amp;r=13&amp;i=88000103_000000000000000002365687&amp;u='+urlencode(this.href)); return false;\">보내기</a> </div> </dd> <dd>프로젝트에 참여한 김선태 대전대 환경공학과 교수는 “이산화질소는 공기중의 다른 물질과 결합해 <strong class=\"hl\">초미세먼지</strong>를 만들고, 총먼지 농도가 증가하면 미세먼지 농도도 같이 증가한다”며 “시민들이 참여해서 자신이 사는...</dd> </dl> </li> <li id=\"sp_nws14\"> <dl> <dt><a class=\"_sp_each_url _sp_each_title\" href=\"http://www.ccdailynews.com/news/articleView.html?idxno=930951\" onclick=\"return goOtherCR(this, 'a=nws*y.outtit&amp;r=14&amp;i=8809G014_000000000000000000535492&amp;g=5116.0000535492&amp;u='+urlencode(this.href));\" target=\"_blank\" title='\"대기오염물질 발생, 사실 밝히고 사과해야\"'>\"대기오염물질 발생, 사실 밝히고 사과해야\"</a></dt> <dd class=\"txt_inline\"><span class=\"_sp_each_source\">충청일보</span> <span class=\"bar\"></span> 2017.07.17. <div class=\"scial\" id=\"sp_nws14_base\"> <span class=\"bar\"></span> <a class=\"bt_scial2 naver-splugin\" data-oninitialize=\"splugin_oninitialize('sp_nws14');\" data-style=\"unity-v2\" href=\"#\" onclick=\"goOtherTCR(this, 'a=nws*y.pplugin&amp;r=14&amp;i=8809G014_000000000000000000535492&amp;u='+urlencode(this.href)); return false;\">보내기</a> </div> </dd> <dd>국립환경과학원 자료를 바탕으로 확인한 결과 석탄화력에서 발생하는 TSP(먼지, 미세먼지·<strong class=\"hl\">초미세먼지</strong> 포함)는 시 전체 발생량의 1.1% 밖에 차지하지 않는 것으로 알려지면서 시의 근거없는 허위성 주장이 논란이 되고...</dd> </dl> </li> <li id=\"sp_nws15\"> <div class=\"thumb\"><a class=\"sp_thmb thmb80\" href=\"http://www.newsprime.co.kr/news/article.html?no=375728\" onclick=\"return goOtherCR(this, 'a=nws*y.outimg&amp;r=15&amp;i=88155e88_000000000000000000089056&amp;g=5325.0000089056&amp;u='+urlencode(this.href));\" target=\"_blank\"><img alt=\"진주가람초, 미세먼지\" class=\"\" height=\"80\" onerror=\"this.parentNode.style.display='none';\" src=\"https://search.pstatic.net/common/?src=http%3A%2F%2Fimgnews.naver.net%2Fimage%2Forigin%2F5325%2F2017%2F05%2F23%2F89056.jpg&amp;type=ofullfill80_80_q75_re2\" width=\"80\"/><span class=\"thmb_v\"></span></a></div> <dl> <dt><a class=\"_sp_each_url _sp_each_title\" href=\"http://www.newsprime.co.kr/news/article.html?no=375728\" onclick=\"return goOtherCR(this, 'a=nws*y.outtit&amp;r=15&amp;i=88155e88_000000000000000000089056&amp;g=5325.0000089056&amp;u='+urlencode(this.href));\" target=\"_blank\" title=\"진주가람초, 미세먼지 컨설팅 교육 진행\">진주가람초, 미세<strong class=\"hl\">먼지</strong> 컨설팅 교육 진행</a></dt> <dd class=\"txt_inline\"><span class=\"_sp_each_source\">프라임경제</span> <span class=\"bar\"></span> 2017.05.23. <div class=\"scial\" id=\"sp_nws15_base\"> <span class=\"bar\"></span> <a class=\"bt_scial2 naver-splugin\" data-oninitialize=\"splugin_oninitialize('sp_nws15');\" data-style=\"unity-v2\" href=\"#\" onclick=\"goOtherTCR(this, 'a=nws*y.pplugin&amp;r=15&amp;i=88155e88_000000000000000000089056&amp;u='+urlencode(this.href)); return false;\">보내기</a> </div> </dd> <dd>정용환 경남교육연구정보원 강사를 초청해 △미세먼지와 <strong class=\"hl\">초미세먼지</strong>의 의미 △피해사례 및 대응방법 △우리나라의 실정 등의 상세한 안내와 교육이 진행됐다. 이아영 교사는 \"미세먼지가 이렇게 무서운 존재인지 정확히...</dd> </dl> </li> <li id=\"sp_nws16\"> <dl> <dt><a class=\"_sp_each_url _sp_each_title\" href=\"http://ytnscience.co.kr/weather/weather_view.php?s_mcd=1000&amp;key=201705231433404001\" onclick=\"return goOtherCR(this, 'a=nws*y.outtit&amp;r=16&amp;i=8812C135_000000000000000000039944&amp;g=5221.0000039944&amp;u='+urlencode(this.href));\" target=\"_blank\" title=\"[오늘의 미세먼지] 전국 ‘보통’…자외선 ‘약간 나쁨’\">[오늘의 미세<strong class=\"hl\">먼지</strong>] 전국 ‘보통’…자외선 ‘약간 나쁨’</a></dt> <dd class=\"txt_inline\"><span class=\"_sp_each_source\">YTN사이언스</span> <span class=\"bar\"></span> 2017.05.23. <div class=\"scial\" id=\"sp_nws16_base\"> <span class=\"bar\"></span> <a class=\"bt_scial2 naver-splugin\" data-oninitialize=\"splugin_oninitialize('sp_nws16');\" data-style=\"unity-v2\" href=\"#\" onclick=\"goOtherTCR(this, 'a=nws*y.pplugin&amp;r=16&amp;i=8812C135_000000000000000000039944&amp;u='+urlencode(this.href)); return false;\">보내기</a> </div> </dd> <dd>에어가드K 공기지능센터는 “전국의 미세먼지·<strong class=\"hl\">초미세먼지</strong> 농도가 다소 낮을 것으로 예상돼 실내 환기는 종일 가능하겠다”며 “자외선 지수는 영남지방이 ‘나쁨’ 그 밖의 지역은 ‘약간 나쁨’ 단계가 되겠다”고...</dd> </dl> </li> <li id=\"sp_nws17\"> <div class=\"thumb\"><a class=\"sp_thmb thmb80\" href=\"http://www.topstarnews.net/detail.php?number=267457\" onclick=\"return goOtherCR(this, 'a=nws*y.outimg&amp;r=17&amp;i=88155e6f_000000000000000000206792&amp;g=5353.0000206792&amp;u='+urlencode(this.href));\" target=\"_blank\"><img alt=\"[방송리뷰] ‘PD수첩’\" class=\"\" height=\"80\" onerror=\"this.parentNode.style.display='none';\" src=\"https://search.pstatic.net/common/?src=http%3A%2F%2Fimgnews.naver.net%2Fimage%2Forigin%2F5353%2F2017%2F05%2F23%2F206792.jpg&amp;type=ofullfill80_80_q75_re2\" width=\"80\"/><span class=\"thmb_v\"></span></a></div> <dl> <dt><a class=\"_sp_each_url _sp_each_title\" href=\"http://www.topstarnews.net/detail.php?number=267457\" onclick=\"return goOtherCR(this, 'a=nws*y.outtit&amp;r=17&amp;i=88155e6f_000000000000000000206792&amp;g=5353.0000206792&amp;u='+urlencode(this.href));\" target=\"_blank\" title=\"[방송리뷰] ‘PD수첩’ 홍윤철 교수, “미세먼지는 워낙 작아 그 자체가 혈액으로도 들어간다”\">[방송리뷰] ‘PD수첩’ 홍윤철 교수, “미세<strong class=\"hl\">먼지</strong>는 워낙 작아 그 자체가 혈액...</a></dt> <dd class=\"txt_inline\"><span class=\"_sp_each_source\">톱스타뉴스</span> <span class=\"bar\"></span> 2017.05.23. <div class=\"scial\" id=\"sp_nws17_base\"> <span class=\"bar\"></span> <a class=\"bt_scial2 naver-splugin\" data-oninitialize=\"splugin_oninitialize('sp_nws17');\" data-style=\"unity-v2\" href=\"#\" onclick=\"goOtherTCR(this, 'a=nws*y.pplugin&amp;r=17&amp;i=88155e6f_000000000000000000206792&amp;u='+urlencode(this.href)); return false;\">보내기</a> </div> </dd> <dd>또한 박기�O 광주과학기술원 <strong class=\"hl\">초미세먼지</strong>진단연구센터 교수는 터널 안은 밀폐된 환경이기 때문에 중금속이 포함된 미세먼지들도 많이 발견할 수 있다고 전했다.   터널에 한정 지어서 이야기한 것은 각...</dd> </dl> </li> </ul>"
      ]
     },
     "execution_count": 22,
     "metadata": {},
     "output_type": "execute_result"
    }
   ],
   "source": [
    "contents.find('ul', {'class':'type01'})"
   ]
  },
  {
   "cell_type": "code",
   "execution_count": 25,
   "metadata": {
    "scrolled": true
   },
   "outputs": [
    {
     "data": {
      "text/plain": [
       "<li id=\"sp_nws1\"> <div class=\"thumb\"><a class=\"sp_thmb thmb80\" href=\"http://www.readersnews.com/news/articleView.html?idxno=72384\" onclick=\"return goOtherCR(this, 'a=nws*x.outimg&amp;r=1&amp;i=88000402_000000000000000000056159&amp;g=5043.0000056159&amp;u='+urlencode(this.href));\" target=\"_blank\"><img alt=\"네이버, 미세먼지 모바\" class=\"\" height=\"80\" onerror=\"this.parentNode.style.display='none';\" src=\"https://search.pstatic.net/common/?src=http%3A%2F%2Fimgnews.naver.net%2Fimage%2Forigin%2F5043%2F2017%2F05%2F04%2F56159.jpg&amp;type=ofullfill80_80_q75_re2\" width=\"80\"/><span class=\"thmb_v\"></span></a></div> <dl> <dt><a class=\"_sp_each_url _sp_each_title\" href=\"http://www.readersnews.com/news/articleView.html?idxno=72384\" onclick=\"return goOtherCR(this, 'a=nws*x.outtit&amp;r=1&amp;i=88000402_000000000000000000056159&amp;g=5043.0000056159&amp;u='+urlencode(this.href));\" target=\"_blank\" title=\"네이버, 미세먼지 모바일 영상 서비스 제공\">네이버, 미세<strong class=\"hl\">먼지</strong> 모바일 영상 서비스 제공</a></dt> <dd class=\"txt_inline\"><span class=\"_sp_each_source\">독서신문</span> <span class=\"bar\"></span> 2017.05.04. <div class=\"scial\" id=\"sp_nws1_base\"> <span class=\"bar\"></span> <a class=\"bt_scial2 naver-splugin\" data-oninitialize=\"splugin_oninitialize('sp_nws1');\" data-style=\"unity-v2\" href=\"#\" onclick=\"goOtherTCR(this, 'a=nws*x.pplugin&amp;r=1&amp;i=88000402_000000000000000000056159&amp;u='+urlencode(this.href)); return false;\">보내기</a> </div> </dd> <dd>네이버 모바일 미세먼지 정보 제공 화면 [리더스뉴스/독서신문 박재붕 기자] 네이버(주)(대표이사 한성숙)가 모바일 네이버 검색을 통해 대기 흐름에 따른 미세먼지 및 <strong class=\"hl\">초미세먼지</strong>의 변화를 시각적으로...</dd> <dd> <ul class=\"relation_lst\"> <li> <span class=\"ico_bu\"></span> <a href=\"http://www.ebn.co.kr/news/view/890329\" onclick=\"return goOtherCR(this, 'a=nws*r.outtit&amp;r=2&amp;i=880000A8_000000000000000000280307&amp;g=5093.0000280307&amp;u='+urlencode(this.href));\" target=\"_blank\" title=\"네이버, 국내외 미세먼지 흐름 미리볼 수 있는 예측 정보 강화\">네이버, 국내외 미세<strong class=\"hl\">먼지</strong> 흐름 미리볼 수 있는 예측 정보 강화</a> <span class=\"txt_sinfo\"> <span class=\"press\" title=\"EBN\">EBN</span> <span class=\"bar\"></span> 2017.05.04. </span> </li> <li> <span class=\"ico_bu\"></span> <a href=\"http://www.newsis.com/view/?id=NISX20170504_0014873731&amp;cID=10201&amp;pID=10200\" onclick=\"return goOtherCR(this, 'a=nws*r.outtit&amp;r=3&amp;i=88000127_000000000000000007934736&amp;g=003.0007934736&amp;u='+urlencode(this.href));\" target=\"_blank\" title=\"네이버, 한중일 미세먼지 흐름 '날씨 영상' 강화\">네이버, 한중일 미세<strong class=\"hl\">먼지</strong> 흐름 '날씨 영상' 강화</a> <span class=\"txt_sinfo\"> <span class=\"press\" title=\"뉴시스\">뉴시스</span> <span class=\"bar\"></span> 2017.05.04. <span class=\"bar\"></span><a class=\"\" href=\"http://news.naver.com/main/read.nhn?mode=LSD&amp;mid=sec&amp;sid1=102&amp;oid=003&amp;aid=0007934736\" onclick=\"return goOtherCR(this, 'a=nws*r.inlink&amp;r=3&amp;i=88000127_000000000000000007934736&amp;u='+urlencode(this.href));\" target=\"_blank\">네이버뉴스</a> </span> </li> <li> <span class=\"ico_bu\"></span> <a href=\"http://sports.chosun.com/news/ntype.htm?id=201705040100032820002106&amp;servicedate=20170504\" onclick=\"return goOtherCR(this, 'a=nws*r.outtit&amp;r=4&amp;i=880000D3_000000000000000003088189&amp;g=076.0003088189&amp;u='+urlencode(this.href));\" target=\"_blank\" title=\"네이버, 국내·외 미세먼지 흐름 예측 정보 강화\">네이버, 국내·외 미세<strong class=\"hl\">먼지</strong> 흐름 예측 정보 강화</a> <span class=\"txt_sinfo\"> <span class=\"press\" title=\"스포츠조선\">스포츠조선</span> <span class=\"bar\"></span> 2017.05.04. <span class=\"bar\"></span><a class=\"\" href=\"http://news.naver.com/main/read.nhn?mode=LSD&amp;mid=sec&amp;sid1=101&amp;oid=076&amp;aid=0003088189\" onclick=\"return goOtherCR(this, 'a=nws*r.inlink&amp;r=4&amp;i=880000D3_000000000000000003088189&amp;u='+urlencode(this.href));\" target=\"_blank\">네이버뉴스</a> </span> </li> <li> <span class=\"ico_bu\"></span> <a href=\"http://www.fnnews.com/news/201705041438129812\" onclick=\"return goOtherCR(this, 'a=nws*r.outtit&amp;r=5&amp;i=880000FF_000000000000000003811060&amp;g=014.0003811060&amp;u='+urlencode(this.href));\" target=\"_blank\" title=\"네이버, 한중일 미세먼지 흐름 영상으로 알려준다\">네이버, 한중일 미세<strong class=\"hl\">먼지</strong> 흐름 영상으로 알려준다</a> <span class=\"txt_sinfo\"> <span class=\"press\" title=\"파이낸셜뉴스\">파이낸셜뉴스</span> <span class=\"bar\"></span> 2017.05.04. <span class=\"bar\"></span><a class=\"\" href=\"http://news.naver.com/main/read.nhn?mode=LSD&amp;mid=sec&amp;sid1=105&amp;oid=014&amp;aid=0003811060\" onclick=\"return goOtherCR(this, 'a=nws*r.inlink&amp;r=5&amp;i=880000FF_000000000000000003811060&amp;u='+urlencode(this.href));\" target=\"_blank\">네이버뉴스</a> </span> </li> </ul> <div class=\"newr_more\"> <a class=\"more_news\" href=\"#\" onclick=\"news_submit_related_option('50430000056159', 0, 'nws*r.more'); return false;\">관련뉴스 23건 전체보기</a> </div> </dd> </dl> </li>"
      ]
     },
     "execution_count": 25,
     "metadata": {},
     "output_type": "execute_result"
    }
   ],
   "source": [
    "contents.find('ul', {'class':'type01'}).li"
   ]
  },
  {
   "cell_type": "code",
   "execution_count": 30,
   "metadata": {},
   "outputs": [
    {
     "data": {
      "text/plain": [
       "<dt><a class=\"_sp_each_url _sp_each_title\" href=\"http://www.readersnews.com/news/articleView.html?idxno=72384\" onclick=\"return goOtherCR(this, 'a=nws*x.outtit&amp;r=1&amp;i=88000402_000000000000000000056159&amp;g=5043.0000056159&amp;u='+urlencode(this.href));\" target=\"_blank\" title=\"네이버, 미세먼지 모바일 영상 서비스 제공\">네이버, 미세<strong class=\"hl\">먼지</strong> 모바일 영상 서비스 제공</a></dt>"
      ]
     },
     "execution_count": 30,
     "metadata": {},
     "output_type": "execute_result"
    }
   ],
   "source": [
    "contents.find('ul', {'class':'type01'}).li.dl.dt"
   ]
  },
  {
   "cell_type": "code",
   "execution_count": 34,
   "metadata": {},
   "outputs": [
    {
     "data": {
      "text/plain": [
       "<a class=\"_sp_each_url _sp_each_title\" href=\"http://www.readersnews.com/news/articleView.html?idxno=72384\" onclick=\"return goOtherCR(this, 'a=nws*x.outtit&amp;r=1&amp;i=88000402_000000000000000000056159&amp;g=5043.0000056159&amp;u='+urlencode(this.href));\" target=\"_blank\" title=\"네이버, 미세먼지 모바일 영상 서비스 제공\">네이버, 미세<strong class=\"hl\">먼지</strong> 모바일 영상 서비스 제공</a>"
      ]
     },
     "execution_count": 34,
     "metadata": {},
     "output_type": "execute_result"
    }
   ],
   "source": [
    "contents.find('ul', {'class':'type01'}).li.dl.dt.a"
   ]
  },
  {
   "cell_type": "code",
   "execution_count": 40,
   "metadata": {},
   "outputs": [
    {
     "data": {
      "text/plain": [
       "'http://www.readersnews.com/news/articleView.html?idxno=72384'"
      ]
     },
     "execution_count": 40,
     "metadata": {},
     "output_type": "execute_result"
    }
   ],
   "source": [
    "contents.find('ul', {'class':'type01'}).li.dl.dt.a['href']"
   ]
  },
  {
   "cell_type": "code",
   "execution_count": 41,
   "metadata": {},
   "outputs": [
    {
     "data": {
      "text/plain": [
       "'네이버, 미세먼지 모바일 영상 서비스 제공'"
      ]
     },
     "execution_count": 41,
     "metadata": {},
     "output_type": "execute_result"
    }
   ],
   "source": [
    "contents.find('ul', {'class':'type01'}).li.dl.dt.a['title']"
   ]
  },
  {
   "cell_type": "code",
   "execution_count": 43,
   "metadata": {},
   "outputs": [
    {
     "data": {
      "text/plain": [
       "'네이버, 미세먼지 모바일 영상 서비스 제공'"
      ]
     },
     "execution_count": 43,
     "metadata": {},
     "output_type": "execute_result"
    }
   ],
   "source": [
    "contents.find('ul', {'class':'type01'}).li.dl.dt.a.text"
   ]
  },
  {
   "cell_type": "code",
   "execution_count": 46,
   "metadata": {},
   "outputs": [
    {
     "data": {
      "text/plain": [
       "'네이버, 미세먼지 모바일 영상 서비스 제공'"
      ]
     },
     "execution_count": 46,
     "metadata": {},
     "output_type": "execute_result"
    }
   ],
   "source": [
    "contents.find('ul', {'class':'type01'}).li.dl.dt.a.get_text()"
   ]
  },
  {
   "cell_type": "code",
   "execution_count": 47,
   "metadata": {},
   "outputs": [
    {
     "data": {
      "text/plain": [
       "<dd class=\"txt_inline\"><span class=\"_sp_each_source\">독서신문</span> <span class=\"bar\"></span> 2017.05.04. <div class=\"scial\" id=\"sp_nws1_base\"> <span class=\"bar\"></span> <a class=\"bt_scial2 naver-splugin\" data-oninitialize=\"splugin_oninitialize('sp_nws1');\" data-style=\"unity-v2\" href=\"#\" onclick=\"goOtherTCR(this, 'a=nws*x.pplugin&amp;r=1&amp;i=88000402_000000000000000000056159&amp;u='+urlencode(this.href)); return false;\">보내기</a> </div> </dd>"
      ]
     },
     "execution_count": 47,
     "metadata": {},
     "output_type": "execute_result"
    }
   ],
   "source": [
    "contents.find('ul', {'class':'type01'}).li.dl.dd"
   ]
  },
  {
   "cell_type": "code",
   "execution_count": 48,
   "metadata": {},
   "outputs": [
    {
     "data": {
      "text/plain": [
       "'독서신문  2017.05.04.   보내기  '"
      ]
     },
     "execution_count": 48,
     "metadata": {},
     "output_type": "execute_result"
    }
   ],
   "source": [
    "contents.find('ul', {'class':'type01'}).li.dl.dd.text"
   ]
  },
  {
   "cell_type": "code",
   "execution_count": 49,
   "metadata": {},
   "outputs": [
    {
     "data": {
      "text/plain": [
       "'독서신문'"
      ]
     },
     "execution_count": 49,
     "metadata": {},
     "output_type": "execute_result"
    }
   ],
   "source": [
    "contents.find('ul', {'class':'type01'}).li.dl.span.text"
   ]
  },
  {
   "cell_type": "code",
   "execution_count": 62,
   "metadata": {},
   "outputs": [
    {
     "data": {
      "text/plain": [
       "'2017.05.04.'"
      ]
     },
     "execution_count": 62,
     "metadata": {},
     "output_type": "execute_result"
    }
   ],
   "source": [
    "contents.find('ul', {'class':'type01'}).li.dl.dd.text.split('  ')[1]"
   ]
  },
  {
   "cell_type": "code",
   "execution_count": 69,
   "metadata": {
    "scrolled": true
   },
   "outputs": [
    {
     "data": {
      "text/plain": [
       "<dl> <dt><a class=\"_sp_each_url _sp_each_title\" href=\"http://www.readersnews.com/news/articleView.html?idxno=72384\" onclick=\"return goOtherCR(this, 'a=nws*x.outtit&amp;r=1&amp;i=88000402_000000000000000000056159&amp;g=5043.0000056159&amp;u='+urlencode(this.href));\" target=\"_blank\" title=\"네이버, 미세먼지 모바일 영상 서비스 제공\">네이버, 미세<strong class=\"hl\">먼지</strong> 모바일 영상 서비스 제공</a></dt> <dd class=\"txt_inline\"><span class=\"_sp_each_source\">독서신문</span> <span class=\"bar\"></span> 2017.05.04. <div class=\"scial\" id=\"sp_nws1_base\"> <span class=\"bar\"></span> <a class=\"bt_scial2 naver-splugin\" data-oninitialize=\"splugin_oninitialize('sp_nws1');\" data-style=\"unity-v2\" href=\"#\" onclick=\"goOtherTCR(this, 'a=nws*x.pplugin&amp;r=1&amp;i=88000402_000000000000000000056159&amp;u='+urlencode(this.href)); return false;\">보내기</a> </div> </dd> <dd>네이버 모바일 미세먼지 정보 제공 화면 [리더스뉴스/독서신문 박재붕 기자] 네이버(주)(대표이사 한성숙)가 모바일 네이버 검색을 통해 대기 흐름에 따른 미세먼지 및 <strong class=\"hl\">초미세먼지</strong>의 변화를 시각적으로...</dd> <dd> <ul class=\"relation_lst\"> <li> <span class=\"ico_bu\"></span> <a href=\"http://www.ebn.co.kr/news/view/890329\" onclick=\"return goOtherCR(this, 'a=nws*r.outtit&amp;r=2&amp;i=880000A8_000000000000000000280307&amp;g=5093.0000280307&amp;u='+urlencode(this.href));\" target=\"_blank\" title=\"네이버, 국내외 미세먼지 흐름 미리볼 수 있는 예측 정보 강화\">네이버, 국내외 미세<strong class=\"hl\">먼지</strong> 흐름 미리볼 수 있는 예측 정보 강화</a> <span class=\"txt_sinfo\"> <span class=\"press\" title=\"EBN\">EBN</span> <span class=\"bar\"></span> 2017.05.04. </span> </li> <li> <span class=\"ico_bu\"></span> <a href=\"http://www.newsis.com/view/?id=NISX20170504_0014873731&amp;cID=10201&amp;pID=10200\" onclick=\"return goOtherCR(this, 'a=nws*r.outtit&amp;r=3&amp;i=88000127_000000000000000007934736&amp;g=003.0007934736&amp;u='+urlencode(this.href));\" target=\"_blank\" title=\"네이버, 한중일 미세먼지 흐름 '날씨 영상' 강화\">네이버, 한중일 미세<strong class=\"hl\">먼지</strong> 흐름 '날씨 영상' 강화</a> <span class=\"txt_sinfo\"> <span class=\"press\" title=\"뉴시스\">뉴시스</span> <span class=\"bar\"></span> 2017.05.04. <span class=\"bar\"></span><a class=\"\" href=\"http://news.naver.com/main/read.nhn?mode=LSD&amp;mid=sec&amp;sid1=102&amp;oid=003&amp;aid=0007934736\" onclick=\"return goOtherCR(this, 'a=nws*r.inlink&amp;r=3&amp;i=88000127_000000000000000007934736&amp;u='+urlencode(this.href));\" target=\"_blank\">네이버뉴스</a> </span> </li> <li> <span class=\"ico_bu\"></span> <a href=\"http://sports.chosun.com/news/ntype.htm?id=201705040100032820002106&amp;servicedate=20170504\" onclick=\"return goOtherCR(this, 'a=nws*r.outtit&amp;r=4&amp;i=880000D3_000000000000000003088189&amp;g=076.0003088189&amp;u='+urlencode(this.href));\" target=\"_blank\" title=\"네이버, 국내·외 미세먼지 흐름 예측 정보 강화\">네이버, 국내·외 미세<strong class=\"hl\">먼지</strong> 흐름 예측 정보 강화</a> <span class=\"txt_sinfo\"> <span class=\"press\" title=\"스포츠조선\">스포츠조선</span> <span class=\"bar\"></span> 2017.05.04. <span class=\"bar\"></span><a class=\"\" href=\"http://news.naver.com/main/read.nhn?mode=LSD&amp;mid=sec&amp;sid1=101&amp;oid=076&amp;aid=0003088189\" onclick=\"return goOtherCR(this, 'a=nws*r.inlink&amp;r=4&amp;i=880000D3_000000000000000003088189&amp;u='+urlencode(this.href));\" target=\"_blank\">네이버뉴스</a> </span> </li> <li> <span class=\"ico_bu\"></span> <a href=\"http://www.fnnews.com/news/201705041438129812\" onclick=\"return goOtherCR(this, 'a=nws*r.outtit&amp;r=5&amp;i=880000FF_000000000000000003811060&amp;g=014.0003811060&amp;u='+urlencode(this.href));\" target=\"_blank\" title=\"네이버, 한중일 미세먼지 흐름 영상으로 알려준다\">네이버, 한중일 미세<strong class=\"hl\">먼지</strong> 흐름 영상으로 알려준다</a> <span class=\"txt_sinfo\"> <span class=\"press\" title=\"파이낸셜뉴스\">파이낸셜뉴스</span> <span class=\"bar\"></span> 2017.05.04. <span class=\"bar\"></span><a class=\"\" href=\"http://news.naver.com/main/read.nhn?mode=LSD&amp;mid=sec&amp;sid1=105&amp;oid=014&amp;aid=0003811060\" onclick=\"return goOtherCR(this, 'a=nws*r.inlink&amp;r=5&amp;i=880000FF_000000000000000003811060&amp;u='+urlencode(this.href));\" target=\"_blank\">네이버뉴스</a> </span> </li> </ul> <div class=\"newr_more\"> <a class=\"more_news\" href=\"#\" onclick=\"news_submit_related_option('50430000056159', 0, 'nws*r.more'); return false;\">관련뉴스 23건 전체보기</a> </div> </dd> </dl>"
      ]
     },
     "execution_count": 69,
     "metadata": {},
     "output_type": "execute_result"
    }
   ],
   "source": [
    "contents.find('ul', {'class':'type01'}).li.dl"
   ]
  },
  {
   "cell_type": "code",
   "execution_count": 71,
   "metadata": {
    "collapsed": true
   },
   "outputs": [],
   "source": [
    "news_contents = contents.find('ul', {'class':'type01'}).li.dl"
   ]
  },
  {
   "cell_type": "code",
   "execution_count": 75,
   "metadata": {
    "collapsed": true
   },
   "outputs": [],
   "source": [
    "a = str(news_contents).split(' </dd> <dd>')[1]"
   ]
  },
  {
   "cell_type": "code",
   "execution_count": 77,
   "metadata": {
    "scrolled": true
   },
   "outputs": [
    {
     "data": {
      "text/plain": [
       "['네이버 모바일 미세먼지 정보 제공 화면 [리더스뉴스/독서신문\\xa0박재붕\\xa0기자]\\xa0네이버(주)(대표이사\\xa0한성숙)가\\xa0모바일\\xa0네이버\\xa0검색을\\xa0통해\\xa0대기\\xa0흐름에\\xa0따른\\xa0미세먼지\\xa0및\\xa0<strong class=\"hl\">초미세먼지</strong>의\\xa0변화를\\xa0시각적으로...',\n",
       " '<ul class=\"relation_lst\"> <li> <span class=\"ico_bu\"></span> <a href=\"http://www.ebn.co.kr/news/view/890329\" onclick=\"return goOtherCR(this, \\'a=nws*r.outtit&amp;r=2&amp;i=880000A8_000000000000000000280307&amp;g=5093.0000280307&amp;u=\\'+urlencode(this.href));\" target=\"_blank\" title=\"네이버, 국내외 미세먼지 흐름 미리볼 수 있는 예측 정보 강화\">네이버, 국내외 미세<strong class=\"hl\">먼지</strong> 흐름 미리볼 수 있는 예측 정보 강화</a> <span class=\"txt_sinfo\"> <span class=\"press\" title=\"EBN\">EBN</span> <span class=\"bar\"></span> 2017.05.04. </span> </li> <li> <span class=\"ico_bu\"></span> <a href=\"http://www.newsis.com/view/?id=NISX20170504_0014873731&amp;cID=10201&amp;pID=10200\" onclick=\"return goOtherCR(this, \\'a=nws*r.outtit&amp;r=3&amp;i=88000127_000000000000000007934736&amp;g=003.0007934736&amp;u=\\'+urlencode(this.href));\" target=\"_blank\" title=\"네이버, 한중일 미세먼지 흐름 \\'날씨 영상\\' 강화\">네이버, 한중일 미세<strong class=\"hl\">먼지</strong> 흐름 \\'날씨 영상\\' 강화</a> <span class=\"txt_sinfo\"> <span class=\"press\" title=\"뉴시스\">뉴시스</span> <span class=\"bar\"></span> 2017.05.04. <span class=\"bar\"></span><a class=\"\" href=\"http://news.naver.com/main/read.nhn?mode=LSD&amp;mid=sec&amp;sid1=102&amp;oid=003&amp;aid=0007934736\" onclick=\"return goOtherCR(this, \\'a=nws*r.inlink&amp;r=3&amp;i=88000127_000000000000000007934736&amp;u=\\'+urlencode(this.href));\" target=\"_blank\">네이버뉴스</a> </span> </li> <li> <span class=\"ico_bu\"></span> <a href=\"http://sports.chosun.com/news/ntype.htm?id=201705040100032820002106&amp;servicedate=20170504\" onclick=\"return goOtherCR(this, \\'a=nws*r.outtit&amp;r=4&amp;i=880000D3_000000000000000003088189&amp;g=076.0003088189&amp;u=\\'+urlencode(this.href));\" target=\"_blank\" title=\"네이버, 국내·외 미세먼지 흐름 예측 정보 강화\">네이버, 국내·외 미세<strong class=\"hl\">먼지</strong> 흐름 예측 정보 강화</a> <span class=\"txt_sinfo\"> <span class=\"press\" title=\"스포츠조선\">스포츠조선</span> <span class=\"bar\"></span> 2017.05.04. <span class=\"bar\"></span><a class=\"\" href=\"http://news.naver.com/main/read.nhn?mode=LSD&amp;mid=sec&amp;sid1=101&amp;oid=076&amp;aid=0003088189\" onclick=\"return goOtherCR(this, \\'a=nws*r.inlink&amp;r=4&amp;i=880000D3_000000000000000003088189&amp;u=\\'+urlencode(this.href));\" target=\"_blank\">네이버뉴스</a> </span> </li> <li> <span class=\"ico_bu\"></span> <a href=\"http://www.fnnews.com/news/201705041438129812\" onclick=\"return goOtherCR(this, \\'a=nws*r.outtit&amp;r=5&amp;i=880000FF_000000000000000003811060&amp;g=014.0003811060&amp;u=\\'+urlencode(this.href));\" target=\"_blank\" title=\"네이버, 한중일 미세먼지 흐름 영상으로 알려준다\">네이버, 한중일 미세<strong class=\"hl\">먼지</strong> 흐름 영상으로 알려준다</a> <span class=\"txt_sinfo\"> <span class=\"press\" title=\"파이낸셜뉴스\">파이낸셜뉴스</span> <span class=\"bar\"></span> 2017.05.04. <span class=\"bar\"></span><a class=\"\" href=\"http://news.naver.com/main/read.nhn?mode=LSD&amp;mid=sec&amp;sid1=105&amp;oid=014&amp;aid=0003811060\" onclick=\"return goOtherCR(this, \\'a=nws*r.inlink&amp;r=5&amp;i=880000FF_000000000000000003811060&amp;u=\\'+urlencode(this.href));\" target=\"_blank\">네이버뉴스</a> </span> </li> </ul> <div class=\"newr_more\"> <a class=\"more_news\" href=\"#\" onclick=\"news_submit_related_option(\\'50430000056159\\', 0, \\'nws*r.more\\'); return false;\">관련뉴스 23건 전체보기</a> </div> </dd> </dl>']"
      ]
     },
     "execution_count": 77,
     "metadata": {},
     "output_type": "execute_result"
    }
   ],
   "source": [
    "a.split('</dd> <dd> ')"
   ]
  },
  {
   "cell_type": "code",
   "execution_count": 78,
   "metadata": {},
   "outputs": [
    {
     "data": {
      "text/plain": [
       "'네이버 모바일 미세먼지 정보 제공 화면 [리더스뉴스/독서신문\\xa0박재붕\\xa0기자]\\xa0네이버(주)(대표이사\\xa0한성숙)가\\xa0모바일\\xa0네이버\\xa0검색을\\xa0통해\\xa0대기\\xa0흐름에\\xa0따른\\xa0미세먼지\\xa0및\\xa0<strong class=\"hl\">초미세먼지</strong>의\\xa0변화를\\xa0시각적으로...'"
      ]
     },
     "execution_count": 78,
     "metadata": {},
     "output_type": "execute_result"
    }
   ],
   "source": [
    "a.split('</dd> <dd> ')[0]"
   ]
  },
  {
   "cell_type": "code",
   "execution_count": 79,
   "metadata": {},
   "outputs": [
    {
     "data": {
      "text/plain": [
       "'네이버 모바일 미세먼지 정보 제공 화면 [리더스뉴스/독서신문 박재붕 기자] 네이버(주)(대표이사 한성숙)가 모바일 네이버 검색을 통해 대기 흐름에 따른 미세먼지 및 <strong class=\"hl\">초미세먼지</strong>의 변화를 시각적으로...'"
      ]
     },
     "execution_count": 79,
     "metadata": {},
     "output_type": "execute_result"
    }
   ],
   "source": [
    "a.split('</dd> <dd> ')[0].replace('\\xa0', ' ')"
   ]
  },
  {
   "cell_type": "code",
   "execution_count": 55,
   "metadata": {},
   "outputs": [
    {
     "data": {
      "text/html": [
       "<div>\n",
       "<style>\n",
       "    .dataframe thead tr:only-child th {\n",
       "        text-align: right;\n",
       "    }\n",
       "\n",
       "    .dataframe thead th {\n",
       "        text-align: left;\n",
       "    }\n",
       "\n",
       "    .dataframe tbody tr th {\n",
       "        vertical-align: top;\n",
       "    }\n",
       "</style>\n",
       "<table border=\"1\" class=\"dataframe\">\n",
       "  <thead>\n",
       "    <tr style=\"text-align: right;\">\n",
       "      <th></th>\n",
       "      <th>blogname</th>\n",
       "      <th>blogurl</th>\n",
       "      <th>date</th>\n",
       "      <th>title</th>\n",
       "      <th>url</th>\n",
       "    </tr>\n",
       "  </thead>\n",
       "  <tbody>\n",
       "    <tr>\n",
       "      <th>0</th>\n",
       "      <td>대박터지는 우리집</td>\n",
       "      <td>http://blog.naver.com/violaming77?Redirect=Log...</td>\n",
       "      <td>2015.05.23.</td>\n",
       "      <td>LG 프리미엄 공기청정기, 초미세먼지 걱정 끝!</td>\n",
       "      <td>http://blog.naver.com/violaming77?Redirect=Log...</td>\n",
       "    </tr>\n",
       "    <tr>\n",
       "      <th>1</th>\n",
       "      <td>올바른 정보 도우미</td>\n",
       "      <td>http://blog.naver.com/scenek?Redirect=Log&amp;logN...</td>\n",
       "      <td>2014.08.27.</td>\n",
       "      <td>초미세먼지 선풍기커버로 막는다구요</td>\n",
       "      <td>http://blog.naver.com/scenek?Redirect=Log&amp;logN...</td>\n",
       "    </tr>\n",
       "    <tr>\n",
       "      <th>2</th>\n",
       "      <td>히파루스의 솔직한 ...</td>\n",
       "      <td>http://hippalus.tistory.com/108</td>\n",
       "      <td>2015.12.12.</td>\n",
       "      <td>초미세먼지 : 3M 마스크 9002V 당신의 폐는 강철폐가 아니다. 황사나 미세먼지...</td>\n",
       "      <td>http://hippalus.tistory.com/108</td>\n",
       "    </tr>\n",
       "    <tr>\n",
       "      <th>3</th>\n",
       "      <td>News Clip</td>\n",
       "      <td>http://blog.daum.net/onemanband-/42903</td>\n",
       "      <td>2017.10.24.</td>\n",
       "      <td>[단독] 석탄화력 1기 배출 초미세먼지 ‘경유차 18만대분’</td>\n",
       "      <td>http://blog.daum.net/onemanband-/42903</td>\n",
       "    </tr>\n",
       "    <tr>\n",
       "      <th>4</th>\n",
       "      <td>주승용과 함께 만드...</td>\n",
       "      <td>http://joo-sy.com/220945793893</td>\n",
       "      <td>2017.02.27.</td>\n",
       "      <td>[2.27] '초미세먼지 피해저감 및 국민안전 R&amp;D 토론회' 참석</td>\n",
       "      <td>http://joo-sy.com/220945793893</td>\n",
       "    </tr>\n",
       "    <tr>\n",
       "      <th>5</th>\n",
       "      <td>토방이네는 지금......</td>\n",
       "      <td>http://blog.naver.com/torbangmalim?Redirect=Lo...</td>\n",
       "      <td>2016.03.29.</td>\n",
       "      <td>오늘의 미세먼지/초미세먼지 농도 체크 필수!! 청소는 LG청소기 코드제로 싸이킹으로~</td>\n",
       "      <td>http://blog.naver.com/torbangmalim?Redirect=Lo...</td>\n",
       "    </tr>\n",
       "    <tr>\n",
       "      <th>6</th>\n",
       "      <td>디자인 돋아</td>\n",
       "      <td>http://blog.naver.com/nanumup?Redirect=Log&amp;log...</td>\n",
       "      <td>2017.07.09.</td>\n",
       "      <td>초미세먼지 공기청정기 완전 쪼아요 에어로사이드</td>\n",
       "      <td>http://blog.naver.com/nanumup?Redirect=Log&amp;log...</td>\n",
       "    </tr>\n",
       "    <tr>\n",
       "      <th>7</th>\n",
       "      <td>하루가 쓰는 이야기</td>\n",
       "      <td>http://haru365haru.blog.me/221106185806</td>\n",
       "      <td>2017.09.27.</td>\n",
       "      <td>17년9월28일(목) 내일 미세먼지/초미세먼지 예보</td>\n",
       "      <td>http://haru365haru.blog.me/221106185806</td>\n",
       "    </tr>\n",
       "    <tr>\n",
       "      <th>8</th>\n",
       "      <td>오리랑 두더쥐랑 @@...</td>\n",
       "      <td>http://blog.naver.com/msi119?Redirect=Log&amp;logN...</td>\n",
       "      <td>2016.12.22.</td>\n",
       "      <td>인파로(Air Quality Monitor) 초미세먼지 기기</td>\n",
       "      <td>http://blog.naver.com/msi119?Redirect=Log&amp;logN...</td>\n",
       "    </tr>\n",
       "    <tr>\n",
       "      <th>9</th>\n",
       "      <td>홍블리 의 달달한일...</td>\n",
       "      <td>http://blog.naver.com/cptai3?Redirect=Log&amp;logN...</td>\n",
       "      <td>2017.10.10.</td>\n",
       "      <td>[ 자동차에어컨필터추천 * 더넥스트스파크에어컨필터 ] 미세먼지걱정없는 , 3M초미세...</td>\n",
       "      <td>http://blog.naver.com/cptai3?Redirect=Log&amp;logN...</td>\n",
       "    </tr>\n",
       "  </tbody>\n",
       "</table>\n",
       "</div>"
      ],
      "text/plain": [
       "         blogname                                            blogurl  \\\n",
       "0       대박터지는 우리집  http://blog.naver.com/violaming77?Redirect=Log...   \n",
       "1      올바른 정보 도우미  http://blog.naver.com/scenek?Redirect=Log&logN...   \n",
       "2   히파루스의 솔직한 ...                    http://hippalus.tistory.com/108   \n",
       "3       News Clip             http://blog.daum.net/onemanband-/42903   \n",
       "4   주승용과 함께 만드...                     http://joo-sy.com/220945793893   \n",
       "5  토방이네는 지금......  http://blog.naver.com/torbangmalim?Redirect=Lo...   \n",
       "6          디자인 돋아  http://blog.naver.com/nanumup?Redirect=Log&log...   \n",
       "7      하루가 쓰는 이야기            http://haru365haru.blog.me/221106185806   \n",
       "8  오리랑 두더쥐랑 @@...  http://blog.naver.com/msi119?Redirect=Log&logN...   \n",
       "9   홍블리 의 달달한일...  http://blog.naver.com/cptai3?Redirect=Log&logN...   \n",
       "\n",
       "           date                                              title  \\\n",
       "0  2015.05.23.                          LG 프리미엄 공기청정기, 초미세먼지 걱정 끝!   \n",
       "1  2014.08.27.                                  초미세먼지 선풍기커버로 막는다구요   \n",
       "2  2015.12.12.   초미세먼지 : 3M 마스크 9002V 당신의 폐는 강철폐가 아니다. 황사나 미세먼지...   \n",
       "3  2017.10.24.                   [단독] 석탄화력 1기 배출 초미세먼지 ‘경유차 18만대분’   \n",
       "4  2017.02.27.               [2.27] '초미세먼지 피해저감 및 국민안전 R&D 토론회' 참석   \n",
       "5  2016.03.29.     오늘의 미세먼지/초미세먼지 농도 체크 필수!! 청소는 LG청소기 코드제로 싸이킹으로~   \n",
       "6  2017.07.09.                           초미세먼지 공기청정기 완전 쪼아요 에어로사이드   \n",
       "7  2017.09.27.                        17년9월28일(목) 내일 미세먼지/초미세먼지 예보   \n",
       "8  2016.12.22.                   인파로(Air Quality Monitor) 초미세먼지 기기   \n",
       "9  2017.10.10.   [ 자동차에어컨필터추천 * 더넥스트스파크에어컨필터 ] 미세먼지걱정없는 , 3M초미세...   \n",
       "\n",
       "                                                 url  \n",
       "0  http://blog.naver.com/violaming77?Redirect=Log...  \n",
       "1  http://blog.naver.com/scenek?Redirect=Log&logN...  \n",
       "2                    http://hippalus.tistory.com/108  \n",
       "3             http://blog.daum.net/onemanband-/42903  \n",
       "4                     http://joo-sy.com/220945793893  \n",
       "5  http://blog.naver.com/torbangmalim?Redirect=Lo...  \n",
       "6  http://blog.naver.com/nanumup?Redirect=Log&log...  \n",
       "7            http://haru365haru.blog.me/221106185806  \n",
       "8  http://blog.naver.com/msi119?Redirect=Log&logN...  \n",
       "9  http://blog.naver.com/cptai3?Redirect=Log&logN...  "
      ]
     },
     "execution_count": 55,
     "metadata": {},
     "output_type": "execute_result"
    }
   ],
   "source": [
    "pd.DataFrame(result)"
   ]
  },
  {
   "cell_type": "code",
   "execution_count": 57,
   "metadata": {},
   "outputs": [
    {
     "data": {
      "text/html": [
       "<div>\n",
       "<style>\n",
       "    .dataframe thead tr:only-child th {\n",
       "        text-align: right;\n",
       "    }\n",
       "\n",
       "    .dataframe thead th {\n",
       "        text-align: left;\n",
       "    }\n",
       "\n",
       "    .dataframe tbody tr th {\n",
       "        vertical-align: top;\n",
       "    }\n",
       "</style>\n",
       "<table border=\"1\" class=\"dataframe\">\n",
       "  <thead>\n",
       "    <tr style=\"text-align: right;\">\n",
       "      <th></th>\n",
       "      <th>blogname</th>\n",
       "      <th>blogurl</th>\n",
       "      <th>date</th>\n",
       "      <th>title</th>\n",
       "      <th>url</th>\n",
       "    </tr>\n",
       "  </thead>\n",
       "  <tbody>\n",
       "    <tr>\n",
       "      <th>0</th>\n",
       "      <td>대박터지는 우리집</td>\n",
       "      <td>http://blog.naver.com/violaming77?Redirect=Log...</td>\n",
       "      <td>2015.05.23.</td>\n",
       "      <td>LG 프리미엄 공기청정기, 초미세먼지 걱정 끝!</td>\n",
       "      <td>http://blog.naver.com/violaming77?Redirect=Log...</td>\n",
       "    </tr>\n",
       "    <tr>\n",
       "      <th>1</th>\n",
       "      <td>올바른 정보 도우미</td>\n",
       "      <td>http://blog.naver.com/scenek?Redirect=Log&amp;logN...</td>\n",
       "      <td>2014.08.27.</td>\n",
       "      <td>초미세먼지 선풍기커버로 막는다구요</td>\n",
       "      <td>http://blog.naver.com/scenek?Redirect=Log&amp;logN...</td>\n",
       "    </tr>\n",
       "    <tr>\n",
       "      <th>2</th>\n",
       "      <td>히파루스의 솔직한 ...</td>\n",
       "      <td>http://hippalus.tistory.com/108</td>\n",
       "      <td>2015.12.12.</td>\n",
       "      <td>초미세먼지 : 3M 마스크 9002V 당신의 폐는 강철폐가 아니다. 황사나 미세먼지...</td>\n",
       "      <td>http://hippalus.tistory.com/108</td>\n",
       "    </tr>\n",
       "    <tr>\n",
       "      <th>3</th>\n",
       "      <td>News Clip</td>\n",
       "      <td>http://blog.daum.net/onemanband-/42903</td>\n",
       "      <td>2017.10.24.</td>\n",
       "      <td>[단독] 석탄화력 1기 배출 초미세먼지 ‘경유차 18만대분’</td>\n",
       "      <td>http://blog.daum.net/onemanband-/42903</td>\n",
       "    </tr>\n",
       "    <tr>\n",
       "      <th>4</th>\n",
       "      <td>주승용과 함께 만드...</td>\n",
       "      <td>http://joo-sy.com/220945793893</td>\n",
       "      <td>2017.02.27.</td>\n",
       "      <td>[2.27] '초미세먼지 피해저감 및 국민안전 R&amp;D 토론회' 참석</td>\n",
       "      <td>http://joo-sy.com/220945793893</td>\n",
       "    </tr>\n",
       "    <tr>\n",
       "      <th>5</th>\n",
       "      <td>토방이네는 지금......</td>\n",
       "      <td>http://blog.naver.com/torbangmalim?Redirect=Lo...</td>\n",
       "      <td>2016.03.29.</td>\n",
       "      <td>오늘의 미세먼지/초미세먼지 농도 체크 필수!! 청소는 LG청소기 코드제로 싸이킹으로~</td>\n",
       "      <td>http://blog.naver.com/torbangmalim?Redirect=Lo...</td>\n",
       "    </tr>\n",
       "    <tr>\n",
       "      <th>6</th>\n",
       "      <td>디자인 돋아</td>\n",
       "      <td>http://blog.naver.com/nanumup?Redirect=Log&amp;log...</td>\n",
       "      <td>2017.07.09.</td>\n",
       "      <td>초미세먼지 공기청정기 완전 쪼아요 에어로사이드</td>\n",
       "      <td>http://blog.naver.com/nanumup?Redirect=Log&amp;log...</td>\n",
       "    </tr>\n",
       "    <tr>\n",
       "      <th>7</th>\n",
       "      <td>하루가 쓰는 이야기</td>\n",
       "      <td>http://haru365haru.blog.me/221106185806</td>\n",
       "      <td>2017.09.27.</td>\n",
       "      <td>17년9월28일(목) 내일 미세먼지/초미세먼지 예보</td>\n",
       "      <td>http://haru365haru.blog.me/221106185806</td>\n",
       "    </tr>\n",
       "    <tr>\n",
       "      <th>8</th>\n",
       "      <td>오리랑 두더쥐랑 @@...</td>\n",
       "      <td>http://blog.naver.com/msi119?Redirect=Log&amp;logN...</td>\n",
       "      <td>2016.12.22.</td>\n",
       "      <td>인파로(Air Quality Monitor) 초미세먼지 기기</td>\n",
       "      <td>http://blog.naver.com/msi119?Redirect=Log&amp;logN...</td>\n",
       "    </tr>\n",
       "    <tr>\n",
       "      <th>9</th>\n",
       "      <td>홍블리 의 달달한일...</td>\n",
       "      <td>http://blog.naver.com/cptai3?Redirect=Log&amp;logN...</td>\n",
       "      <td>2017.10.10.</td>\n",
       "      <td>[ 자동차에어컨필터추천 * 더넥스트스파크에어컨필터 ] 미세먼지걱정없는 , 3M초미세...</td>\n",
       "      <td>http://blog.naver.com/cptai3?Redirect=Log&amp;logN...</td>\n",
       "    </tr>\n",
       "    <tr>\n",
       "      <th>0</th>\n",
       "      <td>대박터지는 우리집</td>\n",
       "      <td>http://blog.naver.com/violaming77?Redirect=Log...</td>\n",
       "      <td>2015.05.23.</td>\n",
       "      <td>LG 프리미엄 공기청정기, 초미세먼지 걱정 끝!</td>\n",
       "      <td>http://blog.naver.com/violaming77?Redirect=Log...</td>\n",
       "    </tr>\n",
       "    <tr>\n",
       "      <th>1</th>\n",
       "      <td>올바른 정보 도우미</td>\n",
       "      <td>http://blog.naver.com/scenek?Redirect=Log&amp;logN...</td>\n",
       "      <td>2014.08.27.</td>\n",
       "      <td>초미세먼지 선풍기커버로 막는다구요</td>\n",
       "      <td>http://blog.naver.com/scenek?Redirect=Log&amp;logN...</td>\n",
       "    </tr>\n",
       "    <tr>\n",
       "      <th>2</th>\n",
       "      <td>히파루스의 솔직한 ...</td>\n",
       "      <td>http://hippalus.tistory.com/108</td>\n",
       "      <td>2015.12.12.</td>\n",
       "      <td>초미세먼지 : 3M 마스크 9002V 당신의 폐는 강철폐가 아니다. 황사나 미세먼지...</td>\n",
       "      <td>http://hippalus.tistory.com/108</td>\n",
       "    </tr>\n",
       "    <tr>\n",
       "      <th>3</th>\n",
       "      <td>News Clip</td>\n",
       "      <td>http://blog.daum.net/onemanband-/42903</td>\n",
       "      <td>2017.10.24.</td>\n",
       "      <td>[단독] 석탄화력 1기 배출 초미세먼지 ‘경유차 18만대분’</td>\n",
       "      <td>http://blog.daum.net/onemanband-/42903</td>\n",
       "    </tr>\n",
       "    <tr>\n",
       "      <th>4</th>\n",
       "      <td>주승용과 함께 만드...</td>\n",
       "      <td>http://joo-sy.com/220945793893</td>\n",
       "      <td>2017.02.27.</td>\n",
       "      <td>[2.27] '초미세먼지 피해저감 및 국민안전 R&amp;D 토론회' 참석</td>\n",
       "      <td>http://joo-sy.com/220945793893</td>\n",
       "    </tr>\n",
       "    <tr>\n",
       "      <th>5</th>\n",
       "      <td>토방이네는 지금......</td>\n",
       "      <td>http://blog.naver.com/torbangmalim?Redirect=Lo...</td>\n",
       "      <td>2016.03.29.</td>\n",
       "      <td>오늘의 미세먼지/초미세먼지 농도 체크 필수!! 청소는 LG청소기 코드제로 싸이킹으로~</td>\n",
       "      <td>http://blog.naver.com/torbangmalim?Redirect=Lo...</td>\n",
       "    </tr>\n",
       "    <tr>\n",
       "      <th>6</th>\n",
       "      <td>디자인 돋아</td>\n",
       "      <td>http://blog.naver.com/nanumup?Redirect=Log&amp;log...</td>\n",
       "      <td>2017.07.09.</td>\n",
       "      <td>초미세먼지 공기청정기 완전 쪼아요 에어로사이드</td>\n",
       "      <td>http://blog.naver.com/nanumup?Redirect=Log&amp;log...</td>\n",
       "    </tr>\n",
       "    <tr>\n",
       "      <th>7</th>\n",
       "      <td>하루가 쓰는 이야기</td>\n",
       "      <td>http://haru365haru.blog.me/221106185806</td>\n",
       "      <td>2017.09.27.</td>\n",
       "      <td>17년9월28일(목) 내일 미세먼지/초미세먼지 예보</td>\n",
       "      <td>http://haru365haru.blog.me/221106185806</td>\n",
       "    </tr>\n",
       "    <tr>\n",
       "      <th>8</th>\n",
       "      <td>오리랑 두더쥐랑 @@...</td>\n",
       "      <td>http://blog.naver.com/msi119?Redirect=Log&amp;logN...</td>\n",
       "      <td>2016.12.22.</td>\n",
       "      <td>인파로(Air Quality Monitor) 초미세먼지 기기</td>\n",
       "      <td>http://blog.naver.com/msi119?Redirect=Log&amp;logN...</td>\n",
       "    </tr>\n",
       "    <tr>\n",
       "      <th>9</th>\n",
       "      <td>홍블리 의 달달한일...</td>\n",
       "      <td>http://blog.naver.com/cptai3?Redirect=Log&amp;logN...</td>\n",
       "      <td>2017.10.10.</td>\n",
       "      <td>[ 자동차에어컨필터추천 * 더넥스트스파크에어컨필터 ] 미세먼지걱정없는 , 3M초미세...</td>\n",
       "      <td>http://blog.naver.com/cptai3?Redirect=Log&amp;logN...</td>\n",
       "    </tr>\n",
       "  </tbody>\n",
       "</table>\n",
       "</div>"
      ],
      "text/plain": [
       "         blogname                                            blogurl  \\\n",
       "0       대박터지는 우리집  http://blog.naver.com/violaming77?Redirect=Log...   \n",
       "1      올바른 정보 도우미  http://blog.naver.com/scenek?Redirect=Log&logN...   \n",
       "2   히파루스의 솔직한 ...                    http://hippalus.tistory.com/108   \n",
       "3       News Clip             http://blog.daum.net/onemanband-/42903   \n",
       "4   주승용과 함께 만드...                     http://joo-sy.com/220945793893   \n",
       "5  토방이네는 지금......  http://blog.naver.com/torbangmalim?Redirect=Lo...   \n",
       "6          디자인 돋아  http://blog.naver.com/nanumup?Redirect=Log&log...   \n",
       "7      하루가 쓰는 이야기            http://haru365haru.blog.me/221106185806   \n",
       "8  오리랑 두더쥐랑 @@...  http://blog.naver.com/msi119?Redirect=Log&logN...   \n",
       "9   홍블리 의 달달한일...  http://blog.naver.com/cptai3?Redirect=Log&logN...   \n",
       "0       대박터지는 우리집  http://blog.naver.com/violaming77?Redirect=Log...   \n",
       "1      올바른 정보 도우미  http://blog.naver.com/scenek?Redirect=Log&logN...   \n",
       "2   히파루스의 솔직한 ...                    http://hippalus.tistory.com/108   \n",
       "3       News Clip             http://blog.daum.net/onemanband-/42903   \n",
       "4   주승용과 함께 만드...                     http://joo-sy.com/220945793893   \n",
       "5  토방이네는 지금......  http://blog.naver.com/torbangmalim?Redirect=Lo...   \n",
       "6          디자인 돋아  http://blog.naver.com/nanumup?Redirect=Log&log...   \n",
       "7      하루가 쓰는 이야기            http://haru365haru.blog.me/221106185806   \n",
       "8  오리랑 두더쥐랑 @@...  http://blog.naver.com/msi119?Redirect=Log&logN...   \n",
       "9   홍블리 의 달달한일...  http://blog.naver.com/cptai3?Redirect=Log&logN...   \n",
       "\n",
       "           date                                              title  \\\n",
       "0  2015.05.23.                          LG 프리미엄 공기청정기, 초미세먼지 걱정 끝!   \n",
       "1  2014.08.27.                                  초미세먼지 선풍기커버로 막는다구요   \n",
       "2  2015.12.12.   초미세먼지 : 3M 마스크 9002V 당신의 폐는 강철폐가 아니다. 황사나 미세먼지...   \n",
       "3  2017.10.24.                   [단독] 석탄화력 1기 배출 초미세먼지 ‘경유차 18만대분’   \n",
       "4  2017.02.27.               [2.27] '초미세먼지 피해저감 및 국민안전 R&D 토론회' 참석   \n",
       "5  2016.03.29.     오늘의 미세먼지/초미세먼지 농도 체크 필수!! 청소는 LG청소기 코드제로 싸이킹으로~   \n",
       "6  2017.07.09.                           초미세먼지 공기청정기 완전 쪼아요 에어로사이드   \n",
       "7  2017.09.27.                        17년9월28일(목) 내일 미세먼지/초미세먼지 예보   \n",
       "8  2016.12.22.                   인파로(Air Quality Monitor) 초미세먼지 기기   \n",
       "9  2017.10.10.   [ 자동차에어컨필터추천 * 더넥스트스파크에어컨필터 ] 미세먼지걱정없는 , 3M초미세...   \n",
       "0  2015.05.23.                          LG 프리미엄 공기청정기, 초미세먼지 걱정 끝!   \n",
       "1  2014.08.27.                                  초미세먼지 선풍기커버로 막는다구요   \n",
       "2  2015.12.12.   초미세먼지 : 3M 마스크 9002V 당신의 폐는 강철폐가 아니다. 황사나 미세먼지...   \n",
       "3  2017.10.24.                   [단독] 석탄화력 1기 배출 초미세먼지 ‘경유차 18만대분’   \n",
       "4  2017.02.27.               [2.27] '초미세먼지 피해저감 및 국민안전 R&D 토론회' 참석   \n",
       "5  2016.03.29.     오늘의 미세먼지/초미세먼지 농도 체크 필수!! 청소는 LG청소기 코드제로 싸이킹으로~   \n",
       "6  2017.07.09.                           초미세먼지 공기청정기 완전 쪼아요 에어로사이드   \n",
       "7  2017.09.27.                        17년9월28일(목) 내일 미세먼지/초미세먼지 예보   \n",
       "8  2016.12.22.                   인파로(Air Quality Monitor) 초미세먼지 기기   \n",
       "9  2017.10.10.   [ 자동차에어컨필터추천 * 더넥스트스파크에어컨필터 ] 미세먼지걱정없는 , 3M초미세...   \n",
       "\n",
       "                                                 url  \n",
       "0  http://blog.naver.com/violaming77?Redirect=Log...  \n",
       "1  http://blog.naver.com/scenek?Redirect=Log&logN...  \n",
       "2                    http://hippalus.tistory.com/108  \n",
       "3             http://blog.daum.net/onemanband-/42903  \n",
       "4                     http://joo-sy.com/220945793893  \n",
       "5  http://blog.naver.com/torbangmalim?Redirect=Lo...  \n",
       "6  http://blog.naver.com/nanumup?Redirect=Log&log...  \n",
       "7            http://haru365haru.blog.me/221106185806  \n",
       "8  http://blog.naver.com/msi119?Redirect=Log&logN...  \n",
       "9  http://blog.naver.com/cptai3?Redirect=Log&logN...  \n",
       "0  http://blog.naver.com/violaming77?Redirect=Log...  \n",
       "1  http://blog.naver.com/scenek?Redirect=Log&logN...  \n",
       "2                    http://hippalus.tistory.com/108  \n",
       "3             http://blog.daum.net/onemanband-/42903  \n",
       "4                     http://joo-sy.com/220945793893  \n",
       "5  http://blog.naver.com/torbangmalim?Redirect=Lo...  \n",
       "6  http://blog.naver.com/nanumup?Redirect=Log&log...  \n",
       "7            http://haru365haru.blog.me/221106185806  \n",
       "8  http://blog.naver.com/msi119?Redirect=Log&logN...  \n",
       "9  http://blog.naver.com/cptai3?Redirect=Log&logN...  "
      ]
     },
     "execution_count": 57,
     "metadata": {},
     "output_type": "execute_result"
    }
   ],
   "source": [
    "pd.DataFrame(result).append(pd.DataFrame(result))"
   ]
  }
 ],
 "metadata": {
  "kernelspec": {
   "display_name": "Python 3",
   "language": "python",
   "name": "python3"
  },
  "language_info": {
   "codemirror_mode": {
    "name": "ipython",
    "version": 3
   },
   "file_extension": ".py",
   "mimetype": "text/x-python",
   "name": "python",
   "nbconvert_exporter": "python",
   "pygments_lexer": "ipython3",
   "version": "3.6.1"
  }
 },
 "nbformat": 4,
 "nbformat_minor": 2
}
